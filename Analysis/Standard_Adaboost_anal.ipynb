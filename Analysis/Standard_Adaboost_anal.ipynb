{
 "cells": [
  {
   "cell_type": "code",
   "execution_count": 1,
   "metadata": {},
   "outputs": [
    {
     "data": {
      "text/html": [
       "<div>\n",
       "<style scoped>\n",
       "    .dataframe tbody tr th:only-of-type {\n",
       "        vertical-align: middle;\n",
       "    }\n",
       "\n",
       "    .dataframe tbody tr th {\n",
       "        vertical-align: top;\n",
       "    }\n",
       "\n",
       "    .dataframe thead th {\n",
       "        text-align: right;\n",
       "    }\n",
       "</style>\n",
       "<table border=\"1\" class=\"dataframe\">\n",
       "  <thead>\n",
       "    <tr style=\"text-align: right;\">\n",
       "      <th></th>\n",
       "      <th>CUSTNO</th>\n",
       "      <th>GNO</th>\n",
       "      <th>CBSCORE</th>\n",
       "      <th>CBSCOREGRD</th>\n",
       "      <th>CREDITOTAMT</th>\n",
       "      <th>YSALEAMT</th>\n",
       "      <th>ESTMM</th>\n",
       "      <th>ASSETAMT</th>\n",
       "      <th>IMSAAMT</th>\n",
       "      <th>IMJUAMT</th>\n",
       "      <th>...</th>\n",
       "      <th>환율</th>\n",
       "      <th>GDP</th>\n",
       "      <th>소상공인체감지수</th>\n",
       "      <th>실업률</th>\n",
       "      <th>물가지수</th>\n",
       "      <th>국고채</th>\n",
       "      <th>금리</th>\n",
       "      <th>유가등락률</th>\n",
       "      <th>소비자심리지수</th>\n",
       "      <th>ONEHOT</th>\n",
       "    </tr>\n",
       "  </thead>\n",
       "  <tbody>\n",
       "    <tr>\n",
       "      <th>0</th>\n",
       "      <td>475821</td>\n",
       "      <td>l180202101898</td>\n",
       "      <td>1.483693</td>\n",
       "      <td>-1.008776</td>\n",
       "      <td>-0.182324</td>\n",
       "      <td>5.599410</td>\n",
       "      <td>-0.351065</td>\n",
       "      <td>-0.497246</td>\n",
       "      <td>-0.176818</td>\n",
       "      <td>-0.327516</td>\n",
       "      <td>...</td>\n",
       "      <td>-0.068090</td>\n",
       "      <td>2.274533</td>\n",
       "      <td>-1.302456</td>\n",
       "      <td>-0.290076</td>\n",
       "      <td>2.728294</td>\n",
       "      <td>-1.492204</td>\n",
       "      <td>-3.801670</td>\n",
       "      <td>2.712699</td>\n",
       "      <td>1.300530</td>\n",
       "      <td>3</td>\n",
       "    </tr>\n",
       "    <tr>\n",
       "      <th>1</th>\n",
       "      <td>74417</td>\n",
       "      <td>l230201700120</td>\n",
       "      <td>0.436620</td>\n",
       "      <td>-0.269293</td>\n",
       "      <td>-0.187359</td>\n",
       "      <td>3.004204</td>\n",
       "      <td>-0.774902</td>\n",
       "      <td>-0.434147</td>\n",
       "      <td>-0.395499</td>\n",
       "      <td>0.047573</td>\n",
       "      <td>...</td>\n",
       "      <td>0.509001</td>\n",
       "      <td>-1.236236</td>\n",
       "      <td>-1.058419</td>\n",
       "      <td>0.571922</td>\n",
       "      <td>-0.733929</td>\n",
       "      <td>-0.363940</td>\n",
       "      <td>-0.649856</td>\n",
       "      <td>1.705658</td>\n",
       "      <td>-1.167094</td>\n",
       "      <td>8</td>\n",
       "    </tr>\n",
       "    <tr>\n",
       "      <th>2</th>\n",
       "      <td>387787</td>\n",
       "      <td>l110201603233</td>\n",
       "      <td>0.682990</td>\n",
       "      <td>-1.008776</td>\n",
       "      <td>-0.283032</td>\n",
       "      <td>1.765241</td>\n",
       "      <td>1.889216</td>\n",
       "      <td>-0.497246</td>\n",
       "      <td>-0.176818</td>\n",
       "      <td>-0.327516</td>\n",
       "      <td>...</td>\n",
       "      <td>0.991659</td>\n",
       "      <td>-1.589789</td>\n",
       "      <td>0.853200</td>\n",
       "      <td>-0.290076</td>\n",
       "      <td>-1.872513</td>\n",
       "      <td>-0.546902</td>\n",
       "      <td>-0.649856</td>\n",
       "      <td>0.170943</td>\n",
       "      <td>-0.965339</td>\n",
       "      <td>7</td>\n",
       "    </tr>\n",
       "    <tr>\n",
       "      <th>3</th>\n",
       "      <td>395418</td>\n",
       "      <td>l230201700254</td>\n",
       "      <td>0.169719</td>\n",
       "      <td>-0.269293</td>\n",
       "      <td>-0.212536</td>\n",
       "      <td>1.647960</td>\n",
       "      <td>-0.744628</td>\n",
       "      <td>-0.497246</td>\n",
       "      <td>-0.176818</td>\n",
       "      <td>-0.327516</td>\n",
       "      <td>...</td>\n",
       "      <td>0.490639</td>\n",
       "      <td>-1.236236</td>\n",
       "      <td>1.219254</td>\n",
       "      <td>-0.721075</td>\n",
       "      <td>-0.788147</td>\n",
       "      <td>-0.241965</td>\n",
       "      <td>-0.649856</td>\n",
       "      <td>0.665173</td>\n",
       "      <td>-0.810142</td>\n",
       "      <td>3</td>\n",
       "    </tr>\n",
       "    <tr>\n",
       "      <th>4</th>\n",
       "      <td>190372</td>\n",
       "      <td>l200201601418</td>\n",
       "      <td>-3.033092</td>\n",
       "      <td>2.688638</td>\n",
       "      <td>-0.247784</td>\n",
       "      <td>0.478163</td>\n",
       "      <td>1.616749</td>\n",
       "      <td>-0.202785</td>\n",
       "      <td>-0.351763</td>\n",
       "      <td>-0.327516</td>\n",
       "      <td>...</td>\n",
       "      <td>0.409321</td>\n",
       "      <td>-1.809655</td>\n",
       "      <td>-0.102610</td>\n",
       "      <td>-0.721075</td>\n",
       "      <td>-2.530877</td>\n",
       "      <td>-1.736154</td>\n",
       "      <td>-0.649856</td>\n",
       "      <td>-0.958727</td>\n",
       "      <td>-0.142797</td>\n",
       "      <td>7</td>\n",
       "    </tr>\n",
       "  </tbody>\n",
       "</table>\n",
       "<p>5 rows × 30 columns</p>\n",
       "</div>"
      ],
      "text/plain": [
       "   CUSTNO            GNO   CBSCORE  CBSCOREGRD  CREDITOTAMT  YSALEAMT  \\\n",
       "0  475821  l180202101898  1.483693   -1.008776    -0.182324  5.599410   \n",
       "1   74417  l230201700120  0.436620   -0.269293    -0.187359  3.004204   \n",
       "2  387787  l110201603233  0.682990   -1.008776    -0.283032  1.765241   \n",
       "3  395418  l230201700254  0.169719   -0.269293    -0.212536  1.647960   \n",
       "4  190372  l200201601418 -3.033092    2.688638    -0.247784  0.478163   \n",
       "\n",
       "      ESTMM  ASSETAMT   IMSAAMT   IMJUAMT  ...        환율       GDP  소상공인체감지수  \\\n",
       "0 -0.351065 -0.497246 -0.176818 -0.327516  ... -0.068090  2.274533 -1.302456   \n",
       "1 -0.774902 -0.434147 -0.395499  0.047573  ...  0.509001 -1.236236 -1.058419   \n",
       "2  1.889216 -0.497246 -0.176818 -0.327516  ...  0.991659 -1.589789  0.853200   \n",
       "3 -0.744628 -0.497246 -0.176818 -0.327516  ...  0.490639 -1.236236  1.219254   \n",
       "4  1.616749 -0.202785 -0.351763 -0.327516  ...  0.409321 -1.809655 -0.102610   \n",
       "\n",
       "        실업률      물가지수       국고채        금리     유가등락률   소비자심리지수  ONEHOT  \n",
       "0 -0.290076  2.728294 -1.492204 -3.801670  2.712699  1.300530       3  \n",
       "1  0.571922 -0.733929 -0.363940 -0.649856  1.705658 -1.167094       8  \n",
       "2 -0.290076 -1.872513 -0.546902 -0.649856  0.170943 -0.965339       7  \n",
       "3 -0.721075 -0.788147 -0.241965 -0.649856  0.665173 -0.810142       3  \n",
       "4 -0.721075 -2.530877 -1.736154 -0.649856 -0.958727 -0.142797       7  \n",
       "\n",
       "[5 rows x 30 columns]"
      ]
     },
     "execution_count": 1,
     "metadata": {},
     "output_type": "execute_result"
    }
   ],
   "source": [
    "import pandas as pd\n",
    "import matplotlib.pyplot as plt\n",
    "import statsmodels.api as sm\n",
    "\n",
    "data = pd.read_csv(\"DATA/Standard_Scaler_result.csv\",encoding=\"cp949\")\n",
    "data.head()"
   ]
  },
  {
   "cell_type": "code",
   "execution_count": 43,
   "metadata": {},
   "outputs": [],
   "source": [
    "features = data[['CBSCORE', 'CREDITOTAMT', 'YSALEAMT',\n",
    "       'ESTMM',  'IMSAAMT', 'IMJUAMT', 'BUSAAMT', 'BUJUAMT',\n",
    "       'BU1TOTAMT', 'GAMT', 'LABORCNT', 'KOSPI', '환율', 'GDP', \n",
    "       '소상공인체감지수', '실업률', '물가지수', '국고채', '금리', '유가등락률',\n",
    "       '소비자심리지수','ONEHOT']]\n",
    "act = data['ACTCD']"
   ]
  },
  {
   "cell_type": "code",
   "execution_count": 44,
   "metadata": {},
   "outputs": [],
   "source": [
    "act = act - 1\n",
    "act = act * -1"
   ]
  },
  {
   "cell_type": "code",
   "execution_count": 45,
   "metadata": {},
   "outputs": [
    {
     "name": "stdout",
     "output_type": "stream",
     "text": [
      "(27381, 22) (11736, 22) (27381,) (11736,)\n"
     ]
    }
   ],
   "source": [
    "from sklearn.model_selection import train_test_split\n",
    "\n",
    "train_x, test_x,train_y, test_y = train_test_split(features, act,\n",
    "stratify=act,train_size=0.7,test_size=0.3,random_state=1)\n",
    "\n",
    "print(train_x.shape, test_x.shape, train_y.shape, test_y.shape)"
   ]
  },
  {
   "cell_type": "code",
   "execution_count": 46,
   "metadata": {},
   "outputs": [],
   "source": [
    "from imblearn.over_sampling import BorderlineSMOTE, ADASYN\n",
    "from imblearn.under_sampling import EditedNearestNeighbours, TomekLinks\n",
    "from imblearn.combine import SMOTEENN, SMOTETomek\n",
    "\n",
    "#언더 샘플링\n",
    "enn = EditedNearestNeighbours(kind_sel=\"all\", n_neighbors=10)\n",
    "tomekl = TomekLinks()\n",
    "\n",
    "#오버 샘플링\n",
    "bsmote = BorderlineSMOTE(random_state=42)\n",
    "adasyn = ADASYN(random_state=42)\n",
    "\n",
    "#혼합 샘플링\n",
    "smotee = SMOTEENN(random_state=42)\n",
    "smoteT = SMOTETomek(random_state=42)\n",
    "\n",
    "\n",
    "X_under1_train, Y_under1_train = enn.fit_resample(train_x, train_y)\n",
    "X_under2_train, Y_under2_train = tomekl.fit_resample(train_x, train_y)\n",
    "\n",
    "X_over1_train, Y_over1_train = bsmote.fit_resample(train_x,train_y)\n",
    "X_over2_train, Y_over2_train = adasyn.fit_resample(train_x,train_y)\n",
    "\n",
    "X_comb1_train, Y_comb1_train = smotee.fit_resample(train_x, train_y)\n",
    "X_comb2_train, Y_comb2_train = smoteT.fit_resample(train_x, train_y)"
   ]
  },
  {
   "cell_type": "code",
   "execution_count": 5,
   "metadata": {},
   "outputs": [],
   "source": [
    "def cut_off(y, threshold) :\n",
    "    Y = y.copy()  # 대문자 Y를 새로운 변수로 하여 기존의 y값에 영향이 가지 않도록 한다.\n",
    "    Y[Y>threshold] = 1\n",
    "    Y[Y<threshold] = 0\n",
    "    return Y.astype(int)\n",
    "\n",
    "from sklearn.metrics import confusion_matrix\n",
    "# confusion matrix accuracy(정확도) 계산함수\n",
    "\n",
    "def acc(cfmat):\n",
    "    return (cfmat[0,0] + cfmat[1,1])/(cfmat[0,0] + cfmat[1,1] + cfmat[0,1] + cfmat[1,0])"
   ]
  },
  {
   "cell_type": "markdown",
   "metadata": {},
   "source": [
    "# 오버샘플링"
   ]
  },
  {
   "cell_type": "markdown",
   "metadata": {},
   "source": [
    "1. BorderlineSMOTE"
   ]
  },
  {
   "cell_type": "code",
   "execution_count": 6,
   "metadata": {},
   "outputs": [],
   "source": [
    "from sklearn.ensemble import AdaBoostClassifier\n",
    "from sklearn.tree import DecisionTreeClassifier"
   ]
  },
  {
   "cell_type": "code",
   "execution_count": 7,
   "metadata": {},
   "outputs": [],
   "source": [
    "eclf = AdaBoostClassifier(base_estimator=DecisionTreeClassifier(max_depth=2), n_estimators=100, learning_rate=0.1)"
   ]
  },
  {
   "cell_type": "code",
   "execution_count": 8,
   "metadata": {},
   "outputs": [
    {
     "data": {
      "text/plain": [
       "0.8536668675909181"
      ]
     },
     "execution_count": 8,
     "metadata": {},
     "output_type": "execute_result"
    }
   ],
   "source": [
    "from sklearn.model_selection import cross_val_score\n",
    "cross_val_score(eclf, X_over1_train, Y_over1_train, cv=5).mean()"
   ]
  },
  {
   "cell_type": "code",
   "execution_count": 9,
   "metadata": {},
   "outputs": [
    {
     "data": {
      "text/plain": [
       "DecisionTreeClassifier()"
      ]
     },
     "execution_count": 9,
     "metadata": {},
     "output_type": "execute_result"
    }
   ],
   "source": [
    "from sklearn.tree import DecisionTreeClassifier\n",
    "DecisionTreeClassifier()"
   ]
  },
  {
   "cell_type": "code",
   "execution_count": 10,
   "metadata": {},
   "outputs": [
    {
     "data": {
      "text/plain": [
       "AdaBoostClassifier()"
      ]
     },
     "execution_count": 10,
     "metadata": {},
     "output_type": "execute_result"
    }
   ],
   "source": [
    "AdaBoostClassifier()"
   ]
  },
  {
   "cell_type": "code",
   "execution_count": 11,
   "metadata": {},
   "outputs": [],
   "source": [
    "params = {\"base_estimator__criterion\" : [\"gini\", \"entropy\"],\n",
    "          \"base_estimator__max_features\" : [7,8,],\n",
    "          \"base_estimator__max_depth\" : [1,2],\n",
    "          \"n_estimators\": [23,24, 25, 26, 27],\n",
    "          \"learning_rate\": [0.4, 0.45, 0.5, 0.55, 0.6]\n",
    "         }"
   ]
  },
  {
   "cell_type": "code",
   "execution_count": 12,
   "metadata": {},
   "outputs": [
    {
     "data": {
      "text/plain": [
       "{'base_estimator__criterion': 'entropy',\n",
       " 'base_estimator__max_depth': 2,\n",
       " 'base_estimator__max_features': 8,\n",
       " 'learning_rate': 0.6,\n",
       " 'n_estimators': 26}"
      ]
     },
     "execution_count": 12,
     "metadata": {},
     "output_type": "execute_result"
    }
   ],
   "source": [
    "from sklearn.model_selection import GridSearchCV\n",
    "grid = GridSearchCV(estimator=eclf, param_grid=params, cv=5, n_jobs=7)\n",
    "grid = grid.fit(X_over1_train, Y_over1_train)\n",
    "\n",
    "grid.best_score_\n",
    "grid.best_params_"
   ]
  },
  {
   "cell_type": "code",
   "execution_count": 68,
   "metadata": {},
   "outputs": [
    {
     "data": {
      "text/plain": [
       "array([0.06076015, 0.04757833, 0.01397005, 0.06923966, 0.11077184,\n",
       "       0.08609322, 0.00898922, 0.00955078, 0.03200731, 0.13361889,\n",
       "       0.07681563, 0.03462614, 0.        , 0.02970873, 0.        ,\n",
       "       0.        , 0.01991415, 0.01861974, 0.00448064, 0.02110397,\n",
       "       0.01310338, 0.20904817])"
      ]
     },
     "execution_count": 68,
     "metadata": {},
     "output_type": "execute_result"
    }
   ],
   "source": [
    "grid.best_estimator_.feature_importances_"
   ]
  },
  {
   "cell_type": "code",
   "execution_count": 47,
   "metadata": {},
   "outputs": [],
   "source": [
    "from sklearn.metrics import precision_score,recall_score,f1_score,roc_auc_score\n",
    "\n",
    "dtc = DecisionTreeClassifier(criterion = 'entropy', max_depth = 2, max_features = 8)\n",
    "abc = AdaBoostClassifier(learning_rate = 0.6, n_estimators = 26)\n",
    "model = abc.fit(X_over1_train, Y_over1_train)\n",
    "\n",
    "pred_y = model.predict(test_x)\n",
    "pred_Y = cut_off(pred_y, 0.5)"
   ]
  },
  {
   "cell_type": "code",
   "execution_count": 48,
   "metadata": {},
   "outputs": [
    {
     "name": "stdout",
     "output_type": "stream",
     "text": [
      "              precision    recall  f1-score   support\n",
      "\n",
      "        사고보증       0.19      0.52      0.28      1070\n",
      "        정상보증       0.94      0.78      0.85     10666\n",
      "\n",
      "    accuracy                           0.75     11736\n",
      "   macro avg       0.57      0.65      0.56     11736\n",
      "weighted avg       0.87      0.75      0.80     11736\n",
      "\n"
     ]
    }
   ],
   "source": [
    "from sklearn.metrics import classification_report\n",
    "print(classification_report(test_y, pred_Y, target_names=['사고보증', '정상보증']))"
   ]
  },
  {
   "cell_type": "code",
   "execution_count": 49,
   "metadata": {},
   "outputs": [
    {
     "data": {
      "text/plain": [
       "array([[ 560,  510],\n",
       "       [2389, 8277]], dtype=int64)"
      ]
     },
     "execution_count": 49,
     "metadata": {},
     "output_type": "execute_result"
    }
   ],
   "source": [
    "cfmat = confusion_matrix(test_y,pred_Y)\n",
    "cfmat"
   ]
  },
  {
   "cell_type": "code",
   "execution_count": 71,
   "metadata": {},
   "outputs": [
    {
     "data": {
      "text/plain": [
       "0.7430981595092024"
      ]
     },
     "execution_count": 71,
     "metadata": {},
     "output_type": "execute_result"
    }
   ],
   "source": [
    "accuracy = acc(cfmat)\n",
    "accuracy"
   ]
  },
  {
   "cell_type": "code",
   "execution_count": 72,
   "metadata": {},
   "outputs": [
    {
     "name": "stdout",
     "output_type": "stream",
     "text": [
      "precision:  0.18229336818033323\n",
      "recall:  0.5214953271028038\n",
      "f1 score:  0.2701525054466231\n",
      "accuracy:  0.6434122050852478\n"
     ]
    }
   ],
   "source": [
    "pr = precision_score(test_y,pred_Y)\n",
    "r = recall_score(test_y,pred_Y)\n",
    "f1= f1_score(test_y,pred_Y)\n",
    "auc_score = roc_auc_score(test_y,pred_Y)\n",
    "\n",
    "print(\"precision: \", pr)\n",
    "print(\"recall: \", r)\n",
    "print(\"f1 score: \", f1)\n",
    "print(\"accuracy: \", auc_score)"
   ]
  },
  {
   "cell_type": "markdown",
   "metadata": {},
   "source": [
    "2. ADASYN"
   ]
  },
  {
   "cell_type": "code",
   "execution_count": 17,
   "metadata": {},
   "outputs": [
    {
     "data": {
      "text/plain": [
       "0.8494508119337075"
      ]
     },
     "execution_count": 17,
     "metadata": {},
     "output_type": "execute_result"
    }
   ],
   "source": [
    "eclf = AdaBoostClassifier(base_estimator=DecisionTreeClassifier(max_depth=2), n_estimators=100, learning_rate=0.1)\n",
    "cross_val_score(eclf, X_over2_train, Y_over2_train, cv=5).mean()"
   ]
  },
  {
   "cell_type": "code",
   "execution_count": 18,
   "metadata": {},
   "outputs": [
    {
     "data": {
      "text/plain": [
       "{'base_estimator__criterion': 'entropy',\n",
       " 'base_estimator__max_depth': 2,\n",
       " 'base_estimator__max_features': 8,\n",
       " 'learning_rate': 0.55,\n",
       " 'n_estimators': 27}"
      ]
     },
     "execution_count": 18,
     "metadata": {},
     "output_type": "execute_result"
    }
   ],
   "source": [
    "DecisionTreeClassifier()\n",
    "AdaBoostClassifier()\n",
    "\n",
    "params = {\"base_estimator__criterion\" : [\"gini\", \"entropy\"],\n",
    "          \"base_estimator__max_features\" : [7,8,],\n",
    "          \"base_estimator__max_depth\" : [1,2],\n",
    "          \"n_estimators\": [23,24, 25, 26, 27],\n",
    "          \"learning_rate\": [0.4, 0.45, 0.5, 0.55, 0.6]\n",
    "         }\n",
    "\n",
    "grid = GridSearchCV(estimator=eclf, param_grid=params, cv=5, n_jobs=7)\n",
    "grid = grid.fit(X_over2_train, Y_over2_train)\n",
    "\n",
    "grid.best_score_\n",
    "grid.best_params_"
   ]
  },
  {
   "cell_type": "code",
   "execution_count": 50,
   "metadata": {},
   "outputs": [],
   "source": [
    "dtc = DecisionTreeClassifier(criterion = 'entropy', max_depth = 2, max_features = 8)\n",
    "abc = AdaBoostClassifier(learning_rate = 0.55, n_estimators = 27)\n",
    "model = abc.fit(X_over2_train, Y_over2_train)\n",
    "\n",
    "pred_y = model.predict(test_x)\n",
    "pred_Y = cut_off(pred_y, 0.5)"
   ]
  },
  {
   "cell_type": "code",
   "execution_count": 20,
   "metadata": {},
   "outputs": [
    {
     "data": {
      "text/plain": [
       "array([[8100, 2566],\n",
       "       [ 559,  511]], dtype=int64)"
      ]
     },
     "execution_count": 20,
     "metadata": {},
     "output_type": "execute_result"
    }
   ],
   "source": [
    "cfmat = confusion_matrix(test_y,pred_Y)\n",
    "cfmat"
   ]
  },
  {
   "cell_type": "code",
   "execution_count": 51,
   "metadata": {},
   "outputs": [
    {
     "name": "stdout",
     "output_type": "stream",
     "text": [
      "              precision    recall  f1-score   support\n",
      "\n",
      "        사고보증       0.18      0.50      0.26      1070\n",
      "        정상보증       0.94      0.77      0.84     10666\n",
      "\n",
      "    accuracy                           0.74     11736\n",
      "   macro avg       0.56      0.63      0.55     11736\n",
      "weighted avg       0.87      0.74      0.79     11736\n",
      "\n"
     ]
    }
   ],
   "source": [
    "print(classification_report(test_y, pred_Y, target_names=['사고보증', '정상보증']))"
   ]
  },
  {
   "cell_type": "code",
   "execution_count": 77,
   "metadata": {},
   "outputs": [
    {
     "data": {
      "text/plain": [
       "0.7339809134287661"
      ]
     },
     "execution_count": 77,
     "metadata": {},
     "output_type": "execute_result"
    }
   ],
   "source": [
    "accuracy = acc(cfmat)\n",
    "accuracy"
   ]
  },
  {
   "cell_type": "code",
   "execution_count": 78,
   "metadata": {},
   "outputs": [
    {
     "name": "stdout",
     "output_type": "stream",
     "text": [
      "precision:  0.16623292127521144\n",
      "recall:  0.47757009345794393\n",
      "f1 score:  0.2466216216216216\n",
      "accuracy:  0.6186369124705808\n"
     ]
    }
   ],
   "source": [
    "pr = precision_score(test_y,pred_Y)\n",
    "r = recall_score(test_y,pred_Y)\n",
    "f1= f1_score(test_y,pred_Y)\n",
    "auc_score = roc_auc_score(test_y,pred_Y)\n",
    "\n",
    "print(\"precision: \", pr)\n",
    "print(\"recall: \", r)\n",
    "print(\"f1 score: \", f1)\n",
    "print(\"accuracy: \", auc_score)"
   ]
  },
  {
   "cell_type": "markdown",
   "metadata": {},
   "source": [
    "# 언더샘플링"
   ]
  },
  {
   "cell_type": "markdown",
   "metadata": {},
   "source": [
    "1. EditedNearestNeighbours"
   ]
  },
  {
   "cell_type": "code",
   "execution_count": 22,
   "metadata": {},
   "outputs": [
    {
     "data": {
      "text/plain": [
       "0.8716165795188475"
      ]
     },
     "execution_count": 22,
     "metadata": {},
     "output_type": "execute_result"
    }
   ],
   "source": [
    "eclf = AdaBoostClassifier(base_estimator=DecisionTreeClassifier(max_depth=2), n_estimators=100, learning_rate=0.1)\n",
    "cross_val_score(eclf, X_under1_train, Y_under1_train, cv=5).mean()"
   ]
  },
  {
   "cell_type": "code",
   "execution_count": 23,
   "metadata": {},
   "outputs": [
    {
     "data": {
      "text/plain": [
       "{'base_estimator__criterion': 'gini',\n",
       " 'base_estimator__max_depth': 2,\n",
       " 'base_estimator__max_features': 8,\n",
       " 'learning_rate': 0.45,\n",
       " 'n_estimators': 25}"
      ]
     },
     "execution_count": 23,
     "metadata": {},
     "output_type": "execute_result"
    }
   ],
   "source": [
    "DecisionTreeClassifier()\n",
    "AdaBoostClassifier()\n",
    "\n",
    "params = {\"base_estimator__criterion\" : [\"gini\", \"entropy\"],\n",
    "          \"base_estimator__max_features\" : [7,8,],\n",
    "          \"base_estimator__max_depth\" : [1,2],\n",
    "          \"n_estimators\": [23,24, 25, 26, 27],\n",
    "          \"learning_rate\": [0.4, 0.45, 0.5, 0.55, 0.6]\n",
    "         }\n",
    "\n",
    "grid = GridSearchCV(estimator=eclf, param_grid=params, cv=5, n_jobs=7)\n",
    "grid = grid.fit(X_under1_train, Y_under1_train)\n",
    "\n",
    "grid.best_score_\n",
    "grid.best_params_"
   ]
  },
  {
   "cell_type": "code",
   "execution_count": 52,
   "metadata": {},
   "outputs": [],
   "source": [
    "dtc = DecisionTreeClassifier(criterion = 'gini', max_depth = 2, max_features = 8)\n",
    "abc = AdaBoostClassifier(learning_rate = 0.45, n_estimators = 25)\n",
    "model = abc.fit(X_under1_train, Y_under1_train)\n",
    "\n",
    "pred_y = model.predict(test_x)\n",
    "pred_Y = cut_off(pred_y, 0.5)"
   ]
  },
  {
   "cell_type": "code",
   "execution_count": 53,
   "metadata": {},
   "outputs": [
    {
     "data": {
      "text/plain": [
       "array([[ 326,  744],\n",
       "       [ 943, 9723]], dtype=int64)"
      ]
     },
     "execution_count": 53,
     "metadata": {},
     "output_type": "execute_result"
    }
   ],
   "source": [
    "cfmat = confusion_matrix(test_y,pred_Y)\n",
    "cfmat"
   ]
  },
  {
   "cell_type": "code",
   "execution_count": 54,
   "metadata": {},
   "outputs": [
    {
     "name": "stdout",
     "output_type": "stream",
     "text": [
      "              precision    recall  f1-score   support\n",
      "\n",
      "        사고보증       0.26      0.30      0.28      1070\n",
      "        정상보증       0.93      0.91      0.92     10666\n",
      "\n",
      "    accuracy                           0.86     11736\n",
      "   macro avg       0.59      0.61      0.60     11736\n",
      "weighted avg       0.87      0.86      0.86     11736\n",
      "\n"
     ]
    }
   ],
   "source": [
    "print(classification_report(test_y, pred_Y, target_names=['사고보증', '정상보증']))"
   ]
  },
  {
   "cell_type": "code",
   "execution_count": 83,
   "metadata": {},
   "outputs": [
    {
     "data": {
      "text/plain": [
       "0.8519938650306749"
      ]
     },
     "execution_count": 83,
     "metadata": {},
     "output_type": "execute_result"
    }
   ],
   "source": [
    "accuracy = acc(cfmat)\n",
    "accuracy"
   ]
  },
  {
   "cell_type": "code",
   "execution_count": 84,
   "metadata": {},
   "outputs": [
    {
     "name": "stdout",
     "output_type": "stream",
     "text": [
      "precision:  0.26161543959971406\n",
      "recall:  0.34205607476635513\n",
      "f1 score:  0.29647630619684084\n",
      "accuracy:  0.6226031358268304\n"
     ]
    }
   ],
   "source": [
    "pr = precision_score(test_y,pred_Y)\n",
    "r = recall_score(test_y,pred_Y)\n",
    "f1= f1_score(test_y,pred_Y)\n",
    "auc_score = roc_auc_score(test_y,pred_Y)\n",
    "\n",
    "print(\"precision: \", pr)\n",
    "print(\"recall: \", r)\n",
    "print(\"f1 score: \", f1)\n",
    "print(\"accuracy: \", auc_score)"
   ]
  },
  {
   "cell_type": "markdown",
   "metadata": {},
   "source": [
    "2. TomekLinks"
   ]
  },
  {
   "cell_type": "code",
   "execution_count": 27,
   "metadata": {},
   "outputs": [
    {
     "data": {
      "text/plain": [
       "0.9065857945265081"
      ]
     },
     "execution_count": 27,
     "metadata": {},
     "output_type": "execute_result"
    }
   ],
   "source": [
    "eclf = AdaBoostClassifier(base_estimator=DecisionTreeClassifier(max_depth=2), n_estimators=100, learning_rate=0.1)\n",
    "cross_val_score(eclf, X_under2_train, Y_under2_train, cv=5).mean()"
   ]
  },
  {
   "cell_type": "code",
   "execution_count": 28,
   "metadata": {},
   "outputs": [
    {
     "data": {
      "text/plain": [
       "{'base_estimator__criterion': 'entropy',\n",
       " 'base_estimator__max_depth': 2,\n",
       " 'base_estimator__max_features': 8,\n",
       " 'learning_rate': 0.6,\n",
       " 'n_estimators': 27}"
      ]
     },
     "execution_count": 28,
     "metadata": {},
     "output_type": "execute_result"
    }
   ],
   "source": [
    "DecisionTreeClassifier()\n",
    "AdaBoostClassifier()\n",
    "\n",
    "params = {\"base_estimator__criterion\" : [\"gini\", \"entropy\"],\n",
    "          \"base_estimator__max_features\" : [7,8,],\n",
    "          \"base_estimator__max_depth\" : [1,2],\n",
    "          \"n_estimators\": [23,24, 25, 26, 27],\n",
    "          \"learning_rate\": [0.4, 0.45, 0.5, 0.55, 0.6]\n",
    "         }\n",
    "\n",
    "grid = GridSearchCV(estimator=eclf, param_grid=params, cv=5, n_jobs=7)\n",
    "grid = grid.fit(X_under2_train, Y_under2_train)\n",
    "\n",
    "grid.best_score_\n",
    "grid.best_params_"
   ]
  },
  {
   "cell_type": "code",
   "execution_count": 29,
   "metadata": {},
   "outputs": [],
   "source": [
    "dtc = DecisionTreeClassifier(criterion = 'entropy', max_depth = 2, max_features = 8)\n",
    "abc = AdaBoostClassifier(learning_rate = 0.6, n_estimators = 27)\n",
    "model = abc.fit(X_under2_train, Y_under2_train)\n",
    "\n",
    "pred_y = model.predict(test_x)\n",
    "pred_Y = cut_off(pred_y, 0.5)"
   ]
  },
  {
   "cell_type": "code",
   "execution_count": 30,
   "metadata": {},
   "outputs": [
    {
     "data": {
      "text/plain": [
       "array([[10666,     0],\n",
       "       [ 1069,     1]], dtype=int64)"
      ]
     },
     "execution_count": 30,
     "metadata": {},
     "output_type": "execute_result"
    }
   ],
   "source": [
    "cfmat = confusion_matrix(test_y,pred_Y)\n",
    "cfmat"
   ]
  },
  {
   "cell_type": "code",
   "execution_count": 55,
   "metadata": {},
   "outputs": [
    {
     "name": "stdout",
     "output_type": "stream",
     "text": [
      "              precision    recall  f1-score   support\n",
      "\n",
      "        사고보증       0.26      0.30      0.28      1070\n",
      "        정상보증       0.93      0.91      0.92     10666\n",
      "\n",
      "    accuracy                           0.86     11736\n",
      "   macro avg       0.59      0.61      0.60     11736\n",
      "weighted avg       0.87      0.86      0.86     11736\n",
      "\n"
     ]
    }
   ],
   "source": [
    "print(classification_report(test_y, pred_Y, target_names=['사고보증', '정상보증']))"
   ]
  },
  {
   "cell_type": "code",
   "execution_count": 89,
   "metadata": {},
   "outputs": [
    {
     "data": {
      "text/plain": [
       "0.9088275391956373"
      ]
     },
     "execution_count": 89,
     "metadata": {},
     "output_type": "execute_result"
    }
   ],
   "source": [
    "accuracy = acc(cfmat)\n",
    "accuracy"
   ]
  },
  {
   "cell_type": "code",
   "execution_count": 90,
   "metadata": {},
   "outputs": [
    {
     "name": "stdout",
     "output_type": "stream",
     "text": [
      "precision:  0.0\n",
      "recall:  0.0\n",
      "f1 score:  0.0\n",
      "accuracy:  0.5\n"
     ]
    },
    {
     "name": "stderr",
     "output_type": "stream",
     "text": [
      "C:\\Users\\user\\anaconda3\\envs\\Study_Big\\lib\\site-packages\\sklearn\\metrics\\_classification.py:1248: UndefinedMetricWarning: Precision is ill-defined and being set to 0.0 due to no predicted samples. Use `zero_division` parameter to control this behavior.\n",
      "  _warn_prf(average, modifier, msg_start, len(result))\n"
     ]
    }
   ],
   "source": [
    "pr = precision_score(test_y,pred_Y)\n",
    "r = recall_score(test_y,pred_Y)\n",
    "f1= f1_score(test_y,pred_Y)\n",
    "auc_score = roc_auc_score(test_y,pred_Y)\n",
    "\n",
    "print(\"precision: \", pr)\n",
    "print(\"recall: \", r)\n",
    "print(\"f1 score: \", f1)\n",
    "print(\"accuracy: \", auc_score)"
   ]
  },
  {
   "cell_type": "markdown",
   "metadata": {},
   "source": [
    "# 혼합샘플링"
   ]
  },
  {
   "cell_type": "markdown",
   "metadata": {},
   "source": [
    "1. SMOTEENN"
   ]
  },
  {
   "cell_type": "code",
   "execution_count": 32,
   "metadata": {},
   "outputs": [
    {
     "data": {
      "text/plain": [
       "0.860899871753066"
      ]
     },
     "execution_count": 32,
     "metadata": {},
     "output_type": "execute_result"
    }
   ],
   "source": [
    "eclf = AdaBoostClassifier(base_estimator=DecisionTreeClassifier(max_depth=2), n_estimators=100, learning_rate=0.1)\n",
    "cross_val_score(eclf, X_comb1_train, Y_comb1_train, cv=5).mean()"
   ]
  },
  {
   "cell_type": "code",
   "execution_count": 33,
   "metadata": {},
   "outputs": [
    {
     "data": {
      "text/plain": [
       "{'base_estimator__criterion': 'entropy',\n",
       " 'base_estimator__max_depth': 2,\n",
       " 'base_estimator__max_features': 8,\n",
       " 'learning_rate': 0.6,\n",
       " 'n_estimators': 26}"
      ]
     },
     "execution_count": 33,
     "metadata": {},
     "output_type": "execute_result"
    }
   ],
   "source": [
    "DecisionTreeClassifier()\n",
    "AdaBoostClassifier()\n",
    "\n",
    "params = {\"base_estimator__criterion\" : [\"gini\", \"entropy\"],\n",
    "          \"base_estimator__max_features\" : [7,8,],\n",
    "          \"base_estimator__max_depth\" : [1,2],\n",
    "          \"n_estimators\": [23,24, 25, 26, 27],\n",
    "          \"learning_rate\": [0.4, 0.45, 0.5, 0.55, 0.6]\n",
    "         }\n",
    "\n",
    "grid = GridSearchCV(estimator=eclf, param_grid=params, cv=5, n_jobs=7)\n",
    "grid = grid.fit(X_comb1_train, Y_comb1_train)\n",
    "\n",
    "grid.best_score_\n",
    "grid.best_params_"
   ]
  },
  {
   "cell_type": "code",
   "execution_count": 56,
   "metadata": {},
   "outputs": [],
   "source": [
    "dtc = DecisionTreeClassifier(criterion = 'entropy', max_depth = 2, max_features = 8)\n",
    "abc = AdaBoostClassifier(learning_rate = 0.6, n_estimators = 26)\n",
    "model = abc.fit(X_comb1_train, Y_comb1_train)\n",
    "\n",
    "pred_y = model.predict(test_x)\n",
    "pred_Y = cut_off(pred_y, 0.5)"
   ]
  },
  {
   "cell_type": "code",
   "execution_count": 57,
   "metadata": {},
   "outputs": [
    {
     "data": {
      "text/plain": [
       "array([[ 770,  300],\n",
       "       [3962, 6704]], dtype=int64)"
      ]
     },
     "execution_count": 57,
     "metadata": {},
     "output_type": "execute_result"
    }
   ],
   "source": [
    "cfmat = confusion_matrix(test_y,pred_Y)\n",
    "cfmat"
   ]
  },
  {
   "cell_type": "code",
   "execution_count": 58,
   "metadata": {},
   "outputs": [
    {
     "name": "stdout",
     "output_type": "stream",
     "text": [
      "              precision    recall  f1-score   support\n",
      "\n",
      "        사고보증       0.16      0.72      0.27      1070\n",
      "        정상보증       0.96      0.63      0.76     10666\n",
      "\n",
      "    accuracy                           0.64     11736\n",
      "   macro avg       0.56      0.67      0.51     11736\n",
      "weighted avg       0.88      0.64      0.71     11736\n",
      "\n"
     ]
    }
   ],
   "source": [
    "print(classification_report(test_y, pred_Y, target_names=['사고보증', '정상보증']))"
   ]
  },
  {
   "cell_type": "code",
   "execution_count": 95,
   "metadata": {},
   "outputs": [
    {
     "data": {
      "text/plain": [
       "0.6244035446489434"
      ]
     },
     "execution_count": 95,
     "metadata": {},
     "output_type": "execute_result"
    }
   ],
   "source": [
    "accuracy = acc(cfmat)\n",
    "accuracy"
   ]
  },
  {
   "cell_type": "code",
   "execution_count": 96,
   "metadata": {},
   "outputs": [
    {
     "name": "stdout",
     "output_type": "stream",
     "text": [
      "precision:  0.1589701675521046\n",
      "recall:  0.7271028037383177\n",
      "f1 score:  0.2608987256874581\n",
      "accuracy:  0.6706018425216996\n"
     ]
    }
   ],
   "source": [
    "pr = precision_score(test_y,pred_Y)\n",
    "r = recall_score(test_y,pred_Y)\n",
    "f1= f1_score(test_y,pred_Y)\n",
    "auc_score = roc_auc_score(test_y,pred_Y)\n",
    "\n",
    "print(\"precision: \", pr)\n",
    "print(\"recall: \", r)\n",
    "print(\"f1 score: \", f1)\n",
    "print(\"accuracy: \", auc_score)"
   ]
  },
  {
   "cell_type": "markdown",
   "metadata": {},
   "source": [
    "2. SMOTETomek"
   ]
  },
  {
   "cell_type": "code",
   "execution_count": 37,
   "metadata": {},
   "outputs": [
    {
     "data": {
      "text/plain": [
       "0.8502518637920613"
      ]
     },
     "execution_count": 37,
     "metadata": {},
     "output_type": "execute_result"
    }
   ],
   "source": [
    "eclf = AdaBoostClassifier(base_estimator=DecisionTreeClassifier(max_depth=2), n_estimators=100, learning_rate=0.1)\n",
    "cross_val_score(eclf, X_comb2_train, Y_comb2_train, cv=5).mean()"
   ]
  },
  {
   "cell_type": "code",
   "execution_count": 38,
   "metadata": {},
   "outputs": [
    {
     "data": {
      "text/plain": [
       "{'base_estimator__criterion': 'entropy',\n",
       " 'base_estimator__max_depth': 2,\n",
       " 'base_estimator__max_features': 8,\n",
       " 'learning_rate': 0.6,\n",
       " 'n_estimators': 27}"
      ]
     },
     "execution_count": 38,
     "metadata": {},
     "output_type": "execute_result"
    }
   ],
   "source": [
    "DecisionTreeClassifier()\n",
    "AdaBoostClassifier()\n",
    "\n",
    "params = {\"base_estimator__criterion\" : [\"gini\", \"entropy\"],\n",
    "          \"base_estimator__max_features\" : [7,8,],\n",
    "          \"base_estimator__max_depth\" : [1,2],\n",
    "          \"n_estimators\": [23,24, 25, 26, 27],\n",
    "          \"learning_rate\": [0.4, 0.45, 0.5, 0.55, 0.6]\n",
    "         }\n",
    "\n",
    "grid = GridSearchCV(estimator=eclf, param_grid=params, cv=5, n_jobs=7)\n",
    "grid = grid.fit(X_comb2_train, Y_comb2_train)\n",
    "\n",
    "grid.best_score_\n",
    "grid.best_params_"
   ]
  },
  {
   "cell_type": "code",
   "execution_count": 59,
   "metadata": {},
   "outputs": [],
   "source": [
    "dtc = DecisionTreeClassifier(criterion = 'entropy', max_depth = 2, max_features = 8)\n",
    "abc = AdaBoostClassifier(learning_rate = 0.6, n_estimators = 27)\n",
    "model = abc.fit(X_comb2_train, Y_comb2_train)\n",
    "\n",
    "pred_y = model.predict(test_x)\n",
    "pred_Y = cut_off(pred_y, 0.5)"
   ]
  },
  {
   "cell_type": "code",
   "execution_count": 60,
   "metadata": {},
   "outputs": [
    {
     "data": {
      "text/plain": [
       "array([[ 565,  505],\n",
       "       [2475, 8191]], dtype=int64)"
      ]
     },
     "execution_count": 60,
     "metadata": {},
     "output_type": "execute_result"
    }
   ],
   "source": [
    "cfmat = confusion_matrix(test_y,pred_Y)\n",
    "cfmat"
   ]
  },
  {
   "cell_type": "code",
   "execution_count": 61,
   "metadata": {},
   "outputs": [
    {
     "name": "stdout",
     "output_type": "stream",
     "text": [
      "              precision    recall  f1-score   support\n",
      "\n",
      "        사고보증       0.19      0.53      0.27      1070\n",
      "        정상보증       0.94      0.77      0.85     10666\n",
      "\n",
      "    accuracy                           0.75     11736\n",
      "   macro avg       0.56      0.65      0.56     11736\n",
      "weighted avg       0.87      0.75      0.79     11736\n",
      "\n"
     ]
    }
   ],
   "source": [
    "print(classification_report(test_y, pred_Y, target_names=['사고보증', '정상보증']))"
   ]
  },
  {
   "cell_type": "code",
   "execution_count": 101,
   "metadata": {},
   "outputs": [
    {
     "data": {
      "text/plain": [
       "0.7366223585548739"
      ]
     },
     "execution_count": 101,
     "metadata": {},
     "output_type": "execute_result"
    }
   ],
   "source": [
    "accuracy = acc(cfmat)\n",
    "accuracy"
   ]
  },
  {
   "cell_type": "code",
   "execution_count": 102,
   "metadata": {},
   "outputs": [
    {
     "name": "stdout",
     "output_type": "stream",
     "text": [
      "precision:  0.1694471704285247\n",
      "recall:  0.48411214953271026\n",
      "f1 score:  0.2510298037315241\n",
      "accuracy:  0.623033010824859\n"
     ]
    }
   ],
   "source": [
    "pr = precision_score(test_y,pred_Y)\n",
    "r = recall_score(test_y,pred_Y)\n",
    "f1= f1_score(test_y,pred_Y)\n",
    "auc_score = roc_auc_score(test_y,pred_Y)\n",
    "\n",
    "print(\"precision: \", pr)\n",
    "print(\"recall: \", r)\n",
    "print(\"f1 score: \", f1)\n",
    "print(\"accuracy: \", auc_score)"
   ]
  }
 ],
 "metadata": {
  "interpreter": {
   "hash": "4000436974652e2da39f7abf97d4cef3d01362244b176d22af40d9d73df68d1f"
  },
  "kernelspec": {
   "display_name": "Python 3.8.10 64-bit ('Study_Big': conda)",
   "language": "python",
   "name": "python3"
  },
  "language_info": {
   "codemirror_mode": {
    "name": "ipython",
    "version": 3
   },
   "file_extension": ".py",
   "mimetype": "text/x-python",
   "name": "python",
   "nbconvert_exporter": "python",
   "pygments_lexer": "ipython3",
   "version": "3.8.10"
  },
  "orig_nbformat": 4
 },
 "nbformat": 4,
 "nbformat_minor": 2
}
