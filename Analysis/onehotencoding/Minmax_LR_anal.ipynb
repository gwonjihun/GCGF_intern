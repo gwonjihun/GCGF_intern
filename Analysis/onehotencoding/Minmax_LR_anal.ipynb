{
 "cells": [
  {
   "cell_type": "code",
   "execution_count": 1,
   "metadata": {},
   "outputs": [
    {
     "data": {
      "text/html": [
       "<div>\n",
       "<style scoped>\n",
       "    .dataframe tbody tr th:only-of-type {\n",
       "        vertical-align: middle;\n",
       "    }\n",
       "\n",
       "    .dataframe tbody tr th {\n",
       "        vertical-align: top;\n",
       "    }\n",
       "\n",
       "    .dataframe thead th {\n",
       "        text-align: right;\n",
       "    }\n",
       "</style>\n",
       "<table border=\"1\" class=\"dataframe\">\n",
       "  <thead>\n",
       "    <tr style=\"text-align: right;\">\n",
       "      <th></th>\n",
       "      <th>CUSTNO</th>\n",
       "      <th>GNO</th>\n",
       "      <th>CBSCORE</th>\n",
       "      <th>CBSCOREGRD</th>\n",
       "      <th>CREDITOTAMT</th>\n",
       "      <th>YSALEAMT</th>\n",
       "      <th>ESTMM</th>\n",
       "      <th>ASSETAMT</th>\n",
       "      <th>IMSAAMT</th>\n",
       "      <th>IMJUAMT</th>\n",
       "      <th>...</th>\n",
       "      <th>KIND_JOB_K</th>\n",
       "      <th>KIND_JOB_L</th>\n",
       "      <th>KIND_JOB_M</th>\n",
       "      <th>KIND_JOB_N</th>\n",
       "      <th>KIND_JOB_O</th>\n",
       "      <th>KIND_JOB_P</th>\n",
       "      <th>KIND_JOB_Q</th>\n",
       "      <th>KIND_JOB_R</th>\n",
       "      <th>KIND_JOB_S</th>\n",
       "      <th>KIND_JOB_T</th>\n",
       "    </tr>\n",
       "  </thead>\n",
       "  <tbody>\n",
       "    <tr>\n",
       "      <th>0</th>\n",
       "      <td>475821</td>\n",
       "      <td>l180202101898</td>\n",
       "      <td>0.949290</td>\n",
       "      <td>0.000000</td>\n",
       "      <td>0.002338</td>\n",
       "      <td>0.223956</td>\n",
       "      <td>0.058085</td>\n",
       "      <td>0.000768</td>\n",
       "      <td>0.004153</td>\n",
       "      <td>0.000000</td>\n",
       "      <td>...</td>\n",
       "      <td>0</td>\n",
       "      <td>0</td>\n",
       "      <td>0</td>\n",
       "      <td>0</td>\n",
       "      <td>0</td>\n",
       "      <td>0</td>\n",
       "      <td>0</td>\n",
       "      <td>0</td>\n",
       "      <td>0</td>\n",
       "      <td>0</td>\n",
       "    </tr>\n",
       "    <tr>\n",
       "      <th>1</th>\n",
       "      <td>74417</td>\n",
       "      <td>l230201700120</td>\n",
       "      <td>0.897566</td>\n",
       "      <td>0.166667</td>\n",
       "      <td>0.002221</td>\n",
       "      <td>0.129121</td>\n",
       "      <td>0.014129</td>\n",
       "      <td>0.001920</td>\n",
       "      <td>0.000000</td>\n",
       "      <td>0.015489</td>\n",
       "      <td>...</td>\n",
       "      <td>0</td>\n",
       "      <td>0</td>\n",
       "      <td>0</td>\n",
       "      <td>0</td>\n",
       "      <td>0</td>\n",
       "      <td>0</td>\n",
       "      <td>0</td>\n",
       "      <td>0</td>\n",
       "      <td>0</td>\n",
       "      <td>0</td>\n",
       "    </tr>\n",
       "    <tr>\n",
       "      <th>2</th>\n",
       "      <td>387787</td>\n",
       "      <td>l110201603233</td>\n",
       "      <td>0.909736</td>\n",
       "      <td>0.000000</td>\n",
       "      <td>0.000000</td>\n",
       "      <td>0.083846</td>\n",
       "      <td>0.290424</td>\n",
       "      <td>0.000768</td>\n",
       "      <td>0.004153</td>\n",
       "      <td>0.000000</td>\n",
       "      <td>...</td>\n",
       "      <td>0</td>\n",
       "      <td>0</td>\n",
       "      <td>0</td>\n",
       "      <td>0</td>\n",
       "      <td>0</td>\n",
       "      <td>0</td>\n",
       "      <td>0</td>\n",
       "      <td>0</td>\n",
       "      <td>0</td>\n",
       "      <td>0</td>\n",
       "    </tr>\n",
       "    <tr>\n",
       "      <th>3</th>\n",
       "      <td>395418</td>\n",
       "      <td>l230201700254</td>\n",
       "      <td>0.884381</td>\n",
       "      <td>0.166667</td>\n",
       "      <td>0.001637</td>\n",
       "      <td>0.079560</td>\n",
       "      <td>0.017268</td>\n",
       "      <td>0.000768</td>\n",
       "      <td>0.004153</td>\n",
       "      <td>0.000000</td>\n",
       "      <td>...</td>\n",
       "      <td>0</td>\n",
       "      <td>0</td>\n",
       "      <td>0</td>\n",
       "      <td>0</td>\n",
       "      <td>0</td>\n",
       "      <td>0</td>\n",
       "      <td>0</td>\n",
       "      <td>0</td>\n",
       "      <td>0</td>\n",
       "      <td>0</td>\n",
       "    </tr>\n",
       "    <tr>\n",
       "      <th>4</th>\n",
       "      <td>190372</td>\n",
       "      <td>l200201601418</td>\n",
       "      <td>0.726166</td>\n",
       "      <td>0.833333</td>\n",
       "      <td>0.000818</td>\n",
       "      <td>0.036813</td>\n",
       "      <td>0.262166</td>\n",
       "      <td>0.006143</td>\n",
       "      <td>0.000831</td>\n",
       "      <td>0.000000</td>\n",
       "      <td>...</td>\n",
       "      <td>0</td>\n",
       "      <td>0</td>\n",
       "      <td>0</td>\n",
       "      <td>0</td>\n",
       "      <td>0</td>\n",
       "      <td>0</td>\n",
       "      <td>0</td>\n",
       "      <td>0</td>\n",
       "      <td>0</td>\n",
       "      <td>0</td>\n",
       "    </tr>\n",
       "  </tbody>\n",
       "</table>\n",
       "<p>5 rows × 48 columns</p>\n",
       "</div>"
      ],
      "text/plain": [
       "   CUSTNO            GNO   CBSCORE  CBSCOREGRD  CREDITOTAMT  YSALEAMT  \\\n",
       "0  475821  l180202101898  0.949290    0.000000     0.002338  0.223956   \n",
       "1   74417  l230201700120  0.897566    0.166667     0.002221  0.129121   \n",
       "2  387787  l110201603233  0.909736    0.000000     0.000000  0.083846   \n",
       "3  395418  l230201700254  0.884381    0.166667     0.001637  0.079560   \n",
       "4  190372  l200201601418  0.726166    0.833333     0.000818  0.036813   \n",
       "\n",
       "      ESTMM  ASSETAMT   IMSAAMT   IMJUAMT  ...  KIND_JOB_K  KIND_JOB_L  \\\n",
       "0  0.058085  0.000768  0.004153  0.000000  ...           0           0   \n",
       "1  0.014129  0.001920  0.000000  0.015489  ...           0           0   \n",
       "2  0.290424  0.000768  0.004153  0.000000  ...           0           0   \n",
       "3  0.017268  0.000768  0.004153  0.000000  ...           0           0   \n",
       "4  0.262166  0.006143  0.000831  0.000000  ...           0           0   \n",
       "\n",
       "   KIND_JOB_M  KIND_JOB_N KIND_JOB_O  KIND_JOB_P  KIND_JOB_Q  KIND_JOB_R  \\\n",
       "0           0           0          0           0           0           0   \n",
       "1           0           0          0           0           0           0   \n",
       "2           0           0          0           0           0           0   \n",
       "3           0           0          0           0           0           0   \n",
       "4           0           0          0           0           0           0   \n",
       "\n",
       "   KIND_JOB_S  KIND_JOB_T  \n",
       "0           0           0  \n",
       "1           0           0  \n",
       "2           0           0  \n",
       "3           0           0  \n",
       "4           0           0  \n",
       "\n",
       "[5 rows x 48 columns]"
      ]
     },
     "execution_count": 1,
     "metadata": {},
     "output_type": "execute_result"
    }
   ],
   "source": [
    "import pandas as pd\n",
    "import matplotlib.pyplot as plt\n",
    "import statsmodels.api as sm\n",
    "\n",
    "data = pd.read_csv(\"MinMax_Scaler_result.csv\",encoding=\"cp949\")\n",
    "data.head()"
   ]
  },
  {
   "cell_type": "code",
   "execution_count": 2,
   "metadata": {},
   "outputs": [],
   "source": [
    "features = data[['CBSCORE', 'CREDITOTAMT', 'YSALEAMT',\n",
    "       'ESTMM',  'IMSAAMT', 'IMJUAMT', 'BUJUAMT',\n",
    "       'BU1TOTAMT', 'GAMT', 'LABORCNT', 'KOSPI', '환율', 'GDP', \n",
    "       '실업률', '물가지수', '국고채', '금리', '유가등락률',\n",
    "       '소비자심리지수','KIND_JOB_A', 'KIND_JOB_B', 'KIND_JOB_C', 'KIND_JOB_D',\n",
    "       'KIND_JOB_E', 'KIND_JOB_F', 'KIND_JOB_G', 'KIND_JOB_H', 'KIND_JOB_I',\n",
    "       'KIND_JOB_J', 'KIND_JOB_K', 'KIND_JOB_L', 'KIND_JOB_M', 'KIND_JOB_N',\n",
    "       'KIND_JOB_O', 'KIND_JOB_P', 'KIND_JOB_Q', 'KIND_JOB_R', 'KIND_JOB_S',\n",
    "       'KIND_JOB_T']]\n",
    "act = data['ACTCD']"
   ]
  },
  {
   "cell_type": "code",
   "execution_count": 3,
   "metadata": {},
   "outputs": [
    {
     "name": "stdout",
     "output_type": "stream",
     "text": [
      "(27381, 39) (11736, 39) (27381,) (11736,)\n"
     ]
    }
   ],
   "source": [
    "from sklearn.model_selection import train_test_split\n",
    "\n",
    "train_x, test_x,train_y, test_y = train_test_split(features, act,\n",
    "stratify=act,train_size=0.7,test_size=0.3,random_state=1)\n",
    "\n",
    "print(train_x.shape, test_x.shape, train_y.shape, test_y.shape)"
   ]
  },
  {
   "cell_type": "code",
   "execution_count": 4,
   "metadata": {},
   "outputs": [],
   "source": [
    "from imblearn.over_sampling import BorderlineSMOTE, ADASYN\n",
    "from imblearn.under_sampling import EditedNearestNeighbours, TomekLinks\n",
    "from imblearn.combine import SMOTEENN, SMOTETomek\n",
    "\n",
    "#언더 샘플링\n",
    "enn = EditedNearestNeighbours(kind_sel=\"all\", n_neighbors=10)\n",
    "tomekl = TomekLinks()\n",
    "\n",
    "#오버 샘플링\n",
    "bsmote = BorderlineSMOTE(random_state=42)\n",
    "adasyn = ADASYN(random_state=42)\n",
    "\n",
    "#혼합 샘플링\n",
    "smotee = SMOTEENN(random_state=42)\n",
    "smoteT = SMOTETomek(random_state=42)\n",
    "\n",
    "\n",
    "X_under1_train, Y_under1_train = enn.fit_resample(train_x, train_y)\n",
    "X_under2_train, Y_under2_train = tomekl.fit_resample(train_x, train_y)\n",
    "\n",
    "X_over1_train, Y_over1_train = bsmote.fit_resample(train_x,train_y)\n",
    "X_over2_train, Y_over2_train = adasyn.fit_resample(train_x,train_y)\n",
    "\n",
    "X_comb1_train, Y_comb1_train = smotee.fit_resample(train_x, train_y)\n",
    "X_comb2_train, Y_comb2_train = smoteT.fit_resample(train_x, train_y)"
   ]
  },
  {
   "cell_type": "markdown",
   "metadata": {},
   "source": [
    "### 아래 분석 결과, Logistic Regression 하이퍼 파라미터: C와 max_iter 조정 결과 변화 없음"
   ]
  },
  {
   "cell_type": "markdown",
   "metadata": {},
   "source": [
    "## 오버샘플링"
   ]
  },
  {
   "cell_type": "markdown",
   "metadata": {},
   "source": [
    "1. BorderlineSMOTE"
   ]
  },
  {
   "cell_type": "code",
   "execution_count": 5,
   "metadata": {},
   "outputs": [],
   "source": [
    "# 임계값 함수\n",
    "\n",
    "def cut_off(y, threshold) :\n",
    "    Y = y.copy()  # 대문자 Y를 새로운 변수로 하여 기존의 y값에 영향이 가지 않도록 한다.\n",
    "    Y[Y>threshold] = 1\n",
    "    Y[Y<threshold] = 0\n",
    "    return Y.astype(int)\n",
    "\n",
    "from sklearn.metrics import confusion_matrix\n",
    "# confusion matrix accuracy(정확도) 계산함수\n",
    "\n",
    "def acc(cfmat):\n",
    "    return (cfmat[0,0] + cfmat[1,1])/(cfmat[0,0] + cfmat[1,1] + cfmat[0,1] + cfmat[1,0])"
   ]
  },
  {
   "cell_type": "code",
   "execution_count": 6,
   "metadata": {},
   "outputs": [],
   "source": [
    "from sklearn.linear_model import LogisticRegression\n",
    "import statsmodels.api as sm\n",
    "from sklearn.metrics import precision_score,recall_score,f1_score,roc_auc_score\n",
    "\n",
    "anal_result = []\n",
    "m = [1500, 2000, 2500, 3000]\n",
    "c = [0.01, 0.1, 1, 10, 100]\n",
    "\n",
    "for i in c:\n",
    "    model = LogisticRegression(random_state = 42, solver = 'lbfgs', max_iter = 1000, C = i)\n",
    "    results = model.fit(X_over1_train,Y_over1_train)\n",
    "    \n",
    "    #로지스틱 모형 적합\n",
    "    #model = sm.Logit(Y_over1_train,X_over1_train)\n",
    "    #results = model.fit()\n",
    "\n",
    "    pred_y = results.predict(test_x)\n",
    "    pred_Y = cut_off(pred_y, 0.5)\n",
    "\n",
    "    cfmat = confusion_matrix(test_y,pred_Y)\n",
    "    accuracy = acc(cfmat)\n",
    "\n",
    "    pr = precision_score(test_y,pred_Y)\n",
    "    r = recall_score(test_y,pred_Y)\n",
    "    f1= f1_score(test_y,pred_Y)\n",
    "    auc_score = roc_auc_score(test_y,pred_y)\n",
    "    \n",
    "    anal_result.append((i, accuracy, cfmat, pr, r, f1, auc_score))"
   ]
  },
  {
   "cell_type": "code",
   "execution_count": 7,
   "metadata": {},
   "outputs": [
    {
     "name": "stdout",
     "output_type": "stream",
     "text": [
      "[(0.01, 0.6511588275391956, array([[6930, 3736],\n",
      "       [ 358,  712]], dtype=int64), 0.16007194244604317, 0.6654205607476635, 0.2580645161290323, 0.657574334377207), (0.1, 0.684986366734833, array([[7327, 3339],\n",
      "       [ 358,  712]], dtype=int64), 0.17575907183411504, 0.6654205607476635, 0.2780706893184925, 0.6761848725358419), (1, 0.6999829584185412, array([[7500, 3166],\n",
      "       [ 355,  715]], dtype=int64), 0.1842308683329039, 0.6682242990654206, 0.2888305392849929, 0.6856966235623372), (10, 0.701346284935242, array([[7510, 3156],\n",
      "       [ 349,  721]], dtype=int64), 0.1859685323703895, 0.6738317757009346, 0.2914897917930059, 0.6889691411788004), (100, 0.7012610770279482, array([[7508, 3158],\n",
      "       [ 348,  722]], dtype=int64), 0.18608247422680413, 0.6747663551401869, 0.2917171717171717, 0.6893426750386853)]\n"
     ]
    }
   ],
   "source": [
    "print(anal_result)"
   ]
  },
  {
   "cell_type": "code",
   "execution_count": 8,
   "metadata": {},
   "outputs": [
    {
     "name": "stdout",
     "output_type": "stream",
     "text": [
      "[(0.01, 0.6511588275391956, array([[6930, 3736],\n",
      "       [ 358,  712]], dtype=int64), 0.16007194244604317, 0.6654205607476635, 0.2580645161290323, 0.657574334377207), (0.1, 0.684986366734833, array([[7327, 3339],\n",
      "       [ 358,  712]], dtype=int64), 0.17575907183411504, 0.6654205607476635, 0.2780706893184925, 0.6761848725358419), (1, 0.6999829584185412, array([[7500, 3166],\n",
      "       [ 355,  715]], dtype=int64), 0.1842308683329039, 0.6682242990654206, 0.2888305392849929, 0.6856966235623372), (10, 0.701346284935242, array([[7510, 3156],\n",
      "       [ 349,  721]], dtype=int64), 0.1859685323703895, 0.6738317757009346, 0.2914897917930059, 0.6889691411788004), (100, 0.7012610770279482, array([[7508, 3158],\n",
      "       [ 348,  722]], dtype=int64), 0.18608247422680413, 0.6747663551401869, 0.2917171717171717, 0.6893426750386853)]\n"
     ]
    }
   ],
   "source": [
    "print(anal_result)"
   ]
  },
  {
   "cell_type": "markdown",
   "metadata": {},
   "source": [
    "2. ADASYN"
   ]
  },
  {
   "cell_type": "code",
   "execution_count": 9,
   "metadata": {},
   "outputs": [],
   "source": [
    "from sklearn.linear_model import LogisticRegression\n",
    "import statsmodels.api as sm\n",
    "from sklearn.metrics import precision_score,recall_score,f1_score,roc_auc_score\n",
    "\n",
    "anal_result = []\n",
    "m = [1500, 2000, 2500, 3000]\n",
    "c = [0.01, 0.1, 1, 10, 100]\n",
    "\n",
    "for i in m:\n",
    "    model = LogisticRegression(random_state = 42, solver = 'lbfgs', max_iter = i)\n",
    "    results = model.fit(X_over2_train,Y_over2_train)\n",
    "    \n",
    "    #로지스틱 모형 적합\n",
    "    #model = sm.Logit(Y_over2_train,X_over2_train)\n",
    "    #results = model.fit()\n",
    "\n",
    "    pred_y = results.predict(test_x)\n",
    "    pred_Y = cut_off(pred_y, 0.5)\n",
    "\n",
    "    cfmat = confusion_matrix(test_y,pred_Y)\n",
    "    accuracy = acc(cfmat)\n",
    "\n",
    "    pr = precision_score(test_y,pred_Y)\n",
    "    r = recall_score(test_y,pred_Y)\n",
    "    f1= f1_score(test_y,pred_Y)\n",
    "    auc_score = roc_auc_score(test_y,pred_y)\n",
    "    \n",
    "    anal_result.append((i, accuracy, cfmat, pr, r, f1, auc_score))"
   ]
  },
  {
   "cell_type": "code",
   "execution_count": 10,
   "metadata": {},
   "outputs": [
    {
     "name": "stdout",
     "output_type": "stream",
     "text": [
      "[(1500, 0.6664962508520791, array([[7074, 3592],\n",
      "       [ 322,  748]], dtype=int64), 0.17235023041474654, 0.6990654205607477, 0.2765249537892791, 0.6811471861851178), (2000, 0.6664962508520791, array([[7074, 3592],\n",
      "       [ 322,  748]], dtype=int64), 0.17235023041474654, 0.6990654205607477, 0.2765249537892791, 0.6811471861851178), (2500, 0.6664962508520791, array([[7074, 3592],\n",
      "       [ 322,  748]], dtype=int64), 0.17235023041474654, 0.6990654205607477, 0.2765249537892791, 0.6811471861851178), (3000, 0.6664962508520791, array([[7074, 3592],\n",
      "       [ 322,  748]], dtype=int64), 0.17235023041474654, 0.6990654205607477, 0.2765249537892791, 0.6811471861851178)]\n"
     ]
    }
   ],
   "source": [
    "print(anal_result)"
   ]
  },
  {
   "cell_type": "markdown",
   "metadata": {},
   "source": [
    "## 언더샘플링"
   ]
  },
  {
   "cell_type": "markdown",
   "metadata": {},
   "source": [
    "1. EditedNearestNeighbours"
   ]
  },
  {
   "cell_type": "code",
   "execution_count": 11,
   "metadata": {},
   "outputs": [],
   "source": [
    "from sklearn.linear_model import LogisticRegression\n",
    "import statsmodels.api as sm\n",
    "from sklearn.metrics import precision_score,recall_score,f1_score,roc_auc_score\n",
    "\n",
    "anal_result = []\n",
    "m = [1500, 2000, 2500, 3000]\n",
    "c = [0.01, 0.1, 1, 10, 100]\n",
    "\n",
    "for i in m:\n",
    "    model = LogisticRegression(random_state = 42, solver = 'lbfgs', max_iter = i)\n",
    "    results = model.fit(X_under1_train,Y_under1_train)\n",
    "    \n",
    "    #로지스틱 모형 적합\n",
    "    #model = sm.Logit(Y_under1_train,X_under1_train)\n",
    "    #results = model.fit()\n",
    "\n",
    "    pred_y = results.predict(test_x)\n",
    "    pred_Y = cut_off(pred_y, 0.5)\n",
    "\n",
    "    cfmat = confusion_matrix(test_y,pred_Y)\n",
    "    accuracy = acc(cfmat)\n",
    "\n",
    "    pr = precision_score(test_y,pred_Y)\n",
    "    r = recall_score(test_y,pred_Y)\n",
    "    f1= f1_score(test_y,pred_Y)\n",
    "    auc_score = roc_auc_score(test_y,pred_y)\n",
    "    \n",
    "    anal_result.append((i, accuracy, cfmat, pr, r, f1, auc_score))"
   ]
  },
  {
   "cell_type": "code",
   "execution_count": 12,
   "metadata": {},
   "outputs": [
    {
     "name": "stdout",
     "output_type": "stream",
     "text": [
      "[(1500, 0.8602590320381731, array([[9760,  906],\n",
      "       [ 734,  336]], dtype=int64), 0.27053140096618356, 0.31401869158878504, 0.2906574394463668, 0.6145379413316135), (2000, 0.8602590320381731, array([[9760,  906],\n",
      "       [ 734,  336]], dtype=int64), 0.27053140096618356, 0.31401869158878504, 0.2906574394463668, 0.6145379413316135), (2500, 0.8602590320381731, array([[9760,  906],\n",
      "       [ 734,  336]], dtype=int64), 0.27053140096618356, 0.31401869158878504, 0.2906574394463668, 0.6145379413316135), (3000, 0.8602590320381731, array([[9760,  906],\n",
      "       [ 734,  336]], dtype=int64), 0.27053140096618356, 0.31401869158878504, 0.2906574394463668, 0.6145379413316135)]\n"
     ]
    }
   ],
   "source": [
    "print(anal_result)"
   ]
  },
  {
   "cell_type": "markdown",
   "metadata": {},
   "source": [
    "2. Borderline SMOTE"
   ]
  },
  {
   "cell_type": "code",
   "execution_count": 13,
   "metadata": {},
   "outputs": [],
   "source": [
    "from sklearn.linear_model import LogisticRegression\n",
    "import statsmodels.api as sm\n",
    "from sklearn.metrics import precision_score,recall_score,f1_score,roc_auc_score\n",
    "\n",
    "anal_result = []\n",
    "m = [1500, 2000, 2500, 3000]\n",
    "c = [0.01, 0.1, 1, 10, 100]\n",
    "\n",
    "for i in m:\n",
    "    model = LogisticRegression(random_state = 42, solver = 'lbfgs', max_iter = i)\n",
    "    results = model.fit(X_under2_train,Y_under2_train)\n",
    "    \n",
    "    #로지스틱 모형 적합\n",
    "    #model = sm.Logit(Y_under2_train,X_under2_train)\n",
    "    #results = model.fit()\n",
    "\n",
    "    pred_y = results.predict(test_x)\n",
    "    pred_Y = cut_off(pred_y, 0.5)\n",
    "\n",
    "    cfmat = confusion_matrix(test_y,pred_Y)\n",
    "    accuracy = acc(cfmat)\n",
    "\n",
    "    pr = precision_score(test_y,pred_Y)\n",
    "    r = recall_score(test_y,pred_Y)\n",
    "    f1= f1_score(test_y,pred_Y)\n",
    "    auc_score = roc_auc_score(test_y,pred_y)\n",
    "    \n",
    "    anal_result.append((i, accuracy, cfmat, pr, r, f1, auc_score))"
   ]
  },
  {
   "cell_type": "code",
   "execution_count": 14,
   "metadata": {},
   "outputs": [
    {
     "name": "stdout",
     "output_type": "stream",
     "text": [
      "[(1500, 0.9083162917518746, array([[10655,    11],\n",
      "       [ 1065,     5]], dtype=int64), 0.3125, 0.004672897196261682, 0.009208103130755063, 0.501820791369554), (2000, 0.9083162917518746, array([[10655,    11],\n",
      "       [ 1065,     5]], dtype=int64), 0.3125, 0.004672897196261682, 0.009208103130755063, 0.501820791369554), (2500, 0.9083162917518746, array([[10655,    11],\n",
      "       [ 1065,     5]], dtype=int64), 0.3125, 0.004672897196261682, 0.009208103130755063, 0.501820791369554), (3000, 0.9083162917518746, array([[10655,    11],\n",
      "       [ 1065,     5]], dtype=int64), 0.3125, 0.004672897196261682, 0.009208103130755063, 0.501820791369554)]\n"
     ]
    }
   ],
   "source": [
    "print(anal_result)"
   ]
  },
  {
   "cell_type": "markdown",
   "metadata": {},
   "source": [
    "# 혼합 샘플링"
   ]
  },
  {
   "cell_type": "markdown",
   "metadata": {},
   "source": [
    "1. SMOTEENN"
   ]
  },
  {
   "cell_type": "code",
   "execution_count": 15,
   "metadata": {},
   "outputs": [],
   "source": [
    "from sklearn.linear_model import LogisticRegression\n",
    "import statsmodels.api as sm\n",
    "from sklearn.metrics import precision_score,recall_score,f1_score,roc_auc_score\n",
    "\n",
    "anal_result = []\n",
    "m = [1500, 2000, 2500, 3000]\n",
    "c = [0.01, 0.1, 1, 10, 100]\n",
    "\n",
    "for i in m:\n",
    "    model = LogisticRegression(random_state = 42, solver = 'lbfgs', max_iter = i)\n",
    "    results = model.fit(X_comb1_train,Y_comb1_train)\n",
    "    \n",
    "    #로지스틱 모형 적합\n",
    "    #model = sm.Logit(Y_comb1_train,X_comb1_train)\n",
    "    #results = model.fit()\n",
    "\n",
    "    pred_y = results.predict(test_x)\n",
    "    pred_Y = cut_off(pred_y, 0.5)\n",
    "\n",
    "    cfmat = confusion_matrix(test_y,pred_Y)\n",
    "    accuracy = acc(cfmat)\n",
    "\n",
    "    pr = precision_score(test_y,pred_Y)\n",
    "    r = recall_score(test_y,pred_Y)\n",
    "    f1= f1_score(test_y,pred_Y)\n",
    "    auc_score = roc_auc_score(test_y,pred_y)\n",
    "    \n",
    "    anal_result.append((i, accuracy, cfmat, pr, r, f1, auc_score))"
   ]
  },
  {
   "cell_type": "code",
   "execution_count": 16,
   "metadata": {},
   "outputs": [
    {
     "name": "stdout",
     "output_type": "stream",
     "text": [
      "[(1500, 0.5613496932515337, array([[5726, 4940],\n",
      "       [ 208,  862]], dtype=int64), 0.14856945880730782, 0.805607476635514, 0.2508731082654249, 0.6712267647569095), (2000, 0.5613496932515337, array([[5726, 4940],\n",
      "       [ 208,  862]], dtype=int64), 0.14856945880730782, 0.805607476635514, 0.2508731082654249, 0.6712267647569095), (2500, 0.5613496932515337, array([[5726, 4940],\n",
      "       [ 208,  862]], dtype=int64), 0.14856945880730782, 0.805607476635514, 0.2508731082654249, 0.6712267647569095), (3000, 0.5613496932515337, array([[5726, 4940],\n",
      "       [ 208,  862]], dtype=int64), 0.14856945880730782, 0.805607476635514, 0.2508731082654249, 0.6712267647569095)]\n"
     ]
    }
   ],
   "source": [
    "print(anal_result)"
   ]
  },
  {
   "cell_type": "markdown",
   "metadata": {},
   "source": [
    "2. SMOTE Tomek"
   ]
  },
  {
   "cell_type": "code",
   "execution_count": 17,
   "metadata": {},
   "outputs": [],
   "source": [
    "from sklearn.linear_model import LogisticRegression\n",
    "import statsmodels.api as sm\n",
    "from sklearn.metrics import precision_score,recall_score,f1_score,roc_auc_score\n",
    "\n",
    "anal_result = []\n",
    "m = [1500, 2000, 2500, 3000]\n",
    "c = [0.01, 0.1, 1, 10, 100]\n",
    "\n",
    "for i in m:\n",
    "    model = LogisticRegression(random_state = 42, solver = 'lbfgs', max_iter = i)\n",
    "    results = model.fit(X_comb2_train,Y_comb2_train)\n",
    "    \n",
    "    #로지스틱 모형 적합\n",
    "   # model = sm.Logit(Y_comb2_train,X_comb2_train)\n",
    "    #results = model.fit()\n",
    "\n",
    "    pred_y = results.predict(test_x)\n",
    "    pred_Y = cut_off(pred_y, 0.5)\n",
    "\n",
    "    cfmat = confusion_matrix(test_y,pred_Y)\n",
    "    accuracy = acc(cfmat)\n",
    "\n",
    "    pr = precision_score(test_y,pred_Y)\n",
    "    r = recall_score(test_y,pred_Y)\n",
    "    f1= f1_score(test_y,pred_Y)\n",
    "    auc_score = roc_auc_score(test_y,pred_y)\n",
    "    \n",
    "    anal_result.append((i, accuracy, cfmat, pr, r, f1, auc_score))"
   ]
  },
  {
   "cell_type": "code",
   "execution_count": 18,
   "metadata": {},
   "outputs": [
    {
     "data": {
      "text/plain": [
       "[(1500,\n",
       "  0.6796182685753238,\n",
       "  array([[7231, 3435],\n",
       "         [ 325,  745]], dtype=int64),\n",
       "  0.17822966507177032,\n",
       "  0.6962616822429907,\n",
       "  0.2838095238095238,\n",
       "  0.6871051520159263),\n",
       " (2000,\n",
       "  0.6796182685753238,\n",
       "  array([[7231, 3435],\n",
       "         [ 325,  745]], dtype=int64),\n",
       "  0.17822966507177032,\n",
       "  0.6962616822429907,\n",
       "  0.2838095238095238,\n",
       "  0.6871051520159263),\n",
       " (2500,\n",
       "  0.6796182685753238,\n",
       "  array([[7231, 3435],\n",
       "         [ 325,  745]], dtype=int64),\n",
       "  0.17822966507177032,\n",
       "  0.6962616822429907,\n",
       "  0.2838095238095238,\n",
       "  0.6871051520159263),\n",
       " (3000,\n",
       "  0.6796182685753238,\n",
       "  array([[7231, 3435],\n",
       "         [ 325,  745]], dtype=int64),\n",
       "  0.17822966507177032,\n",
       "  0.6962616822429907,\n",
       "  0.2838095238095238,\n",
       "  0.6871051520159263)]"
      ]
     },
     "execution_count": 18,
     "metadata": {},
     "output_type": "execute_result"
    }
   ],
   "source": [
    "sorted(anal_result,key=lambda x:x[4],reverse=True)"
   ]
  },
  {
   "cell_type": "code",
   "execution_count": null,
   "metadata": {},
   "outputs": [],
   "source": []
  },
  {
   "cell_type": "code",
   "execution_count": null,
   "metadata": {},
   "outputs": [],
   "source": []
  }
 ],
 "metadata": {
  "interpreter": {
   "hash": "4000436974652e2da39f7abf97d4cef3d01362244b176d22af40d9d73df68d1f"
  },
  "kernelspec": {
   "display_name": "Python 3.8.10 64-bit ('Study_Big': conda)",
   "language": "python",
   "name": "python3"
  },
  "language_info": {
   "codemirror_mode": {
    "name": "ipython",
    "version": 3
   },
   "file_extension": ".py",
   "mimetype": "text/x-python",
   "name": "python",
   "nbconvert_exporter": "python",
   "pygments_lexer": "ipython3",
   "version": "3.8.10"
  },
  "orig_nbformat": 4
 },
 "nbformat": 4,
 "nbformat_minor": 2
}
