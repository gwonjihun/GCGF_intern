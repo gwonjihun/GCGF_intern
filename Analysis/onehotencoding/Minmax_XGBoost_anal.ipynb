{
 "cells": [
  {
   "cell_type": "code",
   "execution_count": 2,
   "metadata": {},
   "outputs": [],
   "source": [
    "import xgboost as xgb\n",
    "import pandas as pd\n"
   ]
  },
  {
   "cell_type": "code",
   "execution_count": 3,
   "metadata": {},
   "outputs": [],
   "source": [
    "data = pd.read_csv(\"MinMax_Scaler_result.csv\",encoding=\"cp949\")"
   ]
  },
  {
   "cell_type": "code",
   "execution_count": 4,
   "metadata": {},
   "outputs": [],
   "source": [
    "features = data[['CBSCORE', 'CREDITOTAMT', 'YSALEAMT',\n",
    "       'ESTMM',  'IMSAAMT', 'IMJUAMT', 'BUJUAMT',\n",
    "       'BU1TOTAMT', 'GAMT', 'LABORCNT', 'KOSPI', '환율', 'GDP', \n",
    "       '실업률', '물가지수', '국고채', '금리', '유가등락률',\n",
    "       '소비자심리지수','KIND_JOB_A', 'KIND_JOB_B', 'KIND_JOB_C', 'KIND_JOB_D',\n",
    "       'KIND_JOB_E', 'KIND_JOB_F', 'KIND_JOB_G', 'KIND_JOB_H', 'KIND_JOB_I',\n",
    "       'KIND_JOB_J', 'KIND_JOB_K', 'KIND_JOB_L', 'KIND_JOB_M', 'KIND_JOB_N',\n",
    "       'KIND_JOB_O', 'KIND_JOB_P', 'KIND_JOB_Q', 'KIND_JOB_R', 'KIND_JOB_S',\n",
    "       'KIND_JOB_T']]\n",
    "act = data['ACTCD']"
   ]
  },
  {
   "cell_type": "code",
   "execution_count": 5,
   "metadata": {},
   "outputs": [],
   "source": [
    "act = act-1\n",
    "act = -act"
   ]
  },
  {
   "cell_type": "code",
   "execution_count": 6,
   "metadata": {},
   "outputs": [
    {
     "name": "stdout",
     "output_type": "stream",
     "text": [
      "(27381, 39) (11736, 39) (27381,) (11736,)\n"
     ]
    }
   ],
   "source": [
    "from sklearn.model_selection import train_test_split\n",
    "\n",
    "train_x, test_x,train_y, test_y = train_test_split(features, act,\n",
    "stratify=act,train_size=0.7,test_size=0.3,random_state=1)\n",
    "\n",
    "print(train_x.shape, test_x.shape, train_y.shape, test_y.shape)"
   ]
  },
  {
   "cell_type": "code",
   "execution_count": 7,
   "metadata": {},
   "outputs": [],
   "source": [
    "from imblearn.over_sampling import BorderlineSMOTE,ADASYN\n",
    "from imblearn.combine import SMOTEENN,SMOTETomek\n",
    "from imblearn.under_sampling import EditedNearestNeighbours, TomekLinks\n",
    "data_sets={}\n",
    "enn = EditedNearestNeighbours()\n",
    "ada = ADASYN(random_state=42)\n",
    "smte = SMOTEENN(random_state=42)\n",
    "smtt = SMOTETomek(random_state=42)\n",
    "tk = TomekLinks()\n",
    "sm = BorderlineSMOTE(random_state=42)\n",
    "enn_under_train_x,enn_under_train_y = enn.fit_resample(train_x,train_y)\n",
    "ada_over_train_x, ada_over_train_y = ada.fit_resample(train_x,train_y)\n",
    "smte_combine_train_x,smte_combine_train_y = smte.fit_resample(train_x,train_y)\n",
    "smtt_combine_train_x,smtt_combine_train_y = smtt.fit_resample(train_x,train_y)\n",
    "tk_under_train_x,tk_under_train_y = tk.fit_resample(train_x,train_y)\n",
    "sm_over_train_x, sm_over_train_y = sm.fit_resample(train_x,train_y)\n",
    "data_sets['enn']=[enn_under_train_x,enn_under_train_y]\n",
    "data_sets['ada']=[ada_over_train_x,ada_over_train_y]\n",
    "data_sets['smte']=[smte_combine_train_x,smte_combine_train_y]\n",
    "data_sets['smtt']=[smtt_combine_train_x,smtt_combine_train_y]\n",
    "data_sets['tk']=[tk_under_train_x,tk_under_train_y]\n",
    "data_sets['sm']=[sm_over_train_x,sm_over_train_y]\n",
    "'''\n",
    "over_train_x : 학습용 독립변수\n",
    "over_train_y : 학습용 종속변수\n",
    "'''\n",
    "keys_list= data_sets.keys()"
   ]
  },
  {
   "cell_type": "code",
   "execution_count": 8,
   "metadata": {},
   "outputs": [],
   "source": [
    "import xgboost as xgb\n",
    "\n",
    "from sklearn import metrics\n",
    "from sklearn.metrics import precision_score,recall_score,f1_score,roc_auc_score,confusion_matrix, classification_report\n"
   ]
  },
  {
   "cell_type": "code",
   "execution_count": 9,
   "metadata": {},
   "outputs": [],
   "source": [
    "result_list=[]"
   ]
  },
  {
   "cell_type": "code",
   "execution_count": 10,
   "metadata": {},
   "outputs": [],
   "source": [
    "params = {\n",
    "    'booster' : ['gbtree'],\n",
    "    'eta': [0.15],\n",
    "    'gamma':[0],\n",
    "    'max_depth': [30,35,40,45,50],\n",
    "    'min_child_weight':[1,2,3],\n",
    "    'random_state':[99],\n",
    "    'n_estimators':[300,400,500]\n",
    "}\n",
    "xgbs = xgb.XGBClassifier(use_label_encoder=False,eval_metric='logloss',)\n",
    "\n",
    "from sklearn.model_selection import GridSearchCV\n"
   ]
  },
  {
   "cell_type": "code",
   "execution_count": 11,
   "metadata": {},
   "outputs": [
    {
     "name": "stdout",
     "output_type": "stream",
     "text": [
      "Fitting 5 folds for each of 45 candidates, totalling 225 fits\n"
     ]
    },
    {
     "name": "stderr",
     "output_type": "stream",
     "text": [
      "[Parallel(n_jobs=3)]: Using backend LokyBackend with 3 concurrent workers.\n",
      "[Parallel(n_jobs=3)]: Done  44 tasks      | elapsed:  7.2min\n",
      "[Parallel(n_jobs=3)]: Done 194 tasks      | elapsed: 31.4min\n",
      "[Parallel(n_jobs=3)]: Done 225 out of 225 | elapsed: 36.4min finished\n"
     ]
    },
    {
     "name": "stdout",
     "output_type": "stream",
     "text": [
      "Fitting 5 folds for each of 45 candidates, totalling 225 fits\n"
     ]
    },
    {
     "name": "stderr",
     "output_type": "stream",
     "text": [
      "[Parallel(n_jobs=3)]: Using backend LokyBackend with 3 concurrent workers.\n",
      "[Parallel(n_jobs=3)]: Done  44 tasks      | elapsed: 20.9min\n",
      "[Parallel(n_jobs=3)]: Done 194 tasks      | elapsed: 94.8min\n",
      "[Parallel(n_jobs=3)]: Done 225 out of 225 | elapsed: 110.2min finished\n"
     ]
    },
    {
     "name": "stdout",
     "output_type": "stream",
     "text": [
      "Fitting 5 folds for each of 45 candidates, totalling 225 fits\n"
     ]
    },
    {
     "name": "stderr",
     "output_type": "stream",
     "text": [
      "[Parallel(n_jobs=3)]: Using backend LokyBackend with 3 concurrent workers.\n",
      "[Parallel(n_jobs=3)]: Done  44 tasks      | elapsed: 14.8min\n",
      "[Parallel(n_jobs=3)]: Done 194 tasks      | elapsed: 66.0min\n",
      "[Parallel(n_jobs=3)]: Done 225 out of 225 | elapsed: 76.3min finished\n"
     ]
    },
    {
     "name": "stdout",
     "output_type": "stream",
     "text": [
      "Fitting 5 folds for each of 45 candidates, totalling 225 fits\n"
     ]
    },
    {
     "name": "stderr",
     "output_type": "stream",
     "text": [
      "[Parallel(n_jobs=3)]: Using backend LokyBackend with 3 concurrent workers.\n",
      "[Parallel(n_jobs=3)]: Done  44 tasks      | elapsed: 21.5min\n",
      "[Parallel(n_jobs=3)]: Done 194 tasks      | elapsed: 95.5min\n",
      "[Parallel(n_jobs=3)]: Done 225 out of 225 | elapsed: 110.3min finished\n"
     ]
    },
    {
     "name": "stdout",
     "output_type": "stream",
     "text": [
      "Fitting 5 folds for each of 45 candidates, totalling 225 fits\n"
     ]
    },
    {
     "name": "stderr",
     "output_type": "stream",
     "text": [
      "[Parallel(n_jobs=3)]: Using backend LokyBackend with 3 concurrent workers.\n",
      "[Parallel(n_jobs=3)]: Done  44 tasks      | elapsed:  9.2min\n",
      "[Parallel(n_jobs=3)]: Done 194 tasks      | elapsed: 40.3min\n",
      "[Parallel(n_jobs=3)]: Done 225 out of 225 | elapsed: 46.9min finished\n"
     ]
    },
    {
     "name": "stdout",
     "output_type": "stream",
     "text": [
      "Fitting 5 folds for each of 45 candidates, totalling 225 fits\n"
     ]
    },
    {
     "name": "stderr",
     "output_type": "stream",
     "text": [
      "[Parallel(n_jobs=3)]: Using backend LokyBackend with 3 concurrent workers.\n",
      "[Parallel(n_jobs=3)]: Done  44 tasks      | elapsed: 21.3min\n",
      "[Parallel(n_jobs=3)]: Done 194 tasks      | elapsed: 95.1min\n",
      "[Parallel(n_jobs=3)]: Done 225 out of 225 | elapsed: 110.8min finished\n"
     ]
    }
   ],
   "source": [
    "for a in keys_list:\n",
    "    xgb_gird = GridSearchCV(xgbs,param_grid=params, scoring=\"accuracy\",n_jobs=3,verbose=1)\n",
    "\n",
    "    xgb_gird.fit(data_sets[a][0], data_sets[a][1])\n",
    "\n",
    "    pred_y = xgb_gird.predict(test_x)\n",
    "    pr = precision_score(y_true=test_y,y_pred=pred_y)\n",
    "    r = recall_score(y_true=test_y,y_pred=pred_y)\n",
    "    f1 = f1_score(y_true=test_y,y_pred=pred_y)\n",
    "    rca = roc_auc_score(y_true=test_y,y_score=pred_y)\n",
    "    cfm = confusion_matrix(y_true=test_y,y_pred=pred_y)\n",
    "    result_list.append((a,xgb_gird.best_params_,pr,r,f1,rca,cfm))\n",
    "    \n",
    "    \n",
    "\n"
   ]
  },
  {
   "cell_type": "code",
   "execution_count": 12,
   "metadata": {},
   "outputs": [
    {
     "data": {
      "text/plain": [
       "[('enn',\n",
       "  {'booster': 'gbtree',\n",
       "   'eta': 0.15,\n",
       "   'gamma': 0,\n",
       "   'max_depth': 50,\n",
       "   'min_child_weight': 1,\n",
       "   'n_estimators': 300,\n",
       "   'random_state': 99},\n",
       "  0.9351405439825343,\n",
       "  0.9638102381398838,\n",
       "  0.9492589685581052,\n",
       "  0.648727548976484,\n",
       "  array([[  357,   713],\n",
       "         [  386, 10280]], dtype=int64)),\n",
       " ('ada',\n",
       "  {'booster': 'gbtree',\n",
       "   'eta': 0.15,\n",
       "   'gamma': 0,\n",
       "   'max_depth': 50,\n",
       "   'min_child_weight': 2,\n",
       "   'n_estimators': 300,\n",
       "   'random_state': 99},\n",
       "  0.9311481250556694,\n",
       "  0.9801237577348584,\n",
       "  0.9550084501895583,\n",
       "  0.6288469255964011,\n",
       "  array([[  297,   773],\n",
       "         [  212, 10454]], dtype=int64)),\n",
       " ('smte',\n",
       "  {'booster': 'gbtree',\n",
       "   'eta': 0.15,\n",
       "   'gamma': 0,\n",
       "   'max_depth': 35,\n",
       "   'min_child_weight': 1,\n",
       "   'n_estimators': 300,\n",
       "   'random_state': 99},\n",
       "  0.9407773577590385,\n",
       "  0.9099943746484155,\n",
       "  0.9251298670352189,\n",
       "  0.669483168632619,\n",
       "  array([[ 459,  611],\n",
       "         [ 960, 9706]], dtype=int64)),\n",
       " ('smtt',\n",
       "  {'booster': 'gbtree',\n",
       "   'eta': 0.15,\n",
       "   'gamma': 0,\n",
       "   'max_depth': 35,\n",
       "   'min_child_weight': 1,\n",
       "   'n_estimators': 300,\n",
       "   'random_state': 99},\n",
       "  0.9311971517578994,\n",
       "  0.9808738046127883,\n",
       "  0.955390164832656,\n",
       "  0.6292219490353661,\n",
       "  array([[  297,   773],\n",
       "         [  204, 10462]], dtype=int64)),\n",
       " ('tk',\n",
       "  {'booster': 'gbtree',\n",
       "   'eta': 0.15,\n",
       "   'gamma': 0,\n",
       "   'max_depth': 50,\n",
       "   'min_child_weight': 1,\n",
       "   'n_estimators': 300,\n",
       "   'random_state': 99},\n",
       "  0.9299823633156966,\n",
       "  0.988749296831052,\n",
       "  0.9584658729437426,\n",
       "  0.6233466110323485,\n",
       "  array([[  276,   794],\n",
       "         [  120, 10546]], dtype=int64)),\n",
       " ('sm',\n",
       "  {'booster': 'gbtree',\n",
       "   'eta': 0.15,\n",
       "   'gamma': 0,\n",
       "   'max_depth': 35,\n",
       "   'min_child_weight': 1,\n",
       "   'n_estimators': 300,\n",
       "   'random_state': 99},\n",
       "  0.9321762349799733,\n",
       "  0.9819051190699418,\n",
       "  0.9563946851741929,\n",
       "  0.6348777931798307,\n",
       "  array([[  308,   762],\n",
       "         [  193, 10473]], dtype=int64))]"
      ]
     },
     "execution_count": 12,
     "metadata": {},
     "output_type": "execute_result"
    }
   ],
   "source": [
    "result_list"
   ]
  },
  {
   "cell_type": "code",
   "execution_count": null,
   "metadata": {},
   "outputs": [],
   "source": []
  }
 ],
 "metadata": {
  "interpreter": {
   "hash": "4000436974652e2da39f7abf97d4cef3d01362244b176d22af40d9d73df68d1f"
  },
  "kernelspec": {
   "display_name": "Python 3.8.10 64-bit ('Study_Big': conda)",
   "language": "python",
   "name": "python3"
  },
  "language_info": {
   "codemirror_mode": {
    "name": "ipython",
    "version": 3
   },
   "file_extension": ".py",
   "mimetype": "text/x-python",
   "name": "python",
   "nbconvert_exporter": "python",
   "pygments_lexer": "ipython3",
   "version": "3.8.10"
  },
  "orig_nbformat": 4
 },
 "nbformat": 4,
 "nbformat_minor": 2
}
