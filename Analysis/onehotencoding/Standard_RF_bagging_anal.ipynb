{
 "cells": [
  {
   "cell_type": "code",
   "execution_count": 1,
   "metadata": {},
   "outputs": [],
   "source": [
    "import pandas as pd"
   ]
  },
  {
   "cell_type": "code",
   "execution_count": 2,
   "metadata": {},
   "outputs": [],
   "source": [
    "data = pd.read_csv('Standard_Scaler_result.csv',encoding='cp949')"
   ]
  },
  {
   "cell_type": "code",
   "execution_count": 4,
   "metadata": {},
   "outputs": [],
   "source": [
    "\n",
    "from sklearn.model_selection import train_test_split"
   ]
  },
  {
   "cell_type": "code",
   "execution_count": 9,
   "metadata": {},
   "outputs": [],
   "source": [
    "features = data[['CBSCORE', 'CREDITOTAMT', 'YSALEAMT',\n",
    "       'ESTMM',  'IMSAAMT', 'IMJUAMT', 'BUSAAMT', 'BUJUAMT',\n",
    "       'BU1TOTAMT', 'GAMT', 'LABORCNT', 'KOSPI', '환율', 'GDP', \n",
    "       '소상공인체감지수', '실업률', '물가지수', '국고채', '금리', '유가등락률',\n",
    "       '소비자심리지수','KIND_JOB_A', 'KIND_JOB_B', 'KIND_JOB_C', 'KIND_JOB_D',\n",
    "       'KIND_JOB_E', 'KIND_JOB_F', 'KIND_JOB_G', 'KIND_JOB_H', 'KIND_JOB_I',\n",
    "       'KIND_JOB_J', 'KIND_JOB_K', 'KIND_JOB_L', 'KIND_JOB_M', 'KIND_JOB_N',\n",
    "       'KIND_JOB_O', 'KIND_JOB_P', 'KIND_JOB_Q', 'KIND_JOB_R', 'KIND_JOB_S',\n",
    "       'KIND_JOB_T']]\n",
    "act = data['ACTCD']"
   ]
  },
  {
   "cell_type": "code",
   "execution_count": 10,
   "metadata": {},
   "outputs": [
    {
     "name": "stdout",
     "output_type": "stream",
     "text": [
      "(27381, 41) (11736, 41) (27381,) (11736,)\n"
     ]
    }
   ],
   "source": [
    "\n",
    "train_x, test_x,train_y, test_y = train_test_split(features, act,\n",
    "stratify=act,train_size=0.7,test_size=0.3,random_state=1)\n",
    "\n",
    "print(train_x.shape, test_x.shape, train_y.shape, test_y.shape)"
   ]
  },
  {
   "cell_type": "code",
   "execution_count": 11,
   "metadata": {},
   "outputs": [],
   "source": [
    "'''\n",
    "1. ENN\n",
    "2. ADASYN\n",
    "3. BORDERLINE SMOTE\n",
    "4. Tomeklinks\n",
    "5 SOTEENN\n",
    "6.SMOTETOMEK\n",
    "'''\n",
    "from imblearn.over_sampling import BorderlineSMOTE,ADASYN\n",
    "from imblearn.combine import SMOTEENN,SMOTETomek\n",
    "from imblearn.under_sampling import EditedNearestNeighbours, TomekLinks\n",
    "data_sets={}\n",
    "enn = EditedNearestNeighbours()\n",
    "ada = ADASYN(random_state=42)\n",
    "smte = SMOTEENN(random_state=42)\n",
    "smtt = SMOTETomek(random_state=42)\n",
    "tk = TomekLinks()\n",
    "sm = BorderlineSMOTE(random_state=42)\n",
    "enn_under_train_x,enn_under_train_y = enn.fit_resample(train_x,train_y)\n",
    "ada_over_train_x, ada_over_train_y = ada.fit_resample(train_x,train_y)\n",
    "smte_combine_train_x,smte_combine_train_y = smte.fit_resample(train_x,train_y)\n",
    "smtt_combine_train_x,smtt_combine_train_y = smtt.fit_resample(train_x,train_y)\n",
    "tk_under_train_x,tk_under_train_y = tk.fit_resample(train_x,train_y)\n",
    "sm_over_train_x, sm_over_train_y = sm.fit_resample(train_x,train_y)\n",
    "data_sets['enn']=[enn_under_train_x,enn_under_train_y]\n",
    "data_sets['ada']=[ada_over_train_x,ada_over_train_y]\n",
    "data_sets['smte']=[smte_combine_train_x,smte_combine_train_y]\n",
    "data_sets['smtt']=[smtt_combine_train_x,smtt_combine_train_y]\n",
    "data_sets['tk']=[tk_under_train_x,tk_under_train_y]\n",
    "data_sets['sm']=[sm_over_train_x,sm_over_train_y]\n",
    "'''\n",
    "over_train_x : 학습용 독립변수\n",
    "over_train_y : 학습용 종속변수\n",
    "'''\n",
    "keys_list= data_sets.keys()\n",
    "accuracies = []\n",
    "matrix_kd_tree_uniform_BOST = []"
   ]
  },
  {
   "cell_type": "code",
   "execution_count": 12,
   "metadata": {},
   "outputs": [],
   "source": [
    "from sklearn.ensemble import RandomForestClassifier\n",
    "from sklearn import metrics\n",
    "from sklearn.metrics import precision_score,recall_score,f1_score,roc_auc_score,confusion_matrix, classification_report\n"
   ]
  },
  {
   "cell_type": "code",
   "execution_count": 13,
   "metadata": {},
   "outputs": [
    {
     "name": "stdout",
     "output_type": "stream",
     "text": [
      "결정계수 :  0.9995086653564409\n",
      "enn\n",
      "정확도 :  0.9238241308793456\n",
      "              precision    recall  f1-score   support\n",
      "\n",
      "        사고보증       0.93      0.99      0.96     10666\n",
      "        정상보증       0.76      0.24      0.37      1070\n",
      "\n",
      "    accuracy                           0.92     11736\n",
      "   macro avg       0.84      0.62      0.66     11736\n",
      "weighted avg       0.91      0.92      0.91     11736\n",
      "\n",
      "\n",
      "\n",
      "결정계수 :  0.9989307186377759\n",
      "ada\n",
      "정확도 :  0.9104464894342195\n",
      "              precision    recall  f1-score   support\n",
      "\n",
      "        사고보증       0.93      0.97      0.95     10666\n",
      "        정상보증       0.52      0.28      0.36      1070\n",
      "\n",
      "    accuracy                           0.91     11736\n",
      "   macro avg       0.72      0.63      0.66     11736\n",
      "weighted avg       0.89      0.91      0.90     11736\n",
      "\n",
      "\n",
      "\n",
      "결정계수 :  1.0\n",
      "smte\n",
      "정확도 :  0.84986366734833\n",
      "              precision    recall  f1-score   support\n",
      "\n",
      "        사고보증       0.94      0.89      0.92     10666\n",
      "        정상보증       0.29      0.46      0.36      1070\n",
      "\n",
      "    accuracy                           0.85     11736\n",
      "   macro avg       0.62      0.67      0.64     11736\n",
      "weighted avg       0.88      0.85      0.86     11736\n",
      "\n",
      "\n",
      "\n",
      "결정계수 :  0.9989334299283587\n",
      "smtt\n",
      "정확도 :  0.9124914792092707\n",
      "              precision    recall  f1-score   support\n",
      "\n",
      "        사고보증       0.93      0.98      0.95     10666\n",
      "        정상보증       0.54      0.28      0.37      1070\n",
      "\n",
      "    accuracy                           0.91     11736\n",
      "   macro avg       0.73      0.63      0.66     11736\n",
      "weighted avg       0.90      0.91      0.90     11736\n",
      "\n",
      "\n",
      "\n",
      "결정계수 :  0.9980162443388105\n",
      "tk\n",
      "정확도 :  0.9262951601908657\n",
      "              precision    recall  f1-score   support\n",
      "\n",
      "        사고보증       0.93      1.00      0.96     10666\n",
      "        정상보증       0.90      0.22      0.35      1070\n",
      "\n",
      "    accuracy                           0.93     11736\n",
      "   macro avg       0.91      0.61      0.65     11736\n",
      "weighted avg       0.92      0.93      0.91     11736\n",
      "\n",
      "\n",
      "\n",
      "결정계수 :  0.998935101466747\n",
      "sm\n",
      "정확도 :  0.912747102931152\n",
      "              precision    recall  f1-score   support\n",
      "\n",
      "        사고보증       0.93      0.98      0.95     10666\n",
      "        정상보증       0.54      0.28      0.37      1070\n",
      "\n",
      "    accuracy                           0.91     11736\n",
      "   macro avg       0.74      0.63      0.66     11736\n",
      "weighted avg       0.90      0.91      0.90     11736\n",
      "\n",
      "\n",
      "\n"
     ]
    }
   ],
   "source": [
    "for i in keys_list:\n",
    "    model = RandomForestClassifier(n_estimators=200,max_depth=50,max_features=1)\n",
    "    model.fit(data_sets[i][0], data_sets[i][1])\n",
    "                            \n",
    "                    # 결정계수\n",
    "    relation_square = model.score(data_sets[i][0], data_sets[i][1])\n",
    "    print('결정계수 : ', relation_square)\n",
    "                    \n",
    "                    # 예측\n",
    "    pred_y = model.predict(test_x)\n",
    "    pr = precision_score(y_true=test_y,y_pred=pred_y)\n",
    "    r = recall_score(y_true=test_y,y_pred=pred_y)\n",
    "    f1 = f1_score(y_true=test_y,y_pred=pred_y)\n",
    "    rca = roc_auc_score(y_true=test_y,y_score=pred_y)\n",
    "    cfm = confusion_matrix(y_true=test_y,y_pred=pred_y)\n",
    "    matrix_kd_tree_uniform_BOST.append((i,pr,r,f1,rca,model.score(test_x, test_y),cfm))\n",
    "                # 정확도 확인\n",
    "    print(i)\n",
    "    print('정확도 : ', metrics.accuracy_score(test_y, pred_y))\n",
    "    print(classification_report(test_y, pred_y, target_names=['사고보증', '정상보증']))\n",
    "    print('\\n')"
   ]
  },
  {
   "cell_type": "markdown",
   "metadata": {},
   "source": []
  },
  {
   "cell_type": "code",
   "execution_count": 16,
   "metadata": {},
   "outputs": [
    {
     "data": {
      "text/plain": [
       "[('enn',\n",
       "  0.7463556851311953,\n",
       "  0.23925233644859814,\n",
       "  0.36234961075725414,\n",
       "  0.6155477883255553,\n",
       "  0.923227675528289,\n",
       "  array([[10579,    87],\n",
       "         [  814,   256]], dtype=int64)),\n",
       " ('ada',\n",
       "  0.48406676783004554,\n",
       "  0.29813084112149535,\n",
       "  0.3689994216310006,\n",
       "  0.633126924404738,\n",
       "  0.9070381731424676,\n",
       "  array([[10326,   340],\n",
       "         [  751,   319]], dtype=int64)),\n",
       " ('smte',\n",
       "  0.28896672504378285,\n",
       "  0.46261682242990654,\n",
       "  0.3557312252964427,\n",
       "  0.6742110926325419,\n",
       "  0.8472222222222222,\n",
       "  array([[9448, 1218],\n",
       "         [ 575,  495]], dtype=int64)),\n",
       " ('smtt',\n",
       "  0.48829953198127923,\n",
       "  0.2925233644859813,\n",
       "  0.36586791350087666,\n",
       "  0.6308857212454283,\n",
       "  0.9075494205862304,\n",
       "  array([[10338,   328],\n",
       "         [  757,   313]], dtype=int64)),\n",
       " ('tk',\n",
       "  0.9015748031496063,\n",
       "  0.21401869158878506,\n",
       "  0.34592145015105746,\n",
       "  0.6058373975476271,\n",
       "  0.926209952283572,\n",
       "  array([[10641,    25],\n",
       "         [  841,   229]], dtype=int64)),\n",
       " ('sm',\n",
       "  0.5269360269360269,\n",
       "  0.2925233644859813,\n",
       "  0.3762019230769231,\n",
       "  0.6330889839493472,\n",
       "  0.9115541922290389,\n",
       "  array([[10385,   281],\n",
       "         [  757,   313]], dtype=int64))]"
      ]
     },
     "execution_count": 16,
     "metadata": {},
     "output_type": "execute_result"
    }
   ],
   "source": [
    "matrix_kd_tree_uniform_BOST"
   ]
  },
  {
   "cell_type": "code",
   "execution_count": null,
   "metadata": {},
   "outputs": [],
   "source": []
  }
 ],
 "metadata": {
  "interpreter": {
   "hash": "4000436974652e2da39f7abf97d4cef3d01362244b176d22af40d9d73df68d1f"
  },
  "kernelspec": {
   "display_name": "Python 3.8.10 64-bit ('Study_Big': conda)",
   "language": "python",
   "name": "python3"
  },
  "language_info": {
   "codemirror_mode": {
    "name": "ipython",
    "version": 3
   },
   "file_extension": ".py",
   "mimetype": "text/x-python",
   "name": "python",
   "nbconvert_exporter": "python",
   "pygments_lexer": "ipython3",
   "version": "3.8.10"
  },
  "orig_nbformat": 4
 },
 "nbformat": 4,
 "nbformat_minor": 2
}
