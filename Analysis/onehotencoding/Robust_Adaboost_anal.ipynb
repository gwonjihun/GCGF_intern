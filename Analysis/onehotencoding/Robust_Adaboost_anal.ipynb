{
 "cells": [
  {
   "cell_type": "code",
   "execution_count": 1,
   "metadata": {},
   "outputs": [
    {
     "data": {
      "text/html": [
       "<div>\n",
       "<style scoped>\n",
       "    .dataframe tbody tr th:only-of-type {\n",
       "        vertical-align: middle;\n",
       "    }\n",
       "\n",
       "    .dataframe tbody tr th {\n",
       "        vertical-align: top;\n",
       "    }\n",
       "\n",
       "    .dataframe thead th {\n",
       "        text-align: right;\n",
       "    }\n",
       "</style>\n",
       "<table border=\"1\" class=\"dataframe\">\n",
       "  <thead>\n",
       "    <tr style=\"text-align: right;\">\n",
       "      <th></th>\n",
       "      <th>CUSTNO</th>\n",
       "      <th>GNO</th>\n",
       "      <th>CBSCORE</th>\n",
       "      <th>CBSCOREGRD</th>\n",
       "      <th>CREDITOTAMT</th>\n",
       "      <th>YSALEAMT</th>\n",
       "      <th>ESTMM</th>\n",
       "      <th>ASSETAMT</th>\n",
       "      <th>IMSAAMT</th>\n",
       "      <th>IMJUAMT</th>\n",
       "      <th>...</th>\n",
       "      <th>KIND_JOB_K</th>\n",
       "      <th>KIND_JOB_L</th>\n",
       "      <th>KIND_JOB_M</th>\n",
       "      <th>KIND_JOB_N</th>\n",
       "      <th>KIND_JOB_O</th>\n",
       "      <th>KIND_JOB_P</th>\n",
       "      <th>KIND_JOB_Q</th>\n",
       "      <th>KIND_JOB_R</th>\n",
       "      <th>KIND_JOB_S</th>\n",
       "      <th>KIND_JOB_T</th>\n",
       "    </tr>\n",
       "  </thead>\n",
       "  <tbody>\n",
       "    <tr>\n",
       "      <th>0</th>\n",
       "      <td>475821</td>\n",
       "      <td>l180202101898</td>\n",
       "      <td>1.015873</td>\n",
       "      <td>-0.5</td>\n",
       "      <td>0.230769</td>\n",
       "      <td>10.743169</td>\n",
       "      <td>0.014085</td>\n",
       "      <td>-0.176471</td>\n",
       "      <td>0.0</td>\n",
       "      <td>0.0</td>\n",
       "      <td>...</td>\n",
       "      <td>0</td>\n",
       "      <td>0</td>\n",
       "      <td>0</td>\n",
       "      <td>0</td>\n",
       "      <td>0</td>\n",
       "      <td>0</td>\n",
       "      <td>0</td>\n",
       "      <td>0</td>\n",
       "      <td>0</td>\n",
       "      <td>0</td>\n",
       "    </tr>\n",
       "    <tr>\n",
       "      <th>1</th>\n",
       "      <td>74417</td>\n",
       "      <td>l230201700120</td>\n",
       "      <td>0.206349</td>\n",
       "      <td>0.0</td>\n",
       "      <td>0.205128</td>\n",
       "      <td>6.027322</td>\n",
       "      <td>-0.380282</td>\n",
       "      <td>-0.088235</td>\n",
       "      <td>-0.5</td>\n",
       "      <td>25.0</td>\n",
       "      <td>...</td>\n",
       "      <td>0</td>\n",
       "      <td>0</td>\n",
       "      <td>0</td>\n",
       "      <td>0</td>\n",
       "      <td>0</td>\n",
       "      <td>0</td>\n",
       "      <td>0</td>\n",
       "      <td>0</td>\n",
       "      <td>0</td>\n",
       "      <td>0</td>\n",
       "    </tr>\n",
       "    <tr>\n",
       "      <th>2</th>\n",
       "      <td>387787</td>\n",
       "      <td>l110201603233</td>\n",
       "      <td>0.396825</td>\n",
       "      <td>-0.5</td>\n",
       "      <td>-0.282051</td>\n",
       "      <td>3.775956</td>\n",
       "      <td>2.098592</td>\n",
       "      <td>-0.176471</td>\n",
       "      <td>0.0</td>\n",
       "      <td>0.0</td>\n",
       "      <td>...</td>\n",
       "      <td>0</td>\n",
       "      <td>0</td>\n",
       "      <td>0</td>\n",
       "      <td>0</td>\n",
       "      <td>0</td>\n",
       "      <td>0</td>\n",
       "      <td>0</td>\n",
       "      <td>0</td>\n",
       "      <td>0</td>\n",
       "      <td>0</td>\n",
       "    </tr>\n",
       "    <tr>\n",
       "      <th>3</th>\n",
       "      <td>395418</td>\n",
       "      <td>l230201700254</td>\n",
       "      <td>0.000000</td>\n",
       "      <td>0.0</td>\n",
       "      <td>0.076923</td>\n",
       "      <td>3.562842</td>\n",
       "      <td>-0.352113</td>\n",
       "      <td>-0.176471</td>\n",
       "      <td>0.0</td>\n",
       "      <td>0.0</td>\n",
       "      <td>...</td>\n",
       "      <td>0</td>\n",
       "      <td>0</td>\n",
       "      <td>0</td>\n",
       "      <td>0</td>\n",
       "      <td>0</td>\n",
       "      <td>0</td>\n",
       "      <td>0</td>\n",
       "      <td>0</td>\n",
       "      <td>0</td>\n",
       "      <td>0</td>\n",
       "    </tr>\n",
       "    <tr>\n",
       "      <th>4</th>\n",
       "      <td>190372</td>\n",
       "      <td>l200201601418</td>\n",
       "      <td>-2.476190</td>\n",
       "      <td>2.0</td>\n",
       "      <td>-0.102564</td>\n",
       "      <td>1.437158</td>\n",
       "      <td>1.845070</td>\n",
       "      <td>0.235294</td>\n",
       "      <td>-0.4</td>\n",
       "      <td>0.0</td>\n",
       "      <td>...</td>\n",
       "      <td>0</td>\n",
       "      <td>0</td>\n",
       "      <td>0</td>\n",
       "      <td>0</td>\n",
       "      <td>0</td>\n",
       "      <td>0</td>\n",
       "      <td>0</td>\n",
       "      <td>0</td>\n",
       "      <td>0</td>\n",
       "      <td>0</td>\n",
       "    </tr>\n",
       "    <tr>\n",
       "      <th>...</th>\n",
       "      <td>...</td>\n",
       "      <td>...</td>\n",
       "      <td>...</td>\n",
       "      <td>...</td>\n",
       "      <td>...</td>\n",
       "      <td>...</td>\n",
       "      <td>...</td>\n",
       "      <td>...</td>\n",
       "      <td>...</td>\n",
       "      <td>...</td>\n",
       "      <td>...</td>\n",
       "      <td>...</td>\n",
       "      <td>...</td>\n",
       "      <td>...</td>\n",
       "      <td>...</td>\n",
       "      <td>...</td>\n",
       "      <td>...</td>\n",
       "      <td>...</td>\n",
       "      <td>...</td>\n",
       "      <td>...</td>\n",
       "      <td>...</td>\n",
       "    </tr>\n",
       "    <tr>\n",
       "      <th>39112</th>\n",
       "      <td>514919</td>\n",
       "      <td>l240201902522</td>\n",
       "      <td>-0.253968</td>\n",
       "      <td>0.5</td>\n",
       "      <td>-0.282051</td>\n",
       "      <td>-0.393443</td>\n",
       "      <td>-0.338028</td>\n",
       "      <td>-0.235294</td>\n",
       "      <td>-0.5</td>\n",
       "      <td>0.0</td>\n",
       "      <td>...</td>\n",
       "      <td>0</td>\n",
       "      <td>0</td>\n",
       "      <td>0</td>\n",
       "      <td>0</td>\n",
       "      <td>0</td>\n",
       "      <td>0</td>\n",
       "      <td>0</td>\n",
       "      <td>0</td>\n",
       "      <td>0</td>\n",
       "      <td>0</td>\n",
       "    </tr>\n",
       "    <tr>\n",
       "      <th>39113</th>\n",
       "      <td>357361</td>\n",
       "      <td>l160201601877</td>\n",
       "      <td>-1.603175</td>\n",
       "      <td>1.5</td>\n",
       "      <td>0.000000</td>\n",
       "      <td>-0.393443</td>\n",
       "      <td>-0.366197</td>\n",
       "      <td>-0.176471</td>\n",
       "      <td>-0.5</td>\n",
       "      <td>10.0</td>\n",
       "      <td>...</td>\n",
       "      <td>0</td>\n",
       "      <td>0</td>\n",
       "      <td>0</td>\n",
       "      <td>0</td>\n",
       "      <td>0</td>\n",
       "      <td>1</td>\n",
       "      <td>0</td>\n",
       "      <td>0</td>\n",
       "      <td>0</td>\n",
       "      <td>0</td>\n",
       "    </tr>\n",
       "    <tr>\n",
       "      <th>39114</th>\n",
       "      <td>340606</td>\n",
       "      <td>l270201900572</td>\n",
       "      <td>-2.349206</td>\n",
       "      <td>2.0</td>\n",
       "      <td>-0.051282</td>\n",
       "      <td>-0.393443</td>\n",
       "      <td>0.140845</td>\n",
       "      <td>-0.235294</td>\n",
       "      <td>-0.5</td>\n",
       "      <td>0.0</td>\n",
       "      <td>...</td>\n",
       "      <td>0</td>\n",
       "      <td>0</td>\n",
       "      <td>0</td>\n",
       "      <td>0</td>\n",
       "      <td>0</td>\n",
       "      <td>0</td>\n",
       "      <td>0</td>\n",
       "      <td>0</td>\n",
       "      <td>1</td>\n",
       "      <td>0</td>\n",
       "    </tr>\n",
       "    <tr>\n",
       "      <th>39115</th>\n",
       "      <td>505207</td>\n",
       "      <td>l190201902523</td>\n",
       "      <td>1.063492</td>\n",
       "      <td>-0.5</td>\n",
       "      <td>-0.282051</td>\n",
       "      <td>-0.393443</td>\n",
       "      <td>-0.436620</td>\n",
       "      <td>-0.235294</td>\n",
       "      <td>-0.5</td>\n",
       "      <td>0.0</td>\n",
       "      <td>...</td>\n",
       "      <td>0</td>\n",
       "      <td>0</td>\n",
       "      <td>0</td>\n",
       "      <td>0</td>\n",
       "      <td>0</td>\n",
       "      <td>1</td>\n",
       "      <td>0</td>\n",
       "      <td>0</td>\n",
       "      <td>0</td>\n",
       "      <td>0</td>\n",
       "    </tr>\n",
       "    <tr>\n",
       "      <th>39116</th>\n",
       "      <td>498678</td>\n",
       "      <td>l110201903609</td>\n",
       "      <td>0.238095</td>\n",
       "      <td>0.0</td>\n",
       "      <td>-0.153846</td>\n",
       "      <td>-0.393443</td>\n",
       "      <td>-0.281690</td>\n",
       "      <td>-0.200000</td>\n",
       "      <td>-0.2</td>\n",
       "      <td>0.0</td>\n",
       "      <td>...</td>\n",
       "      <td>0</td>\n",
       "      <td>0</td>\n",
       "      <td>0</td>\n",
       "      <td>0</td>\n",
       "      <td>0</td>\n",
       "      <td>0</td>\n",
       "      <td>0</td>\n",
       "      <td>0</td>\n",
       "      <td>0</td>\n",
       "      <td>0</td>\n",
       "    </tr>\n",
       "  </tbody>\n",
       "</table>\n",
       "<p>39117 rows × 48 columns</p>\n",
       "</div>"
      ],
      "text/plain": [
       "       CUSTNO            GNO   CBSCORE  CBSCOREGRD  CREDITOTAMT   YSALEAMT  \\\n",
       "0      475821  l180202101898  1.015873        -0.5     0.230769  10.743169   \n",
       "1       74417  l230201700120  0.206349         0.0     0.205128   6.027322   \n",
       "2      387787  l110201603233  0.396825        -0.5    -0.282051   3.775956   \n",
       "3      395418  l230201700254  0.000000         0.0     0.076923   3.562842   \n",
       "4      190372  l200201601418 -2.476190         2.0    -0.102564   1.437158   \n",
       "...       ...            ...       ...         ...          ...        ...   \n",
       "39112  514919  l240201902522 -0.253968         0.5    -0.282051  -0.393443   \n",
       "39113  357361  l160201601877 -1.603175         1.5     0.000000  -0.393443   \n",
       "39114  340606  l270201900572 -2.349206         2.0    -0.051282  -0.393443   \n",
       "39115  505207  l190201902523  1.063492        -0.5    -0.282051  -0.393443   \n",
       "39116  498678  l110201903609  0.238095         0.0    -0.153846  -0.393443   \n",
       "\n",
       "          ESTMM  ASSETAMT  IMSAAMT  IMJUAMT  ...  KIND_JOB_K  KIND_JOB_L  \\\n",
       "0      0.014085 -0.176471      0.0      0.0  ...           0           0   \n",
       "1     -0.380282 -0.088235     -0.5     25.0  ...           0           0   \n",
       "2      2.098592 -0.176471      0.0      0.0  ...           0           0   \n",
       "3     -0.352113 -0.176471      0.0      0.0  ...           0           0   \n",
       "4      1.845070  0.235294     -0.4      0.0  ...           0           0   \n",
       "...         ...       ...      ...      ...  ...         ...         ...   \n",
       "39112 -0.338028 -0.235294     -0.5      0.0  ...           0           0   \n",
       "39113 -0.366197 -0.176471     -0.5     10.0  ...           0           0   \n",
       "39114  0.140845 -0.235294     -0.5      0.0  ...           0           0   \n",
       "39115 -0.436620 -0.235294     -0.5      0.0  ...           0           0   \n",
       "39116 -0.281690 -0.200000     -0.2      0.0  ...           0           0   \n",
       "\n",
       "       KIND_JOB_M  KIND_JOB_N KIND_JOB_O  KIND_JOB_P  KIND_JOB_Q  KIND_JOB_R  \\\n",
       "0               0           0          0           0           0           0   \n",
       "1               0           0          0           0           0           0   \n",
       "2               0           0          0           0           0           0   \n",
       "3               0           0          0           0           0           0   \n",
       "4               0           0          0           0           0           0   \n",
       "...           ...         ...        ...         ...         ...         ...   \n",
       "39112           0           0          0           0           0           0   \n",
       "39113           0           0          0           1           0           0   \n",
       "39114           0           0          0           0           0           0   \n",
       "39115           0           0          0           1           0           0   \n",
       "39116           0           0          0           0           0           0   \n",
       "\n",
       "       KIND_JOB_S  KIND_JOB_T  \n",
       "0               0           0  \n",
       "1               0           0  \n",
       "2               0           0  \n",
       "3               0           0  \n",
       "4               0           0  \n",
       "...           ...         ...  \n",
       "39112           0           0  \n",
       "39113           0           0  \n",
       "39114           1           0  \n",
       "39115           0           0  \n",
       "39116           0           0  \n",
       "\n",
       "[39117 rows x 48 columns]"
      ]
     },
     "execution_count": 1,
     "metadata": {},
     "output_type": "execute_result"
    }
   ],
   "source": [
    "import pandas as pd\n",
    "import matplotlib.pyplot as plt\n",
    "import statsmodels.api as sm\n",
    "\n",
    "data = pd.read_csv(\"Robust_scaller_result.csv\",encoding=\"cp949\")\n",
    "data"
   ]
  },
  {
   "cell_type": "code",
   "execution_count": 2,
   "metadata": {},
   "outputs": [],
   "source": [
    "features = data[['CBSCORE', 'CREDITOTAMT', 'YSALEAMT',\n",
    "       'ESTMM',  'IMSAAMT', 'IMJUAMT', 'BUJUAMT',\n",
    "       'BU1TOTAMT', 'GAMT', 'LABORCNT', 'KOSPI', '환율', 'GDP', \n",
    "       '실업률', '물가지수', '국고채', '금리', '유가등락률',\n",
    "       '소비자심리지수','KIND_JOB_A', 'KIND_JOB_B', 'KIND_JOB_C', 'KIND_JOB_D',\n",
    "       'KIND_JOB_E', 'KIND_JOB_F', 'KIND_JOB_G', 'KIND_JOB_H', 'KIND_JOB_I',\n",
    "       'KIND_JOB_J', 'KIND_JOB_K', 'KIND_JOB_L', 'KIND_JOB_M', 'KIND_JOB_N',\n",
    "       'KIND_JOB_O', 'KIND_JOB_P', 'KIND_JOB_Q', 'KIND_JOB_R', 'KIND_JOB_S',\n",
    "       'KIND_JOB_T']]\n",
    "act = data['ACTCD']"
   ]
  },
  {
   "cell_type": "code",
   "execution_count": 3,
   "metadata": {},
   "outputs": [
    {
     "name": "stdout",
     "output_type": "stream",
     "text": [
      "(27381, 39) (11736, 39) (27381,) (11736,)\n"
     ]
    }
   ],
   "source": [
    "from sklearn.model_selection import train_test_split\n",
    "\n",
    "train_x, test_x,train_y, test_y = train_test_split(features, act,\n",
    "stratify=act,train_size=0.7,test_size=0.3,random_state=1)\n",
    "\n",
    "print(train_x.shape, test_x.shape, train_y.shape, test_y.shape)"
   ]
  },
  {
   "cell_type": "code",
   "execution_count": 4,
   "metadata": {},
   "outputs": [],
   "source": [
    "from imblearn.over_sampling import BorderlineSMOTE, ADASYN\n",
    "from imblearn.under_sampling import EditedNearestNeighbours, TomekLinks\n",
    "from imblearn.combine import SMOTEENN, SMOTETomek\n",
    "\n",
    "#언더 샘플링\n",
    "enn = EditedNearestNeighbours(kind_sel=\"all\", n_neighbors=10)\n",
    "tomekl = TomekLinks()\n",
    "\n",
    "#오버 샘플링\n",
    "bsmote = BorderlineSMOTE(random_state=42)\n",
    "adasyn = ADASYN(random_state=42)\n",
    "\n",
    "#혼합 샘플링\n",
    "smotee = SMOTEENN(random_state=42)\n",
    "smoteT = SMOTETomek(random_state=42)\n",
    "\n",
    "\n",
    "X_under1_train, Y_under1_train = enn.fit_resample(train_x, train_y)\n",
    "X_under2_train, Y_under2_train = tomekl.fit_resample(train_x, train_y)\n",
    "\n",
    "X_over1_train, Y_over1_train = bsmote.fit_resample(train_x,train_y)\n",
    "X_over2_train, Y_over2_train = adasyn.fit_resample(train_x,train_y)\n",
    "\n",
    "X_comb1_train, Y_comb1_train = smotee.fit_resample(train_x, train_y)\n",
    "X_comb2_train, Y_comb2_train = smoteT.fit_resample(train_x, train_y)"
   ]
  },
  {
   "cell_type": "code",
   "execution_count": 5,
   "metadata": {},
   "outputs": [],
   "source": [
    "def cut_off(y, threshold) :\n",
    "    Y = y.copy()  # 대문자 Y를 새로운 변수로 하여 기존의 y값에 영향이 가지 않도록 한다.\n",
    "    Y[Y>threshold] = 1\n",
    "    Y[Y<threshold] = 0\n",
    "    return Y.astype(int)\n",
    "\n",
    "from sklearn.metrics import confusion_matrix\n",
    "# confusion matrix accuracy(정확도) 계산함수\n",
    "\n",
    "def acc(cfmat):\n",
    "    return (cfmat[0,0] + cfmat[1,1])/(cfmat[0,0] + cfmat[1,1] + cfmat[0,1] + cfmat[1,0])"
   ]
  },
  {
   "cell_type": "markdown",
   "metadata": {},
   "source": [
    "# 오버샘플링"
   ]
  },
  {
   "cell_type": "markdown",
   "metadata": {},
   "source": [
    "1. BorderlineSMOTE"
   ]
  },
  {
   "cell_type": "code",
   "execution_count": 6,
   "metadata": {},
   "outputs": [],
   "source": [
    "from sklearn.ensemble import AdaBoostClassifier\n",
    "from sklearn.tree import DecisionTreeClassifier"
   ]
  },
  {
   "cell_type": "code",
   "execution_count": 7,
   "metadata": {},
   "outputs": [],
   "source": [
    "eclf = AdaBoostClassifier(base_estimator=DecisionTreeClassifier(max_depth=2), n_estimators=100, learning_rate=0.1)"
   ]
  },
  {
   "cell_type": "code",
   "execution_count": 8,
   "metadata": {},
   "outputs": [
    {
     "data": {
      "text/plain": [
       "0.8520795660036168"
      ]
     },
     "execution_count": 8,
     "metadata": {},
     "output_type": "execute_result"
    }
   ],
   "source": [
    "from sklearn.model_selection import cross_val_score\n",
    "cross_val_score(eclf, X_over1_train, Y_over1_train, cv=5).mean()"
   ]
  },
  {
   "cell_type": "code",
   "execution_count": 9,
   "metadata": {},
   "outputs": [
    {
     "data": {
      "text/plain": [
       "DecisionTreeClassifier()"
      ]
     },
     "execution_count": 9,
     "metadata": {},
     "output_type": "execute_result"
    }
   ],
   "source": [
    "from sklearn.tree import DecisionTreeClassifier\n",
    "DecisionTreeClassifier()"
   ]
  },
  {
   "cell_type": "code",
   "execution_count": 10,
   "metadata": {},
   "outputs": [
    {
     "data": {
      "text/plain": [
       "AdaBoostClassifier()"
      ]
     },
     "execution_count": 10,
     "metadata": {},
     "output_type": "execute_result"
    }
   ],
   "source": [
    "AdaBoostClassifier()"
   ]
  },
  {
   "cell_type": "code",
   "execution_count": 11,
   "metadata": {},
   "outputs": [],
   "source": [
    "params = {\"base_estimator__criterion\" : [\"gini\", \"entropy\"],\n",
    "          \"base_estimator__max_features\" : [7,8,],\n",
    "          \"base_estimator__max_depth\" : [1,2],\n",
    "          \"n_estimators\": [23,24, 25, 26, 27],\n",
    "          \"learning_rate\": [0.4, 0.45, 0.5, 0.55, 0.6]\n",
    "         }"
   ]
  },
  {
   "cell_type": "code",
   "execution_count": 12,
   "metadata": {},
   "outputs": [
    {
     "data": {
      "text/plain": [
       "{'base_estimator__criterion': 'entropy',\n",
       " 'base_estimator__max_depth': 2,\n",
       " 'base_estimator__max_features': 8,\n",
       " 'learning_rate': 0.6,\n",
       " 'n_estimators': 27}"
      ]
     },
     "execution_count": 12,
     "metadata": {},
     "output_type": "execute_result"
    }
   ],
   "source": [
    "from sklearn.model_selection import GridSearchCV\n",
    "grid = GridSearchCV(estimator=eclf, param_grid=params, cv=5, n_jobs=7)\n",
    "grid = grid.fit(X_over1_train, Y_over1_train)\n",
    "\n",
    "grid.best_score_\n",
    "grid.best_params_"
   ]
  },
  {
   "cell_type": "code",
   "execution_count": 13,
   "metadata": {},
   "outputs": [
    {
     "data": {
      "text/plain": [
       "array([0.06108178, 0.02927182, 0.02197669, 0.05148614, 0.08463322,\n",
       "       0.02855829, 0.05180733, 0.00786906, 0.02921459, 0.05675017,\n",
       "       0.00753957, 0.00567278, 0.04966908, 0.03327204, 0.0150652 ,\n",
       "       0.01618585, 0.01681403, 0.02103825, 0.02260997, 0.        ,\n",
       "       0.        , 0.04184683, 0.        , 0.        , 0.01652248,\n",
       "       0.06040004, 0.02914651, 0.06099815, 0.        , 0.        ,\n",
       "       0.01614006, 0.03182987, 0.01643101, 0.        , 0.04108636,\n",
       "       0.        , 0.02972445, 0.0453584 , 0.        ])"
      ]
     },
     "execution_count": 13,
     "metadata": {},
     "output_type": "execute_result"
    }
   ],
   "source": [
    "grid.best_estimator_.feature_importances_"
   ]
  },
  {
   "cell_type": "code",
   "execution_count": 14,
   "metadata": {},
   "outputs": [],
   "source": [
    "from sklearn.metrics import precision_score,recall_score,f1_score,roc_auc_score\n",
    "\n",
    "dtc = DecisionTreeClassifier(criterion = 'entropy', max_depth = 2, max_features = 8)\n",
    "abc = AdaBoostClassifier(learning_rate = 0.55, n_estimators = 26)\n",
    "model = abc.fit(X_over1_train, Y_over1_train)\n",
    "\n",
    "pred_y = model.predict(test_x)\n",
    "pred_Y = cut_off(pred_y, 0.5)"
   ]
  },
  {
   "cell_type": "code",
   "execution_count": 15,
   "metadata": {},
   "outputs": [
    {
     "data": {
      "text/plain": [
       "array([[8183, 2483],\n",
       "       [ 488,  582]], dtype=int64)"
      ]
     },
     "execution_count": 15,
     "metadata": {},
     "output_type": "execute_result"
    }
   ],
   "source": [
    "cfmat = confusion_matrix(test_y,pred_Y)\n",
    "cfmat"
   ]
  },
  {
   "cell_type": "code",
   "execution_count": 16,
   "metadata": {},
   "outputs": [
    {
     "name": "stdout",
     "output_type": "stream",
     "text": [
      "              precision    recall  f1-score   support\n",
      "\n",
      "        사고보증       0.94      0.77      0.85     10666\n",
      "        정상보증       0.19      0.54      0.28      1070\n",
      "\n",
      "    accuracy                           0.75     11736\n",
      "   macro avg       0.57      0.66      0.56     11736\n",
      "weighted avg       0.87      0.75      0.79     11736\n",
      "\n"
     ]
    }
   ],
   "source": [
    "from sklearn.metrics import classification_report\n",
    "print(classification_report(test_y, pred_Y, target_names=['사고보증', '정상보증']))"
   ]
  },
  {
   "cell_type": "code",
   "execution_count": 17,
   "metadata": {},
   "outputs": [
    {
     "data": {
      "text/plain": [
       "0.7468473074301295"
      ]
     },
     "execution_count": 17,
     "metadata": {},
     "output_type": "execute_result"
    }
   ],
   "source": [
    "accuracy = acc(cfmat)\n",
    "accuracy"
   ]
  },
  {
   "cell_type": "code",
   "execution_count": 18,
   "metadata": {},
   "outputs": [
    {
     "name": "stdout",
     "output_type": "stream",
     "text": [
      "precision:  0.1898858075040783\n",
      "recall:  0.5439252336448598\n",
      "f1 score:  0.2814993954050786\n",
      "accuracy:  0.655564716953688\n"
     ]
    }
   ],
   "source": [
    "pr = precision_score(test_y,pred_Y)\n",
    "r = recall_score(test_y,pred_Y)\n",
    "f1= f1_score(test_y,pred_Y)\n",
    "auc_score = roc_auc_score(test_y,pred_Y)\n",
    "\n",
    "print(\"precision: \", pr)\n",
    "print(\"recall: \", r)\n",
    "print(\"f1 score: \", f1)\n",
    "print(\"accuracy: \", auc_score)"
   ]
  },
  {
   "cell_type": "markdown",
   "metadata": {},
   "source": [
    "2. ADASYN"
   ]
  },
  {
   "cell_type": "code",
   "execution_count": 19,
   "metadata": {},
   "outputs": [
    {
     "data": {
      "text/plain": [
       "0.8648172999674044"
      ]
     },
     "execution_count": 19,
     "metadata": {},
     "output_type": "execute_result"
    }
   ],
   "source": [
    "eclf = AdaBoostClassifier(base_estimator=DecisionTreeClassifier(max_depth=2), n_estimators=100, learning_rate=0.1)\n",
    "cross_val_score(eclf, X_over2_train, Y_over2_train, cv=5).mean()"
   ]
  },
  {
   "cell_type": "code",
   "execution_count": 20,
   "metadata": {},
   "outputs": [
    {
     "data": {
      "text/plain": [
       "{'base_estimator__criterion': 'gini',\n",
       " 'base_estimator__max_depth': 2,\n",
       " 'base_estimator__max_features': 7,\n",
       " 'learning_rate': 0.6,\n",
       " 'n_estimators': 27}"
      ]
     },
     "execution_count": 20,
     "metadata": {},
     "output_type": "execute_result"
    }
   ],
   "source": [
    "DecisionTreeClassifier()\n",
    "AdaBoostClassifier()\n",
    "\n",
    "params = {\"base_estimator__criterion\" : [\"gini\", \"entropy\"],\n",
    "          \"base_estimator__max_features\" : [7,8,],\n",
    "          \"base_estimator__max_depth\" : [1,2],\n",
    "          \"n_estimators\": [23,24, 25, 26, 27],\n",
    "          \"learning_rate\": [0.4, 0.45, 0.5, 0.55, 0.6]\n",
    "         }\n",
    "\n",
    "grid = GridSearchCV(estimator=eclf, param_grid=params, cv=5, n_jobs=7)\n",
    "grid = grid.fit(X_over2_train, Y_over2_train)\n",
    "\n",
    "grid.best_score_\n",
    "grid.best_params_"
   ]
  },
  {
   "cell_type": "code",
   "execution_count": 21,
   "metadata": {},
   "outputs": [],
   "source": [
    "dtc = DecisionTreeClassifier(criterion = 'entropy', max_depth = 2, max_features = 8)\n",
    "abc = AdaBoostClassifier(learning_rate = 0.45, n_estimators = 27)\n",
    "model = abc.fit(X_over2_train, Y_over2_train)\n",
    "\n",
    "pred_y = model.predict(test_x)\n",
    "pred_Y = cut_off(pred_y, 0.5)"
   ]
  },
  {
   "cell_type": "code",
   "execution_count": 22,
   "metadata": {},
   "outputs": [
    {
     "data": {
      "text/plain": [
       "array([[8068, 2598],\n",
       "       [ 489,  581]], dtype=int64)"
      ]
     },
     "execution_count": 22,
     "metadata": {},
     "output_type": "execute_result"
    }
   ],
   "source": [
    "cfmat = confusion_matrix(test_y,pred_Y)\n",
    "cfmat"
   ]
  },
  {
   "cell_type": "code",
   "execution_count": 23,
   "metadata": {},
   "outputs": [
    {
     "name": "stdout",
     "output_type": "stream",
     "text": [
      "              precision    recall  f1-score   support\n",
      "\n",
      "        사고보증       0.94      0.76      0.84     10666\n",
      "        정상보증       0.18      0.54      0.27      1070\n",
      "\n",
      "    accuracy                           0.74     11736\n",
      "   macro avg       0.56      0.65      0.56     11736\n",
      "weighted avg       0.87      0.74      0.79     11736\n",
      "\n"
     ]
    }
   ],
   "source": [
    "from sklearn.metrics import classification_report\n",
    "print(classification_report(test_y, pred_Y, target_names=['사고보증', '정상보증']))"
   ]
  },
  {
   "cell_type": "code",
   "execution_count": 24,
   "metadata": {},
   "outputs": [
    {
     "data": {
      "text/plain": [
       "0.7369631901840491"
      ]
     },
     "execution_count": 24,
     "metadata": {},
     "output_type": "execute_result"
    }
   ],
   "source": [
    "accuracy = acc(cfmat)\n",
    "accuracy"
   ]
  },
  {
   "cell_type": "code",
   "execution_count": 25,
   "metadata": {},
   "outputs": [
    {
     "name": "stdout",
     "output_type": "stream",
     "text": [
      "precision:  0.18276187480339728\n",
      "recall:  0.5429906542056074\n",
      "f1 score:  0.27347611202635913\n",
      "accuracy:  0.649706465298941\n"
     ]
    }
   ],
   "source": [
    "pr = precision_score(test_y,pred_Y)\n",
    "r = recall_score(test_y,pred_Y)\n",
    "f1= f1_score(test_y,pred_Y)\n",
    "auc_score = roc_auc_score(test_y,pred_Y)\n",
    "\n",
    "print(\"precision: \", pr)\n",
    "print(\"recall: \", r)\n",
    "print(\"f1 score: \", f1)\n",
    "print(\"accuracy: \", auc_score)"
   ]
  },
  {
   "cell_type": "markdown",
   "metadata": {},
   "source": [
    "# 언더샘플링"
   ]
  },
  {
   "cell_type": "markdown",
   "metadata": {},
   "source": [
    "1. EditedNearestNeighbours"
   ]
  },
  {
   "cell_type": "code",
   "execution_count": 26,
   "metadata": {},
   "outputs": [
    {
     "data": {
      "text/plain": [
       "0.865584798419853"
      ]
     },
     "execution_count": 26,
     "metadata": {},
     "output_type": "execute_result"
    }
   ],
   "source": [
    "eclf = AdaBoostClassifier(base_estimator=DecisionTreeClassifier(max_depth=2), n_estimators=100, learning_rate=0.1)\n",
    "cross_val_score(eclf, X_under1_train, Y_under1_train, cv=5).mean()"
   ]
  },
  {
   "cell_type": "code",
   "execution_count": 27,
   "metadata": {},
   "outputs": [
    {
     "data": {
      "text/plain": [
       "{'base_estimator__criterion': 'gini',\n",
       " 'base_estimator__max_depth': 2,\n",
       " 'base_estimator__max_features': 8,\n",
       " 'learning_rate': 0.6,\n",
       " 'n_estimators': 24}"
      ]
     },
     "execution_count": 27,
     "metadata": {},
     "output_type": "execute_result"
    }
   ],
   "source": [
    "DecisionTreeClassifier()\n",
    "AdaBoostClassifier()\n",
    "\n",
    "params = {\"base_estimator__criterion\" : [\"gini\", \"entropy\"],\n",
    "          \"base_estimator__max_features\" : [7,8,],\n",
    "          \"base_estimator__max_depth\" : [1,2],\n",
    "          \"n_estimators\": [23,24, 25, 26, 27],\n",
    "          \"learning_rate\": [0.4, 0.45, 0.5, 0.55, 0.6]\n",
    "         }\n",
    "\n",
    "grid = GridSearchCV(estimator=eclf, param_grid=params, cv=5, n_jobs=7)\n",
    "grid = grid.fit(X_under1_train, Y_under1_train)\n",
    "\n",
    "grid.best_score_\n",
    "grid.best_params_"
   ]
  },
  {
   "cell_type": "code",
   "execution_count": 28,
   "metadata": {},
   "outputs": [],
   "source": [
    "dtc = DecisionTreeClassifier(criterion = 'gini', max_depth = 2, max_features = 7)\n",
    "abc = AdaBoostClassifier(learning_rate = 0.6, n_estimators = 27)\n",
    "model = abc.fit(X_under1_train, Y_under1_train)\n",
    "\n",
    "pred_y = model.predict(test_x)\n",
    "pred_Y = cut_off(pred_y, 0.5)"
   ]
  },
  {
   "cell_type": "code",
   "execution_count": 29,
   "metadata": {},
   "outputs": [
    {
     "data": {
      "text/plain": [
       "array([[9800,  866],\n",
       "       [ 721,  349]], dtype=int64)"
      ]
     },
     "execution_count": 29,
     "metadata": {},
     "output_type": "execute_result"
    }
   ],
   "source": [
    "cfmat = confusion_matrix(test_y,pred_Y)\n",
    "cfmat"
   ]
  },
  {
   "cell_type": "code",
   "execution_count": 30,
   "metadata": {},
   "outputs": [
    {
     "name": "stdout",
     "output_type": "stream",
     "text": [
      "              precision    recall  f1-score   support\n",
      "\n",
      "        사고보증       0.93      0.92      0.93     10666\n",
      "        정상보증       0.29      0.33      0.31      1070\n",
      "\n",
      "    accuracy                           0.86     11736\n",
      "   macro avg       0.61      0.62      0.62     11736\n",
      "weighted avg       0.87      0.86      0.87     11736\n",
      "\n"
     ]
    }
   ],
   "source": [
    "from sklearn.metrics import classification_report\n",
    "print(classification_report(test_y, pred_Y, target_names=['사고보증', '정상보증']))"
   ]
  },
  {
   "cell_type": "code",
   "execution_count": 31,
   "metadata": {},
   "outputs": [
    {
     "data": {
      "text/plain": [
       "0.8647750511247444"
      ]
     },
     "execution_count": 31,
     "metadata": {},
     "output_type": "execute_result"
    }
   ],
   "source": [
    "accuracy = acc(cfmat)\n",
    "accuracy"
   ]
  },
  {
   "cell_type": "code",
   "execution_count": 32,
   "metadata": {},
   "outputs": [
    {
     "name": "stdout",
     "output_type": "stream",
     "text": [
      "precision:  0.2872427983539095\n",
      "recall:  0.32616822429906545\n",
      "f1 score:  0.3054704595185996\n",
      "accuracy:  0.6224878248815785\n"
     ]
    }
   ],
   "source": [
    "pr = precision_score(test_y,pred_Y)\n",
    "r = recall_score(test_y,pred_Y)\n",
    "f1= f1_score(test_y,pred_Y)\n",
    "auc_score = roc_auc_score(test_y,pred_Y)\n",
    "\n",
    "print(\"precision: \", pr)\n",
    "print(\"recall: \", r)\n",
    "print(\"f1 score: \", f1)\n",
    "print(\"accuracy: \", auc_score)"
   ]
  },
  {
   "cell_type": "markdown",
   "metadata": {},
   "source": [
    "2. TomekLinks"
   ]
  },
  {
   "cell_type": "code",
   "execution_count": 33,
   "metadata": {},
   "outputs": [
    {
     "data": {
      "text/plain": [
       "0.9065189709449204"
      ]
     },
     "execution_count": 33,
     "metadata": {},
     "output_type": "execute_result"
    }
   ],
   "source": [
    "eclf = AdaBoostClassifier(base_estimator=DecisionTreeClassifier(max_depth=2), n_estimators=100, learning_rate=0.1)\n",
    "cross_val_score(eclf, X_under2_train, Y_under2_train, cv=5).mean()"
   ]
  },
  {
   "cell_type": "code",
   "execution_count": 34,
   "metadata": {},
   "outputs": [
    {
     "data": {
      "text/plain": [
       "{'base_estimator__criterion': 'gini',\n",
       " 'base_estimator__max_depth': 2,\n",
       " 'base_estimator__max_features': 8,\n",
       " 'learning_rate': 0.6,\n",
       " 'n_estimators': 23}"
      ]
     },
     "execution_count": 34,
     "metadata": {},
     "output_type": "execute_result"
    }
   ],
   "source": [
    "DecisionTreeClassifier()\n",
    "AdaBoostClassifier()\n",
    "\n",
    "params = {\"base_estimator__criterion\" : [\"gini\", \"entropy\"],\n",
    "          \"base_estimator__max_features\" : [7,8,],\n",
    "          \"base_estimator__max_depth\" : [1,2],\n",
    "          \"n_estimators\": [23,24, 25, 26, 27],\n",
    "          \"learning_rate\": [0.4, 0.45, 0.5, 0.55, 0.6]\n",
    "         }\n",
    "\n",
    "grid = GridSearchCV(estimator=eclf, param_grid=params, cv=5, n_jobs=7)\n",
    "grid = grid.fit(X_under2_train, Y_under2_train)\n",
    "\n",
    "grid.best_score_\n",
    "grid.best_params_"
   ]
  },
  {
   "cell_type": "code",
   "execution_count": 35,
   "metadata": {},
   "outputs": [],
   "source": [
    "dtc = DecisionTreeClassifier(criterion = 'entropy', max_depth = 2, max_features = 7)\n",
    "abc = AdaBoostClassifier(learning_rate = 0.55, n_estimators = 25)\n",
    "model = abc.fit(X_under2_train, Y_under2_train)\n",
    "\n",
    "pred_y = model.predict(test_x)\n",
    "pred_Y = cut_off(pred_y, 0.5)"
   ]
  },
  {
   "cell_type": "code",
   "execution_count": 36,
   "metadata": {},
   "outputs": [
    {
     "data": {
      "text/plain": [
       "array([[10666,     0],\n",
       "       [ 1070,     0]], dtype=int64)"
      ]
     },
     "execution_count": 36,
     "metadata": {},
     "output_type": "execute_result"
    }
   ],
   "source": [
    "cfmat = confusion_matrix(test_y,pred_Y)\n",
    "cfmat"
   ]
  },
  {
   "cell_type": "code",
   "execution_count": 37,
   "metadata": {},
   "outputs": [
    {
     "name": "stdout",
     "output_type": "stream",
     "text": [
      "              precision    recall  f1-score   support\n",
      "\n",
      "        사고보증       0.91      1.00      0.95     10666\n",
      "        정상보증       0.00      0.00      0.00      1070\n",
      "\n",
      "    accuracy                           0.91     11736\n",
      "   macro avg       0.45      0.50      0.48     11736\n",
      "weighted avg       0.83      0.91      0.87     11736\n",
      "\n"
     ]
    },
    {
     "name": "stderr",
     "output_type": "stream",
     "text": [
      "C:\\Users\\user\\anaconda3\\envs\\Study_Big\\lib\\site-packages\\sklearn\\metrics\\_classification.py:1221: UndefinedMetricWarning: Precision and F-score are ill-defined and being set to 0.0 in labels with no predicted samples. Use `zero_division` parameter to control this behavior.\n",
      "  _warn_prf(average, modifier, msg_start, len(result))\n"
     ]
    }
   ],
   "source": [
    "from sklearn.metrics import classification_report\n",
    "print(classification_report(test_y, pred_Y, target_names=['사고보증', '정상보증']))"
   ]
  },
  {
   "cell_type": "code",
   "execution_count": 38,
   "metadata": {},
   "outputs": [
    {
     "data": {
      "text/plain": [
       "0.9088275391956373"
      ]
     },
     "execution_count": 38,
     "metadata": {},
     "output_type": "execute_result"
    }
   ],
   "source": [
    "accuracy = acc(cfmat)\n",
    "accuracy"
   ]
  },
  {
   "cell_type": "code",
   "execution_count": 39,
   "metadata": {},
   "outputs": [
    {
     "name": "stdout",
     "output_type": "stream",
     "text": [
      "precision:  0.0\n",
      "recall:  0.0\n",
      "f1 score:  0.0\n",
      "accuracy:  0.5\n"
     ]
    },
    {
     "name": "stderr",
     "output_type": "stream",
     "text": [
      "C:\\Users\\user\\anaconda3\\envs\\Study_Big\\lib\\site-packages\\sklearn\\metrics\\_classification.py:1221: UndefinedMetricWarning: Precision is ill-defined and being set to 0.0 due to no predicted samples. Use `zero_division` parameter to control this behavior.\n",
      "  _warn_prf(average, modifier, msg_start, len(result))\n"
     ]
    }
   ],
   "source": [
    "pr = precision_score(test_y,pred_Y)\n",
    "r = recall_score(test_y,pred_Y)\n",
    "f1= f1_score(test_y,pred_Y)\n",
    "auc_score = roc_auc_score(test_y,pred_Y)\n",
    "\n",
    "print(\"precision: \", pr)\n",
    "print(\"recall: \", r)\n",
    "print(\"f1 score: \", f1)\n",
    "print(\"accuracy: \", auc_score)"
   ]
  },
  {
   "cell_type": "markdown",
   "metadata": {},
   "source": [
    "# 혼합샘플링"
   ]
  },
  {
   "cell_type": "markdown",
   "metadata": {},
   "source": [
    "1. SMOTEENN"
   ]
  },
  {
   "cell_type": "code",
   "execution_count": 40,
   "metadata": {},
   "outputs": [
    {
     "data": {
      "text/plain": [
       "0.8772321989200049"
      ]
     },
     "execution_count": 40,
     "metadata": {},
     "output_type": "execute_result"
    }
   ],
   "source": [
    "eclf = AdaBoostClassifier(base_estimator=DecisionTreeClassifier(max_depth=2), n_estimators=100, learning_rate=0.1)\n",
    "cross_val_score(eclf, X_comb1_train, Y_comb1_train, cv=5).mean()"
   ]
  },
  {
   "cell_type": "code",
   "execution_count": 41,
   "metadata": {},
   "outputs": [
    {
     "data": {
      "text/plain": [
       "{'base_estimator__criterion': 'gini',\n",
       " 'base_estimator__max_depth': 2,\n",
       " 'base_estimator__max_features': 8,\n",
       " 'learning_rate': 0.6,\n",
       " 'n_estimators': 27}"
      ]
     },
     "execution_count": 41,
     "metadata": {},
     "output_type": "execute_result"
    }
   ],
   "source": [
    "DecisionTreeClassifier()\n",
    "AdaBoostClassifier()\n",
    "\n",
    "params = {\"base_estimator__criterion\" : [\"gini\", \"entropy\"],\n",
    "          \"base_estimator__max_features\" : [7,8,],\n",
    "          \"base_estimator__max_depth\" : [1,2],\n",
    "          \"n_estimators\": [23,24, 25, 26, 27],\n",
    "          \"learning_rate\": [0.4, 0.45, 0.5, 0.55, 0.6]\n",
    "         }\n",
    "\n",
    "grid = GridSearchCV(estimator=eclf, param_grid=params, cv=5, n_jobs=7)\n",
    "grid = grid.fit(X_comb1_train, Y_comb1_train)\n",
    "\n",
    "grid.best_score_\n",
    "grid.best_params_"
   ]
  },
  {
   "cell_type": "code",
   "execution_count": 42,
   "metadata": {},
   "outputs": [],
   "source": [
    "dtc = DecisionTreeClassifier(criterion = 'gini', max_depth = 2, max_features = 8)\n",
    "abc = AdaBoostClassifier(learning_rate = 0.6, n_estimators = 24)\n",
    "model = abc.fit(X_comb1_train, Y_comb1_train)\n",
    "\n",
    "pred_y = model.predict(test_x)\n",
    "pred_Y = cut_off(pred_y, 0.5)"
   ]
  },
  {
   "cell_type": "code",
   "execution_count": 43,
   "metadata": {},
   "outputs": [
    {
     "data": {
      "text/plain": [
       "array([[6439, 4227],\n",
       "       [ 277,  793]], dtype=int64)"
      ]
     },
     "execution_count": 43,
     "metadata": {},
     "output_type": "execute_result"
    }
   ],
   "source": [
    "cfmat = confusion_matrix(test_y,pred_Y)\n",
    "cfmat"
   ]
  },
  {
   "cell_type": "code",
   "execution_count": 44,
   "metadata": {},
   "outputs": [
    {
     "name": "stdout",
     "output_type": "stream",
     "text": [
      "              precision    recall  f1-score   support\n",
      "\n",
      "        사고보증       0.96      0.60      0.74     10666\n",
      "        정상보증       0.16      0.74      0.26      1070\n",
      "\n",
      "    accuracy                           0.62     11736\n",
      "   macro avg       0.56      0.67      0.50     11736\n",
      "weighted avg       0.89      0.62      0.70     11736\n",
      "\n"
     ]
    }
   ],
   "source": [
    "from sklearn.metrics import classification_report\n",
    "print(classification_report(test_y, pred_Y, target_names=['사고보증', '정상보증']))"
   ]
  },
  {
   "cell_type": "code",
   "execution_count": 45,
   "metadata": {},
   "outputs": [
    {
     "data": {
      "text/plain": [
       "0.6162235855487389"
      ]
     },
     "execution_count": 45,
     "metadata": {},
     "output_type": "execute_result"
    }
   ],
   "source": [
    "accuracy = acc(cfmat)\n",
    "accuracy"
   ]
  },
  {
   "cell_type": "code",
   "execution_count": 46,
   "metadata": {},
   "outputs": [
    {
     "name": "stdout",
     "output_type": "stream",
     "text": [
      "precision:  0.15796812749003983\n",
      "recall:  0.7411214953271028\n",
      "f1 score:  0.2604269293924466\n",
      "accuracy:  0.6724077381004538\n"
     ]
    }
   ],
   "source": [
    "pr = precision_score(test_y,pred_Y)\n",
    "r = recall_score(test_y,pred_Y)\n",
    "f1= f1_score(test_y,pred_Y)\n",
    "auc_score = roc_auc_score(test_y,pred_Y)\n",
    "\n",
    "print(\"precision: \", pr)\n",
    "print(\"recall: \", r)\n",
    "print(\"f1 score: \", f1)\n",
    "print(\"accuracy: \", auc_score)"
   ]
  },
  {
   "cell_type": "markdown",
   "metadata": {},
   "source": [
    "2. SMOTETomek"
   ]
  },
  {
   "cell_type": "code",
   "execution_count": 47,
   "metadata": {},
   "outputs": [
    {
     "data": {
      "text/plain": [
       "0.8577848247735901"
      ]
     },
     "execution_count": 47,
     "metadata": {},
     "output_type": "execute_result"
    }
   ],
   "source": [
    "eclf = AdaBoostClassifier(base_estimator=DecisionTreeClassifier(max_depth=2), n_estimators=100, learning_rate=0.1)\n",
    "cross_val_score(eclf, X_comb2_train, Y_comb2_train, cv=5).mean()"
   ]
  },
  {
   "cell_type": "code",
   "execution_count": null,
   "metadata": {},
   "outputs": [],
   "source": []
  },
  {
   "cell_type": "code",
   "execution_count": 48,
   "metadata": {},
   "outputs": [
    {
     "data": {
      "text/plain": [
       "{'base_estimator__criterion': 'entropy',\n",
       " 'base_estimator__max_depth': 2,\n",
       " 'base_estimator__max_features': 8,\n",
       " 'learning_rate': 0.6,\n",
       " 'n_estimators': 27}"
      ]
     },
     "execution_count": 48,
     "metadata": {},
     "output_type": "execute_result"
    }
   ],
   "source": [
    "DecisionTreeClassifier()\n",
    "AdaBoostClassifier()\n",
    "\n",
    "params = {\"base_estimator__criterion\" : [\"gini\", \"entropy\"],\n",
    "          \"base_estimator__max_features\" : [7,8,],\n",
    "          \"base_estimator__max_depth\" : [1,2],\n",
    "          \"n_estimators\": [23,24, 25, 26, 27],\n",
    "          \"learning_rate\": [0.4, 0.45, 0.5, 0.55, 0.6]\n",
    "         }\n",
    "\n",
    "grid = GridSearchCV(estimator=eclf, param_grid=params, cv=5, n_jobs=7)\n",
    "grid = grid.fit(X_comb2_train, Y_comb2_train)\n",
    "\n",
    "grid.best_score_\n",
    "grid.best_params_"
   ]
  },
  {
   "cell_type": "code",
   "execution_count": 49,
   "metadata": {},
   "outputs": [],
   "source": [
    "dtc = DecisionTreeClassifier(criterion = 'entropy', max_depth = 2, max_features = 8)\n",
    "abc = AdaBoostClassifier(learning_rate = 0.55, n_estimators = 27)\n",
    "model = abc.fit(X_comb2_train, Y_comb2_train)\n",
    "\n",
    "pred_y = model.predict(test_x)\n",
    "pred_Y = cut_off(pred_y, 0.5)"
   ]
  },
  {
   "cell_type": "code",
   "execution_count": 50,
   "metadata": {},
   "outputs": [
    {
     "data": {
      "text/plain": [
       "array([[8146, 2520],\n",
       "       [ 554,  516]], dtype=int64)"
      ]
     },
     "execution_count": 50,
     "metadata": {},
     "output_type": "execute_result"
    }
   ],
   "source": [
    "cfmat = confusion_matrix(test_y,pred_Y)\n",
    "cfmat"
   ]
  },
  {
   "cell_type": "code",
   "execution_count": 51,
   "metadata": {},
   "outputs": [
    {
     "name": "stdout",
     "output_type": "stream",
     "text": [
      "              precision    recall  f1-score   support\n",
      "\n",
      "        사고보증       0.94      0.76      0.84     10666\n",
      "        정상보증       0.17      0.48      0.25      1070\n",
      "\n",
      "    accuracy                           0.74     11736\n",
      "   macro avg       0.55      0.62      0.55     11736\n",
      "weighted avg       0.87      0.74      0.79     11736\n",
      "\n"
     ]
    }
   ],
   "source": [
    "from sklearn.metrics import classification_report\n",
    "print(classification_report(test_y, pred_Y, target_names=['사고보증', '정상보증']))"
   ]
  },
  {
   "cell_type": "code",
   "execution_count": 52,
   "metadata": {},
   "outputs": [
    {
     "data": {
      "text/plain": [
       "0.7380708929788684"
      ]
     },
     "execution_count": 52,
     "metadata": {},
     "output_type": "execute_result"
    }
   ],
   "source": [
    "accuracy = acc(cfmat)\n",
    "accuracy"
   ]
  },
  {
   "cell_type": "code",
   "execution_count": 53,
   "metadata": {},
   "outputs": [
    {
     "name": "stdout",
     "output_type": "stream",
     "text": [
      "precision:  0.16996047430830039\n",
      "recall:  0.4822429906542056\n",
      "f1 score:  0.2513395031660984\n",
      "accuracy:  0.6229891120531482\n"
     ]
    }
   ],
   "source": [
    "pr = precision_score(test_y,pred_Y)\n",
    "r = recall_score(test_y,pred_Y)\n",
    "f1= f1_score(test_y,pred_Y)\n",
    "auc_score = roc_auc_score(test_y,pred_Y)\n",
    "\n",
    "print(\"precision: \", pr)\n",
    "print(\"recall: \", r)\n",
    "print(\"f1 score: \", f1)\n",
    "print(\"accuracy: \", auc_score)"
   ]
  },
  {
   "cell_type": "code",
   "execution_count": null,
   "metadata": {},
   "outputs": [],
   "source": []
  }
 ],
 "metadata": {
  "interpreter": {
   "hash": "4000436974652e2da39f7abf97d4cef3d01362244b176d22af40d9d73df68d1f"
  },
  "kernelspec": {
   "display_name": "Python 3.8.10 64-bit ('Study_Big': conda)",
   "language": "python",
   "name": "python3"
  },
  "language_info": {
   "codemirror_mode": {
    "name": "ipython",
    "version": 3
   },
   "file_extension": ".py",
   "mimetype": "text/x-python",
   "name": "python",
   "nbconvert_exporter": "python",
   "pygments_lexer": "ipython3",
   "version": "3.8.10"
  },
  "orig_nbformat": 4
 },
 "nbformat": 4,
 "nbformat_minor": 2
}
