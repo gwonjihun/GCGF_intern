{
 "cells": [
  {
   "cell_type": "code",
   "execution_count": 1,
   "metadata": {},
   "outputs": [],
   "source": [
    "import pandas as pd"
   ]
  },
  {
   "cell_type": "code",
   "execution_count": 2,
   "metadata": {},
   "outputs": [],
   "source": [
    "data = pd.read_csv('MinMax_Scaler_result.csv',encoding='cp949')"
   ]
  },
  {
   "cell_type": "code",
   "execution_count": 3,
   "metadata": {},
   "outputs": [],
   "source": [
    "\n",
    "from sklearn.model_selection import train_test_split"
   ]
  },
  {
   "cell_type": "code",
   "execution_count": 4,
   "metadata": {},
   "outputs": [],
   "source": [
    "a = data[['CBSCORE', 'CREDITOTAMT', 'YSALEAMT',\n",
    "       'ESTMM',  'IMSAAMT', 'IMJUAMT', 'BUSAAMT', 'BUJUAMT',\n",
    "       'BU1TOTAMT', 'GAMT', 'LABORCNT', 'KOSPI', '환율', 'GDP', \n",
    "       '소상공인체감지수', '실업률', '물가지수', '국고채', '금리', '유가등락률',\n",
    "       '소비자심리지수','KIND_JOB_A', 'KIND_JOB_B', 'KIND_JOB_C', 'KIND_JOB_D',\n",
    "       'KIND_JOB_E', 'KIND_JOB_F', 'KIND_JOB_G', 'KIND_JOB_H', 'KIND_JOB_I',\n",
    "       'KIND_JOB_J', 'KIND_JOB_K', 'KIND_JOB_L', 'KIND_JOB_M', 'KIND_JOB_N',\n",
    "       'KIND_JOB_O', 'KIND_JOB_P', 'KIND_JOB_Q', 'KIND_JOB_R', 'KIND_JOB_S',\n",
    "       'KIND_JOB_T']]\n",
    "act = data['ACTCD']"
   ]
  },
  {
   "cell_type": "code",
   "execution_count": 5,
   "metadata": {},
   "outputs": [],
   "source": [
    "features = data[['CBSCORE', 'CREDITOTAMT', 'YSALEAMT',\n",
    "       'ESTMM',  'IMSAAMT', 'IMJUAMT', 'BUJUAMT',\n",
    "       'BU1TOTAMT', 'GAMT',  'KOSPI', '환율', 'GDP', \n",
    "       '국고채', '유가등락률',\n",
    "       'KIND_JOB_A', 'KIND_JOB_B', 'KIND_JOB_C', 'KIND_JOB_D',\n",
    "       'KIND_JOB_E', 'KIND_JOB_F', 'KIND_JOB_G', 'KIND_JOB_H', 'KIND_JOB_I',\n",
    "       'KIND_JOB_J', 'KIND_JOB_K', 'KIND_JOB_L', 'KIND_JOB_M', 'KIND_JOB_N',\n",
    "       'KIND_JOB_O', 'KIND_JOB_P', 'KIND_JOB_Q', 'KIND_JOB_R', 'KIND_JOB_S',\n",
    "       'KIND_JOB_T']]\n"
   ]
  },
  {
   "cell_type": "code",
   "execution_count": 6,
   "metadata": {},
   "outputs": [
    {
     "name": "stdout",
     "output_type": "stream",
     "text": [
      "(27381, 34) (11736, 34) (27381,) (11736,)\n"
     ]
    }
   ],
   "source": [
    "\n",
    "train_x, test_x,train_y, test_y = train_test_split(features, act,\n",
    "stratify=act,train_size=0.7,test_size=0.3,random_state=1)\n",
    "\n",
    "print(train_x.shape, test_x.shape, train_y.shape, test_y.shape)"
   ]
  },
  {
   "cell_type": "code",
   "execution_count": 7,
   "metadata": {},
   "outputs": [],
   "source": [
    "'''\n",
    "1. ENN\n",
    "2. ADASYN\n",
    "3. BORDERLINE SMOTE\n",
    "4. Tomeklinks\n",
    "5 SOTEENN\n",
    "6.SMOTETOMEK\n",
    "'''\n",
    "from imblearn.over_sampling import BorderlineSMOTE,ADASYN\n",
    "from imblearn.combine import SMOTEENN,SMOTETomek\n",
    "from imblearn.under_sampling import EditedNearestNeighbours, TomekLinks\n",
    "data_sets={}\n",
    "enn = EditedNearestNeighbours()\n",
    "ada = ADASYN(random_state=42)\n",
    "smte = SMOTEENN(random_state=42)\n",
    "smtt = SMOTETomek(random_state=42)\n",
    "tk = TomekLinks()\n",
    "sm = BorderlineSMOTE(random_state=42)\n",
    "enn_under_train_x,enn_under_train_y = enn.fit_resample(train_x,train_y)\n",
    "ada_over_train_x, ada_over_train_y = ada.fit_resample(train_x,train_y)\n",
    "smte_combine_train_x,smte_combine_train_y = smte.fit_resample(train_x,train_y)\n",
    "smtt_combine_train_x,smtt_combine_train_y = smtt.fit_resample(train_x,train_y)\n",
    "tk_under_train_x,tk_under_train_y = tk.fit_resample(train_x,train_y)\n",
    "sm_over_train_x, sm_over_train_y = sm.fit_resample(train_x,train_y)\n",
    "data_sets['enn']=[enn_under_train_x,enn_under_train_y]\n",
    "data_sets['ada']=[ada_over_train_x,ada_over_train_y]\n",
    "data_sets['smte']=[smte_combine_train_x,smte_combine_train_y]\n",
    "data_sets['smtt']=[smtt_combine_train_x,smtt_combine_train_y]\n",
    "data_sets['tk']=[tk_under_train_x,tk_under_train_y]\n",
    "data_sets['sm']=[sm_over_train_x,sm_over_train_y]\n",
    "'''\n",
    "over_train_x : 학습용 독립변수\n",
    "over_train_y : 학습용 종속변수\n",
    "'''\n",
    "keys_list= data_sets.keys()\n",
    "accuracies = []\n",
    "matrix_kd_tree_uniform_BOST = []"
   ]
  },
  {
   "cell_type": "code",
   "execution_count": 8,
   "metadata": {},
   "outputs": [],
   "source": [
    "from sklearn.ensemble import RandomForestClassifier\n",
    "from sklearn import metrics\n",
    "from sklearn.metrics import precision_score,recall_score,f1_score,roc_auc_score,confusion_matrix, classification_report\n"
   ]
  },
  {
   "cell_type": "code",
   "execution_count": 9,
   "metadata": {},
   "outputs": [
    {
     "name": "stdout",
     "output_type": "stream",
     "text": [
      "결정계수 :  0.9993297886600241\n",
      "enn\n",
      "정확도 :  0.9234832992501704\n",
      "              precision    recall  f1-score   support\n",
      "\n",
      "        사고보증       0.93      0.99      0.96     10666\n",
      "        정상보증       0.75      0.24      0.36      1070\n",
      "\n",
      "    accuracy                           0.92     11736\n",
      "   macro avg       0.84      0.62      0.66     11736\n",
      "weighted avg       0.91      0.92      0.91     11736\n",
      "\n",
      "\n",
      "\n",
      "결정계수 :  0.998931860779137\n",
      "ada\n",
      "정확도 :  0.901414451261077\n",
      "              precision    recall  f1-score   support\n",
      "\n",
      "        사고보증       0.93      0.96      0.95     10666\n",
      "        정상보증       0.45      0.33      0.38      1070\n",
      "\n",
      "    accuracy                           0.90     11736\n",
      "   macro avg       0.69      0.65      0.66     11736\n",
      "weighted avg       0.89      0.90      0.89     11736\n",
      "\n",
      "\n",
      "\n",
      "결정계수 :  1.0\n",
      "smte\n",
      "정확도 :  0.8352079072937969\n",
      "              precision    recall  f1-score   support\n",
      "\n",
      "        사고보증       0.95      0.87      0.91     10666\n",
      "        정상보증       0.28      0.50      0.35      1070\n",
      "\n",
      "    accuracy                           0.84     11736\n",
      "   macro avg       0.61      0.68      0.63     11736\n",
      "weighted avg       0.88      0.84      0.86     11736\n",
      "\n",
      "\n",
      "\n",
      "결정계수 :  0.9989304597005287\n",
      "smtt\n",
      "정확도 :  0.9017552828902522\n",
      "              precision    recall  f1-score   support\n",
      "\n",
      "        사고보증       0.93      0.96      0.95     10666\n",
      "        정상보증       0.45      0.32      0.37      1070\n",
      "\n",
      "    accuracy                           0.90     11736\n",
      "   macro avg       0.69      0.64      0.66     11736\n",
      "weighted avg       0.89      0.90      0.89     11736\n",
      "\n",
      "\n",
      "\n",
      "결정계수 :  0.998010211743505\n",
      "tk\n",
      "정확도 :  0.9260395364689843\n",
      "              precision    recall  f1-score   support\n",
      "\n",
      "        사고보증       0.93      1.00      0.96     10666\n",
      "        정상보증       0.90      0.21      0.34      1070\n",
      "\n",
      "    accuracy                           0.93     11736\n",
      "   macro avg       0.91      0.60      0.65     11736\n",
      "weighted avg       0.92      0.93      0.90     11736\n",
      "\n",
      "\n",
      "\n",
      "결정계수 :  0.998935101466747\n",
      "sm\n",
      "정확도 :  0.9075494205862304\n",
      "              precision    recall  f1-score   support\n",
      "\n",
      "        사고보증       0.93      0.97      0.95     10666\n",
      "        정상보증       0.49      0.31      0.38      1070\n",
      "\n",
      "    accuracy                           0.91     11736\n",
      "   macro avg       0.71      0.64      0.67     11736\n",
      "weighted avg       0.89      0.91      0.90     11736\n",
      "\n",
      "\n",
      "\n"
     ]
    }
   ],
   "source": [
    "for i in keys_list:\n",
    "    model = RandomForestClassifier(n_estimators=200,max_depth=50,max_features=1)\n",
    "    model.fit(data_sets[i][0], data_sets[i][1])\n",
    "                            \n",
    "                    # 결정계수\n",
    "    relation_square = model.score(data_sets[i][0], data_sets[i][1])\n",
    "    print('결정계수 : ', relation_square)\n",
    "                    \n",
    "                    # 예측\n",
    "    pred_y = model.predict(test_x)\n",
    "    pr = precision_score(y_true=test_y,y_pred=pred_y)\n",
    "    r = recall_score(y_true=test_y,y_pred=pred_y)\n",
    "    f1 = f1_score(y_true=test_y,y_pred=pred_y)\n",
    "    rca = roc_auc_score(y_true=test_y,y_score=pred_y)\n",
    "    cfm = confusion_matrix(y_true=test_y,y_pred=pred_y)\n",
    "    matrix_kd_tree_uniform_BOST.append((i,pr,r,f1,rca,model.score(test_x, test_y),cfm))\n",
    "                # 정확도 확인\n",
    "    print(i)\n",
    "    print('정확도 : ', metrics.accuracy_score(test_y, pred_y))\n",
    "    print(classification_report(test_y, pred_y, target_names=['사고보증', '정상보증']))\n",
    "    print('\\n')"
   ]
  },
  {
   "cell_type": "code",
   "execution_count": 10,
   "metadata": {},
   "outputs": [
    {
     "data": {
      "text/plain": [
       "[('enn',\n",
       "  0.75,\n",
       "  0.2411214953271028,\n",
       "  0.3649222065063649,\n",
       "  0.6165292456946784,\n",
       "  0.9234832992501704,\n",
       "  array([[10580,    86],\n",
       "         [  812,   258]], dtype=int64)),\n",
       " ('ada',\n",
       "  0.4455569461827284,\n",
       "  0.33271028037383177,\n",
       "  0.38095238095238093,\n",
       "  0.6455882172542325,\n",
       "  0.901414451261077,\n",
       "  array([[10223,   443],\n",
       "         [  714,   356]], dtype=int64)),\n",
       " ('smte',\n",
       "  0.27593360995850624,\n",
       "  0.497196261682243,\n",
       "  0.3549032688458973,\n",
       "  0.6831565407417403,\n",
       "  0.8352079072937969,\n",
       "  array([[9270, 1396],\n",
       "         [ 538,  532]], dtype=int64)),\n",
       " ('smtt',\n",
       "  0.4460338101430429,\n",
       "  0.3205607476635514,\n",
       "  0.3730288200108755,\n",
       "  0.6403103757068929,\n",
       "  0.9017552828902522,\n",
       "  array([[10240,   426],\n",
       "         [  727,   343]], dtype=int64)),\n",
       " ('tk',\n",
       "  0.9007936507936508,\n",
       "  0.21214953271028036,\n",
       "  0.34341906202723144,\n",
       "  0.6049028181083749,\n",
       "  0.9260395364689843,\n",
       "  array([[10641,    25],\n",
       "         [  843,   227]], dtype=int64)),\n",
       " ('sm',\n",
       "  0.4890190336749634,\n",
       "  0.3121495327102804,\n",
       "  0.38106103822019394,\n",
       "  0.6397143688302949,\n",
       "  0.9075494205862304,\n",
       "  array([[10317,   349],\n",
       "         [  736,   334]], dtype=int64))]"
      ]
     },
     "execution_count": 10,
     "metadata": {},
     "output_type": "execute_result"
    }
   ],
   "source": [
    "matrix_kd_tree_uniform_BOST"
   ]
  },
  {
   "cell_type": "code",
   "execution_count": null,
   "metadata": {},
   "outputs": [],
   "source": []
  },
  {
   "cell_type": "code",
   "execution_count": null,
   "metadata": {},
   "outputs": [],
   "source": []
  }
 ],
 "metadata": {
  "interpreter": {
   "hash": "4000436974652e2da39f7abf97d4cef3d01362244b176d22af40d9d73df68d1f"
  },
  "kernelspec": {
   "display_name": "Python 3.8.10 64-bit ('Study_Big': conda)",
   "language": "python",
   "name": "python3"
  },
  "language_info": {
   "codemirror_mode": {
    "name": "ipython",
    "version": 3
   },
   "file_extension": ".py",
   "mimetype": "text/x-python",
   "name": "python",
   "nbconvert_exporter": "python",
   "pygments_lexer": "ipython3",
   "version": "3.8.10"
  },
  "orig_nbformat": 4
 },
 "nbformat": 4,
 "nbformat_minor": 2
}
