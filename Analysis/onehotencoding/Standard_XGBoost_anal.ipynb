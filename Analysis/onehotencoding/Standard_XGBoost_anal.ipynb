{
 "cells": [
  {
   "cell_type": "code",
   "execution_count": 18,
   "metadata": {},
   "outputs": [],
   "source": [
    "import xgboost as xgb\n",
    "import pandas as pd\n"
   ]
  },
  {
   "cell_type": "code",
   "execution_count": 19,
   "metadata": {},
   "outputs": [],
   "source": [
    "data = pd.read_csv(\"Standard_Scaler_result.csv\",encoding=\"cp949\")"
   ]
  },
  {
   "cell_type": "code",
   "execution_count": 20,
   "metadata": {},
   "outputs": [],
   "source": [
    "features = data[['CBSCORE', 'CREDITOTAMT', 'YSALEAMT',\n",
    "       'ESTMM',  'IMSAAMT', 'IMJUAMT', 'BUJUAMT',\n",
    "       'BU1TOTAMT', 'GAMT', 'LABORCNT', 'KOSPI', '환율', 'GDP', \n",
    "       '실업률', '물가지수', '국고채', '금리', '유가등락률',\n",
    "       '소비자심리지수','KIND_JOB_A', 'KIND_JOB_B', 'KIND_JOB_C', 'KIND_JOB_D',\n",
    "       'KIND_JOB_E', 'KIND_JOB_F', 'KIND_JOB_G', 'KIND_JOB_H', 'KIND_JOB_I',\n",
    "       'KIND_JOB_J', 'KIND_JOB_K', 'KIND_JOB_L', 'KIND_JOB_M', 'KIND_JOB_N',\n",
    "       'KIND_JOB_O', 'KIND_JOB_P', 'KIND_JOB_Q', 'KIND_JOB_R', 'KIND_JOB_S',\n",
    "       'KIND_JOB_T']]\n",
    "act = data['ACTCD']"
   ]
  },
  {
   "cell_type": "code",
   "execution_count": 21,
   "metadata": {},
   "outputs": [],
   "source": [
    "act = act-1\n",
    "act = -act"
   ]
  },
  {
   "cell_type": "code",
   "execution_count": 22,
   "metadata": {},
   "outputs": [
    {
     "name": "stdout",
     "output_type": "stream",
     "text": [
      "(27381, 39) (11736, 39) (27381,) (11736,)\n"
     ]
    }
   ],
   "source": [
    "from sklearn.model_selection import train_test_split\n",
    "\n",
    "train_x, test_x,train_y, test_y = train_test_split(features, act,\n",
    "stratify=act,train_size=0.7,test_size=0.3,random_state=1)\n",
    "\n",
    "print(train_x.shape, test_x.shape, train_y.shape, test_y.shape)"
   ]
  },
  {
   "cell_type": "code",
   "execution_count": 23,
   "metadata": {},
   "outputs": [],
   "source": [
    "from imblearn.over_sampling import BorderlineSMOTE,ADASYN\n",
    "from imblearn.combine import SMOTEENN,SMOTETomek\n",
    "from imblearn.under_sampling import EditedNearestNeighbours, TomekLinks\n",
    "data_sets={}\n",
    "enn = EditedNearestNeighbours()\n",
    "ada = ADASYN(random_state=42)\n",
    "smte = SMOTEENN(random_state=42)\n",
    "smtt = SMOTETomek(random_state=42)\n",
    "tk = TomekLinks()\n",
    "sm = BorderlineSMOTE(random_state=42)\n",
    "enn_under_train_x,enn_under_train_y = enn.fit_resample(train_x,train_y)\n",
    "ada_over_train_x, ada_over_train_y = ada.fit_resample(train_x,train_y)\n",
    "smte_combine_train_x,smte_combine_train_y = smte.fit_resample(train_x,train_y)\n",
    "smtt_combine_train_x,smtt_combine_train_y = smtt.fit_resample(train_x,train_y)\n",
    "tk_under_train_x,tk_under_train_y = tk.fit_resample(train_x,train_y)\n",
    "sm_over_train_x, sm_over_train_y = sm.fit_resample(train_x,train_y)\n",
    "data_sets['enn']=[enn_under_train_x,enn_under_train_y]\n",
    "data_sets['ada']=[ada_over_train_x,ada_over_train_y]\n",
    "data_sets['smte']=[smte_combine_train_x,smte_combine_train_y]\n",
    "data_sets['smtt']=[smtt_combine_train_x,smtt_combine_train_y]\n",
    "data_sets['tk']=[tk_under_train_x,tk_under_train_y]\n",
    "data_sets['sm']=[sm_over_train_x,sm_over_train_y]\n",
    "'''\n",
    "over_train_x : 학습용 독립변수\n",
    "over_train_y : 학습용 종속변수\n",
    "'''\n",
    "keys_list= data_sets.keys()"
   ]
  },
  {
   "cell_type": "code",
   "execution_count": 24,
   "metadata": {},
   "outputs": [],
   "source": [
    "import xgboost as xgb\n",
    "\n",
    "from sklearn import metrics\n",
    "from sklearn.metrics import precision_score,recall_score,f1_score,roc_auc_score,confusion_matrix, classification_report\n"
   ]
  },
  {
   "cell_type": "code",
   "execution_count": 25,
   "metadata": {},
   "outputs": [],
   "source": [
    "result_list=[]"
   ]
  },
  {
   "cell_type": "code",
   "execution_count": 26,
   "metadata": {},
   "outputs": [],
   "source": [
    "params = {\n",
    "    'booster' : ['gbtree'],\n",
    "    'eta': [0.15],\n",
    "    'gamma':[0],\n",
    "    'max_depth': [30,35,40,45,50],\n",
    "    'min_child_weight':[1,2,3],\n",
    "    'random_state':[99],\n",
    "    'n_estimators':[300,400,500]\n",
    "}\n",
    "xgbs = xgb.XGBClassifier(use_label_encoder=False,eval_metric='logloss',)\n",
    "\n",
    "from sklearn.model_selection import GridSearchCV\n"
   ]
  },
  {
   "cell_type": "code",
   "execution_count": 27,
   "metadata": {},
   "outputs": [
    {
     "name": "stdout",
     "output_type": "stream",
     "text": [
      "Fitting 5 folds for each of 45 candidates, totalling 225 fits\n"
     ]
    },
    {
     "name": "stderr",
     "output_type": "stream",
     "text": [
      "[Parallel(n_jobs=3)]: Using backend LokyBackend with 3 concurrent workers.\n",
      "[Parallel(n_jobs=3)]: Done  44 tasks      | elapsed:  7.9min\n",
      "[Parallel(n_jobs=3)]: Done 194 tasks      | elapsed: 33.8min\n",
      "[Parallel(n_jobs=3)]: Done 225 out of 225 | elapsed: 39.3min finished\n"
     ]
    },
    {
     "name": "stdout",
     "output_type": "stream",
     "text": [
      "Fitting 5 folds for each of 45 candidates, totalling 225 fits\n"
     ]
    },
    {
     "name": "stderr",
     "output_type": "stream",
     "text": [
      "[Parallel(n_jobs=3)]: Using backend LokyBackend with 3 concurrent workers.\n",
      "[Parallel(n_jobs=3)]: Done  44 tasks      | elapsed: 22.4min\n",
      "[Parallel(n_jobs=3)]: Done 194 tasks      | elapsed: 100.7min\n",
      "[Parallel(n_jobs=3)]: Done 225 out of 225 | elapsed: 116.2min finished\n"
     ]
    },
    {
     "name": "stdout",
     "output_type": "stream",
     "text": [
      "Fitting 5 folds for each of 45 candidates, totalling 225 fits\n"
     ]
    },
    {
     "name": "stderr",
     "output_type": "stream",
     "text": [
      "[Parallel(n_jobs=3)]: Using backend LokyBackend with 3 concurrent workers.\n",
      "[Parallel(n_jobs=3)]: Done  44 tasks      | elapsed: 16.4min\n",
      "[Parallel(n_jobs=3)]: Done 194 tasks      | elapsed: 71.0min\n",
      "[Parallel(n_jobs=3)]: Done 225 out of 225 | elapsed: 82.0min finished\n"
     ]
    },
    {
     "name": "stdout",
     "output_type": "stream",
     "text": [
      "Fitting 5 folds for each of 45 candidates, totalling 225 fits\n"
     ]
    },
    {
     "name": "stderr",
     "output_type": "stream",
     "text": [
      "[Parallel(n_jobs=3)]: Using backend LokyBackend with 3 concurrent workers.\n",
      "[Parallel(n_jobs=3)]: Done  44 tasks      | elapsed: 22.2min\n",
      "[Parallel(n_jobs=3)]: Done 194 tasks      | elapsed: 98.1min\n",
      "[Parallel(n_jobs=3)]: Done 225 out of 225 | elapsed: 113.3min finished\n"
     ]
    },
    {
     "name": "stdout",
     "output_type": "stream",
     "text": [
      "Fitting 5 folds for each of 45 candidates, totalling 225 fits\n"
     ]
    },
    {
     "name": "stderr",
     "output_type": "stream",
     "text": [
      "[Parallel(n_jobs=3)]: Using backend LokyBackend with 3 concurrent workers.\n",
      "[Parallel(n_jobs=3)]: Done  44 tasks      | elapsed:  9.9min\n",
      "[Parallel(n_jobs=3)]: Done 194 tasks      | elapsed: 43.0min\n",
      "[Parallel(n_jobs=3)]: Done 225 out of 225 | elapsed: 49.6min finished\n"
     ]
    },
    {
     "name": "stdout",
     "output_type": "stream",
     "text": [
      "Fitting 5 folds for each of 45 candidates, totalling 225 fits\n"
     ]
    },
    {
     "name": "stderr",
     "output_type": "stream",
     "text": [
      "[Parallel(n_jobs=3)]: Using backend LokyBackend with 3 concurrent workers.\n",
      "[Parallel(n_jobs=3)]: Done  44 tasks      | elapsed: 22.3min\n",
      "[Parallel(n_jobs=3)]: Done 194 tasks      | elapsed: 97.1min\n",
      "[Parallel(n_jobs=3)]: Done 225 out of 225 | elapsed: 112.9min finished\n"
     ]
    }
   ],
   "source": [
    "for a in keys_list:\n",
    "    xgb_gird = GridSearchCV(xgbs,param_grid=params, scoring=\"accuracy\",n_jobs=3,verbose=1)\n",
    "\n",
    "    xgb_gird.fit(data_sets[a][0], data_sets[a][1])\n",
    "\n",
    "    pred_y = xgb_gird.predict(test_x)\n",
    "    pr = precision_score(y_true=test_y,y_pred=pred_y)\n",
    "    r = recall_score(y_true=test_y,y_pred=pred_y)\n",
    "    f1 = f1_score(y_true=test_y,y_pred=pred_y)\n",
    "    rca = roc_auc_score(y_true=test_y,y_score=pred_y)\n",
    "    cfm = confusion_matrix(y_true=test_y,y_pred=pred_y)\n",
    "    result_list.append((a,xgb_gird.best_params_,pr,r,f1,rca,cfm))\n",
    "    \n",
    "    \n",
    "\n"
   ]
  },
  {
   "cell_type": "code",
   "execution_count": 28,
   "metadata": {},
   "outputs": [
    {
     "data": {
      "text/plain": [
       "[('enn',\n",
       "  {'booster': 'gbtree',\n",
       "   'eta': 0.15,\n",
       "   'gamma': 0,\n",
       "   'max_depth': 50,\n",
       "   'min_child_weight': 1,\n",
       "   'n_estimators': 300,\n",
       "   'random_state': 99},\n",
       "  0.9351193730636049,\n",
       "  0.9621226326645416,\n",
       "  0.9484288354898336,\n",
       "  0.648351035958439,\n",
       "  array([[  358,   712],\n",
       "         [  404, 10262]], dtype=int64)),\n",
       " ('ada',\n",
       "  {'booster': 'gbtree',\n",
       "   'eta': 0.15,\n",
       "   'gamma': 0,\n",
       "   'max_depth': 35,\n",
       "   'min_child_weight': 1,\n",
       "   'n_estimators': 400,\n",
       "   'random_state': 99},\n",
       "  0.9315714539953729,\n",
       "  0.9815300956309769,\n",
       "  0.9558984660336011,\n",
       "  0.6314192534229651,\n",
       "  array([[  301,   769],\n",
       "         [  197, 10469]], dtype=int64)),\n",
       " ('smte',\n",
       "  {'booster': 'gbtree',\n",
       "   'eta': 0.15,\n",
       "   'gamma': 0,\n",
       "   'max_depth': 35,\n",
       "   'min_child_weight': 1,\n",
       "   'n_estimators': 400,\n",
       "   'random_state': 99},\n",
       "  0.9427758146839419,\n",
       "  0.9005250328145509,\n",
       "  0.9211662031264983,\n",
       "  0.6778326098652194,\n",
       "  array([[ 487,  583],\n",
       "         [1061, 9605]], dtype=int64)),\n",
       " ('smtt',\n",
       "  {'booster': 'gbtree',\n",
       "   'eta': 0.15,\n",
       "   'gamma': 0,\n",
       "   'max_depth': 35,\n",
       "   'min_child_weight': 1,\n",
       "   'n_estimators': 300,\n",
       "   'random_state': 99},\n",
       "  0.9311784033389575,\n",
       "  0.9831239452465779,\n",
       "  0.9564463902950701,\n",
       "  0.6294124399130085,\n",
       "  array([[  295,   775],\n",
       "         [  180, 10486]], dtype=int64)),\n",
       " ('tk',\n",
       "  {'booster': 'gbtree',\n",
       "   'eta': 0.15,\n",
       "   'gamma': 0,\n",
       "   'max_depth': 40,\n",
       "   'min_child_weight': 1,\n",
       "   'n_estimators': 300,\n",
       "   'random_state': 99},\n",
       "  0.9304624073420402,\n",
       "  0.9885617851115694,\n",
       "  0.9586326029639057,\n",
       "  0.6260565934903641,\n",
       "  array([[  282,   788],\n",
       "         [  122, 10544]], dtype=int64)),\n",
       " ('sm',\n",
       "  {'booster': 'gbtree',\n",
       "   'eta': 0.15,\n",
       "   'gamma': 0,\n",
       "   'max_depth': 45,\n",
       "   'min_child_weight': 1,\n",
       "   'n_estimators': 300,\n",
       "   'random_state': 99},\n",
       "  0.9314117961035495,\n",
       "  0.9816238514907182,\n",
       "  0.9558588578993016,\n",
       "  0.6305315519135835,\n",
       "  array([[  299,   771],\n",
       "         [  196, 10470]], dtype=int64))]"
      ]
     },
     "execution_count": 28,
     "metadata": {},
     "output_type": "execute_result"
    }
   ],
   "source": [
    "result_list"
   ]
  },
  {
   "cell_type": "code",
   "execution_count": null,
   "metadata": {},
   "outputs": [],
   "source": []
  },
  {
   "cell_type": "code",
   "execution_count": null,
   "metadata": {},
   "outputs": [],
   "source": []
  }
 ],
 "metadata": {
  "interpreter": {
   "hash": "4000436974652e2da39f7abf97d4cef3d01362244b176d22af40d9d73df68d1f"
  },
  "kernelspec": {
   "display_name": "Python 3.8.10 64-bit ('Study_Big': conda)",
   "language": "python",
   "name": "python3"
  },
  "language_info": {
   "codemirror_mode": {
    "name": "ipython",
    "version": 3
   },
   "file_extension": ".py",
   "mimetype": "text/x-python",
   "name": "python",
   "nbconvert_exporter": "python",
   "pygments_lexer": "ipython3",
   "version": "3.8.10"
  },
  "orig_nbformat": 4
 },
 "nbformat": 4,
 "nbformat_minor": 2
}
