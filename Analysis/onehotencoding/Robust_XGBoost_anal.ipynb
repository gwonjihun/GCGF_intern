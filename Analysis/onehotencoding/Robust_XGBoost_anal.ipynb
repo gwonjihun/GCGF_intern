{
 "cells": [
  {
   "cell_type": "code",
   "execution_count": null,
   "metadata": {},
   "outputs": [],
   "source": [
    "import pandas as pd"
   ]
  },
  {
   "cell_type": "code",
   "execution_count": 3,
   "metadata": {},
   "outputs": [],
   "source": [
    "data = pd.read_csv(\"Robust_scaller_result.csv\",encoding=\"cp949\")"
   ]
  },
  {
   "cell_type": "code",
   "execution_count": 4,
   "metadata": {},
   "outputs": [],
   "source": [
    "features = data[['CBSCORE', 'CREDITOTAMT', 'YSALEAMT',\n",
    "       'ESTMM',  'IMSAAMT', 'IMJUAMT', 'BUJUAMT',\n",
    "       'BU1TOTAMT', 'GAMT', 'LABORCNT', 'KOSPI', '환율', 'GDP', \n",
    "       '실업률', '물가지수', '국고채', '금리', '유가등락률',\n",
    "       '소비자심리지수','KIND_JOB_A', 'KIND_JOB_B', 'KIND_JOB_C', 'KIND_JOB_D',\n",
    "       'KIND_JOB_E', 'KIND_JOB_F', 'KIND_JOB_G', 'KIND_JOB_H', 'KIND_JOB_I',\n",
    "       'KIND_JOB_J', 'KIND_JOB_K', 'KIND_JOB_L', 'KIND_JOB_M', 'KIND_JOB_N',\n",
    "       'KIND_JOB_O', 'KIND_JOB_P', 'KIND_JOB_Q', 'KIND_JOB_R', 'KIND_JOB_S',\n",
    "       'KIND_JOB_T']]\n",
    "act = data['ACTCD']"
   ]
  },
  {
   "cell_type": "code",
   "execution_count": 5,
   "metadata": {},
   "outputs": [],
   "source": [
    "act = act-1\n",
    "act = -act"
   ]
  },
  {
   "cell_type": "code",
   "execution_count": 6,
   "metadata": {},
   "outputs": [
    {
     "name": "stdout",
     "output_type": "stream",
     "text": [
      "(27381, 39) (11736, 39) (27381,) (11736,)\n"
     ]
    }
   ],
   "source": [
    "from sklearn.model_selection import train_test_split\n",
    "\n",
    "train_x, test_x,train_y, test_y = train_test_split(features, act,\n",
    "stratify=act,train_size=0.7,test_size=0.3,random_state=1)\n",
    "\n",
    "print(train_x.shape, test_x.shape, train_y.shape, test_y.shape)"
   ]
  },
  {
   "cell_type": "code",
   "execution_count": 7,
   "metadata": {},
   "outputs": [],
   "source": [
    "from imblearn.over_sampling import BorderlineSMOTE,ADASYN\n",
    "from imblearn.combine import SMOTEENN,SMOTETomek\n",
    "from imblearn.under_sampling import EditedNearestNeighbours, TomekLinks\n",
    "data_sets={}\n",
    "enn = EditedNearestNeighbours()\n",
    "ada = ADASYN(random_state=42)\n",
    "smte = SMOTEENN(random_state=42)\n",
    "smtt = SMOTETomek(random_state=42)\n",
    "tk = TomekLinks()\n",
    "sm = BorderlineSMOTE(random_state=42)\n",
    "enn_under_train_x,enn_under_train_y = enn.fit_resample(train_x,train_y)\n",
    "ada_over_train_x, ada_over_train_y = ada.fit_resample(train_x,train_y)\n",
    "smte_combine_train_x,smte_combine_train_y = smte.fit_resample(train_x,train_y)\n",
    "smtt_combine_train_x,smtt_combine_train_y = smtt.fit_resample(train_x,train_y)\n",
    "tk_under_train_x,tk_under_train_y = tk.fit_resample(train_x,train_y)\n",
    "sm_over_train_x, sm_over_train_y = sm.fit_resample(train_x,train_y)\n",
    "data_sets['enn']=[enn_under_train_x,enn_under_train_y]\n",
    "data_sets['ada']=[ada_over_train_x,ada_over_train_y]\n",
    "data_sets['smte']=[smte_combine_train_x,smte_combine_train_y]\n",
    "data_sets['smtt']=[smtt_combine_train_x,smtt_combine_train_y]\n",
    "data_sets['tk']=[tk_under_train_x,tk_under_train_y]\n",
    "data_sets['sm']=[sm_over_train_x,sm_over_train_y]\n",
    "'''\n",
    "over_train_x : 학습용 독립변수\n",
    "over_train_y : 학습용 종속변수\n",
    "'''\n",
    "keys_list= data_sets.keys()"
   ]
  },
  {
   "cell_type": "code",
   "execution_count": 8,
   "metadata": {},
   "outputs": [],
   "source": [
    "import xgboost as xgb\n",
    "\n",
    "from sklearn import metrics\n",
    "from sklearn.metrics import precision_score,recall_score,f1_score,roc_auc_score,confusion_matrix, classification_report\n"
   ]
  },
  {
   "cell_type": "code",
   "execution_count": 9,
   "metadata": {},
   "outputs": [],
   "source": [
    "result_list=[]"
   ]
  },
  {
   "cell_type": "code",
   "execution_count": 14,
   "metadata": {},
   "outputs": [],
   "source": [
    "params = {\n",
    "    'booster' : ['gbtree'],\n",
    "    'eta': [0.15],\n",
    "    'gamma':[0],\n",
    "    'max_depth': [30,35,40,45,50],\n",
    "    'min_child_weight':[1,2,3],\n",
    "    'random_state':[99],\n",
    "    'n_estimators':[300,400,500]\n",
    "}\n",
    "xgbs = xgb.XGBClassifier(use_label_encoder=False,eval_metric='logloss',)\n",
    "\n",
    "from sklearn.model_selection import GridSearchCV\n"
   ]
  },
  {
   "cell_type": "code",
   "execution_count": 15,
   "metadata": {},
   "outputs": [
    {
     "name": "stdout",
     "output_type": "stream",
     "text": [
      "Fitting 5 folds for each of 45 candidates, totalling 225 fits\n"
     ]
    },
    {
     "name": "stderr",
     "output_type": "stream",
     "text": [
      "[Parallel(n_jobs=3)]: Using backend LokyBackend with 3 concurrent workers.\n",
      "[Parallel(n_jobs=3)]: Done  44 tasks      | elapsed:  8.4min\n",
      "[Parallel(n_jobs=3)]: Done 194 tasks      | elapsed: 37.1min\n",
      "[Parallel(n_jobs=3)]: Done 225 out of 225 | elapsed: 43.0min finished\n"
     ]
    },
    {
     "name": "stdout",
     "output_type": "stream",
     "text": [
      "Fitting 5 folds for each of 45 candidates, totalling 225 fits\n"
     ]
    },
    {
     "name": "stderr",
     "output_type": "stream",
     "text": [
      "[Parallel(n_jobs=3)]: Using backend LokyBackend with 3 concurrent workers.\n",
      "[Parallel(n_jobs=3)]: Done  44 tasks      | elapsed: 25.3min\n",
      "[Parallel(n_jobs=3)]: Done 194 tasks      | elapsed: 109.8min\n",
      "[Parallel(n_jobs=3)]: Done 225 out of 225 | elapsed: 126.8min finished\n"
     ]
    },
    {
     "name": "stdout",
     "output_type": "stream",
     "text": [
      "Fitting 5 folds for each of 45 candidates, totalling 225 fits\n"
     ]
    },
    {
     "name": "stderr",
     "output_type": "stream",
     "text": [
      "[Parallel(n_jobs=3)]: Using backend LokyBackend with 3 concurrent workers.\n",
      "[Parallel(n_jobs=3)]: Done  44 tasks      | elapsed: 18.0min\n",
      "[Parallel(n_jobs=3)]: Done 194 tasks      | elapsed: 76.0min\n",
      "[Parallel(n_jobs=3)]: Done 225 out of 225 | elapsed: 87.9min finished\n"
     ]
    },
    {
     "name": "stdout",
     "output_type": "stream",
     "text": [
      "Fitting 5 folds for each of 45 candidates, totalling 225 fits\n"
     ]
    },
    {
     "name": "stderr",
     "output_type": "stream",
     "text": [
      "[Parallel(n_jobs=3)]: Using backend LokyBackend with 3 concurrent workers.\n",
      "[Parallel(n_jobs=3)]: Done  44 tasks      | elapsed: 23.6min\n",
      "[Parallel(n_jobs=3)]: Done 194 tasks      | elapsed: 103.9min\n",
      "[Parallel(n_jobs=3)]: Done 225 out of 225 | elapsed: 120.3min finished\n"
     ]
    },
    {
     "name": "stdout",
     "output_type": "stream",
     "text": [
      "Fitting 5 folds for each of 45 candidates, totalling 225 fits\n"
     ]
    },
    {
     "name": "stderr",
     "output_type": "stream",
     "text": [
      "[Parallel(n_jobs=3)]: Using backend LokyBackend with 3 concurrent workers.\n",
      "[Parallel(n_jobs=3)]: Done  44 tasks      | elapsed:  9.9min\n",
      "[Parallel(n_jobs=3)]: Done 194 tasks      | elapsed: 44.1min\n",
      "[Parallel(n_jobs=3)]: Done 225 out of 225 | elapsed: 50.8min finished\n"
     ]
    },
    {
     "name": "stdout",
     "output_type": "stream",
     "text": [
      "Fitting 5 folds for each of 45 candidates, totalling 225 fits\n"
     ]
    },
    {
     "name": "stderr",
     "output_type": "stream",
     "text": [
      "[Parallel(n_jobs=3)]: Using backend LokyBackend with 3 concurrent workers.\n",
      "[Parallel(n_jobs=3)]: Done  44 tasks      | elapsed: 22.7min\n",
      "[Parallel(n_jobs=3)]: Done 194 tasks      | elapsed: 99.6min\n",
      "[Parallel(n_jobs=3)]: Done 225 out of 225 | elapsed: 115.2min finished\n"
     ]
    }
   ],
   "source": [
    "for a in keys_list:\n",
    "    xgb_gird = GridSearchCV(xgbs,param_grid=params, scoring=\"accuracy\",n_jobs=3,verbose=1)\n",
    "\n",
    "    xgb_gird.fit(data_sets[a][0], data_sets[a][1])\n",
    "\n",
    "    pred_y = xgb_gird.predict(test_x)\n",
    "    pr = precision_score(y_true=test_y,y_pred=pred_y)\n",
    "    r = recall_score(y_true=test_y,y_pred=pred_y)\n",
    "    f1 = f1_score(y_true=test_y,y_pred=pred_y)\n",
    "    rca = roc_auc_score(y_true=test_y,y_score=pred_y)\n",
    "    cfm = confusion_matrix(y_true=test_y,y_pred=pred_y)\n",
    "    result_list.append((a,xgb_gird.best_params_,pr,r,f1,rca,cfm))\n",
    "    \n",
    "    \n",
    "\n"
   ]
  },
  {
   "cell_type": "code",
   "execution_count": 16,
   "metadata": {},
   "outputs": [
    {
     "data": {
      "text/plain": [
       "[('enn',\n",
       "  {'booster': 'gbtree',\n",
       "   'eta': 0.15,\n",
       "   'gamma': 0,\n",
       "   'max_depth': 30,\n",
       "   'min_child_weight': 1,\n",
       "   'random_state': 99},\n",
       "  0.9350226244343891,\n",
       "  0.9686855428464279,\n",
       "  0.9515564560692575,\n",
       "  0.6488287527316252,\n",
       "  array([[  352,   718],\n",
       "         [  334, 10332]], dtype=int64)),\n",
       " ('ada',\n",
       "  {'booster': 'gbtree',\n",
       "   'eta': 0.15,\n",
       "   'gamma': 0,\n",
       "   'max_depth': 35,\n",
       "   'min_child_weight': 1,\n",
       "   'random_state': 99},\n",
       "  0.9302078726227333,\n",
       "  0.985936621038815,\n",
       "  0.9572618451595286,\n",
       "  0.6242767217343608,\n",
       "  array([[  281,   789],\n",
       "         [  150, 10516]], dtype=int64)),\n",
       " ('smte',\n",
       "  {'booster': 'gbtree',\n",
       "   'eta': 0.15,\n",
       "   'gamma': 0,\n",
       "   'max_depth': 30,\n",
       "   'min_child_weight': 1,\n",
       "   'random_state': 99},\n",
       "  0.9408301158301158,\n",
       "  0.9138383648978061,\n",
       "  0.927137829354133,\n",
       "  0.670470584318062,\n",
       "  array([[ 457,  613],\n",
       "         [ 919, 9747]], dtype=int64)),\n",
       " ('smtt',\n",
       "  {'booster': 'gbtree',\n",
       "   'eta': 0.15,\n",
       "   'gamma': 0,\n",
       "   'max_depth': 35,\n",
       "   'min_child_weight': 1,\n",
       "   'random_state': 99},\n",
       "  0.9302058485731955,\n",
       "  0.987155447215451,\n",
       "  0.9578348874232432,\n",
       "  0.6244188451030526,\n",
       "  array([[  280,   790],\n",
       "         [  137, 10529]], dtype=int64)),\n",
       " ('tk',\n",
       "  {'booster': 'gbtree',\n",
       "   'eta': 0.15,\n",
       "   'gamma': 0,\n",
       "   'max_depth': 30,\n",
       "   'min_child_weight': 1,\n",
       "   'random_state': 99},\n",
       "  0.9298291952808593,\n",
       "  0.9901556347271705,\n",
       "  0.95904467853251,\n",
       "  0.6226479108215291,\n",
       "  array([[  273,   797],\n",
       "         [  105, 10561]], dtype=int64)),\n",
       " ('sm',\n",
       "  {'booster': 'gbtree',\n",
       "   'eta': 0.15,\n",
       "   'gamma': 0,\n",
       "   'max_depth': 25,\n",
       "   'min_child_weight': 1,\n",
       "   'random_state': 99},\n",
       "  0.930689563600956,\n",
       "  0.9857491093193325,\n",
       "  0.9574284023129809,\n",
       "  0.6269867041923765,\n",
       "  array([[  287,   783],\n",
       "         [  152, 10514]], dtype=int64)),\n",
       " ('enn',\n",
       "  {'booster': 'gbtree',\n",
       "   'eta': 0.15,\n",
       "   'gamma': 0,\n",
       "   'max_depth': 30,\n",
       "   'min_child_weight': 1,\n",
       "   'n_estimators': 300,\n",
       "   'random_state': 99},\n",
       "  0.9350226244343891,\n",
       "  0.9686855428464279,\n",
       "  0.9515564560692575,\n",
       "  0.6488287527316252,\n",
       "  array([[  352,   718],\n",
       "         [  334, 10332]], dtype=int64)),\n",
       " ('ada',\n",
       "  {'booster': 'gbtree',\n",
       "   'eta': 0.15,\n",
       "   'gamma': 0,\n",
       "   'max_depth': 35,\n",
       "   'min_child_weight': 1,\n",
       "   'n_estimators': 300,\n",
       "   'random_state': 99},\n",
       "  0.9302078726227333,\n",
       "  0.985936621038815,\n",
       "  0.9572618451595286,\n",
       "  0.6242767217343608,\n",
       "  array([[  281,   789],\n",
       "         [  150, 10516]], dtype=int64)),\n",
       " ('smte',\n",
       "  {'booster': 'gbtree',\n",
       "   'eta': 0.15,\n",
       "   'gamma': 0,\n",
       "   'max_depth': 30,\n",
       "   'min_child_weight': 1,\n",
       "   'n_estimators': 300,\n",
       "   'random_state': 99},\n",
       "  0.9408301158301158,\n",
       "  0.9138383648978061,\n",
       "  0.927137829354133,\n",
       "  0.670470584318062,\n",
       "  array([[ 457,  613],\n",
       "         [ 919, 9747]], dtype=int64)),\n",
       " ('smtt',\n",
       "  {'booster': 'gbtree',\n",
       "   'eta': 0.15,\n",
       "   'gamma': 0,\n",
       "   'max_depth': 45,\n",
       "   'min_child_weight': 1,\n",
       "   'n_estimators': 300,\n",
       "   'random_state': 99},\n",
       "  0.9300927971718957,\n",
       "  0.9866866679167448,\n",
       "  0.9575542513989354,\n",
       "  0.6237171657340733,\n",
       "  array([[  279,   791],\n",
       "         [  142, 10524]], dtype=int64)),\n",
       " ('tk',\n",
       "  {'booster': 'gbtree',\n",
       "   'eta': 0.15,\n",
       "   'gamma': 0,\n",
       "   'max_depth': 30,\n",
       "   'min_child_weight': 1,\n",
       "   'n_estimators': 300,\n",
       "   'random_state': 99},\n",
       "  0.9298291952808593,\n",
       "  0.9901556347271705,\n",
       "  0.95904467853251,\n",
       "  0.6226479108215291,\n",
       "  array([[  273,   797],\n",
       "         [  105, 10561]], dtype=int64)),\n",
       " ('sm',\n",
       "  {'booster': 'gbtree',\n",
       "   'eta': 0.15,\n",
       "   'gamma': 0,\n",
       "   'max_depth': 30,\n",
       "   'min_child_weight': 1,\n",
       "   'n_estimators': 300,\n",
       "   'random_state': 99},\n",
       "  0.9308421145842557,\n",
       "  0.98556159759985,\n",
       "  0.9574206475704722,\n",
       "  0.6278275277718877,\n",
       "  array([[  289,   781],\n",
       "         [  154, 10512]], dtype=int64))]"
      ]
     },
     "execution_count": 16,
     "metadata": {},
     "output_type": "execute_result"
    }
   ],
   "source": [
    "result_list"
   ]
  },
  {
   "cell_type": "code",
   "execution_count": null,
   "metadata": {},
   "outputs": [],
   "source": []
  }
 ],
 "metadata": {
  "interpreter": {
   "hash": "6d46af94c2bbce495f1e668725902fa517c90b1782bcfe2fce0dd9868df553d3"
  },
  "kernelspec": {
   "display_name": "Python 3.8.8 64-bit ('base': conda)",
   "language": "python",
   "name": "python3"
  },
  "language_info": {
   "codemirror_mode": {
    "name": "ipython",
    "version": 3
   },
   "file_extension": ".py",
   "mimetype": "text/x-python",
   "name": "python",
   "nbconvert_exporter": "python",
   "pygments_lexer": "ipython3",
   "version": "3.8.10"
  },
  "orig_nbformat": 4
 },
 "nbformat": 4,
 "nbformat_minor": 2
}
