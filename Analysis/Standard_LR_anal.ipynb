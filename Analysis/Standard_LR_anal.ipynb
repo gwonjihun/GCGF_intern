{
 "cells": [
  {
   "cell_type": "code",
   "execution_count": 24,
   "metadata": {},
   "outputs": [
    {
     "data": {
      "text/html": [
       "<div>\n",
       "<style scoped>\n",
       "    .dataframe tbody tr th:only-of-type {\n",
       "        vertical-align: middle;\n",
       "    }\n",
       "\n",
       "    .dataframe tbody tr th {\n",
       "        vertical-align: top;\n",
       "    }\n",
       "\n",
       "    .dataframe thead th {\n",
       "        text-align: right;\n",
       "    }\n",
       "</style>\n",
       "<table border=\"1\" class=\"dataframe\">\n",
       "  <thead>\n",
       "    <tr style=\"text-align: right;\">\n",
       "      <th></th>\n",
       "      <th>CUSTNO</th>\n",
       "      <th>GNO</th>\n",
       "      <th>CBSCORE</th>\n",
       "      <th>CBSCOREGRD</th>\n",
       "      <th>CREDITOTAMT</th>\n",
       "      <th>YSALEAMT</th>\n",
       "      <th>ESTMM</th>\n",
       "      <th>ASSETAMT</th>\n",
       "      <th>IMSAAMT</th>\n",
       "      <th>IMJUAMT</th>\n",
       "      <th>...</th>\n",
       "      <th>환율</th>\n",
       "      <th>GDP</th>\n",
       "      <th>소상공인체감지수</th>\n",
       "      <th>실업률</th>\n",
       "      <th>물가지수</th>\n",
       "      <th>국고채</th>\n",
       "      <th>금리</th>\n",
       "      <th>유가등락률</th>\n",
       "      <th>소비자심리지수</th>\n",
       "      <th>ONEHOT</th>\n",
       "    </tr>\n",
       "  </thead>\n",
       "  <tbody>\n",
       "    <tr>\n",
       "      <th>0</th>\n",
       "      <td>475821</td>\n",
       "      <td>l180202101898</td>\n",
       "      <td>1.483693</td>\n",
       "      <td>-1.008776</td>\n",
       "      <td>-0.182324</td>\n",
       "      <td>5.599410</td>\n",
       "      <td>-0.351065</td>\n",
       "      <td>-0.497246</td>\n",
       "      <td>-0.176818</td>\n",
       "      <td>-0.327516</td>\n",
       "      <td>...</td>\n",
       "      <td>-0.068090</td>\n",
       "      <td>2.274533</td>\n",
       "      <td>-1.302456</td>\n",
       "      <td>-0.290076</td>\n",
       "      <td>2.728294</td>\n",
       "      <td>-1.492204</td>\n",
       "      <td>-3.801670</td>\n",
       "      <td>2.712699</td>\n",
       "      <td>1.300530</td>\n",
       "      <td>3</td>\n",
       "    </tr>\n",
       "    <tr>\n",
       "      <th>1</th>\n",
       "      <td>74417</td>\n",
       "      <td>l230201700120</td>\n",
       "      <td>0.436620</td>\n",
       "      <td>-0.269293</td>\n",
       "      <td>-0.187359</td>\n",
       "      <td>3.004204</td>\n",
       "      <td>-0.774902</td>\n",
       "      <td>-0.434147</td>\n",
       "      <td>-0.395499</td>\n",
       "      <td>0.047573</td>\n",
       "      <td>...</td>\n",
       "      <td>0.509001</td>\n",
       "      <td>-1.236236</td>\n",
       "      <td>-1.058419</td>\n",
       "      <td>0.571922</td>\n",
       "      <td>-0.733929</td>\n",
       "      <td>-0.363940</td>\n",
       "      <td>-0.649856</td>\n",
       "      <td>1.705658</td>\n",
       "      <td>-1.167094</td>\n",
       "      <td>8</td>\n",
       "    </tr>\n",
       "    <tr>\n",
       "      <th>2</th>\n",
       "      <td>387787</td>\n",
       "      <td>l110201603233</td>\n",
       "      <td>0.682990</td>\n",
       "      <td>-1.008776</td>\n",
       "      <td>-0.283032</td>\n",
       "      <td>1.765241</td>\n",
       "      <td>1.889216</td>\n",
       "      <td>-0.497246</td>\n",
       "      <td>-0.176818</td>\n",
       "      <td>-0.327516</td>\n",
       "      <td>...</td>\n",
       "      <td>0.991659</td>\n",
       "      <td>-1.589789</td>\n",
       "      <td>0.853200</td>\n",
       "      <td>-0.290076</td>\n",
       "      <td>-1.872513</td>\n",
       "      <td>-0.546902</td>\n",
       "      <td>-0.649856</td>\n",
       "      <td>0.170943</td>\n",
       "      <td>-0.965339</td>\n",
       "      <td>7</td>\n",
       "    </tr>\n",
       "    <tr>\n",
       "      <th>3</th>\n",
       "      <td>395418</td>\n",
       "      <td>l230201700254</td>\n",
       "      <td>0.169719</td>\n",
       "      <td>-0.269293</td>\n",
       "      <td>-0.212536</td>\n",
       "      <td>1.647960</td>\n",
       "      <td>-0.744628</td>\n",
       "      <td>-0.497246</td>\n",
       "      <td>-0.176818</td>\n",
       "      <td>-0.327516</td>\n",
       "      <td>...</td>\n",
       "      <td>0.490639</td>\n",
       "      <td>-1.236236</td>\n",
       "      <td>1.219254</td>\n",
       "      <td>-0.721075</td>\n",
       "      <td>-0.788147</td>\n",
       "      <td>-0.241965</td>\n",
       "      <td>-0.649856</td>\n",
       "      <td>0.665173</td>\n",
       "      <td>-0.810142</td>\n",
       "      <td>3</td>\n",
       "    </tr>\n",
       "    <tr>\n",
       "      <th>4</th>\n",
       "      <td>190372</td>\n",
       "      <td>l200201601418</td>\n",
       "      <td>-3.033092</td>\n",
       "      <td>2.688638</td>\n",
       "      <td>-0.247784</td>\n",
       "      <td>0.478163</td>\n",
       "      <td>1.616749</td>\n",
       "      <td>-0.202785</td>\n",
       "      <td>-0.351763</td>\n",
       "      <td>-0.327516</td>\n",
       "      <td>...</td>\n",
       "      <td>0.409321</td>\n",
       "      <td>-1.809655</td>\n",
       "      <td>-0.102610</td>\n",
       "      <td>-0.721075</td>\n",
       "      <td>-2.530877</td>\n",
       "      <td>-1.736154</td>\n",
       "      <td>-0.649856</td>\n",
       "      <td>-0.958727</td>\n",
       "      <td>-0.142797</td>\n",
       "      <td>7</td>\n",
       "    </tr>\n",
       "  </tbody>\n",
       "</table>\n",
       "<p>5 rows × 30 columns</p>\n",
       "</div>"
      ],
      "text/plain": [
       "   CUSTNO            GNO   CBSCORE  CBSCOREGRD  CREDITOTAMT  YSALEAMT  \\\n",
       "0  475821  l180202101898  1.483693   -1.008776    -0.182324  5.599410   \n",
       "1   74417  l230201700120  0.436620   -0.269293    -0.187359  3.004204   \n",
       "2  387787  l110201603233  0.682990   -1.008776    -0.283032  1.765241   \n",
       "3  395418  l230201700254  0.169719   -0.269293    -0.212536  1.647960   \n",
       "4  190372  l200201601418 -3.033092    2.688638    -0.247784  0.478163   \n",
       "\n",
       "      ESTMM  ASSETAMT   IMSAAMT   IMJUAMT  ...        환율       GDP  소상공인체감지수  \\\n",
       "0 -0.351065 -0.497246 -0.176818 -0.327516  ... -0.068090  2.274533 -1.302456   \n",
       "1 -0.774902 -0.434147 -0.395499  0.047573  ...  0.509001 -1.236236 -1.058419   \n",
       "2  1.889216 -0.497246 -0.176818 -0.327516  ...  0.991659 -1.589789  0.853200   \n",
       "3 -0.744628 -0.497246 -0.176818 -0.327516  ...  0.490639 -1.236236  1.219254   \n",
       "4  1.616749 -0.202785 -0.351763 -0.327516  ...  0.409321 -1.809655 -0.102610   \n",
       "\n",
       "        실업률      물가지수       국고채        금리     유가등락률   소비자심리지수  ONEHOT  \n",
       "0 -0.290076  2.728294 -1.492204 -3.801670  2.712699  1.300530       3  \n",
       "1  0.571922 -0.733929 -0.363940 -0.649856  1.705658 -1.167094       8  \n",
       "2 -0.290076 -1.872513 -0.546902 -0.649856  0.170943 -0.965339       7  \n",
       "3 -0.721075 -0.788147 -0.241965 -0.649856  0.665173 -0.810142       3  \n",
       "4 -0.721075 -2.530877 -1.736154 -0.649856 -0.958727 -0.142797       7  \n",
       "\n",
       "[5 rows x 30 columns]"
      ]
     },
     "execution_count": 24,
     "metadata": {},
     "output_type": "execute_result"
    }
   ],
   "source": [
    "import pandas as pd\n",
    "import matplotlib.pyplot as plt\n",
    "import statsmodels.api as sm\n",
    "\n",
    "data = pd.read_csv(\"DATA/Standard_Scaler_result.csv\",encoding=\"cp949\")\n",
    "data.head()"
   ]
  },
  {
   "cell_type": "code",
   "execution_count": 25,
   "metadata": {},
   "outputs": [
    {
     "data": {
      "text/html": [
       "<table class=\"simpletable\">\n",
       "<caption>OLS Regression Results</caption>\n",
       "<tr>\n",
       "  <th>Dep. Variable:</th>          <td>ACTCD</td>      <th>  R-squared:         </th> <td>   0.061</td> \n",
       "</tr>\n",
       "<tr>\n",
       "  <th>Model:</th>                   <td>OLS</td>       <th>  Adj. R-squared:    </th> <td>   0.060</td> \n",
       "</tr>\n",
       "<tr>\n",
       "  <th>Method:</th>             <td>Least Squares</td>  <th>  F-statistic:       </th> <td>   168.1</td> \n",
       "</tr>\n",
       "<tr>\n",
       "  <th>Date:</th>             <td>Tue, 21 Dec 2021</td> <th>  Prob (F-statistic):</th>  <td>  0.00</td>  \n",
       "</tr>\n",
       "<tr>\n",
       "  <th>Time:</th>                 <td>17:41:46</td>     <th>  Log-Likelihood:    </th> <td> -5568.3</td> \n",
       "</tr>\n",
       "<tr>\n",
       "  <th>No. Observations:</th>      <td> 39117</td>      <th>  AIC:               </th> <td>1.117e+04</td>\n",
       "</tr>\n",
       "<tr>\n",
       "  <th>Df Residuals:</th>          <td> 39101</td>      <th>  BIC:               </th> <td>1.131e+04</td>\n",
       "</tr>\n",
       "<tr>\n",
       "  <th>Df Model:</th>              <td>    15</td>      <th>                     </th>     <td> </td>    \n",
       "</tr>\n",
       "<tr>\n",
       "  <th>Covariance Type:</th>      <td>nonrobust</td>    <th>                     </th>     <td> </td>    \n",
       "</tr>\n",
       "</table>\n",
       "<table class=\"simpletable\">\n",
       "<tr>\n",
       "       <td></td>          <th>coef</th>     <th>std err</th>      <th>t</th>      <th>P>|t|</th>  <th>[0.025</th>    <th>0.975]</th>  \n",
       "</tr>\n",
       "<tr>\n",
       "  <th>intercept</th>   <td>    0.1075</td> <td>    0.004</td> <td>   26.406</td> <td> 0.000</td> <td>    0.100</td> <td>    0.115</td>\n",
       "</tr>\n",
       "<tr>\n",
       "  <th>CBSCORE</th>     <td>   -0.0480</td> <td>    0.002</td> <td>  -29.323</td> <td> 0.000</td> <td>   -0.051</td> <td>   -0.045</td>\n",
       "</tr>\n",
       "<tr>\n",
       "  <th>CREDITOTAMT</th> <td>    0.0058</td> <td>    0.001</td> <td>    3.881</td> <td> 0.000</td> <td>    0.003</td> <td>    0.009</td>\n",
       "</tr>\n",
       "<tr>\n",
       "  <th>YSALEAMT</th>    <td>    0.0083</td> <td>    0.002</td> <td>    5.256</td> <td> 0.000</td> <td>    0.005</td> <td>    0.011</td>\n",
       "</tr>\n",
       "<tr>\n",
       "  <th>ESTMM</th>       <td>   -0.0228</td> <td>    0.002</td> <td>  -15.021</td> <td> 0.000</td> <td>   -0.026</td> <td>   -0.020</td>\n",
       "</tr>\n",
       "<tr>\n",
       "  <th>IMSAAMT</th>     <td>   -0.0028</td> <td>    0.001</td> <td>   -1.921</td> <td> 0.055</td> <td>   -0.006</td> <td> 5.63e-05</td>\n",
       "</tr>\n",
       "<tr>\n",
       "  <th>IMJUAMT</th>     <td>   -0.0086</td> <td>    0.001</td> <td>   -5.954</td> <td> 0.000</td> <td>   -0.011</td> <td>   -0.006</td>\n",
       "</tr>\n",
       "<tr>\n",
       "  <th>BUJUAMT</th>     <td>   -0.0153</td> <td>    0.001</td> <td>  -10.416</td> <td> 0.000</td> <td>   -0.018</td> <td>   -0.012</td>\n",
       "</tr>\n",
       "<tr>\n",
       "  <th>BU1TOTAMT</th>   <td>    0.0048</td> <td>    0.001</td> <td>    3.207</td> <td> 0.001</td> <td>    0.002</td> <td>    0.008</td>\n",
       "</tr>\n",
       "<tr>\n",
       "  <th>GAMT</th>        <td>   -0.0072</td> <td>    0.002</td> <td>   -3.971</td> <td> 0.000</td> <td>   -0.011</td> <td>   -0.004</td>\n",
       "</tr>\n",
       "<tr>\n",
       "  <th>GKIND</th>       <td>    0.0046</td> <td>    0.002</td> <td>    2.757</td> <td> 0.006</td> <td>    0.001</td> <td>    0.008</td>\n",
       "</tr>\n",
       "<tr>\n",
       "  <th>환율</th>          <td>    0.0059</td> <td>    0.002</td> <td>    2.544</td> <td> 0.011</td> <td>    0.001</td> <td>    0.010</td>\n",
       "</tr>\n",
       "<tr>\n",
       "  <th>GDP</th>         <td>   -0.0253</td> <td>    0.001</td> <td>  -16.951</td> <td> 0.000</td> <td>   -0.028</td> <td>   -0.022</td>\n",
       "</tr>\n",
       "<tr>\n",
       "  <th>국고채</th>         <td>    0.0097</td> <td>    0.002</td> <td>    3.973</td> <td> 0.000</td> <td>    0.005</td> <td>    0.014</td>\n",
       "</tr>\n",
       "<tr>\n",
       "  <th>유가등락률</th>       <td>    0.0046</td> <td>    0.002</td> <td>    2.820</td> <td> 0.005</td> <td>    0.001</td> <td>    0.008</td>\n",
       "</tr>\n",
       "<tr>\n",
       "  <th>ONEHOT</th>      <td>   -0.0025</td> <td>    0.000</td> <td>   -7.785</td> <td> 0.000</td> <td>   -0.003</td> <td>   -0.002</td>\n",
       "</tr>\n",
       "</table>\n",
       "<table class=\"simpletable\">\n",
       "<tr>\n",
       "  <th>Omnibus:</th>       <td>19693.786</td> <th>  Durbin-Watson:     </th> <td>   1.719</td> \n",
       "</tr>\n",
       "<tr>\n",
       "  <th>Prob(Omnibus):</th>  <td> 0.000</td>   <th>  Jarque-Bera (JB):  </th> <td>90089.052</td>\n",
       "</tr>\n",
       "<tr>\n",
       "  <th>Skew:</th>           <td> 2.581</td>   <th>  Prob(JB):          </th> <td>    0.00</td> \n",
       "</tr>\n",
       "<tr>\n",
       "  <th>Kurtosis:</th>       <td> 8.351</td>   <th>  Cond. No.          </th> <td>    31.5</td> \n",
       "</tr>\n",
       "</table><br/><br/>Notes:<br/>[1] Standard Errors assume that the covariance matrix of the errors is correctly specified."
      ],
      "text/plain": [
       "<class 'statsmodels.iolib.summary.Summary'>\n",
       "\"\"\"\n",
       "                            OLS Regression Results                            \n",
       "==============================================================================\n",
       "Dep. Variable:                  ACTCD   R-squared:                       0.061\n",
       "Model:                            OLS   Adj. R-squared:                  0.060\n",
       "Method:                 Least Squares   F-statistic:                     168.1\n",
       "Date:                Tue, 21 Dec 2021   Prob (F-statistic):               0.00\n",
       "Time:                        17:41:46   Log-Likelihood:                -5568.3\n",
       "No. Observations:               39117   AIC:                         1.117e+04\n",
       "Df Residuals:                   39101   BIC:                         1.131e+04\n",
       "Df Model:                          15                                         \n",
       "Covariance Type:            nonrobust                                         \n",
       "===============================================================================\n",
       "                  coef    std err          t      P>|t|      [0.025      0.975]\n",
       "-------------------------------------------------------------------------------\n",
       "intercept       0.1075      0.004     26.406      0.000       0.100       0.115\n",
       "CBSCORE        -0.0480      0.002    -29.323      0.000      -0.051      -0.045\n",
       "CREDITOTAMT     0.0058      0.001      3.881      0.000       0.003       0.009\n",
       "YSALEAMT        0.0083      0.002      5.256      0.000       0.005       0.011\n",
       "ESTMM          -0.0228      0.002    -15.021      0.000      -0.026      -0.020\n",
       "IMSAAMT        -0.0028      0.001     -1.921      0.055      -0.006    5.63e-05\n",
       "IMJUAMT        -0.0086      0.001     -5.954      0.000      -0.011      -0.006\n",
       "BUJUAMT        -0.0153      0.001    -10.416      0.000      -0.018      -0.012\n",
       "BU1TOTAMT       0.0048      0.001      3.207      0.001       0.002       0.008\n",
       "GAMT           -0.0072      0.002     -3.971      0.000      -0.011      -0.004\n",
       "GKIND           0.0046      0.002      2.757      0.006       0.001       0.008\n",
       "환율              0.0059      0.002      2.544      0.011       0.001       0.010\n",
       "GDP            -0.0253      0.001    -16.951      0.000      -0.028      -0.022\n",
       "국고채             0.0097      0.002      3.973      0.000       0.005       0.014\n",
       "유가등락률           0.0046      0.002      2.820      0.005       0.001       0.008\n",
       "ONEHOT         -0.0025      0.000     -7.785      0.000      -0.003      -0.002\n",
       "==============================================================================\n",
       "Omnibus:                    19693.786   Durbin-Watson:                   1.719\n",
       "Prob(Omnibus):                  0.000   Jarque-Bera (JB):            90089.052\n",
       "Skew:                           2.581   Prob(JB):                         0.00\n",
       "Kurtosis:                       8.351   Cond. No.                         31.5\n",
       "==============================================================================\n",
       "\n",
       "Notes:\n",
       "[1] Standard Errors assume that the covariance matrix of the errors is correctly specified.\n",
       "\"\"\""
      ]
     },
     "execution_count": 25,
     "metadata": {},
     "output_type": "execute_result"
    }
   ],
   "source": [
    "data['intercept'] = 1\n",
    "\n",
    "lm = sm.OLS(data['ACTCD'], data[[ 'intercept', 'CBSCORE', 'CREDITOTAMT', 'YSALEAMT',\n",
    "       'ESTMM', 'IMSAAMT', 'IMJUAMT',  'BUJUAMT',\n",
    "       'BU1TOTAMT', 'GAMT', 'GKIND',  '환율', 'GDP', \n",
    "        '국고채', '유가등락률', 'ONEHOT']]) \n",
    "results = lm.fit()\n",
    "results.summary()"
   ]
  },
  {
   "cell_type": "code",
   "execution_count": 26,
   "metadata": {},
   "outputs": [],
   "source": [
    "features = data[['CBSCORE', 'CREDITOTAMT', 'YSALEAMT',\n",
    "       'ESTMM',  'IMSAAMT', 'IMJUAMT', 'BUSAAMT', 'BUJUAMT',\n",
    "       'BU1TOTAMT', 'GAMT', 'LABORCNT', 'KOSPI', '환율', 'GDP', \n",
    "       '소상공인체감지수', '실업률', '물가지수', '국고채', '금리', '유가등락률',\n",
    "       '소비자심리지수','ONEHOT']]\n",
    "act = data['ACTCD']"
   ]
  },
  {
   "cell_type": "code",
   "execution_count": 27,
   "metadata": {},
   "outputs": [],
   "source": [
    "act = act - 1\n",
    "act = act * -1"
   ]
  },
  {
   "cell_type": "code",
   "execution_count": 28,
   "metadata": {},
   "outputs": [
    {
     "name": "stdout",
     "output_type": "stream",
     "text": [
      "(27381, 22) (11736, 22) (27381,) (11736,)\n"
     ]
    }
   ],
   "source": [
    "from sklearn.model_selection import train_test_split\n",
    "\n",
    "train_x, test_x,train_y, test_y = train_test_split(features, act,\n",
    "stratify=act,train_size=0.7,test_size=0.3,random_state=1)\n",
    "\n",
    "print(train_x.shape, test_x.shape, train_y.shape, test_y.shape)"
   ]
  },
  {
   "cell_type": "code",
   "execution_count": 29,
   "metadata": {},
   "outputs": [],
   "source": [
    "from imblearn.over_sampling import BorderlineSMOTE, ADASYN\n",
    "from imblearn.under_sampling import EditedNearestNeighbours, TomekLinks\n",
    "from imblearn.combine import SMOTEENN, SMOTETomek\n",
    "\n",
    "#언더 샘플링\n",
    "enn = EditedNearestNeighbours(kind_sel=\"all\", n_neighbors=10)\n",
    "tomekl = TomekLinks()\n",
    "\n",
    "#오버 샘플링\n",
    "bsmote = BorderlineSMOTE(random_state=42)\n",
    "adasyn = ADASYN(random_state=42)\n",
    "\n",
    "#혼합 샘플링\n",
    "smotee = SMOTEENN(random_state=42)\n",
    "smoteT = SMOTETomek(random_state=42)\n",
    "\n",
    "\n",
    "X_under1_train, Y_under1_train = enn.fit_resample(train_x, train_y)\n",
    "X_under2_train, Y_under2_train = tomekl.fit_resample(train_x, train_y)\n",
    "\n",
    "X_over1_train, Y_over1_train = bsmote.fit_resample(train_x,train_y)\n",
    "X_over2_train, Y_over2_train = adasyn.fit_resample(train_x,train_y)\n",
    "\n",
    "X_comb1_train, Y_comb1_train = smotee.fit_resample(train_x, train_y)\n",
    "X_comb2_train, Y_comb2_train = smoteT.fit_resample(train_x, train_y)"
   ]
  },
  {
   "cell_type": "markdown",
   "metadata": {},
   "source": [
    "### 아래 분석 결과, Logistic Regression 하이퍼 파라미터: C와 max_iter 조정 결과 변화 없음"
   ]
  },
  {
   "cell_type": "markdown",
   "metadata": {},
   "source": [
    "## 오버샘플링"
   ]
  },
  {
   "cell_type": "markdown",
   "metadata": {},
   "source": [
    "1. BorderlineSMOTE"
   ]
  },
  {
   "cell_type": "code",
   "execution_count": 5,
   "metadata": {},
   "outputs": [],
   "source": [
    "# 임계값 함수\n",
    "\n",
    "def cut_off(y, threshold) :\n",
    "    Y = y.copy()  # 대문자 Y를 새로운 변수로 하여 기존의 y값에 영향이 가지 않도록 한다.\n",
    "    Y[Y>threshold] = 1\n",
    "    Y[Y<threshold] = 0\n",
    "    return Y.astype(int)\n",
    "\n",
    "from sklearn.metrics import confusion_matrix\n",
    "# confusion matrix accuracy(정확도) 계산함수\n",
    "\n",
    "def acc(cfmat):\n",
    "    return (cfmat[0,0] + cfmat[1,1])/(cfmat[0,0] + cfmat[1,1] + cfmat[0,1] + cfmat[1,0])"
   ]
  },
  {
   "cell_type": "code",
   "execution_count": 9,
   "metadata": {},
   "outputs": [
    {
     "name": "stdout",
     "output_type": "stream",
     "text": [
      "Optimization terminated successfully.\n",
      "         Current function value: 0.579274\n",
      "         Iterations 5\n",
      "Optimization terminated successfully.\n",
      "         Current function value: 0.579274\n",
      "         Iterations 5\n",
      "Optimization terminated successfully.\n",
      "         Current function value: 0.579274\n",
      "         Iterations 5\n",
      "Optimization terminated successfully.\n",
      "         Current function value: 0.579274\n",
      "         Iterations 5\n"
     ]
    }
   ],
   "source": [
    "from sklearn.linear_model import LogisticRegression\n",
    "import statsmodels.api as sm\n",
    "from sklearn.metrics import precision_score,recall_score,f1_score,roc_auc_score\n",
    "\n",
    "anal_result = []\n",
    "m = [1000, 1500, 2000, 2500, 3000]\n",
    "c = [0.01, 0.1, 1, 10, 100]\n",
    "\n",
    "for i in m:\n",
    "    model = LogisticRegression(random_state = 42, solver = 'lbfgs', max_iter = i)\n",
    "    results = model.fit(X_over1_train,Y_over1_train)\n",
    "    \n",
    "    #로지스틱 모형 적합\n",
    "    model = sm.Logit(Y_over1_train,X_over1_train)\n",
    "    results = model.fit()\n",
    "\n",
    "    pred_y = results.predict(test_x)\n",
    "    pred_Y = cut_off(pred_y, 0.5)\n",
    "\n",
    "    cfmat = confusion_matrix(test_y,pred_Y)\n",
    "    accuracy = acc(cfmat)\n",
    "\n",
    "    pr = precision_score(test_y,pred_Y)\n",
    "    r = recall_score(test_y,pred_Y)\n",
    "    f1= f1_score(test_y,pred_Y)\n",
    "    auc_score = roc_auc_score(test_y,pred_y)\n",
    "    \n",
    "    anal_result.append((i, accuracy, cfmat, pr, r, f1, auc_score))"
   ]
  },
  {
   "cell_type": "code",
   "execution_count": 30,
   "metadata": {},
   "outputs": [
    {
     "name": "stdout",
     "output_type": "stream",
     "text": [
      "Optimization terminated successfully.\n",
      "         Current function value: 0.550403\n",
      "         Iterations 6\n",
      "[[ 722  348]\n",
      " [3242 7424]]\n",
      "              precision    recall  f1-score   support\n",
      "\n",
      "        사고보증       0.18      0.67      0.29      1070\n",
      "        정상보증       0.96      0.70      0.81     10666\n",
      "\n",
      "    accuracy                           0.69     11736\n",
      "   macro avg       0.57      0.69      0.55     11736\n",
      "weighted avg       0.88      0.69      0.76     11736\n",
      "\n"
     ]
    }
   ],
   "source": [
    "from sklearn.metrics import classification_report\n",
    "from sklearn.linear_model import LogisticRegression\n",
    "import statsmodels.api as sm\n",
    "from sklearn.metrics import precision_score,recall_score,f1_score,roc_auc_score\n",
    "\n",
    "model = LogisticRegression()\n",
    "results = model.fit(X_over1_train,Y_over1_train)\n",
    "model = sm.Logit(Y_over1_train,X_over1_train)\n",
    "results = model.fit()\n",
    "pred_y = results.predict(test_x)\n",
    "pred_Y = cut_off(pred_y, 0.5)\n",
    "cfmat = confusion_matrix(test_y,pred_Y)\n",
    "print(cfmat)\n",
    "print(classification_report(test_y, pred_Y, target_names=['사고보증', '정상보증']))"
   ]
  },
  {
   "cell_type": "code",
   "execution_count": 10,
   "metadata": {},
   "outputs": [
    {
     "name": "stdout",
     "output_type": "stream",
     "text": [
      "[(1500, 0.5389400136332652, array([[5446, 5220],\n",
      "       [ 191,  879]], dtype=int64), 0.1441219872110182, 0.8214953271028037, 0.24522248570232946, 0.7491535247822146), (2000, 0.5389400136332652, array([[5446, 5220],\n",
      "       [ 191,  879]], dtype=int64), 0.1441219872110182, 0.8214953271028037, 0.24522248570232946, 0.7491535247822146), (2500, 0.5389400136332652, array([[5446, 5220],\n",
      "       [ 191,  879]], dtype=int64), 0.1441219872110182, 0.8214953271028037, 0.24522248570232946, 0.7491535247822146), (3000, 0.5389400136332652, array([[5446, 5220],\n",
      "       [ 191,  879]], dtype=int64), 0.1441219872110182, 0.8214953271028037, 0.24522248570232946, 0.7491535247822146)]\n"
     ]
    }
   ],
   "source": [
    "print(anal_result)"
   ]
  },
  {
   "cell_type": "markdown",
   "metadata": {},
   "source": [
    "2. ADASYN"
   ]
  },
  {
   "cell_type": "code",
   "execution_count": 11,
   "metadata": {},
   "outputs": [
    {
     "name": "stdout",
     "output_type": "stream",
     "text": [
      "Optimization terminated successfully.\n",
      "         Current function value: 0.611243\n",
      "         Iterations 5\n",
      "Optimization terminated successfully.\n",
      "         Current function value: 0.611243\n",
      "         Iterations 5\n",
      "Optimization terminated successfully.\n",
      "         Current function value: 0.611243\n",
      "         Iterations 5\n",
      "Optimization terminated successfully.\n",
      "         Current function value: 0.611243\n",
      "         Iterations 5\n"
     ]
    }
   ],
   "source": [
    "from sklearn.linear_model import LogisticRegression\n",
    "import statsmodels.api as sm\n",
    "from sklearn.metrics import precision_score,recall_score,f1_score,roc_auc_score\n",
    "\n",
    "anal_result = []\n",
    "m = [1000, 1500, 2000, 2500, 3000]\n",
    "c = [0.01, 0.1, 1, 10, 100]\n",
    "\n",
    "for i in m:\n",
    "    model = LogisticRegression(random_state = 42, solver = 'lbfgs', max_iter = 1000, C = i)\n",
    "    results = model.fit(X_over2_train,Y_over2_train)\n",
    "    \n",
    "    #로지스틱 모형 적합\n",
    "    model = sm.Logit(Y_over2_train,X_over2_train)\n",
    "    results = model.fit()\n",
    "\n",
    "    pred_y = results.predict(test_x)\n",
    "    pred_Y = cut_off(pred_y, 0.5)\n",
    "\n",
    "    cfmat = confusion_matrix(test_y,pred_Y)\n",
    "    accuracy = acc(cfmat)\n",
    "\n",
    "    pr = precision_score(test_y,pred_Y)\n",
    "    r = recall_score(test_y,pred_Y)\n",
    "    f1= f1_score(test_y,pred_Y)\n",
    "    auc_score = roc_auc_score(test_y,pred_y)\n",
    "    \n",
    "    anal_result.append((i, accuracy, cfmat, pr, r, f1, auc_score))"
   ]
  },
  {
   "cell_type": "code",
   "execution_count": 31,
   "metadata": {},
   "outputs": [
    {
     "name": "stdout",
     "output_type": "stream",
     "text": [
      "Optimization terminated successfully.\n",
      "         Current function value: 0.595659\n",
      "         Iterations 6\n",
      "[[ 779  291]\n",
      " [3647 7019]]\n",
      "              precision    recall  f1-score   support\n",
      "\n",
      "        사고보증       0.18      0.73      0.28      1070\n",
      "        정상보증       0.96      0.66      0.78     10666\n",
      "\n",
      "    accuracy                           0.66     11736\n",
      "   macro avg       0.57      0.69      0.53     11736\n",
      "weighted avg       0.89      0.66      0.74     11736\n",
      "\n"
     ]
    }
   ],
   "source": [
    "model = LogisticRegression()\n",
    "results = model.fit(X_over2_train,Y_over2_train)\n",
    "model = sm.Logit(Y_over2_train,X_over2_train)\n",
    "results = model.fit()\n",
    "pred_y = results.predict(test_x)\n",
    "pred_Y = cut_off(pred_y, 0.5)\n",
    "cfmat = confusion_matrix(test_y,pred_Y)\n",
    "print(cfmat)\n",
    "print(classification_report(test_y, pred_Y, target_names=['사고보증', '정상보증']))"
   ]
  },
  {
   "cell_type": "code",
   "execution_count": 12,
   "metadata": {},
   "outputs": [
    {
     "name": "stdout",
     "output_type": "stream",
     "text": [
      "[(1500, 0.5328902522154055, array([[5363, 5303],\n",
      "       [ 179,  891]], dtype=int64), 0.1438488860187278, 0.8327102803738318, 0.2453193832599119, 0.7484908373362121), (2000, 0.5328902522154055, array([[5363, 5303],\n",
      "       [ 179,  891]], dtype=int64), 0.1438488860187278, 0.8327102803738318, 0.2453193832599119, 0.7484908373362121), (2500, 0.5328902522154055, array([[5363, 5303],\n",
      "       [ 179,  891]], dtype=int64), 0.1438488860187278, 0.8327102803738318, 0.2453193832599119, 0.7484908373362121), (3000, 0.5328902522154055, array([[5363, 5303],\n",
      "       [ 179,  891]], dtype=int64), 0.1438488860187278, 0.8327102803738318, 0.2453193832599119, 0.7484908373362121)]\n"
     ]
    }
   ],
   "source": [
    "print(anal_result)"
   ]
  },
  {
   "cell_type": "markdown",
   "metadata": {},
   "source": [
    "# 언더샘플링"
   ]
  },
  {
   "cell_type": "markdown",
   "metadata": {},
   "source": [
    "1. EditedNearestNeighbours"
   ]
  },
  {
   "cell_type": "code",
   "execution_count": 13,
   "metadata": {},
   "outputs": [
    {
     "name": "stdout",
     "output_type": "stream",
     "text": [
      "precision :  0.1438488860187278\n",
      "recall :  0.8327102803738318\n",
      "f1_score: 0.2453193832599119\n",
      "auc_score :  0.7484908373362121\n"
     ]
    }
   ],
   "source": [
    "from sklearn.metrics import precision_score,recall_score,f1_score,roc_auc_score\n",
    "\n",
    "pr = precision_score(test_y,pred_Y)\n",
    "print(\"precision : \",pr)\n",
    "r = recall_score(test_y,pred_Y)\n",
    "print(\"recall : \",r)\n",
    "f1= f1_score(test_y,pred_Y)\n",
    "print(\"f1_score:\",f1)\n",
    "auc_score = roc_auc_score(test_y,pred_y)\n",
    "print(\"auc_score : \",auc_score)"
   ]
  },
  {
   "cell_type": "code",
   "execution_count": 50,
   "metadata": {},
   "outputs": [
    {
     "name": "stdout",
     "output_type": "stream",
     "text": [
      "35620    0.492274\n",
      "13304    0.524007\n",
      "38803    0.607100\n",
      "8618     0.514990\n",
      "36794    0.625699\n",
      "           ...   \n",
      "4064     0.565968\n",
      "7401     0.349983\n",
      "28336    0.375821\n",
      "34226    0.419129\n",
      "22837    0.368435\n",
      "Length: 11736, dtype: float64\n"
     ]
    }
   ],
   "source": [
    "from sklearn.linear_model import LogisticRegression\n",
    "import statsmodels.api as sm\n",
    "from sklearn.metrics import precision_score,recall_score,f1_score,roc_auc_score\n",
    "\n",
    "anal_result = []\n",
    "m = [1000, 1500, 2000, 2500, 3000]\n",
    "c = [0.01, 0.1, 1, 10, 100]\n",
    "\n",
    "for i in m:\n",
    "    model = LogisticRegression(random_state = 42, solver = 'lbfgs', max_iter = i)\n",
    "    results = model.fit(X_under1_train,Y_under1_train)\n",
    "    \n",
    "    #로지스틱 모형 적합\n",
    "    model = sm.Logit(Y_under1_train,X_under1_train)\n",
    "    results = model.fit()\n",
    "\n",
    "    pred_y = results.predict(test_x)\n",
    "    pred_Y = cut_off(pred_y, 0.5)\n",
    "\n",
    "    cfmat = confusion_matrix(test_y,pred_Y)\n",
    "    accuracy = acc(cfmat)\n",
    "\n",
    "    pr = precision_score(test_y,pred_Y)\n",
    "    r = recall_score(test_y,pred_Y)\n",
    "    f1= f1_score(test_y,pred_Y)\n",
    "    auc_score = roc_auc_score(test_y,pred_y)\n",
    "    \n",
    "    anal_result.append((i, accuracy, cfmat, pr, r, f1, auc_score))"
   ]
  },
  {
   "cell_type": "code",
   "execution_count": 32,
   "metadata": {},
   "outputs": [
    {
     "name": "stdout",
     "output_type": "stream",
     "text": [
      "Optimization terminated successfully.\n",
      "         Current function value: 0.331657\n",
      "         Iterations 8\n",
      "[[ 460  610]\n",
      " [1596 9070]]\n",
      "              precision    recall  f1-score   support\n",
      "\n",
      "        사고보증       0.22      0.43      0.29      1070\n",
      "        정상보증       0.94      0.85      0.89     10666\n",
      "\n",
      "    accuracy                           0.81     11736\n",
      "   macro avg       0.58      0.64      0.59     11736\n",
      "weighted avg       0.87      0.81      0.84     11736\n",
      "\n"
     ]
    }
   ],
   "source": [
    "model = LogisticRegression()\n",
    "results = model.fit(X_under1_train,Y_under1_train)\n",
    "model = sm.Logit(Y_under1_train,X_under1_train)\n",
    "results = model.fit()\n",
    "pred_y = results.predict(test_x)\n",
    "pred_Y = cut_off(pred_y, 0.5)\n",
    "cfmat = confusion_matrix(test_y,pred_Y)\n",
    "print(cfmat)\n",
    "print(classification_report(test_y, pred_Y, target_names=['사고보증', '정상보증']))"
   ]
  },
  {
   "cell_type": "code",
   "execution_count": 51,
   "metadata": {},
   "outputs": [
    {
     "data": {
      "text/plain": [
       "35620    0\n",
       "13304    1\n",
       "38803    1\n",
       "8618     1\n",
       "36794    1\n",
       "        ..\n",
       "4064     1\n",
       "7401     0\n",
       "28336    0\n",
       "34226    0\n",
       "22837    0\n",
       "Length: 11736, dtype: int32"
      ]
     },
     "execution_count": 51,
     "metadata": {},
     "output_type": "execute_result"
    }
   ],
   "source": [
    "print(anal_result)"
   ]
  },
  {
   "cell_type": "markdown",
   "metadata": {},
   "source": [
    "2. TomekLinks"
   ]
  },
  {
   "cell_type": "code",
   "execution_count": 55,
   "metadata": {},
   "outputs": [
    {
     "data": {
      "image/png": "[encoded data removed]",
      "text/plain": [
       "<Figure size 432x288 with 1 Axes>"
      ]
     },
     "metadata": {
      "needs_background": "light"
     },
     "output_type": "display_data"
    }
   ],
   "source": [
    "from sklearn.linear_model import LogisticRegression\n",
    "import statsmodels.api as sm\n",
    "from sklearn.metrics import precision_score,recall_score,f1_score,roc_auc_score\n",
    "\n",
    "anal_result = []\n",
    "m = [1000, 1500, 2000, 2500, 3000]\n",
    "c = [0.01, 0.1, 1, 10, 100]\n",
    "\n",
    "for i in m:\n",
    "    model = LogisticRegression(random_state = 42, solver = 'lbfgs', max_iter = i)\n",
    "    results = model.fit(X_under2_train,Y_under2_train)\n",
    "    \n",
    "    #로지스틱 모형 적합\n",
    "    model = sm.Logit(Y_under2_train,X_under2_train)\n",
    "    results = model.fit()\n",
    "\n",
    "    pred_y = results.predict(test_x)\n",
    "    pred_Y = cut_off(pred_y, 0.5)\n",
    "\n",
    "    cfmat = confusion_matrix(test_y,pred_Y)\n",
    "    accuracy = acc(cfmat)\n",
    "\n",
    "    pr = precision_score(test_y,pred_Y)\n",
    "    r = recall_score(test_y,pred_Y)\n",
    "    f1= f1_score(test_y,pred_Y)\n",
    "    auc_score = roc_auc_score(test_y,pred_y)\n",
    "    \n",
    "    anal_result.append((i, accuracy, cfmat, pr, r, f1, auc_score))"
   ]
  },
  {
   "cell_type": "code",
   "execution_count": 33,
   "metadata": {},
   "outputs": [
    {
     "name": "stdout",
     "output_type": "stream",
     "text": [
      "Optimization terminated successfully.\n",
      "         Current function value: 0.312741\n",
      "         Iterations 7\n",
      "[[   66  1004]\n",
      " [  155 10511]]\n",
      "              precision    recall  f1-score   support\n",
      "\n",
      "        사고보증       0.30      0.06      0.10      1070\n",
      "        정상보증       0.91      0.99      0.95     10666\n",
      "\n",
      "    accuracy                           0.90     11736\n",
      "   macro avg       0.61      0.52      0.52     11736\n",
      "weighted avg       0.86      0.90      0.87     11736\n",
      "\n"
     ]
    }
   ],
   "source": [
    "model = LogisticRegression()\n",
    "results = model.fit(X_under2_train,Y_under2_train)\n",
    "model = sm.Logit(Y_under2_train,X_under2_train)\n",
    "results = model.fit()\n",
    "pred_y = results.predict(test_x)\n",
    "pred_Y = cut_off(pred_y, 0.5)\n",
    "cfmat = confusion_matrix(test_y,pred_Y)\n",
    "print(cfmat)\n",
    "print(classification_report(test_y, pred_Y, target_names=['사고보증', '정상보증']))"
   ]
  },
  {
   "cell_type": "code",
   "execution_count": null,
   "metadata": {},
   "outputs": [],
   "source": [
    "print(anal_result)"
   ]
  },
  {
   "cell_type": "markdown",
   "metadata": {},
   "source": [
    "# 혼합샘플링"
   ]
  },
  {
   "cell_type": "markdown",
   "metadata": {},
   "source": [
    "1. SMOTEENN"
   ]
  },
  {
   "cell_type": "code",
   "execution_count": 57,
   "metadata": {},
   "outputs": [
    {
     "name": "stdout",
     "output_type": "stream",
     "text": [
      "35620    0.562487\n",
      "13304    0.605198\n",
      "38803    0.894126\n",
      "8618     0.527672\n",
      "36794    0.884854\n",
      "           ...   \n",
      "4064     0.652166\n",
      "7401     0.043432\n",
      "28336    0.016551\n",
      "34226    0.215665\n",
      "22837    0.032817\n",
      "Length: 11736, dtype: float64\n"
     ]
    }
   ],
   "source": [
    "from sklearn.linear_model import LogisticRegression\n",
    "import statsmodels.api as sm\n",
    "from sklearn.metrics import precision_score,recall_score,f1_score,roc_auc_score\n",
    "\n",
    "anal_result = []\n",
    "m = [1000, 1500, 2000, 2500, 3000]\n",
    "c = [0.01, 0.1, 1, 10, 100]\n",
    "\n",
    "for i in m:\n",
    "    model = LogisticRegression(random_state = 42, solver = 'lbfgs', max_iter = i)\n",
    "    results = model.fit(X_comb1_train,Y_comb1_train)\n",
    "    \n",
    "    #로지스틱 모형 적합\n",
    "    model = sm.Logit(Y_comb1_train,X_comb1_train)\n",
    "    results = model.fit()\n",
    "\n",
    "    pred_y = results.predict(test_x)\n",
    "    pred_Y = cut_off(pred_y, 0.5)\n",
    "\n",
    "    cfmat = confusion_matrix(test_y,pred_Y)\n",
    "    accuracy = acc(cfmat)\n",
    "\n",
    "    pr = precision_score(test_y,pred_Y)\n",
    "    r = recall_score(test_y,pred_Y)\n",
    "    f1= f1_score(test_y,pred_Y)\n",
    "    auc_score = roc_auc_score(test_y,pred_y)\n",
    "    \n",
    "    anal_result.append((i, accuracy, cfmat, pr, r, f1, auc_score))"
   ]
  },
  {
   "cell_type": "code",
   "execution_count": 34,
   "metadata": {},
   "outputs": [
    {
     "name": "stdout",
     "output_type": "stream",
     "text": [
      "Optimization terminated successfully.\n",
      "         Current function value: 0.503193\n",
      "         Iterations 7\n",
      "[[ 870  200]\n",
      " [4792 5874]]\n",
      "              precision    recall  f1-score   support\n",
      "\n",
      "        사고보증       0.15      0.81      0.26      1070\n",
      "        정상보증       0.97      0.55      0.70     10666\n",
      "\n",
      "    accuracy                           0.57     11736\n",
      "   macro avg       0.56      0.68      0.48     11736\n",
      "weighted avg       0.89      0.57      0.66     11736\n",
      "\n"
     ]
    }
   ],
   "source": [
    "model = LogisticRegression()\n",
    "results = model.fit(X_comb1_train,Y_comb1_train)\n",
    "model = sm.Logit(Y_comb1_train,X_comb1_train)\n",
    "results = model.fit()\n",
    "pred_y = results.predict(test_x)\n",
    "pred_Y = cut_off(pred_y, 0.5)\n",
    "cfmat = confusion_matrix(test_y,pred_Y)\n",
    "print(cfmat)\n",
    "print(classification_report(test_y, pred_Y, target_names=['사고보증', '정상보증']))"
   ]
  },
  {
   "cell_type": "code",
   "execution_count": 58,
   "metadata": {},
   "outputs": [
    {
     "data": {
      "text/plain": [
       "35620    1\n",
       "13304    1\n",
       "38803    1\n",
       "8618     1\n",
       "36794    1\n",
       "        ..\n",
       "4064     1\n",
       "7401     0\n",
       "28336    0\n",
       "34226    0\n",
       "22837    0\n",
       "Length: 11736, dtype: int32"
      ]
     },
     "execution_count": 58,
     "metadata": {},
     "output_type": "execute_result"
    }
   ],
   "source": [
    "print(anal_result)"
   ]
  },
  {
   "cell_type": "markdown",
   "metadata": {},
   "source": [
    "2. SMOTETomek"
   ]
  },
  {
   "cell_type": "code",
   "execution_count": 63,
   "metadata": {},
   "outputs": [
    {
     "name": "stdout",
     "output_type": "stream",
     "text": [
      "Optimization terminated successfully.\n",
      "         Current function value: 0.601275\n",
      "         Iterations 5\n"
     ]
    }
   ],
   "source": [
    "from sklearn.linear_model import LogisticRegression\n",
    "import statsmodels.api as sm\n",
    "from sklearn.metrics import precision_score,recall_score,f1_score,roc_auc_score\n",
    "\n",
    "anal_result = []\n",
    "m = [1000, 1500, 2000, 2500, 3000]\n",
    "c = [0.01, 0.1, 1, 10, 100]\n",
    "\n",
    "for i in m:\n",
    "    model = LogisticRegression(random_state = 42, solver = 'lbfgs', max_iter = i)\n",
    "    results = model.fit(X_comb2_train,Y_comb2_train)\n",
    "    \n",
    "    #로지스틱 모형 적합\n",
    "    model = sm.Logit(Y_comb2_train,X_comb2_train)\n",
    "    results = model.fit()\n",
    "\n",
    "    pred_y = results.predict(test_x)\n",
    "    pred_Y = cut_off(pred_y, 0.5)\n",
    "\n",
    "    cfmat = confusion_matrix(test_y,pred_Y)\n",
    "    accuracy = acc(cfmat)\n",
    "\n",
    "    pr = precision_score(test_y,pred_Y)\n",
    "    r = recall_score(test_y,pred_Y)\n",
    "    f1= f1_score(test_y,pred_Y)\n",
    "    auc_score = roc_auc_score(test_y,pred_y)\n",
    "    \n",
    "    anal_result.append((i, accuracy, cfmat, pr, r, f1, auc_score))"
   ]
  },
  {
   "cell_type": "code",
   "execution_count": 35,
   "metadata": {},
   "outputs": [
    {
     "name": "stdout",
     "output_type": "stream",
     "text": [
      "Optimization terminated successfully.\n",
      "         Current function value: 0.582487\n",
      "         Iterations 6\n",
      "[[ 767  303]\n",
      " [3559 7107]]\n",
      "              precision    recall  f1-score   support\n",
      "\n",
      "        사고보증       0.18      0.72      0.28      1070\n",
      "        정상보증       0.96      0.67      0.79     10666\n",
      "\n",
      "    accuracy                           0.67     11736\n",
      "   macro avg       0.57      0.69      0.54     11736\n",
      "weighted avg       0.89      0.67      0.74     11736\n",
      "\n"
     ]
    }
   ],
   "source": [
    "model = LogisticRegression()\n",
    "results = model.fit(X_comb2_train,Y_comb2_train)\n",
    "model = sm.Logit(Y_comb2_train,X_comb2_train)\n",
    "results = model.fit()\n",
    "pred_y = results.predict(test_x)\n",
    "pred_Y = cut_off(pred_y, 0.5)\n",
    "cfmat = confusion_matrix(test_y,pred_Y)\n",
    "print(cfmat)\n",
    "print(classification_report(test_y, pred_Y, target_names=['사고보증', '정상보증']))"
   ]
  },
  {
   "cell_type": "code",
   "execution_count": 65,
   "metadata": {},
   "outputs": [
    {
     "data": {
      "text/plain": [
       "35620    1\n",
       "13304    1\n",
       "38803    1\n",
       "8618     1\n",
       "36794    1\n",
       "        ..\n",
       "4064     1\n",
       "7401     0\n",
       "28336    0\n",
       "34226    0\n",
       "22837    0\n",
       "Length: 11736, dtype: int32"
      ]
     },
     "execution_count": 65,
     "metadata": {},
     "output_type": "execute_result"
    }
   ],
   "source": [
    "print(anal_result)"
   ]
  }
 ],
 "metadata": {
  "interpreter": {
   "hash": "4000436974652e2da39f7abf97d4cef3d01362244b176d22af40d9d73df68d1f"
  },
  "kernelspec": {
   "display_name": "Python 3.8.10 64-bit ('Study_Big': conda)",
   "language": "python",
   "name": "python3"
  },
  "language_info": {
   "codemirror_mode": {
    "name": "ipython",
    "version": 3
   },
   "file_extension": ".py",
   "mimetype": "text/x-python",
   "name": "python",
   "nbconvert_exporter": "python",
   "pygments_lexer": "ipython3",
   "version": "3.8.10"
  },
  "orig_nbformat": 4
 },
 "nbformat": 4,
 "nbformat_minor": 2
}
