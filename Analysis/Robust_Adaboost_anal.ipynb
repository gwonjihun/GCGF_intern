{
 "cells": [
  {
   "cell_type": "code",
   "execution_count": 46,
   "metadata": {},
   "outputs": [
    {
     "data": {
      "text/html": [
       "<div>\n",
       "<style scoped>\n",
       "    .dataframe tbody tr th:only-of-type {\n",
       "        vertical-align: middle;\n",
       "    }\n",
       "\n",
       "    .dataframe tbody tr th {\n",
       "        vertical-align: top;\n",
       "    }\n",
       "\n",
       "    .dataframe thead th {\n",
       "        text-align: right;\n",
       "    }\n",
       "</style>\n",
       "<table border=\"1\" class=\"dataframe\">\n",
       "  <thead>\n",
       "    <tr style=\"text-align: right;\">\n",
       "      <th></th>\n",
       "      <th>CUSTNO</th>\n",
       "      <th>GNO</th>\n",
       "      <th>CBSCORE</th>\n",
       "      <th>CBSCOREGRD</th>\n",
       "      <th>CREDITOTAMT</th>\n",
       "      <th>YSALEAMT</th>\n",
       "      <th>ESTMM</th>\n",
       "      <th>ASSETAMT</th>\n",
       "      <th>IMSAAMT</th>\n",
       "      <th>IMJUAMT</th>\n",
       "      <th>...</th>\n",
       "      <th>환율</th>\n",
       "      <th>GDP</th>\n",
       "      <th>소상공인체감지수</th>\n",
       "      <th>실업률</th>\n",
       "      <th>물가지수</th>\n",
       "      <th>국고채</th>\n",
       "      <th>금리</th>\n",
       "      <th>유가등락률</th>\n",
       "      <th>소비자심리지수</th>\n",
       "      <th>ONEHOT</th>\n",
       "    </tr>\n",
       "  </thead>\n",
       "  <tbody>\n",
       "    <tr>\n",
       "      <th>0</th>\n",
       "      <td>475821</td>\n",
       "      <td>l180202101898</td>\n",
       "      <td>1.015873</td>\n",
       "      <td>1</td>\n",
       "      <td>0.230769</td>\n",
       "      <td>10.743169</td>\n",
       "      <td>0.014085</td>\n",
       "      <td>10</td>\n",
       "      <td>0.0</td>\n",
       "      <td>0.0</td>\n",
       "      <td>...</td>\n",
       "      <td>0.009592</td>\n",
       "      <td>1.885958</td>\n",
       "      <td>51.40</td>\n",
       "      <td>0.000000</td>\n",
       "      <td>1.724868</td>\n",
       "      <td>-1.256410</td>\n",
       "      <td>-4.0</td>\n",
       "      <td>1.750600</td>\n",
       "      <td>0.798246</td>\n",
       "      <td>3</td>\n",
       "    </tr>\n",
       "    <tr>\n",
       "      <th>1</th>\n",
       "      <td>74417</td>\n",
       "      <td>l230201700120</td>\n",
       "      <td>0.206349</td>\n",
       "      <td>2</td>\n",
       "      <td>0.205128</td>\n",
       "      <td>6.027322</td>\n",
       "      <td>-0.380282</td>\n",
       "      <td>25</td>\n",
       "      <td>-0.5</td>\n",
       "      <td>25.0</td>\n",
       "      <td>...</td>\n",
       "      <td>0.537170</td>\n",
       "      <td>-0.901805</td>\n",
       "      <td>53.80</td>\n",
       "      <td>0.666667</td>\n",
       "      <td>-0.640212</td>\n",
       "      <td>-0.307692</td>\n",
       "      <td>-1.0</td>\n",
       "      <td>1.100719</td>\n",
       "      <td>-0.596491</td>\n",
       "      <td>8</td>\n",
       "    </tr>\n",
       "    <tr>\n",
       "      <th>2</th>\n",
       "      <td>387787</td>\n",
       "      <td>l110201603233</td>\n",
       "      <td>0.396825</td>\n",
       "      <td>1</td>\n",
       "      <td>-0.282051</td>\n",
       "      <td>3.775956</td>\n",
       "      <td>2.098592</td>\n",
       "      <td>10</td>\n",
       "      <td>0.0</td>\n",
       "      <td>0.0</td>\n",
       "      <td>...</td>\n",
       "      <td>0.978417</td>\n",
       "      <td>-1.182547</td>\n",
       "      <td>72.60</td>\n",
       "      <td>0.000000</td>\n",
       "      <td>-1.417989</td>\n",
       "      <td>-0.461538</td>\n",
       "      <td>-1.0</td>\n",
       "      <td>0.110312</td>\n",
       "      <td>-0.482456</td>\n",
       "      <td>7</td>\n",
       "    </tr>\n",
       "    <tr>\n",
       "      <th>3</th>\n",
       "      <td>395418</td>\n",
       "      <td>l230201700254</td>\n",
       "      <td>0.000000</td>\n",
       "      <td>2</td>\n",
       "      <td>0.076923</td>\n",
       "      <td>3.562842</td>\n",
       "      <td>-0.352113</td>\n",
       "      <td>10</td>\n",
       "      <td>0.0</td>\n",
       "      <td>0.0</td>\n",
       "      <td>...</td>\n",
       "      <td>0.520384</td>\n",
       "      <td>-0.901805</td>\n",
       "      <td>76.20</td>\n",
       "      <td>-0.333333</td>\n",
       "      <td>-0.677249</td>\n",
       "      <td>-0.205128</td>\n",
       "      <td>-1.0</td>\n",
       "      <td>0.429257</td>\n",
       "      <td>-0.394737</td>\n",
       "      <td>3</td>\n",
       "    </tr>\n",
       "    <tr>\n",
       "      <th>4</th>\n",
       "      <td>190372</td>\n",
       "      <td>l200201601418</td>\n",
       "      <td>-2.476190</td>\n",
       "      <td>6</td>\n",
       "      <td>-0.102564</td>\n",
       "      <td>1.437158</td>\n",
       "      <td>1.845070</td>\n",
       "      <td>80</td>\n",
       "      <td>-0.4</td>\n",
       "      <td>0.0</td>\n",
       "      <td>...</td>\n",
       "      <td>0.446043</td>\n",
       "      <td>-1.357134</td>\n",
       "      <td>63.20</td>\n",
       "      <td>-0.333333</td>\n",
       "      <td>-1.867725</td>\n",
       "      <td>-1.461538</td>\n",
       "      <td>-1.0</td>\n",
       "      <td>-0.618705</td>\n",
       "      <td>-0.017544</td>\n",
       "      <td>7</td>\n",
       "    </tr>\n",
       "    <tr>\n",
       "      <th>...</th>\n",
       "      <td>...</td>\n",
       "      <td>...</td>\n",
       "      <td>...</td>\n",
       "      <td>...</td>\n",
       "      <td>...</td>\n",
       "      <td>...</td>\n",
       "      <td>...</td>\n",
       "      <td>...</td>\n",
       "      <td>...</td>\n",
       "      <td>...</td>\n",
       "      <td>...</td>\n",
       "      <td>...</td>\n",
       "      <td>...</td>\n",
       "      <td>...</td>\n",
       "      <td>...</td>\n",
       "      <td>...</td>\n",
       "      <td>...</td>\n",
       "      <td>...</td>\n",
       "      <td>...</td>\n",
       "      <td>...</td>\n",
       "      <td>...</td>\n",
       "    </tr>\n",
       "    <tr>\n",
       "      <th>39112</th>\n",
       "      <td>514919</td>\n",
       "      <td>l240201902522</td>\n",
       "      <td>-0.253968</td>\n",
       "      <td>3</td>\n",
       "      <td>-0.282051</td>\n",
       "      <td>-0.393443</td>\n",
       "      <td>-0.338028</td>\n",
       "      <td>0</td>\n",
       "      <td>-0.5</td>\n",
       "      <td>0.0</td>\n",
       "      <td>...</td>\n",
       "      <td>0.772182</td>\n",
       "      <td>1.448316</td>\n",
       "      <td>65.90</td>\n",
       "      <td>0.000000</td>\n",
       "      <td>0.523810</td>\n",
       "      <td>-1.025641</td>\n",
       "      <td>-1.0</td>\n",
       "      <td>0.489209</td>\n",
       "      <td>0.008772</td>\n",
       "      <td>7</td>\n",
       "    </tr>\n",
       "    <tr>\n",
       "      <th>39113</th>\n",
       "      <td>357361</td>\n",
       "      <td>l160201601877</td>\n",
       "      <td>-1.603175</td>\n",
       "      <td>5</td>\n",
       "      <td>0.000000</td>\n",
       "      <td>-0.393443</td>\n",
       "      <td>-0.366197</td>\n",
       "      <td>10</td>\n",
       "      <td>-0.5</td>\n",
       "      <td>10.0</td>\n",
       "      <td>...</td>\n",
       "      <td>1.122302</td>\n",
       "      <td>-1.499675</td>\n",
       "      <td>64.60</td>\n",
       "      <td>-0.333333</td>\n",
       "      <td>-1.767196</td>\n",
       "      <td>-1.179487</td>\n",
       "      <td>-1.0</td>\n",
       "      <td>-0.786571</td>\n",
       "      <td>-0.210526</td>\n",
       "      <td>16</td>\n",
       "    </tr>\n",
       "    <tr>\n",
       "      <th>39114</th>\n",
       "      <td>340606</td>\n",
       "      <td>l270201900572</td>\n",
       "      <td>-2.349206</td>\n",
       "      <td>6</td>\n",
       "      <td>-0.051282</td>\n",
       "      <td>-0.393443</td>\n",
       "      <td>0.140845</td>\n",
       "      <td>0</td>\n",
       "      <td>-0.5</td>\n",
       "      <td>0.0</td>\n",
       "      <td>...</td>\n",
       "      <td>-0.028777</td>\n",
       "      <td>0.593436</td>\n",
       "      <td>67.85</td>\n",
       "      <td>0.333333</td>\n",
       "      <td>0.190476</td>\n",
       "      <td>0.000000</td>\n",
       "      <td>1.0</td>\n",
       "      <td>-0.515588</td>\n",
       "      <td>-0.061404</td>\n",
       "      <td>19</td>\n",
       "    </tr>\n",
       "    <tr>\n",
       "      <th>39115</th>\n",
       "      <td>505207</td>\n",
       "      <td>l190201902523</td>\n",
       "      <td>1.063492</td>\n",
       "      <td>1</td>\n",
       "      <td>-0.282051</td>\n",
       "      <td>-0.393443</td>\n",
       "      <td>-0.436620</td>\n",
       "      <td>0</td>\n",
       "      <td>-0.5</td>\n",
       "      <td>0.0</td>\n",
       "      <td>...</td>\n",
       "      <td>0.733813</td>\n",
       "      <td>1.448316</td>\n",
       "      <td>72.80</td>\n",
       "      <td>0.000000</td>\n",
       "      <td>0.391534</td>\n",
       "      <td>-0.769231</td>\n",
       "      <td>-1.0</td>\n",
       "      <td>-0.139089</td>\n",
       "      <td>0.043860</td>\n",
       "      <td>16</td>\n",
       "    </tr>\n",
       "    <tr>\n",
       "      <th>39116</th>\n",
       "      <td>498678</td>\n",
       "      <td>l110201903609</td>\n",
       "      <td>0.238095</td>\n",
       "      <td>2</td>\n",
       "      <td>-0.153846</td>\n",
       "      <td>-0.393443</td>\n",
       "      <td>-0.281690</td>\n",
       "      <td>6</td>\n",
       "      <td>-0.2</td>\n",
       "      <td>0.0</td>\n",
       "      <td>...</td>\n",
       "      <td>2.009592</td>\n",
       "      <td>1.043791</td>\n",
       "      <td>50.55</td>\n",
       "      <td>-1.666667</td>\n",
       "      <td>0.359788</td>\n",
       "      <td>-1.615385</td>\n",
       "      <td>0.0</td>\n",
       "      <td>-0.844125</td>\n",
       "      <td>-0.675439</td>\n",
       "      <td>9</td>\n",
       "    </tr>\n",
       "  </tbody>\n",
       "</table>\n",
       "<p>39117 rows × 30 columns</p>\n",
       "</div>"
      ],
      "text/plain": [
       "       CUSTNO            GNO   CBSCORE  CBSCOREGRD  CREDITOTAMT   YSALEAMT  \\\n",
       "0      475821  l180202101898  1.015873           1     0.230769  10.743169   \n",
       "1       74417  l230201700120  0.206349           2     0.205128   6.027322   \n",
       "2      387787  l110201603233  0.396825           1    -0.282051   3.775956   \n",
       "3      395418  l230201700254  0.000000           2     0.076923   3.562842   \n",
       "4      190372  l200201601418 -2.476190           6    -0.102564   1.437158   \n",
       "...       ...            ...       ...         ...          ...        ...   \n",
       "39112  514919  l240201902522 -0.253968           3    -0.282051  -0.393443   \n",
       "39113  357361  l160201601877 -1.603175           5     0.000000  -0.393443   \n",
       "39114  340606  l270201900572 -2.349206           6    -0.051282  -0.393443   \n",
       "39115  505207  l190201902523  1.063492           1    -0.282051  -0.393443   \n",
       "39116  498678  l110201903609  0.238095           2    -0.153846  -0.393443   \n",
       "\n",
       "          ESTMM  ASSETAMT  IMSAAMT  IMJUAMT  ...        환율       GDP  \\\n",
       "0      0.014085        10      0.0      0.0  ...  0.009592  1.885958   \n",
       "1     -0.380282        25     -0.5     25.0  ...  0.537170 -0.901805   \n",
       "2      2.098592        10      0.0      0.0  ...  0.978417 -1.182547   \n",
       "3     -0.352113        10      0.0      0.0  ...  0.520384 -0.901805   \n",
       "4      1.845070        80     -0.4      0.0  ...  0.446043 -1.357134   \n",
       "...         ...       ...      ...      ...  ...       ...       ...   \n",
       "39112 -0.338028         0     -0.5      0.0  ...  0.772182  1.448316   \n",
       "39113 -0.366197        10     -0.5     10.0  ...  1.122302 -1.499675   \n",
       "39114  0.140845         0     -0.5      0.0  ... -0.028777  0.593436   \n",
       "39115 -0.436620         0     -0.5      0.0  ...  0.733813  1.448316   \n",
       "39116 -0.281690         6     -0.2      0.0  ...  2.009592  1.043791   \n",
       "\n",
       "       소상공인체감지수       실업률      물가지수       국고채   금리     유가등락률   소비자심리지수  ONEHOT  \n",
       "0         51.40  0.000000  1.724868 -1.256410 -4.0  1.750600  0.798246       3  \n",
       "1         53.80  0.666667 -0.640212 -0.307692 -1.0  1.100719 -0.596491       8  \n",
       "2         72.60  0.000000 -1.417989 -0.461538 -1.0  0.110312 -0.482456       7  \n",
       "3         76.20 -0.333333 -0.677249 -0.205128 -1.0  0.429257 -0.394737       3  \n",
       "4         63.20 -0.333333 -1.867725 -1.461538 -1.0 -0.618705 -0.017544       7  \n",
       "...         ...       ...       ...       ...  ...       ...       ...     ...  \n",
       "39112     65.90  0.000000  0.523810 -1.025641 -1.0  0.489209  0.008772       7  \n",
       "39113     64.60 -0.333333 -1.767196 -1.179487 -1.0 -0.786571 -0.210526      16  \n",
       "39114     67.85  0.333333  0.190476  0.000000  1.0 -0.515588 -0.061404      19  \n",
       "39115     72.80  0.000000  0.391534 -0.769231 -1.0 -0.139089  0.043860      16  \n",
       "39116     50.55 -1.666667  0.359788 -1.615385  0.0 -0.844125 -0.675439       9  \n",
       "\n",
       "[39117 rows x 30 columns]"
      ]
     },
     "execution_count": 46,
     "metadata": {},
     "output_type": "execute_result"
    }
   ],
   "source": [
    "import pandas as pd\n",
    "import matplotlib.pyplot as plt\n",
    "import statsmodels.api as sm\n",
    "\n",
    "data = pd.read_csv(\"DATA/Robust_Scaler_result.csv\",encoding=\"cp949\")\n",
    "data"
   ]
  },
  {
   "cell_type": "code",
   "execution_count": 4,
   "metadata": {},
   "outputs": [],
   "source": [
    "features = data[['CBSCORE', 'CREDITOTAMT', 'YSALEAMT',\n",
    "       'ESTMM',  'IMSAAMT', 'IMJUAMT', 'BUSAAMT', 'BUJUAMT',\n",
    "       'BU1TOTAMT', 'GAMT', 'LABORCNT', 'KOSPI', '환율', 'GDP', \n",
    "       '소상공인체감지수', '실업률', '물가지수', '국고채', '금리', '유가등락률',\n",
    "       '소비자심리지수','ONEHOT']]\n",
    "act['ACTCD'] = data['ACTCD']\n",
    "       "
   ]
  },
  {
   "cell_type": "code",
   "execution_count": 5,
   "metadata": {},
   "outputs": [
    {
     "name": "stdout",
     "output_type": "stream",
     "text": [
      "(27381, 22) (11736, 22) (27381,) (11736,)\n"
     ]
    }
   ],
   "source": [
    "from sklearn.model_selection import train_test_split\n",
    "\n",
    "train_x, test_x,train_y, test_y = train_test_split(features, act,\n",
    "stratify=act,train_size=0.7,test_size=0.3,random_state=1)\n",
    "\n",
    "print(train_x.shape, test_x.shape, train_y.shape, test_y.shape)"
   ]
  },
  {
   "cell_type": "code",
   "execution_count": 6,
   "metadata": {},
   "outputs": [],
   "source": [
    "from imblearn.over_sampling import BorderlineSMOTE, ADASYN\n",
    "from imblearn.under_sampling import EditedNearestNeighbours, TomekLinks\n",
    "from imblearn.combine import SMOTEENN, SMOTETomek\n",
    "\n",
    "#언더 샘플링\n",
    "enn = EditedNearestNeighbours(kind_sel=\"all\", n_neighbors=10)\n",
    "tomekl = TomekLinks()\n",
    "\n",
    "#오버 샘플링\n",
    "bsmote = BorderlineSMOTE(random_state=42)\n",
    "adasyn = ADASYN(random_state=42)\n",
    "\n",
    "#혼합 샘플링\n",
    "smotee = SMOTEENN(random_state=42)\n",
    "smoteT = SMOTETomek(random_state=42)\n",
    "\n",
    "\n",
    "X_under1_train, Y_under1_train = enn.fit_resample(train_x, train_y)\n",
    "X_under2_train, Y_under2_train = tomekl.fit_resample(train_x, train_y)\n",
    "\n",
    "X_over1_train, Y_over1_train = bsmote.fit_resample(train_x,train_y)\n",
    "X_over2_train, Y_over2_train = adasyn.fit_resample(train_x,train_y)\n",
    "\n",
    "X_comb1_train, Y_comb1_train = smotee.fit_resample(train_x, train_y)\n",
    "X_comb2_train, Y_comb2_train = smoteT.fit_resample(train_x, train_y)"
   ]
  },
  {
   "cell_type": "code",
   "execution_count": 7,
   "metadata": {},
   "outputs": [],
   "source": [
    "def cut_off(y, threshold) :\n",
    "    Y = y.copy()  # 대문자 Y를 새로운 변수로 하여 기존의 y값에 영향이 가지 않도록 한다.\n",
    "    Y[Y>threshold] = 1\n",
    "    Y[Y<threshold] = 0\n",
    "    return Y.astype(int)\n",
    "\n",
    "from sklearn.metrics import confusion_matrix\n",
    "# confusion matrix accuracy(정확도) 계산함수\n",
    "\n",
    "def acc(cfmat):\n",
    "    return (cfmat[0,0] + cfmat[1,1])/(cfmat[0,0] + cfmat[1,1] + cfmat[0,1] + cfmat[1,0])"
   ]
  },
  {
   "cell_type": "markdown",
   "metadata": {},
   "source": [
    "# 오버샘플링"
   ]
  },
  {
   "cell_type": "markdown",
   "metadata": {},
   "source": [
    "1. BorderlineSMOTE"
   ]
  },
  {
   "cell_type": "code",
   "execution_count": 8,
   "metadata": {},
   "outputs": [],
   "source": [
    "from sklearn.ensemble import AdaBoostClassifier\n",
    "from sklearn.tree import DecisionTreeClassifier"
   ]
  },
  {
   "cell_type": "code",
   "execution_count": 9,
   "metadata": {},
   "outputs": [],
   "source": [
    "eclf = AdaBoostClassifier(base_estimator=DecisionTreeClassifier(max_depth=2), n_estimators=100, learning_rate=0.1)"
   ]
  },
  {
   "cell_type": "code",
   "execution_count": 10,
   "metadata": {},
   "outputs": [
    {
     "data": {
      "text/plain": [
       "0.8403857745629898"
      ]
     },
     "execution_count": 10,
     "metadata": {},
     "output_type": "execute_result"
    }
   ],
   "source": [
    "from sklearn.model_selection import cross_val_score\n",
    "cross_val_score(eclf, X_over1_train, Y_over1_train, cv=5).mean()"
   ]
  },
  {
   "cell_type": "code",
   "execution_count": 11,
   "metadata": {},
   "outputs": [
    {
     "data": {
      "text/plain": [
       "DecisionTreeClassifier()"
      ]
     },
     "execution_count": 11,
     "metadata": {},
     "output_type": "execute_result"
    }
   ],
   "source": [
    "from sklearn.tree import DecisionTreeClassifier\n",
    "DecisionTreeClassifier()"
   ]
  },
  {
   "cell_type": "code",
   "execution_count": 12,
   "metadata": {},
   "outputs": [
    {
     "data": {
      "text/plain": [
       "AdaBoostClassifier()"
      ]
     },
     "execution_count": 12,
     "metadata": {},
     "output_type": "execute_result"
    }
   ],
   "source": [
    "AdaBoostClassifier()"
   ]
  },
  {
   "cell_type": "code",
   "execution_count": 13,
   "metadata": {},
   "outputs": [],
   "source": [
    "params = {\"base_estimator__criterion\" : [\"gini\", \"entropy\"],\n",
    "          \"base_estimator__max_features\" : [7,8,],\n",
    "          \"base_estimator__max_depth\" : [1,2],\n",
    "          \"n_estimators\": [23,24, 25, 26, 27],\n",
    "          \"learning_rate\": [0.4, 0.45, 0.5, 0.55, 0.6]\n",
    "         }"
   ]
  },
  {
   "cell_type": "code",
   "execution_count": 14,
   "metadata": {},
   "outputs": [
    {
     "data": {
      "text/plain": [
       "{'base_estimator__criterion': 'entropy',\n",
       " 'base_estimator__max_depth': 2,\n",
       " 'base_estimator__max_features': 8,\n",
       " 'learning_rate': 0.55,\n",
       " 'n_estimators': 25}"
      ]
     },
     "execution_count": 14,
     "metadata": {},
     "output_type": "execute_result"
    }
   ],
   "source": [
    "from sklearn.model_selection import GridSearchCV\n",
    "grid = GridSearchCV(estimator=eclf, param_grid=params, cv=5, n_jobs=7)\n",
    "grid = grid.fit(X_over1_train, Y_over1_train)\n",
    "\n",
    "grid.best_score_\n",
    "grid.best_params_"
   ]
  },
  {
   "cell_type": "code",
   "execution_count": 13,
   "metadata": {},
   "outputs": [
    {
     "data": {
      "text/plain": [
       "array([0.07766098, 0.04684005, 0.02373662, 0.08715234, 0.07228255,\n",
       "       0.07062534, 0.01287007, 0.0402632 , 0.08371823, 0.13837393,\n",
       "       0.11922424, 0.        , 0.00126807, 0.04223189, 0.00599657,\n",
       "       0.00151928, 0.02532738, 0.02047163, 0.0243234 , 0.        ,\n",
       "       0.00419939, 0.10191486])"
      ]
     },
     "execution_count": 13,
     "metadata": {},
     "output_type": "execute_result"
    }
   ],
   "source": [
    "grid.best_estimator_.feature_importances_"
   ]
  },
  {
   "cell_type": "code",
   "execution_count": 15,
   "metadata": {},
   "outputs": [],
   "source": [
    "from sklearn.metrics import precision_score,recall_score,f1_score,roc_auc_score\n",
    "\n",
    "dtc = DecisionTreeClassifier(criterion = 'entropy', max_depth = 2, max_features = 8)\n",
    "abc = AdaBoostClassifier(learning_rate = 0.55, n_estimators = 26)\n",
    "model = abc.fit(X_over1_train, Y_over1_train)\n",
    "\n",
    "pred_y = model.predict(test_x)\n",
    "pred_Y = cut_off(pred_y, 0.5)"
   ]
  },
  {
   "cell_type": "code",
   "execution_count": 16,
   "metadata": {},
   "outputs": [
    {
     "data": {
      "text/plain": [
       "array([[8051, 2615],\n",
       "       [ 476,  594]], dtype=int64)"
      ]
     },
     "execution_count": 16,
     "metadata": {},
     "output_type": "execute_result"
    }
   ],
   "source": [
    "cfmat = confusion_matrix(test_y,pred_Y)\n",
    "cfmat"
   ]
  },
  {
   "cell_type": "code",
   "execution_count": 17,
   "metadata": {},
   "outputs": [
    {
     "name": "stdout",
     "output_type": "stream",
     "text": [
      "              precision    recall  f1-score   support\n",
      "\n",
      "        사고보증       0.94      0.75      0.84     10666\n",
      "        정상보증       0.19      0.56      0.28      1070\n",
      "\n",
      "    accuracy                           0.74     11736\n",
      "   macro avg       0.56      0.65      0.56     11736\n",
      "weighted avg       0.87      0.74      0.79     11736\n",
      "\n"
     ]
    }
   ],
   "source": [
    "from sklearn.metrics import classification_report\n",
    "print(classification_report(test_y, pred_Y, target_names=['사고보증', '정상보증']))"
   ]
  },
  {
   "cell_type": "code",
   "execution_count": 16,
   "metadata": {},
   "outputs": [
    {
     "data": {
      "text/plain": [
       "0.7547716428084527"
      ]
     },
     "execution_count": 16,
     "metadata": {},
     "output_type": "execute_result"
    }
   ],
   "source": [
    "accuracy = acc(cfmat)\n",
    "accuracy"
   ]
  },
  {
   "cell_type": "code",
   "execution_count": 17,
   "metadata": {},
   "outputs": [
    {
     "name": "stdout",
     "output_type": "stream",
     "text": [
      "precision:  0.1814658210007047\n",
      "recall:  0.48130841121495327\n",
      "f1 score:  0.26356192425793246\n",
      "accuracy:  0.6317567745180335\n"
     ]
    }
   ],
   "source": [
    "pr = precision_score(test_y,pred_Y)\n",
    "r = recall_score(test_y,pred_Y)\n",
    "f1= f1_score(test_y,pred_Y)\n",
    "auc_score = roc_auc_score(test_y,pred_Y)\n",
    "\n",
    "print(\"precision: \", pr)\n",
    "print(\"recall: \", r)\n",
    "print(\"f1 score: \", f1)\n",
    "print(\"accuracy: \", auc_score)"
   ]
  },
  {
   "cell_type": "markdown",
   "metadata": {},
   "source": [
    "2. ADASYN"
   ]
  },
  {
   "cell_type": "code",
   "execution_count": 18,
   "metadata": {},
   "outputs": [
    {
     "data": {
      "text/plain": [
       "0.8688921613678321"
      ]
     },
     "execution_count": 18,
     "metadata": {},
     "output_type": "execute_result"
    }
   ],
   "source": [
    "eclf = AdaBoostClassifier(base_estimator=DecisionTreeClassifier(max_depth=2), n_estimators=100, learning_rate=0.1)\n",
    "cross_val_score(eclf, X_over2_train, Y_over2_train, cv=5).mean()"
   ]
  },
  {
   "cell_type": "code",
   "execution_count": 18,
   "metadata": {},
   "outputs": [
    {
     "data": {
      "text/plain": [
       "{'base_estimator__criterion': 'entropy',\n",
       " 'base_estimator__max_depth': 2,\n",
       " 'base_estimator__max_features': 8,\n",
       " 'learning_rate': 0.45,\n",
       " 'n_estimators': 27}"
      ]
     },
     "execution_count": 18,
     "metadata": {},
     "output_type": "execute_result"
    }
   ],
   "source": [
    "DecisionTreeClassifier()\n",
    "AdaBoostClassifier()\n",
    "\n",
    "params = {\"base_estimator__criterion\" : [\"gini\", \"entropy\"],\n",
    "          \"base_estimator__max_features\" : [7,8,],\n",
    "          \"base_estimator__max_depth\" : [1,2],\n",
    "          \"n_estimators\": [23,24, 25, 26, 27],\n",
    "          \"learning_rate\": [0.4, 0.45, 0.5, 0.55, 0.6]\n",
    "         }\n",
    "\n",
    "grid = GridSearchCV(estimator=eclf, param_grid=params, cv=5, n_jobs=7)\n",
    "grid = grid.fit(X_over2_train, Y_over2_train)\n",
    "\n",
    "grid.best_score_\n",
    "grid.best_params_"
   ]
  },
  {
   "cell_type": "code",
   "execution_count": 20,
   "metadata": {},
   "outputs": [],
   "source": [
    "dtc = DecisionTreeClassifier(criterion = 'entropy', max_depth = 2, max_features = 8)\n",
    "abc = AdaBoostClassifier(learning_rate = 0.45, n_estimators = 27)\n",
    "model = abc.fit(X_over2_train, Y_over2_train)\n",
    "\n",
    "pred_y = model.predict(test_x)\n",
    "pred_Y = cut_off(pred_y, 0.5)"
   ]
  },
  {
   "cell_type": "code",
   "execution_count": 21,
   "metadata": {},
   "outputs": [
    {
     "data": {
      "text/plain": [
       "array([[7949, 2717],\n",
       "       [ 521,  549]], dtype=int64)"
      ]
     },
     "execution_count": 21,
     "metadata": {},
     "output_type": "execute_result"
    }
   ],
   "source": [
    "cfmat = confusion_matrix(test_y,pred_Y)\n",
    "cfmat"
   ]
  },
  {
   "cell_type": "code",
   "execution_count": 23,
   "metadata": {},
   "outputs": [
    {
     "name": "stdout",
     "output_type": "stream",
     "text": [
      "              precision    recall  f1-score   support\n",
      "\n",
      "        사고보증       0.94      0.75      0.83     10666\n",
      "        정상보증       0.17      0.51      0.25      1070\n",
      "\n",
      "    accuracy                           0.72     11736\n",
      "   macro avg       0.55      0.63      0.54     11736\n",
      "weighted avg       0.87      0.72      0.78     11736\n",
      "\n"
     ]
    }
   ],
   "source": [
    "from sklearn.metrics import classification_report\n",
    "print(classification_report(test_y, pred_Y, target_names=['사고보증', '정상보증']))"
   ]
  },
  {
   "cell_type": "code",
   "execution_count": 22,
   "metadata": {},
   "outputs": [
    {
     "data": {
      "text/plain": [
       "0.7240967961826857"
      ]
     },
     "execution_count": 22,
     "metadata": {},
     "output_type": "execute_result"
    }
   ],
   "source": [
    "accuracy = acc(cfmat)\n",
    "accuracy"
   ]
  },
  {
   "cell_type": "code",
   "execution_count": 23,
   "metadata": {},
   "outputs": [
    {
     "name": "stdout",
     "output_type": "stream",
     "text": [
      "precision:  0.16275764036958068\n",
      "recall:  0.4280373831775701\n",
      "f1 score:  0.23583934088568487\n",
      "accuracy:  0.6035742888136116\n"
     ]
    }
   ],
   "source": [
    "pr = precision_score(test_y,pred_Y)\n",
    "r = recall_score(test_y,pred_Y)\n",
    "f1= f1_score(test_y,pred_Y)\n",
    "auc_score = roc_auc_score(test_y,pred_Y)\n",
    "\n",
    "print(\"precision: \", pr)\n",
    "print(\"recall: \", r)\n",
    "print(\"f1 score: \", f1)\n",
    "print(\"accuracy: \", auc_score)"
   ]
  },
  {
   "cell_type": "markdown",
   "metadata": {},
   "source": [
    "# 언더샘플링"
   ]
  },
  {
   "cell_type": "markdown",
   "metadata": {},
   "source": [
    "1. EditedNearestNeighbours"
   ]
  },
  {
   "cell_type": "code",
   "execution_count": 24,
   "metadata": {},
   "outputs": [
    {
     "data": {
      "text/plain": [
       "0.8741021539003103"
      ]
     },
     "execution_count": 24,
     "metadata": {},
     "output_type": "execute_result"
    }
   ],
   "source": [
    "eclf = AdaBoostClassifier(base_estimator=DecisionTreeClassifier(max_depth=2), n_estimators=100, learning_rate=0.1)\n",
    "cross_val_score(eclf, X_under1_train, Y_under1_train, cv=5).mean()"
   ]
  },
  {
   "cell_type": "code",
   "execution_count": 24,
   "metadata": {},
   "outputs": [
    {
     "data": {
      "text/plain": [
       "{'base_estimator__criterion': 'gini',\n",
       " 'base_estimator__max_depth': 2,\n",
       " 'base_estimator__max_features': 7,\n",
       " 'learning_rate': 0.6,\n",
       " 'n_estimators': 27}"
      ]
     },
     "execution_count": 24,
     "metadata": {},
     "output_type": "execute_result"
    }
   ],
   "source": [
    "DecisionTreeClassifier()\n",
    "AdaBoostClassifier()\n",
    "\n",
    "params = {\"base_estimator__criterion\" : [\"gini\", \"entropy\"],\n",
    "          \"base_estimator__max_features\" : [7,8,],\n",
    "          \"base_estimator__max_depth\" : [1,2],\n",
    "          \"n_estimators\": [23,24, 25, 26, 27],\n",
    "          \"learning_rate\": [0.4, 0.45, 0.5, 0.55, 0.6]\n",
    "         }\n",
    "\n",
    "grid = GridSearchCV(estimator=eclf, param_grid=params, cv=5, n_jobs=7)\n",
    "grid = grid.fit(X_under1_train, Y_under1_train)\n",
    "\n",
    "grid.best_score_\n",
    "grid.best_params_"
   ]
  },
  {
   "cell_type": "code",
   "execution_count": 25,
   "metadata": {},
   "outputs": [],
   "source": [
    "dtc = DecisionTreeClassifier(criterion = 'gini', max_depth = 2, max_features = 7)\n",
    "abc = AdaBoostClassifier(learning_rate = 0.6, n_estimators = 27)\n",
    "model = abc.fit(X_under1_train, Y_under1_train)\n",
    "\n",
    "pred_y = model.predict(test_x)\n",
    "pred_Y = cut_off(pred_y, 0.5)"
   ]
  },
  {
   "cell_type": "code",
   "execution_count": 26,
   "metadata": {},
   "outputs": [
    {
     "data": {
      "text/plain": [
       "array([[9903,  763],\n",
       "       [ 774,  296]], dtype=int64)"
      ]
     },
     "execution_count": 26,
     "metadata": {},
     "output_type": "execute_result"
    }
   ],
   "source": [
    "cfmat = confusion_matrix(test_y,pred_Y)\n",
    "cfmat"
   ]
  },
  {
   "cell_type": "code",
   "execution_count": 27,
   "metadata": {},
   "outputs": [
    {
     "name": "stdout",
     "output_type": "stream",
     "text": [
      "              precision    recall  f1-score   support\n",
      "\n",
      "        사고보증       0.93      0.93      0.93     10666\n",
      "        정상보증       0.28      0.28      0.28      1070\n",
      "\n",
      "    accuracy                           0.87     11736\n",
      "   macro avg       0.60      0.60      0.60     11736\n",
      "weighted avg       0.87      0.87      0.87     11736\n",
      "\n"
     ]
    }
   ],
   "source": [
    "from sklearn.metrics import classification_report\n",
    "print(classification_report(test_y, pred_Y, target_names=['사고보증', '정상보증']))"
   ]
  },
  {
   "cell_type": "code",
   "execution_count": 28,
   "metadata": {},
   "outputs": [
    {
     "data": {
      "text/plain": [
       "0.8611111111111112"
      ]
     },
     "execution_count": 28,
     "metadata": {},
     "output_type": "execute_result"
    }
   ],
   "source": [
    "accuracy = acc(cfmat)\n",
    "accuracy"
   ]
  },
  {
   "cell_type": "code",
   "execution_count": 29,
   "metadata": {},
   "outputs": [
    {
     "name": "stdout",
     "output_type": "stream",
     "text": [
      "precision:  0.2719869706840391\n",
      "recall:  0.3121495327102804\n",
      "f1 score:  0.2906875543951262\n",
      "accuracy:  0.6141658970508086\n"
     ]
    }
   ],
   "source": [
    "pr = precision_score(test_y,pred_Y)\n",
    "r = recall_score(test_y,pred_Y)\n",
    "f1= f1_score(test_y,pred_Y)\n",
    "auc_score = roc_auc_score(test_y,pred_Y)\n",
    "\n",
    "print(\"precision: \", pr)\n",
    "print(\"recall: \", r)\n",
    "print(\"f1 score: \", f1)\n",
    "print(\"accuracy: \", auc_score)"
   ]
  },
  {
   "cell_type": "markdown",
   "metadata": {},
   "source": [
    "2. TomekLinks"
   ]
  },
  {
   "cell_type": "code",
   "execution_count": 30,
   "metadata": {},
   "outputs": [
    {
     "data": {
      "text/plain": [
       "0.9063297857647399"
      ]
     },
     "execution_count": 30,
     "metadata": {},
     "output_type": "execute_result"
    }
   ],
   "source": [
    "eclf = AdaBoostClassifier(base_estimator=DecisionTreeClassifier(max_depth=2), n_estimators=100, learning_rate=0.1)\n",
    "cross_val_score(eclf, X_under2_train, Y_under2_train, cv=5).mean()"
   ]
  },
  {
   "cell_type": "code",
   "execution_count": 28,
   "metadata": {},
   "outputs": [
    {
     "data": {
      "text/plain": [
       "{'base_estimator__criterion': 'entropy',\n",
       " 'base_estimator__max_depth': 2,\n",
       " 'base_estimator__max_features': 7,\n",
       " 'learning_rate': 0.55,\n",
       " 'n_estimators': 25}"
      ]
     },
     "execution_count": 28,
     "metadata": {},
     "output_type": "execute_result"
    }
   ],
   "source": [
    "DecisionTreeClassifier()\n",
    "AdaBoostClassifier()\n",
    "\n",
    "params = {\"base_estimator__criterion\" : [\"gini\", \"entropy\"],\n",
    "          \"base_estimator__max_features\" : [7,8,],\n",
    "          \"base_estimator__max_depth\" : [1,2],\n",
    "          \"n_estimators\": [23,24, 25, 26, 27],\n",
    "          \"learning_rate\": [0.4, 0.45, 0.5, 0.55, 0.6]\n",
    "         }\n",
    "\n",
    "grid = GridSearchCV(estimator=eclf, param_grid=params, cv=5, n_jobs=7)\n",
    "grid = grid.fit(X_under2_train, Y_under2_train)\n",
    "\n",
    "grid.best_score_\n",
    "grid.best_params_"
   ]
  },
  {
   "cell_type": "code",
   "execution_count": 29,
   "metadata": {},
   "outputs": [],
   "source": [
    "dtc = DecisionTreeClassifier(criterion = 'entropy', max_depth = 2, max_features = 7)\n",
    "abc = AdaBoostClassifier(learning_rate = 0.55, n_estimators = 25)\n",
    "model = abc.fit(X_under2_train, Y_under2_train)\n",
    "\n",
    "pred_y = model.predict(test_x)\n",
    "pred_Y = cut_off(pred_y, 0.5)"
   ]
  },
  {
   "cell_type": "code",
   "execution_count": 30,
   "metadata": {},
   "outputs": [
    {
     "data": {
      "text/plain": [
       "array([[10666,     0],\n",
       "       [ 1070,     0]], dtype=int64)"
      ]
     },
     "execution_count": 30,
     "metadata": {},
     "output_type": "execute_result"
    }
   ],
   "source": [
    "cfmat = confusion_matrix(test_y,pred_Y)\n",
    "cfmat"
   ]
  },
  {
   "cell_type": "code",
   "execution_count": 31,
   "metadata": {},
   "outputs": [
    {
     "name": "stdout",
     "output_type": "stream",
     "text": [
      "              precision    recall  f1-score   support\n",
      "\n",
      "        사고보증       0.91      1.00      0.95     10666\n",
      "        정상보증       0.00      0.00      0.00      1070\n",
      "\n",
      "    accuracy                           0.91     11736\n",
      "   macro avg       0.45      0.50      0.48     11736\n",
      "weighted avg       0.83      0.91      0.87     11736\n",
      "\n"
     ]
    },
    {
     "name": "stderr",
     "output_type": "stream",
     "text": [
      "C:\\Users\\user\\anaconda3\\envs\\Study_Big\\lib\\site-packages\\sklearn\\metrics\\_classification.py:1248: UndefinedMetricWarning: Precision and F-score are ill-defined and being set to 0.0 in labels with no predicted samples. Use `zero_division` parameter to control this behavior.\n",
      "  _warn_prf(average, modifier, msg_start, len(result))\n",
      "C:\\Users\\user\\anaconda3\\envs\\Study_Big\\lib\\site-packages\\sklearn\\metrics\\_classification.py:1248: UndefinedMetricWarning: Precision and F-score are ill-defined and being set to 0.0 in labels with no predicted samples. Use `zero_division` parameter to control this behavior.\n",
      "  _warn_prf(average, modifier, msg_start, len(result))\n",
      "C:\\Users\\user\\anaconda3\\envs\\Study_Big\\lib\\site-packages\\sklearn\\metrics\\_classification.py:1248: UndefinedMetricWarning: Precision and F-score are ill-defined and being set to 0.0 in labels with no predicted samples. Use `zero_division` parameter to control this behavior.\n",
      "  _warn_prf(average, modifier, msg_start, len(result))\n"
     ]
    }
   ],
   "source": [
    "from sklearn.metrics import classification_report\n",
    "print(classification_report(test_y, pred_Y, target_names=['사고보증', '정상보증']))"
   ]
  },
  {
   "cell_type": "code",
   "execution_count": 34,
   "metadata": {},
   "outputs": [
    {
     "data": {
      "text/plain": [
       "0.9088275391956373"
      ]
     },
     "execution_count": 34,
     "metadata": {},
     "output_type": "execute_result"
    }
   ],
   "source": [
    "accuracy = acc(cfmat)\n",
    "accuracy"
   ]
  },
  {
   "cell_type": "code",
   "execution_count": 35,
   "metadata": {},
   "outputs": [
    {
     "name": "stdout",
     "output_type": "stream",
     "text": [
      "precision:  0.0\n",
      "recall:  0.0\n",
      "f1 score:  0.0\n",
      "accuracy:  0.5\n"
     ]
    },
    {
     "name": "stderr",
     "output_type": "stream",
     "text": [
      "C:\\Users\\user\\anaconda3\\envs\\Study_Big\\lib\\site-packages\\sklearn\\metrics\\_classification.py:1248: UndefinedMetricWarning: Precision is ill-defined and being set to 0.0 due to no predicted samples. Use `zero_division` parameter to control this behavior.\n",
      "  _warn_prf(average, modifier, msg_start, len(result))\n"
     ]
    }
   ],
   "source": [
    "pr = precision_score(test_y,pred_Y)\n",
    "r = recall_score(test_y,pred_Y)\n",
    "f1= f1_score(test_y,pred_Y)\n",
    "auc_score = roc_auc_score(test_y,pred_Y)\n",
    "\n",
    "print(\"precision: \", pr)\n",
    "print(\"recall: \", r)\n",
    "print(\"f1 score: \", f1)\n",
    "print(\"accuracy: \", auc_score)"
   ]
  },
  {
   "cell_type": "markdown",
   "metadata": {},
   "source": [
    "# 혼합샘플링"
   ]
  },
  {
   "cell_type": "markdown",
   "metadata": {},
   "source": [
    "1. SMOTEENN"
   ]
  },
  {
   "cell_type": "code",
   "execution_count": 36,
   "metadata": {},
   "outputs": [
    {
     "data": {
      "text/plain": [
       "0.875260659094"
      ]
     },
     "execution_count": 36,
     "metadata": {},
     "output_type": "execute_result"
    }
   ],
   "source": [
    "eclf = AdaBoostClassifier(base_estimator=DecisionTreeClassifier(max_depth=2), n_estimators=100, learning_rate=0.1)\n",
    "cross_val_score(eclf, X_comb1_train, Y_comb1_train, cv=5).mean()"
   ]
  },
  {
   "cell_type": "code",
   "execution_count": 32,
   "metadata": {},
   "outputs": [
    {
     "data": {
      "text/plain": [
       "{'base_estimator__criterion': 'gini',\n",
       " 'base_estimator__max_depth': 2,\n",
       " 'base_estimator__max_features': 8,\n",
       " 'learning_rate': 0.6,\n",
       " 'n_estimators': 24}"
      ]
     },
     "execution_count": 32,
     "metadata": {},
     "output_type": "execute_result"
    }
   ],
   "source": [
    "DecisionTreeClassifier()\n",
    "AdaBoostClassifier()\n",
    "\n",
    "params = {\"base_estimator__criterion\" : [\"gini\", \"entropy\"],\n",
    "          \"base_estimator__max_features\" : [7,8,],\n",
    "          \"base_estimator__max_depth\" : [1,2],\n",
    "          \"n_estimators\": [23,24, 25, 26, 27],\n",
    "          \"learning_rate\": [0.4, 0.45, 0.5, 0.55, 0.6]\n",
    "         }\n",
    "\n",
    "grid = GridSearchCV(estimator=eclf, param_grid=params, cv=5, n_jobs=7)\n",
    "grid = grid.fit(X_comb1_train, Y_comb1_train)\n",
    "\n",
    "grid.best_score_\n",
    "grid.best_params_"
   ]
  },
  {
   "cell_type": "code",
   "execution_count": 33,
   "metadata": {},
   "outputs": [],
   "source": [
    "dtc = DecisionTreeClassifier(criterion = 'gini', max_depth = 2, max_features = 8)\n",
    "abc = AdaBoostClassifier(learning_rate = 0.6, n_estimators = 24)\n",
    "model = abc.fit(X_comb1_train, Y_comb1_train)\n",
    "\n",
    "pred_y = model.predict(test_x)\n",
    "pred_Y = cut_off(pred_y, 0.5)"
   ]
  },
  {
   "cell_type": "code",
   "execution_count": 34,
   "metadata": {},
   "outputs": [
    {
     "data": {
      "text/plain": [
       "array([[6667, 3999],\n",
       "       [ 314,  756]], dtype=int64)"
      ]
     },
     "execution_count": 34,
     "metadata": {},
     "output_type": "execute_result"
    }
   ],
   "source": [
    "cfmat = confusion_matrix(test_y,pred_Y)\n",
    "cfmat"
   ]
  },
  {
   "cell_type": "code",
   "execution_count": 35,
   "metadata": {},
   "outputs": [
    {
     "name": "stdout",
     "output_type": "stream",
     "text": [
      "              precision    recall  f1-score   support\n",
      "\n",
      "        사고보증       0.96      0.63      0.76     10666\n",
      "        정상보증       0.16      0.71      0.26      1070\n",
      "\n",
      "    accuracy                           0.63     11736\n",
      "   macro avg       0.56      0.67      0.51     11736\n",
      "weighted avg       0.88      0.63      0.71     11736\n",
      "\n"
     ]
    }
   ],
   "source": [
    "from sklearn.metrics import classification_report\n",
    "print(classification_report(test_y, pred_Y, target_names=['사고보증', '정상보증']))"
   ]
  },
  {
   "cell_type": "code",
   "execution_count": 40,
   "metadata": {},
   "outputs": [
    {
     "data": {
      "text/plain": [
       "0.6411042944785276"
      ]
     },
     "execution_count": 40,
     "metadata": {},
     "output_type": "execute_result"
    }
   ],
   "source": [
    "accuracy = acc(cfmat)\n",
    "accuracy"
   ]
  },
  {
   "cell_type": "code",
   "execution_count": 41,
   "metadata": {},
   "outputs": [
    {
     "name": "stdout",
     "output_type": "stream",
     "text": [
      "precision:  0.1551799824407375\n",
      "recall:  0.6607476635514019\n",
      "f1 score:  0.2513330963384287\n",
      "accuracy:  0.6499406797036965\n"
     ]
    }
   ],
   "source": [
    "pr = precision_score(test_y,pred_Y)\n",
    "r = recall_score(test_y,pred_Y)\n",
    "f1= f1_score(test_y,pred_Y)\n",
    "auc_score = roc_auc_score(test_y,pred_Y)\n",
    "\n",
    "print(\"precision: \", pr)\n",
    "print(\"recall: \", r)\n",
    "print(\"f1 score: \", f1)\n",
    "print(\"accuracy: \", auc_score)"
   ]
  },
  {
   "cell_type": "markdown",
   "metadata": {},
   "source": [
    "2. SMOTETomek"
   ]
  },
  {
   "cell_type": "code",
   "execution_count": 46,
   "metadata": {},
   "outputs": [
    {
     "data": {
      "text/plain": [
       "0.863866503038396"
      ]
     },
     "execution_count": 46,
     "metadata": {},
     "output_type": "execute_result"
    }
   ],
   "source": [
    "eclf = AdaBoostClassifier(base_estimator=DecisionTreeClassifier(max_depth=2), n_estimators=100, learning_rate=0.1)\n",
    "cross_val_score(eclf, X_comb2_train, Y_comb2_train, cv=5).mean()"
   ]
  },
  {
   "cell_type": "code",
   "execution_count": null,
   "metadata": {},
   "outputs": [],
   "source": []
  },
  {
   "cell_type": "code",
   "execution_count": 36,
   "metadata": {},
   "outputs": [
    {
     "data": {
      "text/plain": [
       "{'base_estimator__criterion': 'entropy',\n",
       " 'base_estimator__max_depth': 2,\n",
       " 'base_estimator__max_features': 8,\n",
       " 'learning_rate': 0.55,\n",
       " 'n_estimators': 27}"
      ]
     },
     "execution_count": 36,
     "metadata": {},
     "output_type": "execute_result"
    }
   ],
   "source": [
    "DecisionTreeClassifier()\n",
    "AdaBoostClassifier()\n",
    "\n",
    "params = {\"base_estimator__criterion\" : [\"gini\", \"entropy\"],\n",
    "          \"base_estimator__max_features\" : [7,8,],\n",
    "          \"base_estimator__max_depth\" : [1,2],\n",
    "          \"n_estimators\": [23,24, 25, 26, 27],\n",
    "          \"learning_rate\": [0.4, 0.45, 0.5, 0.55, 0.6]\n",
    "         }\n",
    "\n",
    "grid = GridSearchCV(estimator=eclf, param_grid=params, cv=5, n_jobs=7)\n",
    "grid = grid.fit(X_comb2_train, Y_comb2_train)\n",
    "\n",
    "grid.best_score_\n",
    "grid.best_params_"
   ]
  },
  {
   "cell_type": "code",
   "execution_count": 37,
   "metadata": {},
   "outputs": [],
   "source": [
    "dtc = DecisionTreeClassifier(criterion = 'entropy', max_depth = 2, max_features = 8)\n",
    "abc = AdaBoostClassifier(learning_rate = 0.55, n_estimators = 27)\n",
    "model = abc.fit(X_comb2_train, Y_comb2_train)\n",
    "\n",
    "pred_y = model.predict(test_x)\n",
    "pred_Y = cut_off(pred_y, 0.5)"
   ]
  },
  {
   "cell_type": "code",
   "execution_count": 38,
   "metadata": {},
   "outputs": [
    {
     "data": {
      "text/plain": [
       "array([[7961, 2705],\n",
       "       [ 503,  567]], dtype=int64)"
      ]
     },
     "execution_count": 38,
     "metadata": {},
     "output_type": "execute_result"
    }
   ],
   "source": [
    "cfmat = confusion_matrix(test_y,pred_Y)\n",
    "cfmat"
   ]
  },
  {
   "cell_type": "code",
   "execution_count": 39,
   "metadata": {},
   "outputs": [
    {
     "name": "stdout",
     "output_type": "stream",
     "text": [
      "              precision    recall  f1-score   support\n",
      "\n",
      "        사고보증       0.94      0.75      0.83     10666\n",
      "        정상보증       0.17      0.53      0.26      1070\n",
      "\n",
      "    accuracy                           0.73     11736\n",
      "   macro avg       0.56      0.64      0.55     11736\n",
      "weighted avg       0.87      0.73      0.78     11736\n",
      "\n"
     ]
    }
   ],
   "source": [
    "from sklearn.metrics import classification_report\n",
    "print(classification_report(test_y, pred_Y, target_names=['사고보증', '정상보증']))"
   ]
  },
  {
   "cell_type": "code",
   "execution_count": 101,
   "metadata": {},
   "outputs": [
    {
     "data": {
      "text/plain": [
       "0.7366223585548739"
      ]
     },
     "execution_count": 101,
     "metadata": {},
     "output_type": "execute_result"
    }
   ],
   "source": [
    "accuracy = acc(cfmat)\n",
    "accuracy"
   ]
  },
  {
   "cell_type": "code",
   "execution_count": 102,
   "metadata": {},
   "outputs": [
    {
     "name": "stdout",
     "output_type": "stream",
     "text": [
      "precision:  0.1694471704285247\n",
      "recall:  0.48411214953271026\n",
      "f1 score:  0.2510298037315241\n",
      "accuracy:  0.623033010824859\n"
     ]
    }
   ],
   "source": [
    "pr = precision_score(test_y,pred_Y)\n",
    "r = recall_score(test_y,pred_Y)\n",
    "f1= f1_score(test_y,pred_Y)\n",
    "auc_score = roc_auc_score(test_y,pred_Y)\n",
    "\n",
    "print(\"precision: \", pr)\n",
    "print(\"recall: \", r)\n",
    "print(\"f1 score: \", f1)\n",
    "print(\"accuracy: \", auc_score)"
   ]
  }
 ],
 "metadata": {
  "interpreter": {
   "hash": "4000436974652e2da39f7abf97d4cef3d01362244b176d22af40d9d73df68d1f"
  },
  "kernelspec": {
   "display_name": "Python 3.8.10 64-bit ('Study_Big': conda)",
   "language": "python",
   "name": "python3"
  },
  "language_info": {
   "codemirror_mode": {
    "name": "ipython",
    "version": 3
   },
   "file_extension": ".py",
   "mimetype": "text/x-python",
   "name": "python",
   "nbconvert_exporter": "python",
   "pygments_lexer": "ipython3",
   "version": "3.8.10"
  },
  "orig_nbformat": 4
 },
 "nbformat": 4,
 "nbformat_minor": 2
}
