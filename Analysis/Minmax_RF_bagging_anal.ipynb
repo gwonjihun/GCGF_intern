{
 "cells": [
  {
   "cell_type": "code",
   "execution_count": 7,
   "metadata": {},
   "outputs": [],
   "source": [
    "import pandas as pd"
   ]
  },
  {
   "cell_type": "code",
   "execution_count": 8,
   "metadata": {},
   "outputs": [],
   "source": [
    "data = pd.read_csv('data/MinMax_Scaler_result.csv',encoding='cp949')"
   ]
  },
  {
   "cell_type": "code",
   "execution_count": 9,
   "metadata": {},
   "outputs": [],
   "source": [
    "\n",
    "from sklearn.model_selection import train_test_split"
   ]
  },
  {
   "cell_type": "code",
   "execution_count": 10,
   "metadata": {},
   "outputs": [],
   "source": [
    "features = data[[ 'CBSCORE', 'CREDITOTAMT', 'YSALEAMT',\n",
    "       'ESTMM', 'IMSAAMT', 'IMJUAMT',  'BUJUAMT',\n",
    "       'BU1TOTAMT', 'GAMT', 'KOSPI', '환율', 'GDP', \n",
    "       '실업률', '물가지수', '국고채', '금리', '유가등락률',\n",
    "       '소비자심리지수','ONEHOT']] #GKIND 갖고 가나요?.. 아뇨..ㅋㅋㅋ\n",
    "act = data['ACTCD'] "
   ]
  },
  {
   "cell_type": "code",
   "execution_count": 11,
   "metadata": {},
   "outputs": [
    {
     "name": "stdout",
     "output_type": "stream",
     "text": [
      "(27381, 19) (11736, 19) (27381,) (11736,)\n"
     ]
    }
   ],
   "source": [
    "\n",
    "train_x, test_x,train_y, test_y = train_test_split(features, act,\n",
    "stratify=act,train_size=0.7,test_size=0.3,random_state=1)\n",
    "\n",
    "print(train_x.shape, test_x.shape, train_y.shape, test_y.shape)"
   ]
  },
  {
   "cell_type": "code",
   "execution_count": 12,
   "metadata": {},
   "outputs": [],
   "source": [
    "'''\n",
    "1. ENN\n",
    "2. ADASYN\n",
    "3. BORDERLINE SMOTE\n",
    "4. Tomeklinks\n",
    "5 SOTEENN\n",
    "6.SMOTETOMEK\n",
    "'''\n",
    "from imblearn.over_sampling import BorderlineSMOTE,ADASYN\n",
    "from imblearn.combine import SMOTEENN,SMOTETomek\n",
    "from imblearn.under_sampling import EditedNearestNeighbours, TomekLinks\n",
    "data_sets={}\n",
    "enn = EditedNearestNeighbours()\n",
    "ada = ADASYN(random_state=42)\n",
    "smte = SMOTEENN(random_state=42)\n",
    "smtt = SMOTETomek(random_state=42)\n",
    "tk = TomekLinks()\n",
    "sm = BorderlineSMOTE(random_state=42)\n",
    "enn_under_train_x,enn_under_train_y = enn.fit_resample(train_x,train_y)\n",
    "ada_over_train_x, ada_over_train_y = ada.fit_resample(train_x,train_y)\n",
    "smte_combine_train_x,smte_combine_train_y = smte.fit_resample(train_x,train_y)\n",
    "smtt_combine_train_x,smtt_combine_train_y = smtt.fit_resample(train_x,train_y)\n",
    "tk_under_train_x,tk_under_train_y = tk.fit_resample(train_x,train_y)\n",
    "sm_over_train_x, sm_over_train_y = sm.fit_resample(train_x,train_y)\n",
    "data_sets['enn']=[enn_under_train_x,enn_under_train_y]\n",
    "data_sets['ada']=[ada_over_train_x,ada_over_train_y]\n",
    "data_sets['smte']=[smte_combine_train_x,smte_combine_train_y]\n",
    "data_sets['smtt']=[smtt_combine_train_x,smtt_combine_train_y]\n",
    "data_sets['tk']=[tk_under_train_x,tk_under_train_y]\n",
    "data_sets['sm']=[sm_over_train_x,sm_over_train_y]\n",
    "'''\n",
    "over_train_x : 학습용 독립변수\n",
    "over_train_y : 학습용 종속변수\n",
    "'''\n",
    "keys_list= data_sets.keys()\n",
    "accuracies = []\n",
    "matrix_kd_tree_uniform_BOST = []"
   ]
  },
  {
   "cell_type": "code",
   "execution_count": 13,
   "metadata": {},
   "outputs": [],
   "source": [
    "from sklearn.ensemble import RandomForestClassifier\n",
    "from sklearn import metrics\n",
    "from sklearn.metrics import precision_score,recall_score,f1_score,roc_auc_score,confusion_matrix, classification_report\n"
   ]
  },
  {
   "cell_type": "code",
   "execution_count": 14,
   "metadata": {},
   "outputs": [
    {
     "name": "stdout",
     "output_type": "stream",
     "text": [
      "결정계수 :  0.9991934761179317\n",
      "enn\n",
      "정확도 :  0.924079754601227\n",
      "              precision    recall  f1-score   support\n",
      "\n",
      "        사고보증       0.93      0.99      0.96     10666\n",
      "        정상보증       0.77      0.24      0.36      1070\n",
      "\n",
      "    accuracy                           0.92     11736\n",
      "   macro avg       0.85      0.62      0.66     11736\n",
      "weighted avg       0.91      0.92      0.91     11736\n",
      "\n",
      "\n",
      "\n",
      "결정계수 :  0.9989321190385042\n",
      "ada\n",
      "정확도 :  0.9023517382413088\n",
      "              precision    recall  f1-score   support\n",
      "\n",
      "        사고보증       0.93      0.96      0.95     10666\n",
      "        정상보증       0.45      0.32      0.37      1070\n",
      "\n",
      "    accuracy                           0.90     11736\n",
      "   macro avg       0.69      0.64      0.66     11736\n",
      "weighted avg       0.89      0.90      0.89     11736\n",
      "\n",
      "\n",
      "\n",
      "결정계수 :  1.0\n",
      "smte\n",
      "정확도 :  0.8479890933878664\n",
      "              precision    recall  f1-score   support\n",
      "\n",
      "        사고보증       0.94      0.89      0.91     10666\n",
      "        정상보증       0.29      0.48      0.36      1070\n",
      "\n",
      "    accuracy                           0.85     11736\n",
      "   macro avg       0.62      0.68      0.64     11736\n",
      "weighted avg       0.88      0.85      0.86     11736\n",
      "\n",
      "\n",
      "\n",
      "결정계수 :  0.9990108603496306\n",
      "smtt\n",
      "정확도 :  0.906441717791411\n",
      "              precision    recall  f1-score   support\n",
      "\n",
      "        사고보증       0.93      0.97      0.95     10666\n",
      "        정상보증       0.48      0.32      0.38      1070\n",
      "\n",
      "    accuracy                           0.91     11736\n",
      "   macro avg       0.71      0.64      0.67     11736\n",
      "weighted avg       0.89      0.91      0.90     11736\n",
      "\n",
      "\n",
      "\n",
      "결정계수 :  0.99800819271675\n",
      "tk\n",
      "정확도 :  0.9261247443762781\n",
      "              precision    recall  f1-score   support\n",
      "\n",
      "        사고보증       0.93      1.00      0.96     10666\n",
      "        정상보증       0.90      0.21      0.34      1070\n",
      "\n",
      "    accuracy                           0.93     11736\n",
      "   macro avg       0.91      0.61      0.65     11736\n",
      "weighted avg       0.92      0.93      0.90     11736\n",
      "\n",
      "\n",
      "\n",
      "결정계수 :  0.998935101466747\n",
      "sm\n",
      "정확도 :  0.9061860940695297\n",
      "              precision    recall  f1-score   support\n",
      "\n",
      "        사고보증       0.93      0.97      0.95     10666\n",
      "        정상보증       0.48      0.30      0.37      1070\n",
      "\n",
      "    accuracy                           0.91     11736\n",
      "   macro avg       0.70      0.63      0.66     11736\n",
      "weighted avg       0.89      0.91      0.90     11736\n",
      "\n",
      "\n",
      "\n"
     ]
    }
   ],
   "source": [
    "for i in keys_list:\n",
    "    model = RandomForestClassifier(n_estimators=200,max_depth=50,max_features=1)\n",
    "    model.fit(data_sets[i][0], data_sets[i][1])\n",
    "                            \n",
    "                    # 결정계수\n",
    "    relation_square = model.score(data_sets[i][0], data_sets[i][1])\n",
    "    print('결정계수 : ', relation_square)\n",
    "                    \n",
    "                    # 예측\n",
    "    pred_y = model.predict(test_x)\n",
    "    pr = precision_score(y_true=test_y,y_pred=pred_y)\n",
    "    r = recall_score(y_true=test_y,y_pred=pred_y)\n",
    "    f1 = f1_score(y_true=test_y,y_pred=pred_y)\n",
    "    rca = roc_auc_score(y_true=test_y,y_score=pred_y)\n",
    "    cfm = confusion_matrix(y_true=test_y,y_pred=pred_y)\n",
    "    matrix_kd_tree_uniform_BOST.append((i,pr,r,f1,rca,model.score(test_x, test_y),cfm))\n",
    "                # 정확도 확인\n",
    "    print(i)\n",
    "    print('정확도 : ', metrics.accuracy_score(test_y, pred_y))\n",
    "    print(classification_report(test_y, pred_y, target_names=['사고보증', '정상보증']))\n",
    "    print('\\n')"
   ]
  },
  {
   "cell_type": "code",
   "execution_count": 15,
   "metadata": {},
   "outputs": [
    {
     "data": {
      "text/plain": [
       "[('enn',\n",
       "  0.7720364741641338,\n",
       "  0.23738317757009345,\n",
       "  0.3631165117941386,\n",
       "  0.6151757440447505,\n",
       "  0.924079754601227,\n",
       "  array([[10591,    75],\n",
       "         [  816,   254]], dtype=int64)),\n",
       " ('ada',\n",
       "  0.45013123359580054,\n",
       "  0.3205607476635514,\n",
       "  0.3744541484716157,\n",
       "  0.6406385212159872,\n",
       "  0.9023517382413088,\n",
       "  array([[10247,   419],\n",
       "         [  727,   343]], dtype=int64)),\n",
       " ('smte',\n",
       "  0.29435483870967744,\n",
       "  0.47757009345794393,\n",
       "  0.36421952957947257,\n",
       "  0.6813595826374662,\n",
       "  0.8479890933878664,\n",
       "  array([[9441, 1225],\n",
       "         [ 559,  511]], dtype=int64)),\n",
       " ('smtt',\n",
       "  0.48011363636363635,\n",
       "  0.31588785046728973,\n",
       "  0.3810597519729425,\n",
       "  0.6407866029009991,\n",
       "  0.906441717791411,\n",
       "  array([[10300,   366],\n",
       "         [  732,   338]], dtype=int64)),\n",
       " ('tk',\n",
       "  0.9011857707509882,\n",
       "  0.2130841121495327,\n",
       "  0.34467120181405897,\n",
       "  0.6053701078280008,\n",
       "  0.9261247443762781,\n",
       "  array([[10641,    25],\n",
       "         [  842,   228]], dtype=int64)),\n",
       " ('sm',\n",
       "  0.4769687964338782,\n",
       "  0.3,\n",
       "  0.36833046471600683,\n",
       "  0.6334989686855429,\n",
       "  0.9061860940695297,\n",
       "  array([[10314,   352],\n",
       "         [  749,   321]], dtype=int64))]"
      ]
     },
     "execution_count": 15,
     "metadata": {},
     "output_type": "execute_result"
    }
   ],
   "source": [
    "matrix_kd_tree_uniform_BOST"
   ]
  },
  {
   "cell_type": "code",
   "execution_count": null,
   "metadata": {},
   "outputs": [],
   "source": []
  }
 ],
 "metadata": {
  "interpreter": {
   "hash": "4000436974652e2da39f7abf97d4cef3d01362244b176d22af40d9d73df68d1f"
  },
  "kernelspec": {
   "display_name": "Python 3.8.10 64-bit ('Study_Big': conda)",
   "language": "python",
   "name": "python3"
  },
  "language_info": {
   "codemirror_mode": {
    "name": "ipython",
    "version": 3
   },
   "file_extension": ".py",
   "mimetype": "text/x-python",
   "name": "python",
   "nbconvert_exporter": "python",
   "pygments_lexer": "ipython3",
   "version": "3.8.10"
  },
  "orig_nbformat": 4
 },
 "nbformat": 4,
 "nbformat_minor": 2
}
