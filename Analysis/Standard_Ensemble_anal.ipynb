{
 "cells": [
  {
   "cell_type": "code",
   "execution_count": 1,
   "metadata": {},
   "outputs": [
    {
     "data": {
      "text/html": [
       "<div>\n",
       "<style scoped>\n",
       "    .dataframe tbody tr th:only-of-type {\n",
       "        vertical-align: middle;\n",
       "    }\n",
       "\n",
       "    .dataframe tbody tr th {\n",
       "        vertical-align: top;\n",
       "    }\n",
       "\n",
       "    .dataframe thead th {\n",
       "        text-align: right;\n",
       "    }\n",
       "</style>\n",
       "<table border=\"1\" class=\"dataframe\">\n",
       "  <thead>\n",
       "    <tr style=\"text-align: right;\">\n",
       "      <th></th>\n",
       "      <th>CUSTNO</th>\n",
       "      <th>GNO</th>\n",
       "      <th>CBSCORE</th>\n",
       "      <th>CBSCOREGRD</th>\n",
       "      <th>CREDITOTAMT</th>\n",
       "      <th>YSALEAMT</th>\n",
       "      <th>ESTMM</th>\n",
       "      <th>ASSETAMT</th>\n",
       "      <th>IMSAAMT</th>\n",
       "      <th>IMJUAMT</th>\n",
       "      <th>...</th>\n",
       "      <th>환율</th>\n",
       "      <th>GDP</th>\n",
       "      <th>소상공인체감지수</th>\n",
       "      <th>실업률</th>\n",
       "      <th>물가지수</th>\n",
       "      <th>국고채</th>\n",
       "      <th>금리</th>\n",
       "      <th>유가등락률</th>\n",
       "      <th>소비자심리지수</th>\n",
       "      <th>ONEHOT</th>\n",
       "    </tr>\n",
       "  </thead>\n",
       "  <tbody>\n",
       "    <tr>\n",
       "      <th>0</th>\n",
       "      <td>475821</td>\n",
       "      <td>l180202101898</td>\n",
       "      <td>1.483693</td>\n",
       "      <td>-1.008776</td>\n",
       "      <td>-0.182324</td>\n",
       "      <td>5.599410</td>\n",
       "      <td>-0.351065</td>\n",
       "      <td>-0.497246</td>\n",
       "      <td>-0.176818</td>\n",
       "      <td>-0.327516</td>\n",
       "      <td>...</td>\n",
       "      <td>-0.068090</td>\n",
       "      <td>2.274533</td>\n",
       "      <td>-1.302456</td>\n",
       "      <td>-0.290076</td>\n",
       "      <td>2.728294</td>\n",
       "      <td>-1.492204</td>\n",
       "      <td>-3.801670</td>\n",
       "      <td>2.712699</td>\n",
       "      <td>1.300530</td>\n",
       "      <td>3</td>\n",
       "    </tr>\n",
       "    <tr>\n",
       "      <th>1</th>\n",
       "      <td>74417</td>\n",
       "      <td>l230201700120</td>\n",
       "      <td>0.436620</td>\n",
       "      <td>-0.269293</td>\n",
       "      <td>-0.187359</td>\n",
       "      <td>3.004204</td>\n",
       "      <td>-0.774902</td>\n",
       "      <td>-0.434147</td>\n",
       "      <td>-0.395499</td>\n",
       "      <td>0.047573</td>\n",
       "      <td>...</td>\n",
       "      <td>0.509001</td>\n",
       "      <td>-1.236236</td>\n",
       "      <td>-1.058419</td>\n",
       "      <td>0.571922</td>\n",
       "      <td>-0.733929</td>\n",
       "      <td>-0.363940</td>\n",
       "      <td>-0.649856</td>\n",
       "      <td>1.705658</td>\n",
       "      <td>-1.167094</td>\n",
       "      <td>8</td>\n",
       "    </tr>\n",
       "    <tr>\n",
       "      <th>2</th>\n",
       "      <td>387787</td>\n",
       "      <td>l110201603233</td>\n",
       "      <td>0.682990</td>\n",
       "      <td>-1.008776</td>\n",
       "      <td>-0.283032</td>\n",
       "      <td>1.765241</td>\n",
       "      <td>1.889216</td>\n",
       "      <td>-0.497246</td>\n",
       "      <td>-0.176818</td>\n",
       "      <td>-0.327516</td>\n",
       "      <td>...</td>\n",
       "      <td>0.991659</td>\n",
       "      <td>-1.589789</td>\n",
       "      <td>0.853200</td>\n",
       "      <td>-0.290076</td>\n",
       "      <td>-1.872513</td>\n",
       "      <td>-0.546902</td>\n",
       "      <td>-0.649856</td>\n",
       "      <td>0.170943</td>\n",
       "      <td>-0.965339</td>\n",
       "      <td>7</td>\n",
       "    </tr>\n",
       "    <tr>\n",
       "      <th>3</th>\n",
       "      <td>395418</td>\n",
       "      <td>l230201700254</td>\n",
       "      <td>0.169719</td>\n",
       "      <td>-0.269293</td>\n",
       "      <td>-0.212536</td>\n",
       "      <td>1.647960</td>\n",
       "      <td>-0.744628</td>\n",
       "      <td>-0.497246</td>\n",
       "      <td>-0.176818</td>\n",
       "      <td>-0.327516</td>\n",
       "      <td>...</td>\n",
       "      <td>0.490639</td>\n",
       "      <td>-1.236236</td>\n",
       "      <td>1.219254</td>\n",
       "      <td>-0.721075</td>\n",
       "      <td>-0.788147</td>\n",
       "      <td>-0.241965</td>\n",
       "      <td>-0.649856</td>\n",
       "      <td>0.665173</td>\n",
       "      <td>-0.810142</td>\n",
       "      <td>3</td>\n",
       "    </tr>\n",
       "    <tr>\n",
       "      <th>4</th>\n",
       "      <td>190372</td>\n",
       "      <td>l200201601418</td>\n",
       "      <td>-3.033092</td>\n",
       "      <td>2.688638</td>\n",
       "      <td>-0.247784</td>\n",
       "      <td>0.478163</td>\n",
       "      <td>1.616749</td>\n",
       "      <td>-0.202785</td>\n",
       "      <td>-0.351763</td>\n",
       "      <td>-0.327516</td>\n",
       "      <td>...</td>\n",
       "      <td>0.409321</td>\n",
       "      <td>-1.809655</td>\n",
       "      <td>-0.102610</td>\n",
       "      <td>-0.721075</td>\n",
       "      <td>-2.530877</td>\n",
       "      <td>-1.736154</td>\n",
       "      <td>-0.649856</td>\n",
       "      <td>-0.958727</td>\n",
       "      <td>-0.142797</td>\n",
       "      <td>7</td>\n",
       "    </tr>\n",
       "  </tbody>\n",
       "</table>\n",
       "<p>5 rows × 30 columns</p>\n",
       "</div>"
      ],
      "text/plain": [
       "   CUSTNO            GNO   CBSCORE  CBSCOREGRD  CREDITOTAMT  YSALEAMT  \\\n",
       "0  475821  l180202101898  1.483693   -1.008776    -0.182324  5.599410   \n",
       "1   74417  l230201700120  0.436620   -0.269293    -0.187359  3.004204   \n",
       "2  387787  l110201603233  0.682990   -1.008776    -0.283032  1.765241   \n",
       "3  395418  l230201700254  0.169719   -0.269293    -0.212536  1.647960   \n",
       "4  190372  l200201601418 -3.033092    2.688638    -0.247784  0.478163   \n",
       "\n",
       "      ESTMM  ASSETAMT   IMSAAMT   IMJUAMT  ...        환율       GDP  소상공인체감지수  \\\n",
       "0 -0.351065 -0.497246 -0.176818 -0.327516  ... -0.068090  2.274533 -1.302456   \n",
       "1 -0.774902 -0.434147 -0.395499  0.047573  ...  0.509001 -1.236236 -1.058419   \n",
       "2  1.889216 -0.497246 -0.176818 -0.327516  ...  0.991659 -1.589789  0.853200   \n",
       "3 -0.744628 -0.497246 -0.176818 -0.327516  ...  0.490639 -1.236236  1.219254   \n",
       "4  1.616749 -0.202785 -0.351763 -0.327516  ...  0.409321 -1.809655 -0.102610   \n",
       "\n",
       "        실업률      물가지수       국고채        금리     유가등락률   소비자심리지수  ONEHOT  \n",
       "0 -0.290076  2.728294 -1.492204 -3.801670  2.712699  1.300530       3  \n",
       "1  0.571922 -0.733929 -0.363940 -0.649856  1.705658 -1.167094       8  \n",
       "2 -0.290076 -1.872513 -0.546902 -0.649856  0.170943 -0.965339       7  \n",
       "3 -0.721075 -0.788147 -0.241965 -0.649856  0.665173 -0.810142       3  \n",
       "4 -0.721075 -2.530877 -1.736154 -0.649856 -0.958727 -0.142797       7  \n",
       "\n",
       "[5 rows x 30 columns]"
      ]
     },
     "execution_count": 1,
     "metadata": {},
     "output_type": "execute_result"
    }
   ],
   "source": [
    "import pandas as pd\n",
    "import matplotlib.pyplot as plt\n",
    "import statsmodels.api as sm\n",
    "\n",
    "data = pd.read_csv(\"DATA/Standard_Scaler_result.csv\",encoding=\"cp949\")\n",
    "data.head()"
   ]
  },
  {
   "cell_type": "code",
   "execution_count": 4,
   "metadata": {},
   "outputs": [],
   "source": [
    "features = data[['CBSCORE', 'CREDITOTAMT', 'YSALEAMT',\n",
    "       'ESTMM',  'IMSAAMT', 'IMJUAMT', 'BUSAAMT', 'BUJUAMT',\n",
    "       'BU1TOTAMT', 'GAMT', 'LABORCNT', 'KOSPI', '환율', 'GDP', \n",
    "       '소상공인체감지수', '실업률', '물가지수', '국고채', '금리', '유가등락률',\n",
    "       '소비자심리지수','ONEHOT']]\n",
    "act = data['ACTCD']"
   ]
  },
  {
   "cell_type": "code",
   "execution_count": 5,
   "metadata": {},
   "outputs": [
    {
     "name": "stdout",
     "output_type": "stream",
     "text": [
      "(27381, 22) (11736, 22) (27381,) (11736,)\n"
     ]
    }
   ],
   "source": [
    "from sklearn.model_selection import train_test_split\n",
    "\n",
    "train_x, test_x,train_y, test_y = train_test_split(features, act,\n",
    "stratify=act,train_size=0.7,test_size=0.3,random_state=1)\n",
    "\n",
    "print(train_x.shape, test_x.shape, train_y.shape, test_y.shape)"
   ]
  },
  {
   "cell_type": "code",
   "execution_count": 6,
   "metadata": {},
   "outputs": [],
   "source": [
    "from imblearn.over_sampling import BorderlineSMOTE, ADASYN\n",
    "from imblearn.under_sampling import EditedNearestNeighbours, TomekLinks\n",
    "from imblearn.combine import SMOTEENN, SMOTETomek\n",
    "\n",
    "#언더 샘플링\n",
    "enn = EditedNearestNeighbours(kind_sel=\"all\", n_neighbors=10)\n",
    "tomekl = TomekLinks()\n",
    "\n",
    "#오버 샘플링\n",
    "bsmote = BorderlineSMOTE(random_state=42)\n",
    "adasyn = ADASYN(random_state=42)\n",
    "\n",
    "#혼합 샘플링\n",
    "smotee = SMOTEENN(random_state=42)\n",
    "smoteT = SMOTETomek(random_state=42)\n",
    "\n",
    "\n",
    "X_under1_train, Y_under1_train = enn.fit_resample(train_x, train_y)\n",
    "X_under2_train, Y_under2_train = tomekl.fit_resample(train_x, train_y)\n",
    "\n",
    "X_over1_train, Y_over1_train = bsmote.fit_resample(train_x,train_y)\n",
    "X_over2_train, Y_over2_train = adasyn.fit_resample(train_x,train_y)\n",
    "\n",
    "X_comb1_train, Y_comb1_train = smotee.fit_resample(train_x, train_y)\n",
    "X_comb2_train, Y_comb2_train = smoteT.fit_resample(train_x, train_y)"
   ]
  },
  {
   "cell_type": "markdown",
   "metadata": {},
   "source": [
    "BorderlineSMOTE"
   ]
  },
  {
   "cell_type": "code",
   "execution_count": 7,
   "metadata": {},
   "outputs": [
    {
     "data": {
      "text/plain": [
       "VotingClassifier(estimators=[('lr', LogisticRegression(random_state=42)),\n",
       "                             ('rf',\n",
       "                              RandomForestClassifier(max_depth=50,\n",
       "                                                     max_features=1,\n",
       "                                                     n_estimators=200)),\n",
       "                             ('knn',\n",
       "                              KNeighborsClassifier(algorithm='kd_tree',\n",
       "                                                   n_neighbors=2)),\n",
       "                             ('adaboost',\n",
       "                              AdaBoostClassifier(base_estimator=DecisionTreeClassifier(max_depth=2),\n",
       "                                                 learning_rate=0.1,\n",
       "                                                 n_estimators=100))],\n",
       "                 voting='soft')"
      ]
     },
     "execution_count": 7,
     "metadata": {},
     "output_type": "execute_result"
    }
   ],
   "source": [
    "from sklearn.linear_model import LogisticRegression\n",
    "from sklearn.ensemble import RandomForestClassifier\n",
    "#from sklearn.svm import SVC\n",
    "from sklearn.neighbors import KNeighborsClassifier\n",
    "from sklearn.ensemble import AdaBoostClassifier\n",
    "from sklearn.tree import DecisionTreeClassifier\n",
    "from sklearn.ensemble import VotingClassifier\n",
    "\n",
    "log_clf = LogisticRegression(random_state = 42, solver = 'lbfgs')\n",
    "rnd_clf = RandomForestClassifier(n_estimators=200,max_depth=50,max_features=1)\n",
    "knn_clf = KNeighborsClassifier(n_neighbors= 2, algorithm='kd_tree',weights='uniform')\n",
    "abst_clf = AdaBoostClassifier(base_estimator=DecisionTreeClassifier(max_depth=2), n_estimators=100, learning_rate=0.1)\n",
    "\n",
    "voting_clf = VotingClassifier(\n",
    "    estimators = [('lr', log_clf), ('rf', rnd_clf), ('knn', knn_clf), ('adaboost', abst_clf)],\n",
    "    voting = 'soft'\n",
    ")\n",
    "\n",
    "voting_clf.fit(X_over1_train,Y_over1_train)"
   ]
  },
  {
   "cell_type": "code",
   "execution_count": 8,
   "metadata": {},
   "outputs": [
    {
     "name": "stdout",
     "output_type": "stream",
     "text": [
      "LogisticRegression(random_state=42)\n",
      "[[7533 3133]\n",
      " [ 361  709]]\n",
      "              precision    recall  f1-score   support\n",
      "\n",
      "        정상보증       0.95      0.71      0.81     10666\n",
      "        사고보증       0.18      0.66      0.29      1070\n",
      "\n",
      "    accuracy                           0.70     11736\n",
      "   macro avg       0.57      0.68      0.55     11736\n",
      "weighted avg       0.88      0.70      0.76     11736\n",
      "\n",
      "RandomForestClassifier(max_depth=50, max_features=1, n_estimators=200)\n",
      "[[10381   285]\n",
      " [  754   316]]\n",
      "              precision    recall  f1-score   support\n",
      "\n",
      "        정상보증       0.93      0.97      0.95     10666\n",
      "        사고보증       0.53      0.30      0.38      1070\n",
      "\n",
      "    accuracy                           0.91     11736\n",
      "   macro avg       0.73      0.63      0.67     11736\n",
      "weighted avg       0.90      0.91      0.90     11736\n",
      "\n",
      "KNeighborsClassifier(algorithm='kd_tree', n_neighbors=2)\n",
      "[[9560 1106]\n",
      " [ 694  376]]\n",
      "              precision    recall  f1-score   support\n",
      "\n",
      "        정상보증       0.93      0.90      0.91     10666\n",
      "        사고보증       0.25      0.35      0.29      1070\n",
      "\n",
      "    accuracy                           0.85     11736\n",
      "   macro avg       0.59      0.62      0.60     11736\n",
      "weighted avg       0.87      0.85      0.86     11736\n",
      "\n",
      "VotingClassifier(estimators=[('lr', LogisticRegression(random_state=42)),\n",
      "                             ('rf',\n",
      "                              RandomForestClassifier(max_depth=50,\n",
      "                                                     max_features=1,\n",
      "                                                     n_estimators=200)),\n",
      "                             ('knn',\n",
      "                              KNeighborsClassifier(algorithm='kd_tree',\n",
      "                                                   n_neighbors=2)),\n",
      "                             ('adaboost',\n",
      "                              AdaBoostClassifier(base_estimator=DecisionTreeClassifier(max_depth=2),\n",
      "                                                 learning_rate=0.1,\n",
      "                                                 n_estimators=100))],\n",
      "                 voting='soft')\n",
      "[[9471 1195]\n",
      " [ 606  464]]\n",
      "              precision    recall  f1-score   support\n",
      "\n",
      "        정상보증       0.94      0.89      0.91     10666\n",
      "        사고보증       0.28      0.43      0.34      1070\n",
      "\n",
      "    accuracy                           0.85     11736\n",
      "   macro avg       0.61      0.66      0.63     11736\n",
      "weighted avg       0.88      0.85      0.86     11736\n",
      "\n"
     ]
    }
   ],
   "source": [
    "from sklearn.metrics import classification_report\n",
    "from sklearn.metrics import confusion_matrix\n",
    "\n",
    "for clf in (log_clf, rnd_clf, knn_clf, voting_clf):\n",
    "    clf.fit(X_over1_train, Y_over1_train)\n",
    "    y_pred = clf.predict(test_x)\n",
    "    cfmat = confusion_matrix(test_y,y_pred)\n",
    "    print(clf)\n",
    "    print(cfmat)\n",
    "    print(classification_report(test_y, y_pred, target_names=['정상보증', '사고보증']))"
   ]
  },
  {
   "cell_type": "code",
   "execution_count": 9,
   "metadata": {},
   "outputs": [
    {
     "data": {
      "text/plain": [
       "VotingClassifier(estimators=[('lr', LogisticRegression(random_state=42)),\n",
       "                             ('rf1',\n",
       "                              RandomForestClassifier(max_depth=50,\n",
       "                                                     max_features=1,\n",
       "                                                     n_estimators=200)),\n",
       "                             ('rf2',\n",
       "                              RandomForestClassifier(max_depth=50,\n",
       "                                                     max_features=1,\n",
       "                                                     n_estimators=200)),\n",
       "                             ('rf3',\n",
       "                              RandomForestClassifier(max_depth=50,\n",
       "                                                     max_features=1,\n",
       "                                                     n_estimators=200)),\n",
       "                             ('knn',\n",
       "                              KNeighborsClassifier(algorithm='kd_tree',\n",
       "                                                   n_neighbors=2))],\n",
       "                 voting='soft', weights=[1, 2, 2, 2, 1])"
      ]
     },
     "execution_count": 9,
     "metadata": {},
     "output_type": "execute_result"
    }
   ],
   "source": [
    "log_clf = LogisticRegression(random_state = 42, solver = 'lbfgs')\n",
    "rnd_clf = RandomForestClassifier(n_estimators=200,max_depth=50,max_features=1)\n",
    "knn_clf = KNeighborsClassifier(n_neighbors= 2,algorithm='kd_tree',weights='uniform')\n",
    "\n",
    "voting_clf = VotingClassifier(\n",
    "    estimators = [('lr', log_clf), ('rf1', rnd_clf), ('rf2', rnd_clf), ('rf3', rnd_clf), ('knn', knn_clf)],\n",
    "    voting = 'soft', weights=[1,2,2,2,1]\n",
    ")\n",
    "\n",
    "voting_clf.fit(X_over1_train,Y_over1_train)"
   ]
  },
  {
   "cell_type": "code",
   "execution_count": 10,
   "metadata": {},
   "outputs": [
    {
     "name": "stdout",
     "output_type": "stream",
     "text": [
      "[[10226   440]\n",
      " [  714   356]]\n",
      "              precision    recall  f1-score   support\n",
      "\n",
      "        정상보증       0.93      0.96      0.95     10666\n",
      "        사고보증       0.45      0.33      0.38      1070\n",
      "\n",
      "    accuracy                           0.90     11736\n",
      "   macro avg       0.69      0.65      0.66     11736\n",
      "weighted avg       0.89      0.90      0.90     11736\n",
      "\n"
     ]
    }
   ],
   "source": [
    "voting_clf.fit(X_over1_train, Y_over1_train)\n",
    "y_pred = voting_clf.predict(test_x)\n",
    "cfmat = confusion_matrix(test_y,y_pred)\n",
    "\n",
    "print(cfmat)\n",
    "print(classification_report(test_y, y_pred, target_names=['정상보증', '사고보증']))"
   ]
  },
  {
   "cell_type": "markdown",
   "metadata": {},
   "source": [
    "Adasyn"
   ]
  },
  {
   "cell_type": "code",
   "execution_count": 11,
   "metadata": {},
   "outputs": [
    {
     "data": {
      "text/plain": [
       "VotingClassifier(estimators=[('lr', LogisticRegression(random_state=42)),\n",
       "                             ('rf',\n",
       "                              RandomForestClassifier(max_depth=50,\n",
       "                                                     max_features=1,\n",
       "                                                     n_estimators=200)),\n",
       "                             ('knn',\n",
       "                              KNeighborsClassifier(algorithm='kd_tree',\n",
       "                                                   n_neighbors=2)),\n",
       "                             ('adaboost',\n",
       "                              AdaBoostClassifier(base_estimator=DecisionTreeClassifier(max_depth=2),\n",
       "                                                 learning_rate=0.1,\n",
       "                                                 n_estimators=100))],\n",
       "                 voting='soft')"
      ]
     },
     "execution_count": 11,
     "metadata": {},
     "output_type": "execute_result"
    }
   ],
   "source": [
    "log_clf = LogisticRegression(random_state = 42, solver = 'lbfgs')\n",
    "rnd_clf = RandomForestClassifier(n_estimators=200,max_depth=50,max_features=1)\n",
    "knn_clf = KNeighborsClassifier(n_neighbors= 2, algorithm='kd_tree',weights='uniform')\n",
    "abst_clf = AdaBoostClassifier(base_estimator=DecisionTreeClassifier(max_depth=2), n_estimators=100, learning_rate=0.1)\n",
    "\n",
    "voting_clf = VotingClassifier(\n",
    "    estimators = [('lr', log_clf), ('rf', rnd_clf), ('knn', knn_clf), ('adaboost', abst_clf)],\n",
    "    voting = 'soft'\n",
    ")\n",
    "\n",
    "voting_clf.fit(X_over2_train,Y_over2_train)"
   ]
  },
  {
   "cell_type": "code",
   "execution_count": 12,
   "metadata": {},
   "outputs": [
    {
     "name": "stdout",
     "output_type": "stream",
     "text": [
      "LogisticRegression(random_state=42)\n",
      "[[7034 3632]\n",
      " [ 307  763]]\n",
      "              precision    recall  f1-score   support\n",
      "\n",
      "        정상보증       0.96      0.66      0.78     10666\n",
      "        사고보증       0.17      0.71      0.28      1070\n",
      "\n",
      "    accuracy                           0.66     11736\n",
      "   macro avg       0.57      0.69      0.53     11736\n",
      "weighted avg       0.89      0.66      0.74     11736\n",
      "\n",
      "RandomForestClassifier(max_depth=50, max_features=1, n_estimators=200)\n",
      "[[10354   312]\n",
      " [  750   320]]\n",
      "              precision    recall  f1-score   support\n",
      "\n",
      "        정상보증       0.93      0.97      0.95     10666\n",
      "        사고보증       0.51      0.30      0.38      1070\n",
      "\n",
      "    accuracy                           0.91     11736\n",
      "   macro avg       0.72      0.63      0.66     11736\n",
      "weighted avg       0.89      0.91      0.90     11736\n",
      "\n",
      "KNeighborsClassifier(algorithm='kd_tree', n_neighbors=2)\n",
      "[[9351 1315]\n",
      " [ 663  407]]\n",
      "              precision    recall  f1-score   support\n",
      "\n",
      "        정상보증       0.93      0.88      0.90     10666\n",
      "        사고보증       0.24      0.38      0.29      1070\n",
      "\n",
      "    accuracy                           0.83     11736\n",
      "   macro avg       0.59      0.63      0.60     11736\n",
      "weighted avg       0.87      0.83      0.85     11736\n",
      "\n",
      "VotingClassifier(estimators=[('lr', LogisticRegression(random_state=42)),\n",
      "                             ('rf',\n",
      "                              RandomForestClassifier(max_depth=50,\n",
      "                                                     max_features=1,\n",
      "                                                     n_estimators=200)),\n",
      "                             ('knn',\n",
      "                              KNeighborsClassifier(algorithm='kd_tree',\n",
      "                                                   n_neighbors=2)),\n",
      "                             ('adaboost',\n",
      "                              AdaBoostClassifier(base_estimator=DecisionTreeClassifier(max_depth=2),\n",
      "                                                 learning_rate=0.1,\n",
      "                                                 n_estimators=100))],\n",
      "                 voting='soft')\n",
      "[[9284 1382]\n",
      " [ 585  485]]\n",
      "              precision    recall  f1-score   support\n",
      "\n",
      "        정상보증       0.94      0.87      0.90     10666\n",
      "        사고보증       0.26      0.45      0.33      1070\n",
      "\n",
      "    accuracy                           0.83     11736\n",
      "   macro avg       0.60      0.66      0.62     11736\n",
      "weighted avg       0.88      0.83      0.85     11736\n",
      "\n"
     ]
    }
   ],
   "source": [
    "for clf in (log_clf, rnd_clf, knn_clf, voting_clf):\n",
    "    clf.fit(X_over2_train, Y_over2_train)\n",
    "    y_pred = clf.predict(test_x)\n",
    "    cfmat = confusion_matrix(test_y,y_pred)\n",
    "    print(clf)\n",
    "    print(cfmat)\n",
    "    print(classification_report(test_y, y_pred, target_names=['정상보증', '사고보증']))"
   ]
  },
  {
   "cell_type": "code",
   "execution_count": 11,
   "metadata": {},
   "outputs": [
    {
     "data": {
      "text/plain": [
       "VotingClassifier(estimators=[('lr', LogisticRegression(random_state=42)),\n",
       "                             ('rf1',\n",
       "                              RandomForestClassifier(max_depth=50,\n",
       "                                                     max_features=1,\n",
       "                                                     n_estimators=200)),\n",
       "                             ('rf2',\n",
       "                              RandomForestClassifier(max_depth=50,\n",
       "                                                     max_features=1,\n",
       "                                                     n_estimators=200)),\n",
       "                             ('rf3',\n",
       "                              RandomForestClassifier(max_depth=50,\n",
       "                                                     max_features=1,\n",
       "                                                     n_estimators=200)),\n",
       "                             ('knn',\n",
       "                              KNeighborsClassifier(algorithm='kd_tree',\n",
       "                                                   n_neighbors=2))],\n",
       "                 voting='soft', weights=[1, 2, 2, 2, 1])"
      ]
     },
     "execution_count": 11,
     "metadata": {},
     "output_type": "execute_result"
    }
   ],
   "source": [
    "log_clf = LogisticRegression(random_state = 42, solver = 'lbfgs')\n",
    "rnd_clf = RandomForestClassifier(n_estimators=200,max_depth=50,max_features=1)\n",
    "knn_clf = KNeighborsClassifier(n_neighbors= 2,algorithm='kd_tree',weights='uniform')\n",
    "\n",
    "voting_clf = VotingClassifier(\n",
    "    estimators = [('lr', log_clf), ('rf1', rnd_clf), ('rf2', rnd_clf), ('rf3', rnd_clf), ('knn', knn_clf)],\n",
    "    voting = 'soft', weights=[1,2,2,2,1]\n",
    ")\n",
    "\n",
    "voting_clf.fit(X_over2_train,Y_over2_train)"
   ]
  },
  {
   "cell_type": "code",
   "execution_count": 12,
   "metadata": {},
   "outputs": [
    {
     "name": "stdout",
     "output_type": "stream",
     "text": [
      "[[10160   506]\n",
      " [  718   352]]\n",
      "              precision    recall  f1-score   support\n",
      "\n",
      "        정상보증       0.93      0.95      0.94     10666\n",
      "        사고보증       0.41      0.33      0.37      1070\n",
      "\n",
      "    accuracy                           0.90     11736\n",
      "   macro avg       0.67      0.64      0.65     11736\n",
      "weighted avg       0.89      0.90      0.89     11736\n",
      "\n"
     ]
    }
   ],
   "source": [
    "voting_clf.fit(X_over2_train, Y_over2_train)\n",
    "y_pred = voting_clf.predict(test_x)\n",
    "cfmat = confusion_matrix(test_y,y_pred)\n",
    "\n",
    "print(cfmat)\n",
    "print(classification_report(test_y, y_pred, target_names=['정상보증', '사고보증']))"
   ]
  },
  {
   "cell_type": "markdown",
   "metadata": {},
   "source": [
    "ENN"
   ]
  },
  {
   "cell_type": "code",
   "execution_count": 13,
   "metadata": {},
   "outputs": [
    {
     "data": {
      "text/plain": [
       "VotingClassifier(estimators=[('lr', LogisticRegression(random_state=42)),\n",
       "                             ('rf',\n",
       "                              RandomForestClassifier(max_depth=50,\n",
       "                                                     max_features=1,\n",
       "                                                     n_estimators=200)),\n",
       "                             ('knn',\n",
       "                              KNeighborsClassifier(algorithm='kd_tree',\n",
       "                                                   n_neighbors=2))],\n",
       "                 voting='soft', weights=[1, 2, 1])"
      ]
     },
     "execution_count": 13,
     "metadata": {},
     "output_type": "execute_result"
    }
   ],
   "source": [
    "log_clf = LogisticRegression(random_state = 42, solver = 'lbfgs')\n",
    "rnd_clf = RandomForestClassifier(n_estimators=200,max_depth=50,max_features=1)\n",
    "knn_clf = KNeighborsClassifier(n_neighbors= 2,algorithm='kd_tree',weights='uniform')\n",
    "\n",
    "voting_clf = VotingClassifier(\n",
    "    estimators = [('lr', log_clf), ('rf', rnd_clf), ('knn', knn_clf)],\n",
    "    voting = 'soft', weights=[1,2,1]\n",
    ")\n",
    "\n",
    "voting_clf.fit(X_under1_train,Y_under1_train)"
   ]
  },
  {
   "cell_type": "code",
   "execution_count": 14,
   "metadata": {},
   "outputs": [
    {
     "name": "stdout",
     "output_type": "stream",
     "text": [
      "LogisticRegression(random_state=42)\n",
      "[[9503 1163]\n",
      " [ 675  395]]\n",
      "              precision    recall  f1-score   support\n",
      "\n",
      "        정상보증       0.93      0.89      0.91     10666\n",
      "        사고보증       0.25      0.37      0.30      1070\n",
      "\n",
      "    accuracy                           0.84     11736\n",
      "   macro avg       0.59      0.63      0.61     11736\n",
      "weighted avg       0.87      0.84      0.86     11736\n",
      "\n",
      "RandomForestClassifier(max_depth=50, max_features=1, n_estimators=200)\n",
      "[[9876  790]\n",
      " [ 615  455]]\n",
      "              precision    recall  f1-score   support\n",
      "\n",
      "        정상보증       0.94      0.93      0.93     10666\n",
      "        사고보증       0.37      0.43      0.39      1070\n",
      "\n",
      "    accuracy                           0.88     11736\n",
      "   macro avg       0.65      0.68      0.66     11736\n",
      "weighted avg       0.89      0.88      0.88     11736\n",
      "\n",
      "KNeighborsClassifier(algorithm='kd_tree', n_neighbors=2)\n",
      "[[8926 1740]\n",
      " [ 595  475]]\n",
      "              precision    recall  f1-score   support\n",
      "\n",
      "        정상보증       0.94      0.84      0.88     10666\n",
      "        사고보증       0.21      0.44      0.29      1070\n",
      "\n",
      "    accuracy                           0.80     11736\n",
      "   macro avg       0.58      0.64      0.59     11736\n",
      "weighted avg       0.87      0.80      0.83     11736\n",
      "\n",
      "VotingClassifier(estimators=[('lr', LogisticRegression(random_state=42)),\n",
      "                             ('rf',\n",
      "                              RandomForestClassifier(max_depth=50,\n",
      "                                                     max_features=1,\n",
      "                                                     n_estimators=200)),\n",
      "                             ('knn',\n",
      "                              KNeighborsClassifier(algorithm='kd_tree',\n",
      "                                                   n_neighbors=2))],\n",
      "                 voting='soft', weights=[1, 2, 1])\n",
      "[[9420 1246]\n",
      " [ 564  506]]\n",
      "              precision    recall  f1-score   support\n",
      "\n",
      "        정상보증       0.94      0.88      0.91     10666\n",
      "        사고보증       0.29      0.47      0.36      1070\n",
      "\n",
      "    accuracy                           0.85     11736\n",
      "   macro avg       0.62      0.68      0.64     11736\n",
      "weighted avg       0.88      0.85      0.86     11736\n",
      "\n"
     ]
    }
   ],
   "source": [
    "for clf in (log_clf, rnd_clf, knn_clf, voting_clf):\n",
    "    clf.fit(X_under1_train, Y_under1_train)\n",
    "    y_pred = clf.predict(test_x)\n",
    "    cfmat = confusion_matrix(test_y,y_pred)\n",
    "    print(clf)\n",
    "    print(cfmat)\n",
    "    print(classification_report(test_y, y_pred, target_names=['정상보증', '사고보증']))"
   ]
  },
  {
   "cell_type": "markdown",
   "metadata": {},
   "source": [
    "3 RANDOMFOREST, LR, KNN"
   ]
  },
  {
   "cell_type": "code",
   "execution_count": 15,
   "metadata": {},
   "outputs": [
    {
     "data": {
      "text/plain": [
       "VotingClassifier(estimators=[('lr', LogisticRegression(random_state=42)),\n",
       "                             ('rf1',\n",
       "                              RandomForestClassifier(max_depth=50,\n",
       "                                                     max_features=1,\n",
       "                                                     n_estimators=200)),\n",
       "                             ('rf2',\n",
       "                              RandomForestClassifier(max_depth=50,\n",
       "                                                     max_features=1,\n",
       "                                                     n_estimators=200)),\n",
       "                             ('rf3',\n",
       "                              RandomForestClassifier(max_depth=50,\n",
       "                                                     max_features=1,\n",
       "                                                     n_estimators=200)),\n",
       "                             ('knn',\n",
       "                              KNeighborsClassifier(algorithm='kd_tree',\n",
       "                                                   n_neighbors=2))],\n",
       "                 voting='soft', weights=[1, 2, 2, 2, 1])"
      ]
     },
     "execution_count": 15,
     "metadata": {},
     "output_type": "execute_result"
    }
   ],
   "source": [
    "log_clf = LogisticRegression(random_state = 42, solver = 'lbfgs')\n",
    "rnd_clf = RandomForestClassifier(n_estimators=200,max_depth=50,max_features=1)\n",
    "knn_clf = KNeighborsClassifier(n_neighbors= 2,algorithm='kd_tree',weights='uniform')\n",
    "\n",
    "voting_clf = VotingClassifier(\n",
    "    estimators = [('lr', log_clf), ('rf1', rnd_clf), ('rf2', rnd_clf), ('rf3', rnd_clf), ('knn', knn_clf)],\n",
    "    voting = 'soft', weights=[1,2,2,2,1]\n",
    ")\n",
    "\n",
    "voting_clf.fit(X_under1_train,Y_under1_train)"
   ]
  },
  {
   "cell_type": "code",
   "execution_count": 16,
   "metadata": {},
   "outputs": [
    {
     "name": "stdout",
     "output_type": "stream",
     "text": [
      "[[9691  975]\n",
      " [ 578  492]]\n",
      "              precision    recall  f1-score   support\n",
      "\n",
      "        정상보증       0.94      0.91      0.93     10666\n",
      "        사고보증       0.34      0.46      0.39      1070\n",
      "\n",
      "    accuracy                           0.87     11736\n",
      "   macro avg       0.64      0.68      0.66     11736\n",
      "weighted avg       0.89      0.87      0.88     11736\n",
      "\n"
     ]
    }
   ],
   "source": [
    "voting_clf.fit(X_under1_train, Y_under1_train)\n",
    "y_pred = voting_clf.predict(test_x)\n",
    "cfmat = confusion_matrix(test_y,y_pred)\n",
    "\n",
    "print(cfmat)\n",
    "print(classification_report(test_y, y_pred, target_names=['정상보증', '사고보증']))"
   ]
  },
  {
   "cell_type": "markdown",
   "metadata": {},
   "source": [
    "TomekLinks"
   ]
  },
  {
   "cell_type": "code",
   "execution_count": 19,
   "metadata": {},
   "outputs": [
    {
     "data": {
      "text/plain": [
       "VotingClassifier(estimators=[('lr', LogisticRegression(random_state=42)),\n",
       "                             ('rf',\n",
       "                              RandomForestClassifier(max_depth=50,\n",
       "                                                     max_features=1,\n",
       "                                                     n_estimators=200)),\n",
       "                             ('knn',\n",
       "                              KNeighborsClassifier(algorithm='kd_tree',\n",
       "                                                   n_neighbors=2))],\n",
       "                 voting='soft', weights=[1, 2, 1])"
      ]
     },
     "execution_count": 19,
     "metadata": {},
     "output_type": "execute_result"
    }
   ],
   "source": [
    "log_clf = LogisticRegression(random_state = 42, solver = 'lbfgs')\n",
    "rnd_clf = RandomForestClassifier(n_estimators=200,max_depth=50,max_features=1)\n",
    "knn_clf = KNeighborsClassifier(n_neighbors= 2,algorithm='kd_tree',weights='uniform')\n",
    "\n",
    "voting_clf = VotingClassifier(\n",
    "    estimators = [('lr', log_clf), ('rf', rnd_clf), ('knn', knn_clf)],\n",
    "    voting = 'soft', weights=[1,2,1]\n",
    ")\n",
    "\n",
    "voting_clf.fit(X_under2_train,Y_under2_train)"
   ]
  },
  {
   "cell_type": "code",
   "execution_count": 20,
   "metadata": {},
   "outputs": [
    {
     "name": "stdout",
     "output_type": "stream",
     "text": [
      "LogisticRegression(random_state=42)\n",
      "[[10640    26]\n",
      " [ 1055    15]]\n",
      "              precision    recall  f1-score   support\n",
      "\n",
      "        정상보증       0.91      1.00      0.95     10666\n",
      "        사고보증       0.37      0.01      0.03      1070\n",
      "\n",
      "    accuracy                           0.91     11736\n",
      "   macro avg       0.64      0.51      0.49     11736\n",
      "weighted avg       0.86      0.91      0.87     11736\n",
      "\n",
      "RandomForestClassifier(max_depth=50, max_features=1, n_estimators=200)\n",
      "[[10643    23]\n",
      " [  844   226]]\n",
      "              precision    recall  f1-score   support\n",
      "\n",
      "        정상보증       0.93      1.00      0.96     10666\n",
      "        사고보증       0.91      0.21      0.34      1070\n",
      "\n",
      "    accuracy                           0.93     11736\n",
      "   macro avg       0.92      0.60      0.65     11736\n",
      "weighted avg       0.92      0.93      0.90     11736\n",
      "\n",
      "KNeighborsClassifier(algorithm='kd_tree', n_neighbors=2)\n",
      "[[10455   211]\n",
      " [  915   155]]\n",
      "              precision    recall  f1-score   support\n",
      "\n",
      "        정상보증       0.92      0.98      0.95     10666\n",
      "        사고보증       0.42      0.14      0.22      1070\n",
      "\n",
      "    accuracy                           0.90     11736\n",
      "   macro avg       0.67      0.56      0.58     11736\n",
      "weighted avg       0.87      0.90      0.88     11736\n",
      "\n",
      "VotingClassifier(estimators=[('lr', LogisticRegression(random_state=42)),\n",
      "                             ('rf',\n",
      "                              RandomForestClassifier(max_depth=50,\n",
      "                                                     max_features=1,\n",
      "                                                     n_estimators=200)),\n",
      "                             ('knn',\n",
      "                              KNeighborsClassifier(algorithm='kd_tree',\n",
      "                                                   n_neighbors=2))],\n",
      "                 voting='soft', weights=[1, 2, 1])\n",
      "[[10636    30]\n",
      " [  898   172]]\n",
      "              precision    recall  f1-score   support\n",
      "\n",
      "        정상보증       0.92      1.00      0.96     10666\n",
      "        사고보증       0.85      0.16      0.27      1070\n",
      "\n",
      "    accuracy                           0.92     11736\n",
      "   macro avg       0.89      0.58      0.61     11736\n",
      "weighted avg       0.92      0.92      0.90     11736\n",
      "\n"
     ]
    }
   ],
   "source": [
    "for clf in (log_clf, rnd_clf, knn_clf, voting_clf):\n",
    "    clf.fit(X_under2_train, Y_under2_train)\n",
    "    y_pred = clf.predict(test_x)\n",
    "    cfmat = confusion_matrix(test_y,y_pred)\n",
    "    print(clf)\n",
    "    print(cfmat)\n",
    "    print(classification_report(test_y, y_pred, target_names=['정상보증', '사고보증']))"
   ]
  },
  {
   "cell_type": "code",
   "execution_count": 17,
   "metadata": {},
   "outputs": [
    {
     "data": {
      "text/plain": [
       "VotingClassifier(estimators=[('lr', LogisticRegression(random_state=42)),\n",
       "                             ('rf1',\n",
       "                              RandomForestClassifier(max_depth=50,\n",
       "                                                     max_features=1,\n",
       "                                                     n_estimators=200)),\n",
       "                             ('rf2',\n",
       "                              RandomForestClassifier(max_depth=50,\n",
       "                                                     max_features=1,\n",
       "                                                     n_estimators=200)),\n",
       "                             ('rf3',\n",
       "                              RandomForestClassifier(max_depth=50,\n",
       "                                                     max_features=1,\n",
       "                                                     n_estimators=200)),\n",
       "                             ('knn',\n",
       "                              KNeighborsClassifier(algorithm='kd_tree',\n",
       "                                                   n_neighbors=2))],\n",
       "                 voting='soft', weights=[1, 2, 2, 2, 1])"
      ]
     },
     "execution_count": 17,
     "metadata": {},
     "output_type": "execute_result"
    }
   ],
   "source": [
    "log_clf = LogisticRegression(random_state = 42, solver = 'lbfgs')\n",
    "rnd_clf = RandomForestClassifier(n_estimators=200,max_depth=50,max_features=1)\n",
    "knn_clf = KNeighborsClassifier(n_neighbors= 2,algorithm='kd_tree',weights='uniform')\n",
    "\n",
    "voting_clf = VotingClassifier(\n",
    "    estimators = [('lr', log_clf), ('rf1', rnd_clf), ('rf2', rnd_clf), ('rf3', rnd_clf), ('knn', knn_clf)],\n",
    "    voting = 'soft', weights=[1,2,2,2,1]\n",
    ")\n",
    "\n",
    "voting_clf.fit(X_under2_train,Y_under2_train)"
   ]
  },
  {
   "cell_type": "code",
   "execution_count": 18,
   "metadata": {},
   "outputs": [
    {
     "name": "stdout",
     "output_type": "stream",
     "text": [
      "[[10641    25]\n",
      " [  843   227]]\n",
      "              precision    recall  f1-score   support\n",
      "\n",
      "        정상보증       0.93      1.00      0.96     10666\n",
      "        사고보증       0.90      0.21      0.34      1070\n",
      "\n",
      "    accuracy                           0.93     11736\n",
      "   macro avg       0.91      0.60      0.65     11736\n",
      "weighted avg       0.92      0.93      0.90     11736\n",
      "\n"
     ]
    }
   ],
   "source": [
    "#for clf in (log_clf, rnd_clf, knn_clf, voting_clf):\n",
    "voting_clf.fit(X_under2_train, Y_under2_train)\n",
    "y_pred = voting_clf.predict(test_x)\n",
    "cfmat = confusion_matrix(test_y,y_pred)\n",
    "#print(clf)\n",
    "print(cfmat)\n",
    "print(classification_report(test_y, y_pred, target_names=['정상보증', '사고보증']))"
   ]
  },
  {
   "cell_type": "markdown",
   "metadata": {},
   "source": [
    "SMOTE ENN"
   ]
  },
  {
   "cell_type": "code",
   "execution_count": 21,
   "metadata": {},
   "outputs": [
    {
     "data": {
      "text/plain": [
       "VotingClassifier(estimators=[('lr', LogisticRegression(random_state=42)),\n",
       "                             ('rf',\n",
       "                              RandomForestClassifier(max_depth=50,\n",
       "                                                     max_features=1,\n",
       "                                                     n_estimators=200)),\n",
       "                             ('knn',\n",
       "                              KNeighborsClassifier(algorithm='kd_tree',\n",
       "                                                   n_neighbors=2))],\n",
       "                 voting='soft', weights=[1, 2, 1])"
      ]
     },
     "execution_count": 21,
     "metadata": {},
     "output_type": "execute_result"
    }
   ],
   "source": [
    "log_clf = LogisticRegression(random_state = 42, solver = 'lbfgs')\n",
    "rnd_clf = RandomForestClassifier(n_estimators=200,max_depth=50,max_features=1)\n",
    "knn_clf = KNeighborsClassifier(n_neighbors= 2,algorithm='kd_tree',weights='uniform')\n",
    "\n",
    "voting_clf = VotingClassifier(\n",
    "    estimators = [('lr', log_clf), ('rf', rnd_clf), ('knn', knn_clf)],\n",
    "    voting = 'soft', weights=[1,2,1]\n",
    ")\n",
    "\n",
    "voting_clf.fit(X_comb1_train,Y_comb1_train)"
   ]
  },
  {
   "cell_type": "code",
   "execution_count": 22,
   "metadata": {},
   "outputs": [
    {
     "name": "stdout",
     "output_type": "stream",
     "text": [
      "LogisticRegression(random_state=42)\n",
      "[[5695 4971]\n",
      " [ 207  863]]\n",
      "              precision    recall  f1-score   support\n",
      "\n",
      "        정상보증       0.96      0.53      0.69     10666\n",
      "        사고보증       0.15      0.81      0.25      1070\n",
      "\n",
      "    accuracy                           0.56     11736\n",
      "   macro avg       0.56      0.67      0.47     11736\n",
      "weighted avg       0.89      0.56      0.65     11736\n",
      "\n",
      "RandomForestClassifier(max_depth=50, max_features=1, n_estimators=200)\n",
      "[[9485 1181]\n",
      " [ 575  495]]\n",
      "              precision    recall  f1-score   support\n",
      "\n",
      "        정상보증       0.94      0.89      0.92     10666\n",
      "        사고보증       0.30      0.46      0.36      1070\n",
      "\n",
      "    accuracy                           0.85     11736\n",
      "   macro avg       0.62      0.68      0.64     11736\n",
      "weighted avg       0.88      0.85      0.86     11736\n",
      "\n",
      "KNeighborsClassifier(algorithm='kd_tree', n_neighbors=2)\n",
      "[[8095 2571]\n",
      " [ 476  594]]\n",
      "              precision    recall  f1-score   support\n",
      "\n",
      "        정상보증       0.94      0.76      0.84     10666\n",
      "        사고보증       0.19      0.56      0.28      1070\n",
      "\n",
      "    accuracy                           0.74     11736\n",
      "   macro avg       0.57      0.66      0.56     11736\n",
      "weighted avg       0.88      0.74      0.79     11736\n",
      "\n",
      "VotingClassifier(estimators=[('lr', LogisticRegression(random_state=42)),\n",
      "                             ('rf',\n",
      "                              RandomForestClassifier(max_depth=50,\n",
      "                                                     max_features=1,\n",
      "                                                     n_estimators=200)),\n",
      "                             ('knn',\n",
      "                              KNeighborsClassifier(algorithm='kd_tree',\n",
      "                                                   n_neighbors=2))],\n",
      "                 voting='soft', weights=[1, 2, 1])\n",
      "[[8220 2446]\n",
      " [ 404  666]]\n",
      "              precision    recall  f1-score   support\n",
      "\n",
      "        정상보증       0.95      0.77      0.85     10666\n",
      "        사고보증       0.21      0.62      0.32      1070\n",
      "\n",
      "    accuracy                           0.76     11736\n",
      "   macro avg       0.58      0.70      0.59     11736\n",
      "weighted avg       0.89      0.76      0.80     11736\n",
      "\n"
     ]
    }
   ],
   "source": [
    "for clf in (log_clf, rnd_clf, knn_clf, voting_clf):\n",
    "    clf.fit(X_comb1_train, Y_comb1_train)\n",
    "    y_pred = clf.predict(test_x)\n",
    "    cfmat = confusion_matrix(test_y,y_pred)\n",
    "    print(clf)\n",
    "    print(cfmat)\n",
    "    print(classification_report(test_y, y_pred, target_names=['정상보증', '사고보증']))"
   ]
  },
  {
   "cell_type": "code",
   "execution_count": 23,
   "metadata": {},
   "outputs": [
    {
     "data": {
      "text/plain": [
       "VotingClassifier(estimators=[('lr', LogisticRegression(random_state=42)),\n",
       "                             ('rf1',\n",
       "                              RandomForestClassifier(max_depth=50,\n",
       "                                                     max_features=1,\n",
       "                                                     n_estimators=200)),\n",
       "                             ('rf2',\n",
       "                              RandomForestClassifier(max_depth=50,\n",
       "                                                     max_features=1,\n",
       "                                                     n_estimators=200)),\n",
       "                             ('rf3',\n",
       "                              RandomForestClassifier(max_depth=50,\n",
       "                                                     max_features=1,\n",
       "                                                     n_estimators=200)),\n",
       "                             ('knn',\n",
       "                              KNeighborsClassifier(algorithm='kd_tree',\n",
       "                                                   n_neighbors=2))],\n",
       "                 voting='soft')"
      ]
     },
     "execution_count": 23,
     "metadata": {},
     "output_type": "execute_result"
    }
   ],
   "source": [
    "log_clf = LogisticRegression(random_state = 42, solver = 'lbfgs')\n",
    "rnd_clf = RandomForestClassifier(n_estimators=200,max_depth=50,max_features=1)\n",
    "knn_clf = KNeighborsClassifier(n_neighbors= 2,algorithm='kd_tree',weights='uniform')\n",
    "\n",
    "voting_clf = VotingClassifier(\n",
    "    estimators = [('lr', log_clf), ('rf1', rnd_clf), ('rf2', rnd_clf), ('rf3', rnd_clf), ('knn', knn_clf)],\n",
    "    voting = 'soft'\n",
    ")\n",
    "\n",
    "voting_clf.fit(X_comb1_train,Y_comb1_train)"
   ]
  },
  {
   "cell_type": "code",
   "execution_count": 24,
   "metadata": {},
   "outputs": [
    {
     "name": "stdout",
     "output_type": "stream",
     "text": [
      "[[8530 2136]\n",
      " [ 428  642]]\n",
      "              precision    recall  f1-score   support\n",
      "\n",
      "        정상보증       0.95      0.80      0.87     10666\n",
      "        사고보증       0.23      0.60      0.33      1070\n",
      "\n",
      "    accuracy                           0.78     11736\n",
      "   macro avg       0.59      0.70      0.60     11736\n",
      "weighted avg       0.89      0.78      0.82     11736\n",
      "\n"
     ]
    }
   ],
   "source": [
    "#for clf in (log_clf, rnd_clf, knn_clf, voting_clf):\n",
    "voting_clf.fit(X_comb1_train, Y_comb1_train)\n",
    "y_pred = voting_clf.predict(test_x)\n",
    "cfmat = confusion_matrix(test_y,y_pred)\n",
    "#print(clf)\n",
    "print(cfmat)\n",
    "print(classification_report(test_y, y_pred, target_names=['정상보증', '사고보증']))"
   ]
  },
  {
   "cell_type": "markdown",
   "metadata": {},
   "source": [
    "=> randomforest 3 계층 추가 후, 성능 개선됨!"
   ]
  },
  {
   "cell_type": "markdown",
   "metadata": {},
   "source": [
    "SMOTE TOMEK"
   ]
  },
  {
   "cell_type": "code",
   "execution_count": 19,
   "metadata": {},
   "outputs": [
    {
     "data": {
      "text/plain": [
       "VotingClassifier(estimators=[('lr', LogisticRegression(random_state=42)),\n",
       "                             ('rf',\n",
       "                              RandomForestClassifier(max_depth=50,\n",
       "                                                     max_features=1,\n",
       "                                                     n_estimators=200)),\n",
       "                             ('knn',\n",
       "                              KNeighborsClassifier(algorithm='kd_tree',\n",
       "                                                   n_neighbors=2))],\n",
       "                 voting='soft', weights=[1, 2, 1])"
      ]
     },
     "execution_count": 19,
     "metadata": {},
     "output_type": "execute_result"
    }
   ],
   "source": [
    "log_clf = LogisticRegression(random_state = 42, solver = 'lbfgs')\n",
    "rnd_clf = RandomForestClassifier(n_estimators=200,max_depth=50,max_features=1)\n",
    "knn_clf = KNeighborsClassifier(n_neighbors= 2,algorithm='kd_tree',weights='uniform')\n",
    "\n",
    "voting_clf = VotingClassifier(\n",
    "    estimators = [('lr', log_clf), ('rf', rnd_clf), ('knn', knn_clf)],\n",
    "    voting = 'soft', weights=[1,2,1]\n",
    ")\n",
    "\n",
    "voting_clf.fit(X_comb2_train,Y_comb2_train)"
   ]
  },
  {
   "cell_type": "code",
   "execution_count": 20,
   "metadata": {},
   "outputs": [
    {
     "name": "stdout",
     "output_type": "stream",
     "text": [
      "LogisticRegression(random_state=42)\n",
      "[[5685 4981]\n",
      " [ 206  864]]\n",
      "              precision    recall  f1-score   support\n",
      "\n",
      "        정상보증       0.97      0.53      0.69     10666\n",
      "        사고보증       0.15      0.81      0.25      1070\n",
      "\n",
      "    accuracy                           0.56     11736\n",
      "   macro avg       0.56      0.67      0.47     11736\n",
      "weighted avg       0.89      0.56      0.65     11736\n",
      "\n",
      "RandomForestClassifier(max_depth=50, max_features=1, n_estimators=200)\n",
      "[[9445 1221]\n",
      " [ 563  507]]\n",
      "              precision    recall  f1-score   support\n",
      "\n",
      "        정상보증       0.94      0.89      0.91     10666\n",
      "        사고보증       0.29      0.47      0.36      1070\n",
      "\n",
      "    accuracy                           0.85     11736\n",
      "   macro avg       0.62      0.68      0.64     11736\n",
      "weighted avg       0.88      0.85      0.86     11736\n",
      "\n",
      "KNeighborsClassifier(algorithm='kd_tree', n_neighbors=2)\n",
      "[[8095 2571]\n",
      " [ 476  594]]\n",
      "              precision    recall  f1-score   support\n",
      "\n",
      "        정상보증       0.94      0.76      0.84     10666\n",
      "        사고보증       0.19      0.56      0.28      1070\n",
      "\n",
      "    accuracy                           0.74     11736\n",
      "   macro avg       0.57      0.66      0.56     11736\n",
      "weighted avg       0.88      0.74      0.79     11736\n",
      "\n",
      "VotingClassifier(estimators=[('lr', LogisticRegression(random_state=42)),\n",
      "                             ('rf',\n",
      "                              RandomForestClassifier(max_depth=50,\n",
      "                                                     max_features=1,\n",
      "                                                     n_estimators=200)),\n",
      "                             ('knn',\n",
      "                              KNeighborsClassifier(algorithm='kd_tree',\n",
      "                                                   n_neighbors=2))],\n",
      "                 voting='soft', weights=[1, 2, 1])\n",
      "[[8234 2432]\n",
      " [ 399  671]]\n",
      "              precision    recall  f1-score   support\n",
      "\n",
      "        정상보증       0.95      0.77      0.85     10666\n",
      "        사고보증       0.22      0.63      0.32      1070\n",
      "\n",
      "    accuracy                           0.76     11736\n",
      "   macro avg       0.59      0.70      0.59     11736\n",
      "weighted avg       0.89      0.76      0.80     11736\n",
      "\n"
     ]
    }
   ],
   "source": [
    "for clf in (log_clf, rnd_clf, knn_clf, voting_clf):\n",
    "    clf.fit(X_comb1_train, Y_comb1_train)\n",
    "    y_pred = clf.predict(test_x)\n",
    "    cfmat = confusion_matrix(test_y,y_pred)\n",
    "    print(clf)\n",
    "    print(cfmat)\n",
    "    print(classification_report(test_y, y_pred, target_names=['정상보증', '사고보증']))"
   ]
  },
  {
   "cell_type": "code",
   "execution_count": 33,
   "metadata": {},
   "outputs": [
    {
     "data": {
      "text/plain": [
       "VotingClassifier(estimators=[('lr', LogisticRegression(random_state=42)),\n",
       "                             ('rf1',\n",
       "                              RandomForestClassifier(max_depth=50,\n",
       "                                                     max_features=1,\n",
       "                                                     n_estimators=200)),\n",
       "                             ('rf2',\n",
       "                              RandomForestClassifier(max_depth=50,\n",
       "                                                     max_features=1,\n",
       "                                                     n_estimators=200)),\n",
       "                             ('rf3',\n",
       "                              RandomForestClassifier(max_depth=50,\n",
       "                                                     max_features=1,\n",
       "                                                     n_estimators=200)),\n",
       "                             ('knn',\n",
       "                              KNeighborsClassifier(algorithm='kd_tree',\n",
       "                                                   n_neighbors=2))],\n",
       "                 voting='soft')"
      ]
     },
     "execution_count": 33,
     "metadata": {},
     "output_type": "execute_result"
    }
   ],
   "source": [
    "log_clf = LogisticRegression(random_state = 42, solver = 'lbfgs')\n",
    "rnd_clf = RandomForestClassifier(n_estimators=200,max_depth=50,max_features=1)\n",
    "knn_clf = KNeighborsClassifier(n_neighbors= 2,algorithm='kd_tree',weights='uniform')\n",
    "\n",
    "voting_clf = VotingClassifier(\n",
    "    estimators = [('lr', log_clf), ('rf1', rnd_clf), ('rf2', rnd_clf), ('rf3', rnd_clf), ('knn', knn_clf)],\n",
    "    voting = 'soft'\n",
    ")\n",
    "\n",
    "voting_clf.fit(X_comb2_train,Y_comb2_train)"
   ]
  },
  {
   "cell_type": "code",
   "execution_count": 35,
   "metadata": {},
   "outputs": [
    {
     "name": "stdout",
     "output_type": "stream",
     "text": [
      "[[9921  745]\n",
      " [ 663  407]]\n",
      "              precision    recall  f1-score   support\n",
      "\n",
      "        정상보증       0.94      0.93      0.93     10666\n",
      "        사고보증       0.35      0.38      0.37      1070\n",
      "\n",
      "    accuracy                           0.88     11736\n",
      "   macro avg       0.65      0.66      0.65     11736\n",
      "weighted avg       0.88      0.88      0.88     11736\n",
      "\n"
     ]
    }
   ],
   "source": [
    "voting_clf.fit(X_comb2_train, Y_comb2_train)\n",
    "y_pred = voting_clf.predict(test_x)\n",
    "cfmat = confusion_matrix(test_y,y_pred)\n",
    "print(cfmat)\n",
    "print(classification_report(test_y, y_pred, target_names=['정상보증', '사고보증']))"
   ]
  }
 ],
 "metadata": {
  "interpreter": {
   "hash": "4000436974652e2da39f7abf97d4cef3d01362244b176d22af40d9d73df68d1f"
  },
  "kernelspec": {
   "display_name": "Python 3.8.10 64-bit ('Study_Big': conda)",
   "language": "python",
   "name": "python3"
  },
  "language_info": {
   "codemirror_mode": {
    "name": "ipython",
    "version": 3
   },
   "file_extension": ".py",
   "mimetype": "text/x-python",
   "name": "python",
   "nbconvert_exporter": "python",
   "pygments_lexer": "ipython3",
   "version": "3.8.10"
  },
  "orig_nbformat": 4
 },
 "nbformat": 4,
 "nbformat_minor": 2
}
