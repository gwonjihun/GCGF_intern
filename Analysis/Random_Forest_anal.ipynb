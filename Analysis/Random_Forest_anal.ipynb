{
 "cells": [
  {
   "cell_type": "markdown",
   "metadata": {},
   "source": [
    "## 랜덤 포레스트 기법을 통한 예측 모델링\n"
   ]
  },
  {
   "cell_type": "code",
   "execution_count": 1,
   "metadata": {},
   "outputs": [],
   "source": [
    "import pandas as pd\n",
    "from sklearn.preprocessing import RobustScaler\n",
    "import matplotlib.pyplot as plt\n",
    "import statsmodels.api as sm\n"
   ]
  },
  {
   "cell_type": "code",
   "execution_count": 86,
   "metadata": {},
   "outputs": [],
   "source": [
    "data = pd.read_csv(\"DATA/act_labeling_data_fix.csv\",encoding=\"cp949\")"
   ]
  },
  {
   "cell_type": "code",
   "execution_count": 87,
   "metadata": {},
   "outputs": [],
   "source": [
    "scaler_data = data[[ 'CBSCORE', 'CREDITOTAMT', 'YSALEAMT',\n",
    "       'ESTMM', 'IMSAAMT', 'IMJUAMT',  'BUJUAMT',\n",
    "       'BU1TOTAMT', 'GAMT', 'GKIND',  'KOSPI', '환율', 'GDP', \n",
    "       '실업률', '물가지수', '국고채', '금리', '유가등락률',\n",
    "       '소비자심리지수']]\n",
    "       "
   ]
  },
  {
   "cell_type": "code",
   "execution_count": 88,
   "metadata": {},
   "outputs": [],
   "source": [
    "scaler = RobustScaler()\n",
    "#scaler = MinMaxScaler()\n",
    "scaler = scaler.fit_transform(scaler_data)"
   ]
  },
  {
   "cell_type": "code",
   "execution_count": 89,
   "metadata": {},
   "outputs": [],
   "source": [
    "data[[ 'CBSCORE', 'CREDITOTAMT', 'YSALEAMT',\n",
    "       'ESTMM', 'IMSAAMT', 'IMJUAMT',  'BUJUAMT',\n",
    "       'BU1TOTAMT', 'GAMT', 'GKIND',  'KOSPI', '환율', 'GDP', \n",
    "       '실업률', '물가지수', '국고채', '금리', '유가등락률',\n",
    "       '소비자심리지수']] = scaler"
   ]
  },
  {
   "cell_type": "markdown",
   "metadata": {},
   "source": [
    "### 이제 위에 코드는 import만 실행시키시면됩니다."
   ]
  },
  {
   "cell_type": "code",
   "execution_count": 2,
   "metadata": {},
   "outputs": [],
   "source": [
    "data = pd.read_csv(\"DATA/Robust_scaler_result.csv\",encoding=\"cp949\")"
   ]
  },
  {
   "cell_type": "code",
   "execution_count": 3,
   "metadata": {},
   "outputs": [],
   "source": [
    "from imblearn.over_sampling import BorderlineSMOTE\n",
    "from sklearn.model_selection import train_test_split"
   ]
  },
  {
   "cell_type": "code",
   "execution_count": 4,
   "metadata": {},
   "outputs": [],
   "source": [
    "features = data[[ 'CBSCORE', 'CREDITOTAMT', 'YSALEAMT',\n",
    "       'ESTMM', 'IMSAAMT', 'IMJUAMT',  'BUJUAMT',\n",
    "       'BU1TOTAMT', 'GAMT', 'KOSPI', '환율', 'GDP', \n",
    "       '실업률', '물가지수', '국고채', '금리', '유가등락률',\n",
    "       '소비자심리지수','ONEHOT']] #GKIND 갖고 가나요?.. 아뇨..ㅋㅋㅋ\n",
    "act = data['ACTCD'] "
   ]
  },
  {
   "cell_type": "code",
   "execution_count": 5,
   "metadata": {},
   "outputs": [
    {
     "name": "stdout",
     "output_type": "stream",
     "text": [
      "(27381, 19) (11736, 19) (27381,) (11736,)\n"
     ]
    }
   ],
   "source": [
    "\n",
    "train_x, test_x,train_y, test_y = train_test_split(features, act,\n",
    "stratify=act,train_size=0.7,test_size=0.3,random_state=1)\n",
    "\n",
    "print(train_x.shape, test_x.shape, train_y.shape, test_y.shape)"
   ]
  },
  {
   "cell_type": "code",
   "execution_count": 8,
   "metadata": {},
   "outputs": [
    {
     "data": {
      "text/plain": [
       "'\\nover_train_x : 학습용 독립변수\\nover_train_y : 학습용 종속변수\\n'"
      ]
     },
     "execution_count": 8,
     "metadata": {},
     "output_type": "execute_result"
    }
   ],
   "source": [
    "sm = BorderlineSMOTE(random_state=42)\n",
    "over_train_x, over_train_y = sm.fit_resample(train_x,train_y)\n",
    "'''\n",
    "over_train_x : 학습용 독립변수\n",
    "over_train_y : 학습용 종속변수\n",
    "'''"
   ]
  },
  {
   "cell_type": "code",
   "execution_count": null,
   "metadata": {},
   "outputs": [],
   "source": []
  },
  {
   "cell_type": "markdown",
   "metadata": {},
   "source": [
    "제가 먼저 smot부터 돌릴게요ㅠ"
   ]
  },
  {
   "cell_type": "markdown",
   "metadata": {},
   "source": [
    "넵 전 그럼 랜덤포레스트 찾아볼께요!\n",
    "네네 찾으시는동안 train test까지 바꿔놓을게요\n",
    "네!! 해놨어요 학습은 \n",
    "밑에 엄청 많네요?"
   ]
  },
  {
   "cell_type": "markdown",
   "metadata": {},
   "source": []
  },
  {
   "cell_type": "code",
   "execution_count": 6,
   "metadata": {},
   "outputs": [
    {
     "data": {
      "text/plain": [
       "'\\n# 학습 진행\\nfor i in (10, 20, 30, 40, 100, 150):\\n    print(\"________________i=\",i,\\'______________\\')\\n    for j in (50, 40, 30, 20, 10, 5):\\n        print(\\'---------j=\\',j,\\'------------------\\')\\n        for k in (50, 40, 30, 20,10, 8, 6, 4, 2):\\n            print(\\'=========k= \\',k,\\'=============\\')    \\n            model = RandomForestClassifier(n_estimators=i,max_depth=j,min_samples_split=k)\\n            model.fit(over_train_x, over_train_y)\\n            \\n            print(\\'의사결정나무 갯수: \\', i)\\n                \\n                # 결정계수\\n            relation_square = model.score(over_train_x, over_train_y)\\n            print(\\'결정계수 : \\', relation_square)\\n                \\n                # 예측\\n            pred_y = model.predict(test_x)\\n                \\n            # 정확도 확인\\n            print(\\'정확도 : \\', metrics.accuracy_score(test_y, pred_y))\\n            print(\\'\\n\\')\\n\\n        '"
      ]
     },
     "execution_count": 6,
     "metadata": {},
     "output_type": "execute_result"
    }
   ],
   "source": [
    "from sklearn.ensemble import RandomForestClassifier\n",
    "from sklearn import metrics\n",
    "\n",
    "# 학습 진행\n",
    "for i in (10, 20, 30, 40, 100, 150):\n",
    "    print(\"________________i=\",i,'______________')\n",
    "    for j in (50, 40, 30, 20, 10, 5):\n",
    "        print('---------j=',j,'------------------')\n",
    "        for k in (50, 40, 30, 20,10, 8, 6, 4, 2):\n",
    "            print('=========k= ',k,'=============')    \n",
    "            model = RandomForestClassifier(n_estimators=i,max_depth=j,min_samples_split=k)\n",
    "            model.fit(over_train_x, over_train_y)\n",
    "            \n",
    "            print('의사결정나무 갯수: ', i)\n",
    "                \n",
    "                # 결정계수\n",
    "            relation_square = model.score(over_train_x, over_train_y)\n",
    "            print('결정계수 : ', relation_square)\n",
    "                \n",
    "                # 예측\n",
    "            pred_y = model.predict(test_x)\n",
    "                \n",
    "            # 정확도 확인\n",
    "            print('정확도 : ', metrics.accuracy_score(test_y, pred_y))\n",
    "            print('\\n')\n",
    "\n"
   ]
  },
  {
   "cell_type": "markdown",
   "metadata": {},
   "source": [
    "max_depth는 직접 수를 넣어보며 조절하면 됩니다. 이미 적정값이 기본으로 설정 되어 있으므로 특별히 수정할 경우가 많지 않습니다.\n",
    "이러면,, 수정을 안해도 되는 걸까요?ㅋㅋㅋㅋㅋ"
   ]
  },
  {
   "cell_type": "code",
   "execution_count": 96,
   "metadata": {},
   "outputs": [],
   "source": [
    "from sklearn.ensemble import RandomForestClassifier\n",
    "from sklearn import metrics"
   ]
  },
  {
   "cell_type": "code",
   "execution_count": 97,
   "metadata": {},
   "outputs": [
    {
     "data": {
      "text/plain": [
       "\"\\nparams = { 'n_estimators' : [10, 50, 100,150,200],\\n           'max_depth' : [6, 8, 10, 12,16,20,25,50],\\n           'min_samples_leaf' : [8, 12, 18,32,64],\\n           'min_samples_split' : [8, 16, 20,40,50]\\n        }\\n\\n# RandomForestClassifier 객체 생성 후 GridSearchCV 수행\\nrf_clf = RandomForestClassifier(random_state = 0, n_jobs = -1)\\ngrid_cv = GridSearchCV(rf_clf, param_grid = params, cv = 3, n_jobs = -1)\\ngrid_cv.fit(over_train_x, over_train_y)\\n\\nprint('최적 하이퍼 파라미터: ', grid_cv.best_params_)\\nprint('최고 예측 정확도: {:.4f}'.format(grid_cv.best_score_))\\n\""
      ]
     },
     "execution_count": 97,
     "metadata": {},
     "output_type": "execute_result"
    }
   ],
   "source": [
    "from sklearn.model_selection import GridSearchCV\n",
    "'''\n",
    "params = { 'n_estimators' : [10, 50, 100,150,200],\n",
    "           'max_depth' : [6, 8, 10, 12,16,20,25,50],\n",
    "           'min_samples_leaf' : [8, 12, 18,32,64],\n",
    "           'min_samples_split' : [8, 16, 20,40,50]\n",
    "        }\n",
    "\n",
    "# RandomForestClassifier 객체 생성 후 GridSearchCV 수행\n",
    "rf_clf = RandomForestClassifier(random_state = 0, n_jobs = -1)\n",
    "grid_cv = GridSearchCV(rf_clf, param_grid = params, cv = 3, n_jobs = -1)\n",
    "grid_cv.fit(over_train_x, over_train_y)\n",
    "\n",
    "print('최적 하이퍼 파라미터: ', grid_cv.best_params_)\n",
    "print('최고 예측 정확도: {:.4f}'.format(grid_cv.best_score_))\n",
    "'''"
   ]
  },
  {
   "cell_type": "markdown",
   "metadata": {},
   "source": [
    "# 위 셀 결과값 \n",
    "- 최적 하이퍼 파라미터:  {'max_depth': 50, 'min_samples_leaf': 8, 'min_samples_split': 8'n_estimators': 200}\n",
    "- 최고 예측 정확도: 0.9181\n"
   ]
  },
  {
   "cell_type": "code",
   "execution_count": 9,
   "metadata": {},
   "outputs": [
    {
     "name": "stdout",
     "output_type": "stream",
     "text": [
      "예측 정확도: 0.7232\n"
     ]
    }
   ],
   "source": [
    "rf_clf1 = RandomForestClassifier(n_estimators=100,max_depth=5\n",
    ")\n",
    "rf_clf1.fit(over_train_x, over_train_y)\n",
    "pred = rf_clf1.predict(test_x)\n",
    "print('예측 정확도: {:.4f}'.format(metrics.accuracy_score(test_y,pred)))\n"
   ]
  },
  {
   "cell_type": "code",
   "execution_count": 99,
   "metadata": {},
   "outputs": [
    {
     "name": "stdout",
     "output_type": "stream",
     "text": [
      "a: 3405 b: 8331\n"
     ]
    }
   ],
   "source": [
    "a=len( pred[pred==1])\n",
    "b=len( pred[pred==0])\n",
    "print(\"a:\",a,'b:',b)"
   ]
  },
  {
   "cell_type": "markdown",
   "metadata": {},
   "source": [
    "돌리면되나요?그런것같아요!\n",
    "오 ㅋㅋㅋㅋㅋㅋ잘 나오면 좋겠다 맞아욬ㅋㅋㅋ근데 네네ㅔ맞아요 결정장애 해결!\n",
    "아 이거\n",
    "저희가 일일이했던거인데 최종 죄적 값을 보여주는건가보군요"
   ]
  },
  {
   "cell_type": "code",
   "execution_count": 100,
   "metadata": {},
   "outputs": [
    {
     "name": "stdout",
     "output_type": "stream",
     "text": [
      "[[7896 2770]\n",
      " [ 435  635]]\n"
     ]
    }
   ],
   "source": [
    "from sklearn.metrics import confusion_matrix\n",
    "\n",
    "cfmat = confusion_matrix(test_y,pred)\n",
    "\n",
    "print(cfmat)"
   ]
  },
  {
   "cell_type": "code",
   "execution_count": 101,
   "metadata": {},
   "outputs": [
    {
     "name": "stdout",
     "output_type": "stream",
     "text": [
      "precision :  0.18649045521292218\n",
      "recall :  0.5934579439252337\n",
      "f1_score: 0.2837988826815643\n"
     ]
    }
   ],
   "source": [
    "from sklearn.metrics import precision_score,recall_score,f1_score\n",
    "\n",
    "pr = precision_score(test_y,pred)\n",
    "print(\"precision : \",pr)\n",
    "r = recall_score(test_y,pred)\n",
    "print(\"recall : \",r)\n",
    "f1= f1_score(test_y,pred)\n",
    "print(\"f1_score:\",f1)\n"
   ]
  },
  {
   "cell_type": "markdown",
   "metadata": {},
   "source": [
    "아니 ROC그래프,, 저거 실화인가요?ㅋㅋㅋㅋㅋㅋ0\n",
    "지금 위에 pr re f1\n",
    "보이시나요?\n",
    "ㅋ 넵!! 보ㅋ여ㅋ\n",
    "음..........................................\n",
    "하하하.. 대체 이유가 뭘까요? 네 그래야 될 것 같은데,, 뭐로 수정하죠?ㅋㅋㅋ큐ㅠㅠㅠㅠ 일단 기본값으 네네ㅔㅋㅋㅋㅋ\n",
    "요\n",
    "음..이 혼란 무저ㅛ?\n",
    "저희 학습데이터가\n",
    "오버피팅된거 아닐까요?\n",
    "하이퍼 파라미터를 다시 수정해볼까요? 일단 디폴트로 해보 네네네넼ㅋㅋㅋㅋㅋㅋㅋㅋ\n",
    "ㅋㅋㅋㅋㅋㅋㅋㅋㅋㅋㅋㅋㅋㅋㅋㅋㅋㅋㅋㅋㅋㅋㅋㅋㅋㅋㅋㅋㅋㅋㅋㅋㅋㅋㅋㅋㅋㅋㅋㅋㅋㅋㅋㅋㅋㅋㅋㅋㅋㅋㅋㅋㅋㅋㅋㅋㅋㅋㅋㅋㅋㅋㅋㅋㅋㅋㅋㅋㅋㅋㅋㅋㅋㅋㅋㅋㅋㅋㅋㅋㅋㅋㅋㅋㅋㅋㅋㅋㅋㅋㅋㅋㅋㅋㅋㅋㅋㅋㅋㅋㅋㅋ\n",
    "올라갔어요!\n",
    "근데 모양은 왜 자꾸 저럴까요?\n",
    "음...............\n",
    "차라리 작정하고\n",
    "빠르게 분석 다돌려보고 진짜 교수님한테 가볼까요?\n",
    "앜ㅋㅋㅋㅋㅋ그런 방법이!!ㅋㅋㅋㅋㅋㅋ\n",
    "그러면.........음......일단은 다음 분석으로 넘어가는게 맞을꺼같아요 넵 좋아요! 그럼 다음,, 뭐로 갈까요?"
   ]
  },
  {
   "cell_type": "code",
   "execution_count": 103,
   "metadata": {},
   "outputs": [
    {
     "data": {
      "image/png": "[encoded data removed]",
      "text/plain": [
       "<Figure size 432x288 with 1 Axes>"
      ]
     },
     "metadata": {
      "needs_background": "light"
     },
     "output_type": "display_data"
    }
   ],
   "source": [
    "def plot_roc_curve(fpr, tpr, label=None):\n",
    "    plt.plot(fpr, tpr, linewidth=2, label=label)\n",
    "    plt.plot([0, 10], [0, 10], 'k--')\n",
    "    plt.axis([0, 1, 0, 1])\n",
    "    plt.xlabel('FPR')\n",
    "    plt.ylabel('TPR')\n",
    "\n",
    "from sklearn.metrics import accuracy_score, roc_auc_score, roc_curve\n",
    "\n",
    "# sklearn에서 ROC 패키지 활용\n",
    "fpr, tpr, thresholds = roc_curve(test_y,pred,pos_label = 1)\n",
    "\n",
    "# ROC curve\n",
    "plot_roc_curve(fpr, tpr)\n",
    "plt.show()"
   ]
  },
  {
   "cell_type": "code",
   "execution_count": null,
   "metadata": {},
   "outputs": [],
   "source": []
  }
 ],
 "metadata": {
  "interpreter": {
   "hash": "4000436974652e2da39f7abf97d4cef3d01362244b176d22af40d9d73df68d1f"
  },
  "kernelspec": {
   "display_name": "Python 3.8.10 64-bit ('Study_Big': conda)",
   "language": "python",
   "name": "python3"
  },
  "language_info": {
   "codemirror_mode": {
    "name": "ipython",
    "version": 3
   },
   "file_extension": ".py",
   "mimetype": "text/x-python",
   "name": "python",
   "nbconvert_exporter": "python",
   "pygments_lexer": "ipython3",
   "version": "3.8.10"
  },
  "orig_nbformat": 4
 },
 "nbformat": 4,
 "nbformat_minor": 2
}
