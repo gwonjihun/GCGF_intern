{
 "cells": [
  {
   "cell_type": "code",
   "execution_count": 1,
   "metadata": {},
   "outputs": [],
   "source": [
    "import pandas as pd"
   ]
  },
  {
   "cell_type": "code",
   "execution_count": 2,
   "metadata": {},
   "outputs": [],
   "source": [
    "data = pd.read_csv('data/Robust_Scaler_result.csv',encoding='cp949')"
   ]
  },
  {
   "cell_type": "code",
   "execution_count": 3,
   "metadata": {},
   "outputs": [],
   "source": [
    "\n",
    "from sklearn.model_selection import train_test_split"
   ]
  },
  {
   "cell_type": "code",
   "execution_count": 4,
   "metadata": {},
   "outputs": [],
   "source": [
    "features = data[[ 'CBSCORE', 'CREDITOTAMT', 'YSALEAMT',\n",
    "       'ESTMM', 'IMSAAMT', 'IMJUAMT',  'BUJUAMT',\n",
    "       'BU1TOTAMT', 'GAMT', 'KOSPI', '환율', 'GDP', \n",
    "       '실업률', '물가지수', '국고채', '금리', '유가등락률',\n",
    "       '소비자심리지수','ONEHOT']] #GKIND 갖고 가나요?.. 아뇨..ㅋㅋㅋ\n",
    "act = data['ACTCD'] "
   ]
  },
  {
   "cell_type": "code",
   "execution_count": 5,
   "metadata": {},
   "outputs": [
    {
     "name": "stdout",
     "output_type": "stream",
     "text": [
      "(27381, 19) (11736, 19) (27381,) (11736,)\n"
     ]
    }
   ],
   "source": [
    "\n",
    "train_x, test_x,train_y, test_y = train_test_split(features, act,\n",
    "stratify=act,train_size=0.7,test_size=0.3,random_state=1)\n",
    "\n",
    "print(train_x.shape, test_x.shape, train_y.shape, test_y.shape)"
   ]
  },
  {
   "cell_type": "markdown",
   "metadata": {},
   "source": []
  },
  {
   "cell_type": "code",
   "execution_count": 6,
   "metadata": {},
   "outputs": [],
   "source": [
    "'''\n",
    "1. ENN\n",
    "2. ADASYN\n",
    "3. BORDERLINE SMOTE\n",
    "4. Tomeklinks\n",
    "5 SOTEENN\n",
    "6.SMOTETOMEK\n",
    "'''\n",
    "from imblearn.over_sampling import BorderlineSMOTE,ADASYN\n",
    "from imblearn.combine import SMOTEENN,SMOTETomek\n",
    "from imblearn.under_sampling import EditedNearestNeighbours, TomekLinks\n",
    "data_sets={}\n",
    "enn = EditedNearestNeighbours()\n",
    "ada = ADASYN(random_state=42)\n",
    "smte = SMOTEENN(random_state=42)\n",
    "smtt = SMOTETomek(random_state=42)\n",
    "tk = TomekLinks()\n",
    "sm = BorderlineSMOTE(random_state=42)\n",
    "enn_under_train_x,enn_under_train_y = enn.fit_resample(train_x,train_y)\n",
    "ada_over_train_x, ada_over_train_y = ada.fit_resample(train_x,train_y)\n",
    "smte_combine_train_x,smte_combine_train_y = smte.fit_resample(train_x,train_y)\n",
    "smtt_combine_train_x,smtt_combine_train_y = smtt.fit_resample(train_x,train_y)\n",
    "tk_under_train_x,tk_under_train_y = tk.fit_resample(train_x,train_y)\n",
    "sm_over_train_x, sm_over_train_y = sm.fit_resample(train_x,train_y)\n",
    "data_sets['enn']=[enn_under_train_x,enn_under_train_y]\n",
    "data_sets['ada']=[ada_over_train_x,ada_over_train_y]\n",
    "data_sets['smte']=[smte_combine_train_x,smte_combine_train_y]\n",
    "data_sets['smtt']=[smtt_combine_train_x,smtt_combine_train_y]\n",
    "data_sets['tk']=[tk_under_train_x,tk_under_train_y]\n",
    "data_sets['sm']=[sm_over_train_x,sm_over_train_y]\n",
    "'''\n",
    "over_train_x : 학습용 독립변수\n",
    "over_train_y : 학습용 종속변수\n",
    "'''\n",
    "keys_list= data_sets.keys()\n",
    "accuracies = []\n",
    "matrix_kd_tree_uniform_BOST = []"
   ]
  },
  {
   "cell_type": "code",
   "execution_count": 7,
   "metadata": {},
   "outputs": [
    {
     "data": {
      "text/plain": [
       "dict_keys(['enn', 'ada', 'smte', 'smtt', 'tk', 'sm'])"
      ]
     },
     "execution_count": 7,
     "metadata": {},
     "output_type": "execute_result"
    }
   ],
   "source": [
    "keys_list"
   ]
  },
  {
   "cell_type": "code",
   "execution_count": 8,
   "metadata": {},
   "outputs": [],
   "source": [
    "from sklearn.ensemble import RandomForestClassifier\n",
    "from sklearn import metrics\n",
    "from sklearn.metrics import precision_score,recall_score,f1_score,roc_auc_score,confusion_matrix, classification_report\n"
   ]
  },
  {
   "cell_type": "code",
   "execution_count": 9,
   "metadata": {},
   "outputs": [
    {
     "name": "stdout",
     "output_type": "stream",
     "text": [
      "결정계수 :  0.9990679921888869\n",
      "enn\n",
      "정확도 :  0.9254430811179277\n",
      "              precision    recall  f1-score   support\n",
      "\n",
      "        사고보증       0.93      1.00      0.96     10666\n",
      "        정상보증       0.83      0.23      0.36      1070\n",
      "\n",
      "    accuracy                           0.93     11736\n",
      "   macro avg       0.88      0.61      0.66     11736\n",
      "weighted avg       0.92      0.93      0.91     11736\n",
      "\n",
      "\n",
      "\n",
      "결정계수 :  0.9989344591877765\n",
      "ada\n",
      "정확도 :  0.9176039536468984\n",
      "              precision    recall  f1-score   support\n",
      "\n",
      "        사고보증       0.93      0.98      0.96     10666\n",
      "        정상보증       0.61      0.26      0.37      1070\n",
      "\n",
      "    accuracy                           0.92     11736\n",
      "   macro avg       0.77      0.62      0.66     11736\n",
      "weighted avg       0.90      0.92      0.90     11736\n",
      "\n",
      "\n",
      "\n",
      "결정계수 :  1.0\n",
      "smte\n",
      "정확도 :  0.8694614860259032\n",
      "              precision    recall  f1-score   support\n",
      "\n",
      "        사고보증       0.94      0.92      0.93     10666\n",
      "        정상보증       0.33      0.40      0.36      1070\n",
      "\n",
      "    accuracy                           0.87     11736\n",
      "   macro avg       0.63      0.66      0.64     11736\n",
      "weighted avg       0.88      0.87      0.88     11736\n",
      "\n",
      "\n",
      "\n",
      "결정계수 :  0.9990507735186008\n",
      "smtt\n",
      "정확도 :  0.9165814587593729\n",
      "              precision    recall  f1-score   support\n",
      "\n",
      "        사고보증       0.93      0.98      0.96     10666\n",
      "        정상보증       0.60      0.26      0.36      1070\n",
      "\n",
      "    accuracy                           0.92     11736\n",
      "   macro avg       0.76      0.62      0.66     11736\n",
      "weighted avg       0.90      0.92      0.90     11736\n",
      "\n",
      "\n",
      "\n",
      "결정계수 :  0.9980148325717282\n",
      "tk\n",
      "정확도 :  0.9261247443762781\n",
      "              precision    recall  f1-score   support\n",
      "\n",
      "        사고보증       0.93      1.00      0.96     10666\n",
      "        정상보증       0.90      0.21      0.34      1070\n",
      "\n",
      "    accuracy                           0.93     11736\n",
      "   macro avg       0.92      0.60      0.65     11736\n",
      "weighted avg       0.92      0.93      0.90     11736\n",
      "\n",
      "\n",
      "\n",
      "결정계수 :  0.998935101466747\n",
      "sm\n",
      "정확도 :  0.9189672801635992\n",
      "              precision    recall  f1-score   support\n",
      "\n",
      "        사고보증       0.93      0.99      0.96     10666\n",
      "        정상보증       0.64      0.26      0.37      1070\n",
      "\n",
      "    accuracy                           0.92     11736\n",
      "   macro avg       0.78      0.62      0.66     11736\n",
      "weighted avg       0.90      0.92      0.90     11736\n",
      "\n",
      "\n",
      "\n"
     ]
    }
   ],
   "source": [
    "for i in keys_list:\n",
    "    model = RandomForestClassifier(n_estimators=200,max_depth=50,max_features=1)\n",
    "    model.fit(data_sets[i][0], data_sets[i][1])\n",
    "                            \n",
    "                    # 결정계수\n",
    "    relation_square = model.score(data_sets[i][0], data_sets[i][1])\n",
    "    print('결정계수 : ', relation_square)\n",
    "                    \n",
    "                    # 예측\n",
    "    pred_y = model.predict(test_x)\n",
    "    pr = precision_score(y_true=test_y,y_pred=pred_y)\n",
    "    r = recall_score(y_true=test_y,y_pred=pred_y)\n",
    "    f1 = f1_score(y_true=test_y,y_pred=pred_y)\n",
    "    rca = roc_auc_score(y_true=test_y,y_score=pred_y)\n",
    "    cfm = confusion_matrix(y_true=test_y,y_pred=pred_y)\n",
    "    matrix_kd_tree_uniform_BOST.append((i,pr,r,f1,rca,model.score(test_x, test_y),cfm))\n",
    "                # 정확도 확인\n",
    "    print(i)\n",
    "    print('정확도 : ', metrics.accuracy_score(test_y, pred_y))\n",
    "    print(classification_report(test_y, pred_y, target_names=['사고보증', '정상보증']))\n",
    "    print('\\n')"
   ]
  },
  {
   "cell_type": "code",
   "execution_count": 10,
   "metadata": {},
   "outputs": [
    {
     "data": {
      "text/plain": [
       "[('enn',\n",
       "  0.8260869565217391,\n",
       "  0.2308411214953271,\n",
       "  0.36084733382030676,\n",
       "  0.6129829083943914,\n",
       "  0.9254430811179277,\n",
       "  array([[10614,    52],\n",
       "         [  823,   247]], dtype=int64)),\n",
       " ('ada',\n",
       "  0.6122004357298475,\n",
       "  0.2626168224299065,\n",
       "  0.3675604970568999,\n",
       "  0.6229641396979835,\n",
       "  0.9176039536468984,\n",
       "  array([[10488,   178],\n",
       "         [  789,   281]], dtype=int64)),\n",
       " ('smte',\n",
       "  0.3257918552036199,\n",
       "  0.40373831775700936,\n",
       "  0.36060100166944914,\n",
       "  0.6599602895741732,\n",
       "  0.8694614860259032,\n",
       "  array([[9772,  894],\n",
       "         [ 638,  432]], dtype=int64)),\n",
       " ('smtt',\n",
       "  0.5982721382289417,\n",
       "  0.2588785046728972,\n",
       "  0.3613829093281148,\n",
       "  0.6207199573805139,\n",
       "  0.9165814587593729,\n",
       "  array([[10480,   186],\n",
       "         [  793,   277]], dtype=int64)),\n",
       " ('tk',\n",
       "  0.9043824701195219,\n",
       "  0.21214953271028036,\n",
       "  0.3436790310370931,\n",
       "  0.6049496960382454,\n",
       "  0.9261247443762781,\n",
       "  array([[10642,    24],\n",
       "         [  843,   227]], dtype=int64)),\n",
       " ('sm',\n",
       "  0.6386946386946387,\n",
       "  0.2560747663551402,\n",
       "  0.3655770513675784,\n",
       "  0.6207713040476245,\n",
       "  0.9189672801635992,\n",
       "  array([[10511,   155],\n",
       "         [  796,   274]], dtype=int64))]"
      ]
     },
     "execution_count": 10,
     "metadata": {},
     "output_type": "execute_result"
    }
   ],
   "source": [
    "matrix_kd_tree_uniform_BOST"
   ]
  },
  {
   "cell_type": "code",
   "execution_count": null,
   "metadata": {},
   "outputs": [],
   "source": []
  },
  {
   "cell_type": "code",
   "execution_count": 30,
   "metadata": {},
   "outputs": [
    {
     "data": {
      "text/plain": [
       "pandas.core.series.Series"
      ]
     },
     "execution_count": 30,
     "metadata": {},
     "output_type": "execute_result"
    }
   ],
   "source": [
    "type(test_y)"
   ]
  },
  {
   "cell_type": "code",
   "execution_count": 32,
   "metadata": {},
   "outputs": [],
   "source": [
    "aaa= test_y.to_frame(name='act')"
   ]
  },
  {
   "cell_type": "code",
   "execution_count": 42,
   "metadata": {},
   "outputs": [
    {
     "data": {
      "text/plain": [
       "pandas.core.frame.DataFrame"
      ]
     },
     "execution_count": 42,
     "metadata": {},
     "output_type": "execute_result"
    }
   ],
   "source": [
    "type(aaa)"
   ]
  },
  {
   "cell_type": "code",
   "execution_count": 45,
   "metadata": {},
   "outputs": [],
   "source": [
    "ab = aaa[aaa['act']==1]"
   ]
  },
  {
   "cell_type": "code",
   "execution_count": 46,
   "metadata": {},
   "outputs": [
    {
     "data": {
      "text/html": [
       "<div>\n",
       "<style scoped>\n",
       "    .dataframe tbody tr th:only-of-type {\n",
       "        vertical-align: middle;\n",
       "    }\n",
       "\n",
       "    .dataframe tbody tr th {\n",
       "        vertical-align: top;\n",
       "    }\n",
       "\n",
       "    .dataframe thead th {\n",
       "        text-align: right;\n",
       "    }\n",
       "</style>\n",
       "<table border=\"1\" class=\"dataframe\">\n",
       "  <thead>\n",
       "    <tr style=\"text-align: right;\">\n",
       "      <th></th>\n",
       "      <th>act</th>\n",
       "    </tr>\n",
       "  </thead>\n",
       "  <tbody>\n",
       "    <tr>\n",
       "      <th>8618</th>\n",
       "      <td>1</td>\n",
       "    </tr>\n",
       "    <tr>\n",
       "      <th>10479</th>\n",
       "      <td>1</td>\n",
       "    </tr>\n",
       "    <tr>\n",
       "      <th>23298</th>\n",
       "      <td>1</td>\n",
       "    </tr>\n",
       "    <tr>\n",
       "      <th>20234</th>\n",
       "      <td>1</td>\n",
       "    </tr>\n",
       "    <tr>\n",
       "      <th>36829</th>\n",
       "      <td>1</td>\n",
       "    </tr>\n",
       "    <tr>\n",
       "      <th>...</th>\n",
       "      <td>...</td>\n",
       "    </tr>\n",
       "    <tr>\n",
       "      <th>34635</th>\n",
       "      <td>1</td>\n",
       "    </tr>\n",
       "    <tr>\n",
       "      <th>7453</th>\n",
       "      <td>1</td>\n",
       "    </tr>\n",
       "    <tr>\n",
       "      <th>1610</th>\n",
       "      <td>1</td>\n",
       "    </tr>\n",
       "    <tr>\n",
       "      <th>20619</th>\n",
       "      <td>1</td>\n",
       "    </tr>\n",
       "    <tr>\n",
       "      <th>28522</th>\n",
       "      <td>1</td>\n",
       "    </tr>\n",
       "  </tbody>\n",
       "</table>\n",
       "<p>1070 rows × 1 columns</p>\n",
       "</div>"
      ],
      "text/plain": [
       "       act\n",
       "8618     1\n",
       "10479    1\n",
       "23298    1\n",
       "20234    1\n",
       "36829    1\n",
       "...    ...\n",
       "34635    1\n",
       "7453     1\n",
       "1610     1\n",
       "20619    1\n",
       "28522    1\n",
       "\n",
       "[1070 rows x 1 columns]"
      ]
     },
     "execution_count": 46,
     "metadata": {},
     "output_type": "execute_result"
    }
   ],
   "source": [
    "ab"
   ]
  },
  {
   "cell_type": "code",
   "execution_count": null,
   "metadata": {},
   "outputs": [],
   "source": []
  }
 ],
 "metadata": {
  "interpreter": {
   "hash": "4000436974652e2da39f7abf97d4cef3d01362244b176d22af40d9d73df68d1f"
  },
  "kernelspec": {
   "display_name": "Python 3.8.10 64-bit ('Study_Big': conda)",
   "language": "python",
   "name": "python3"
  },
  "language_info": {
   "codemirror_mode": {
    "name": "ipython",
    "version": 3
   },
   "file_extension": ".py",
   "mimetype": "text/x-python",
   "name": "python",
   "nbconvert_exporter": "python",
   "pygments_lexer": "ipython3",
   "version": "3.8.10"
  },
  "orig_nbformat": 4
 },
 "nbformat": 4,
 "nbformat_minor": 2
}
